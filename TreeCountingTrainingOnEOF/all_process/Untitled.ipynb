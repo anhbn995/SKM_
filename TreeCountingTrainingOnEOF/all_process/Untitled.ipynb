{
 "cells": [
  {
   "cell_type": "code",
   "execution_count": 1,
   "metadata": {},
   "outputs": [
    {
     "name": "stderr",
     "output_type": "stream",
     "text": [
      "/home/skymap/anaconda3/envs/farm/lib/python3.6/site-packages/geopandas/_compat.py:110: UserWarning: The Shapely GEOS version (3.9.1dev-CAPI-1.14.1) is incompatible with the GEOS version PyGEOS was compiled with (3.9.1-CAPI-1.14.2). Conversions between both will be slow.\n",
      "  shapely_geos_version, geos_capi_version_string\n"
     ]
    }
   ],
   "source": [
    "import glob, os\n",
    "import sys\n",
    "import argparse\n",
    "from step1_normalized_data import main_std\n",
    "from step_2_cut_image_by_shape import main_cut_img\n",
    "from step_3_buil_mask import main_build_mask\n",
    "from step_4_gen_data_with_size import main_gen_data_with_size\n",
    "from step_5_split_train_val import main_split\n",
    "from step_6_crop_shape_file_by_image import main_crop_shape\n",
    "from step_7_gen_anotation import main_gen_anotation\n",
    "import time\n",
    "import shutil\n",
    "import resource"
   ]
  },
  {
   "cell_type": "code",
   "execution_count": 2,
   "metadata": {},
   "outputs": [],
   "source": [
    "def memory_limit():\n",
    "    soft, hard = resource.getrlimit(resource.RLIMIT_AS)\n",
    "    resource.setrlimit(resource.RLIMIT_AS, (get_memory() * 1024 * 0.85, hard))"
   ]
  },
  {
   "cell_type": "code",
   "execution_count": 3,
   "metadata": {},
   "outputs": [],
   "source": [
    "def get_memory():\n",
    "    with open('/proc/meminfo', 'r') as mem:\n",
    "        free_memory = 0\n",
    "        for i in mem:\n",
    "            sline = i.split()\n",
    "            if str(sline[0]) in ('MemFree:', 'Buffers:', 'Cached:'):\n",
    "                free_memory += int(sline[1])\n",
    "    return free_memory"
   ]
  },
  {
   "cell_type": "code",
   "execution_count": 4,
   "metadata": {},
   "outputs": [],
   "source": [
    "memory_limit()"
   ]
  },
  {
   "cell_type": "code",
   "execution_count": 5,
   "metadata": {},
   "outputs": [],
   "source": [
    "input_dir=\"/media/skymap/Learnning/public/tmp_Nam/Building Footprint Data\""
   ]
  },
  {
   "cell_type": "code",
   "execution_count": 6,
   "metadata": {},
   "outputs": [],
   "source": [
    "output_dir=\"/media/skymap/Data/Building_master_data\""
   ]
  },
  {
   "cell_type": "code",
   "execution_count": 7,
   "metadata": {},
   "outputs": [],
   "source": [
    "list_dir = [dir_name for dir_name in  os.listdir(input_dir) if os.path.isdir(os.path.join(input_dir,dir_name))]"
   ]
  },
  {
   "cell_type": "code",
   "execution_count": 8,
   "metadata": {},
   "outputs": [
    {
     "data": {
      "text/plain": [
       "['building_sunny',\n",
       " 'BIG',\n",
       " 'Usa_uav',\n",
       " 'Queenland',\n",
       " 'building_japan',\n",
       " 'Nov_indo',\n",
       " 'Bing_varsaivira',\n",
       " 'marid',\n",
       " 'UAE',\n",
       " 'building_hadong',\n",
       " 'capetown',\n",
       " 'jupem',\n",
       " 'Jupem_langkawi',\n",
       " 'Jupem_uav',\n",
       " 'Maxar']"
      ]
     },
     "execution_count": 8,
     "metadata": {},
     "output_type": "execute_result"
    }
   ],
   "source": [
    "list_dir\n",
    "# /home/skymap/big_data/data/Building_master_data/data_result"
   ]
  },
  {
   "cell_type": "code",
   "execution_count": 9,
   "metadata": {},
   "outputs": [
    {
     "name": "stdout",
     "output_type": "stream",
     "text": [
      "['10seg775355', '10seg775370', '10seg775385', '10seg775400', '10seg790340', '10seg790355', '10seg790370', '10seg790385', '10seg805325', '10seg805340']\n",
      "10seg775355\n"
     ]
    },
    {
     "name": "stderr",
     "output_type": "stream",
     "text": [
      "/home/skymap/anaconda3/envs/farm/lib/python3.6/site-packages/pyproj/crs/crs.py:53: FutureWarning: '+init=<authority>:<code>' syntax is deprecated. '<authority>:<code>' is the preferred initialization method. When making the change, be mindful of axis order changes: https://pyproj4.github.io/pyproj/stable/gotchas.html#axis-order-changes-in-proj-6\n",
      "  return _prepare_from_string(\" \".join(pjargs))\n"
     ]
    },
    {
     "name": "stdout",
     "output_type": "stream",
     "text": [
      "                                               geometry\n",
      "0     POLYGON ((-13593486.622 4491318.535, -13593486...\n",
      "1     POLYGON ((-13593522.400 4491320.903, -13593505...\n",
      "2     POLYGON ((-13593446.877 4490883.710, -13593439...\n",
      "3     POLYGON ((-13593710.584 4490590.896, -13593718...\n",
      "4     POLYGON ((-13594597.412 4491616.327, -13594589...\n",
      "...                                                 ...\n",
      "1007  POLYGON ((-13592980.561 4490435.232, -13592980...\n",
      "1008  POLYGON ((-13592981.785 4490305.232, -13592981...\n",
      "1009  POLYGON ((-13592981.483 4490337.282, -13592981...\n",
      "1010  POLYGON ((-13592983.218 4490153.037, -13592983...\n",
      "1011  POLYGON ((-13592977.143 4490798.285, -13592977...\n",
      "\n",
      "[1012 rows x 1 columns] 1111\n",
      "                                               geometry        area\n",
      "1     POLYGON ((-13593522.400 4491320.903, -13593505...  132.728956\n",
      "2     POLYGON ((-13593446.877 4490883.710, -13593439...  484.556521\n",
      "3     POLYGON ((-13593710.584 4490590.896, -13593718...  583.705594\n",
      "4     POLYGON ((-13594597.412 4491616.327, -13594589...  349.829017\n",
      "5     POLYGON ((-13593309.360 4490375.960, -13593302...  369.320248\n",
      "...                                                 ...         ...\n",
      "1007  POLYGON ((-13592980.561 4490435.232, -13592980...    0.024229\n",
      "1008  POLYGON ((-13592981.785 4490305.232, -13592981...    0.148678\n",
      "1009  POLYGON ((-13592981.483 4490337.282, -13592981...    1.727919\n",
      "1010  POLYGON ((-13592983.218 4490153.037, -13592983...    1.802074\n",
      "1011  POLYGON ((-13592977.143 4490798.285, -13592977...    0.001883\n",
      "\n",
      "[942 rows x 2 columns] 2222\n"
     ]
    },
    {
     "name": "stderr",
     "output_type": "stream",
     "text": [
      "/home/skymap/anaconda3/envs/farm/lib/python3.6/site-packages/pyproj/crs/crs.py:53: FutureWarning: '+init=<authority>:<code>' syntax is deprecated. '<authority>:<code>' is the preferred initialization method. When making the change, be mindful of axis order changes: https://pyproj4.github.io/pyproj/stable/gotchas.html#axis-order-changes-in-proj-6\n",
      "  return _prepare_from_string(\" \".join(pjargs))\n"
     ]
    },
    {
     "name": "stdout",
     "output_type": "stream",
     "text": [
      "                                            geometry\n",
      "0  POLYGON ((-13594871.932 4489823.858, -13594854... 1111\n",
      "                                            geometry\n",
      "0  POLYGON ((-13594871.932 4489823.858, -13594854... 2222\n"
     ]
    },
    {
     "name": "stderr",
     "output_type": "stream",
     "text": [
      "/home/skymap/anaconda3/envs/farm/lib/python3.6/site-packages/pyproj/crs/crs.py:53: FutureWarning: '+init=<authority>:<code>' syntax is deprecated. '<authority>:<code>' is the preferred initialization method. When making the change, be mindful of axis order changes: https://pyproj4.github.io/pyproj/stable/gotchas.html#axis-order-changes-in-proj-6\n",
      "  return _prepare_from_string(\" \".join(pjargs))\n"
     ]
    },
    {
     "name": "stdout",
     "output_type": "stream",
     "text": [
      "10seg775370\n",
      "                                               geometry\n",
      "0     POLYGON ((-13594584.753 4492624.231, -13594572...\n",
      "1     POLYGON ((-13594296.888 4493382.841, -13594295...\n",
      "2     POLYGON ((-13593728.300 4493279.861, -13593714...\n",
      "3     POLYGON ((-13594624.858 4492372.447, -13594599...\n",
      "4     POLYGON ((-13593018.274 4492759.816, -13593018...\n",
      "...                                                 ...\n",
      "1083  POLYGON ((-13593733.888 4493138.156, -13593714...\n",
      "1084  POLYGON ((-13593935.051 4493208.196, -13593914...\n",
      "1085  POLYGON ((-13594393.376 4493297.234, -13594381...\n",
      "1086  POLYGON ((-13594013.090 4491709.636, -13594013...\n",
      "1087  POLYGON ((-13594455.167 4493607.934, -13594455...\n",
      "\n",
      "[1088 rows x 1 columns] 1111\n",
      "                                               geometry        area\n",
      "0     POLYGON ((-13594584.753 4492624.231, -13594572...  268.511564\n",
      "1     POLYGON ((-13594296.888 4493382.841, -13594295...  615.272843\n",
      "2     POLYGON ((-13593728.300 4493279.861, -13593714...  573.959869\n",
      "3     POLYGON ((-13594624.858 4492372.447, -13594599...  491.827963\n",
      "4     POLYGON ((-13593018.274 4492759.816, -13593018...  550.459125\n",
      "...                                                 ...         ...\n",
      "1083  POLYGON ((-13593733.888 4493138.156, -13593714...  691.869486\n",
      "1084  POLYGON ((-13593935.051 4493208.196, -13593914...  356.536887\n",
      "1085  POLYGON ((-13594393.376 4493297.234, -13594381...  361.985125\n",
      "1086  POLYGON ((-13594013.090 4491709.636, -13594013...    0.025582\n",
      "1087  POLYGON ((-13594455.167 4493607.934, -13594455...    0.717278\n",
      "\n",
      "[1022 rows x 2 columns] 2222\n"
     ]
    },
    {
     "name": "stderr",
     "output_type": "stream",
     "text": [
      "/home/skymap/anaconda3/envs/farm/lib/python3.6/site-packages/pyproj/crs/crs.py:53: FutureWarning: '+init=<authority>:<code>' syntax is deprecated. '<authority>:<code>' is the preferred initialization method. When making the change, be mindful of axis order changes: https://pyproj4.github.io/pyproj/stable/gotchas.html#axis-order-changes-in-proj-6\n",
      "  return _prepare_from_string(\" \".join(pjargs))\n"
     ]
    },
    {
     "name": "stdout",
     "output_type": "stream",
     "text": [
      "                                            geometry\n",
      "0  POLYGON ((-13594854.440 4491717.511, -13594836... 1111\n",
      "                                            geometry\n",
      "0  POLYGON ((-13594854.440 4491717.511, -13594836... 2222\n"
     ]
    },
    {
     "name": "stderr",
     "output_type": "stream",
     "text": [
      "/home/skymap/anaconda3/envs/farm/lib/python3.6/site-packages/pyproj/crs/crs.py:53: FutureWarning: '+init=<authority>:<code>' syntax is deprecated. '<authority>:<code>' is the preferred initialization method. When making the change, be mindful of axis order changes: https://pyproj4.github.io/pyproj/stable/gotchas.html#axis-order-changes-in-proj-6\n",
      "  return _prepare_from_string(\" \".join(pjargs))\n"
     ]
    },
    {
     "name": "stdout",
     "output_type": "stream",
     "text": [
      "10seg775385\n",
      "                                               geometry\n",
      "0     POLYGON ((-13594575.805 4494211.516, -13594575...\n",
      "1     POLYGON ((-13594605.260 4494231.329, -13594605...\n",
      "2     POLYGON ((-13594629.583 4494182.358, -13594629...\n",
      "3     POLYGON ((-13594615.868 4494212.932, -13594629...\n",
      "4     POLYGON ((-13594531.707 4494499.390, -13594508...\n",
      "...                                                 ...\n",
      "1264  POLYGON ((-13594024.405 4495005.392, -13594017...\n",
      "1265  POLYGON ((-13593906.828 4495007.322, -13593895...\n",
      "1266  POLYGON ((-13593872.150 4495007.279, -13593857...\n",
      "1267  POLYGON ((-13593906.129 4495062.325, -13593896...\n",
      "1268  POLYGON ((-13594101.744 4495481.852, -13594074...\n",
      "\n",
      "[1269 rows x 1 columns] 1111\n",
      "                                               geometry        area\n",
      "0     POLYGON ((-13594575.805 4494211.516, -13594575...  175.113447\n",
      "1     POLYGON ((-13594605.260 4494231.329, -13594605...  174.208955\n",
      "3     POLYGON ((-13594615.868 4494212.932, -13594629...  260.573875\n",
      "4     POLYGON ((-13594531.707 4494499.390, -13594508...  550.938023\n",
      "5     POLYGON ((-13593960.539 4494087.311, -13593942...  513.053263\n",
      "...                                                 ...         ...\n",
      "1264  POLYGON ((-13594024.405 4495005.392, -13594017...  474.544445\n",
      "1265  POLYGON ((-13593906.828 4495007.322, -13593895...  312.326784\n",
      "1266  POLYGON ((-13593872.150 4495007.279, -13593857...  329.623575\n",
      "1267  POLYGON ((-13593906.129 4495062.325, -13593896...  442.832541\n",
      "1268  POLYGON ((-13594101.744 4495481.852, -13594074...  513.636832\n",
      "\n",
      "[1198 rows x 2 columns] 2222\n"
     ]
    },
    {
     "name": "stderr",
     "output_type": "stream",
     "text": [
      "/home/skymap/anaconda3/envs/farm/lib/python3.6/site-packages/pyproj/crs/crs.py:53: FutureWarning: '+init=<authority>:<code>' syntax is deprecated. '<authority>:<code>' is the preferred initialization method. When making the change, be mindful of axis order changes: https://pyproj4.github.io/pyproj/stable/gotchas.html#axis-order-changes-in-proj-6\n",
      "  return _prepare_from_string(\" \".join(pjargs))\n"
     ]
    },
    {
     "name": "stdout",
     "output_type": "stream",
     "text": [
      "                                            geometry\n",
      "0  POLYGON ((-13594836.936 4493611.501, -13594819... 1111\n",
      "                                            geometry\n",
      "0  POLYGON ((-13594836.936 4493611.501, -13594819... 2222\n"
     ]
    },
    {
     "name": "stderr",
     "output_type": "stream",
     "text": [
      "/home/skymap/anaconda3/envs/farm/lib/python3.6/site-packages/pyproj/crs/crs.py:53: FutureWarning: '+init=<authority>:<code>' syntax is deprecated. '<authority>:<code>' is the preferred initialization method. When making the change, be mindful of axis order changes: https://pyproj4.github.io/pyproj/stable/gotchas.html#axis-order-changes-in-proj-6\n",
      "  return _prepare_from_string(\" \".join(pjargs))\n"
     ]
    },
    {
     "name": "stdout",
     "output_type": "stream",
     "text": [
      "10seg775400\n",
      "                                               geometry\n",
      "0     POLYGON ((-13594172.015 4496465.066, -13594165...\n",
      "1     POLYGON ((-13594561.363 4495592.931, -13594566...\n",
      "2     POLYGON ((-13594161.994 4496563.448, -13594154...\n",
      "3     POLYGON ((-13594096.118 4496511.015, -13594103...\n",
      "4     POLYGON ((-13594161.860 4496532.137, -13594175...\n",
      "...                                                 ...\n",
      "1466  POLYGON ((-13594380.440 4496073.362, -13594369...\n",
      "1467  POLYGON ((-13594646.364 4496451.132, -13594634...\n",
      "1468  POLYGON ((-13594620.858 4496425.157, -13594618...\n",
      "1469  POLYGON ((-13594538.241 4496615.366, -13594530...\n",
      "1470  POLYGON ((-13594489.480 4496664.884, -13594455...\n",
      "\n",
      "[1471 rows x 1 columns] 1111\n",
      "                                               geometry        area\n",
      "0     POLYGON ((-13594172.015 4496465.066, -13594165...  332.965872\n",
      "1     POLYGON ((-13594561.363 4495592.931, -13594566...  421.365652\n",
      "2     POLYGON ((-13594161.994 4496563.448, -13594154...  408.422959\n",
      "3     POLYGON ((-13594096.118 4496511.015, -13594103...  265.867050\n",
      "4     POLYGON ((-13594161.860 4496532.137, -13594175...  297.244561\n",
      "...                                                 ...         ...\n",
      "1461  POLYGON ((-13594640.813 4496850.321, -13594621...  381.012493\n",
      "1462  POLYGON ((-13594608.276 4496820.572, -13594592...  413.596419\n",
      "1463  POLYGON ((-13594413.889 4496644.960, -13594408...   85.538180\n",
      "1464  POLYGON ((-13594485.269 4496532.682, -13594477...  287.802066\n",
      "1466  POLYGON ((-13594380.440 4496073.362, -13594369...  749.429585\n",
      "\n",
      "[1400 rows x 2 columns] 2222\n"
     ]
    },
    {
     "name": "stderr",
     "output_type": "stream",
     "text": [
      "/home/skymap/anaconda3/envs/farm/lib/python3.6/site-packages/pyproj/crs/crs.py:53: FutureWarning: '+init=<authority>:<code>' syntax is deprecated. '<authority>:<code>' is the preferred initialization method. When making the change, be mindful of axis order changes: https://pyproj4.github.io/pyproj/stable/gotchas.html#axis-order-changes-in-proj-6\n",
      "  return _prepare_from_string(\" \".join(pjargs))\n"
     ]
    },
    {
     "name": "stdout",
     "output_type": "stream",
     "text": [
      "                                            geometry\n",
      "0  POLYGON ((-13594819.421 4495505.828, -13594801... 1111\n",
      "                                            geometry\n",
      "0  POLYGON ((-13594819.421 4495505.828, -13594801... 2222\n"
     ]
    },
    {
     "name": "stderr",
     "output_type": "stream",
     "text": [
      "/home/skymap/anaconda3/envs/farm/lib/python3.6/site-packages/pyproj/crs/crs.py:53: FutureWarning: '+init=<authority>:<code>' syntax is deprecated. '<authority>:<code>' is the preferred initialization method. When making the change, be mindful of axis order changes: https://pyproj4.github.io/pyproj/stable/gotchas.html#axis-order-changes-in-proj-6\n",
      "  return _prepare_from_string(\" \".join(pjargs))\n"
     ]
    },
    {
     "name": "stdout",
     "output_type": "stream",
     "text": [
      "10seg790340\n",
      "                                              geometry\n",
      "0    POLYGON ((-13592894.614 4488135.448, -13592888...\n",
      "1    POLYGON ((-13592198.864 4489221.691, -13592195...\n",
      "2    POLYGON ((-13592448.850 4489036.196, -13592445...\n",
      "3    POLYGON ((-13592688.749 4488918.292, -13592688...\n",
      "4    POLYGON ((-13592597.622 4489099.164, -13592603...\n",
      "..                                                 ...\n",
      "819  POLYGON ((-13592061.603 4488536.054, -13592033...\n",
      "820  POLYGON ((-13592806.796 4489804.416, -13592806...\n",
      "821  POLYGON ((-13592657.384 4489802.994, -13592657...\n",
      "822  POLYGON ((-13591742.211 4489794.235, -13591742...\n",
      "823  POLYGON ((-13591937.705 4489796.113, -13591937...\n",
      "\n",
      "[824 rows x 1 columns] 1111\n",
      "                                              geometry        area\n",
      "0    POLYGON ((-13592894.614 4488135.448, -13592888...  202.609791\n",
      "1    POLYGON ((-13592198.864 4489221.691, -13592195...  479.996497\n",
      "2    POLYGON ((-13592448.850 4489036.196, -13592445...  158.177654\n",
      "4    POLYGON ((-13592597.622 4489099.164, -13592603...  613.307583\n",
      "5    POLYGON ((-13592373.880 4488374.038, -13592358...  297.840358\n",
      "..                                                 ...         ...\n",
      "819  POLYGON ((-13592061.603 4488536.054, -13592033...  687.484899\n",
      "820  POLYGON ((-13592806.796 4489804.416, -13592806...    0.025281\n",
      "821  POLYGON ((-13592657.384 4489802.994, -13592657...    2.310766\n",
      "822  POLYGON ((-13591742.211 4489794.235, -13591742...    1.170214\n",
      "823  POLYGON ((-13591937.705 4489796.113, -13591937...    0.551313\n",
      "\n",
      "[790 rows x 2 columns] 2222\n"
     ]
    },
    {
     "name": "stderr",
     "output_type": "stream",
     "text": [
      "/home/skymap/anaconda3/envs/farm/lib/python3.6/site-packages/pyproj/crs/crs.py:53: FutureWarning: '+init=<authority>:<code>' syntax is deprecated. '<authority>:<code>' is the preferred initialization method. When making the change, be mindful of axis order changes: https://pyproj4.github.io/pyproj/stable/gotchas.html#axis-order-changes-in-proj-6\n",
      "  return _prepare_from_string(\" \".join(pjargs))\n"
     ]
    },
    {
     "name": "stdout",
     "output_type": "stream",
     "text": [
      "                                            geometry\n",
      "0  POLYGON ((-13593004.301 4487912.819, -13592986... 1111\n",
      "                                            geometry\n",
      "0  POLYGON ((-13593004.301 4487912.819, -13592986... 2222\n"
     ]
    },
    {
     "name": "stderr",
     "output_type": "stream",
     "text": [
      "/home/skymap/anaconda3/envs/farm/lib/python3.6/site-packages/pyproj/crs/crs.py:53: FutureWarning: '+init=<authority>:<code>' syntax is deprecated. '<authority>:<code>' is the preferred initialization method. When making the change, be mindful of axis order changes: https://pyproj4.github.io/pyproj/stable/gotchas.html#axis-order-changes-in-proj-6\n",
      "  return _prepare_from_string(\" \".join(pjargs))\n"
     ]
    },
    {
     "name": "stdout",
     "output_type": "stream",
     "text": [
      "10seg790355\n",
      "                                               geometry\n",
      "0     POLYGON ((-13591172.025 4490147.910, -13591183...\n",
      "1     POLYGON ((-13592706.826 4491282.239, -13592706...\n",
      "2     POLYGON ((-13592840.215 4490630.502, -13592831...\n",
      "3     POLYGON ((-13591406.085 4490923.888, -13591399...\n",
      "4     POLYGON ((-13592555.328 4490428.563, -13592538...\n",
      "...                                                 ...\n",
      "1648  POLYGON ((-13591156.473 4490499.061, -13591149...\n",
      "1649  POLYGON ((-13591248.997 4490656.853, -13591248...\n",
      "1650  POLYGON ((-13592231.604 4491307.612, -13592222...\n",
      "1651  POLYGON ((-13592159.755 4491281.143, -13592159...\n",
      "1652  POLYGON ((-13592198.143 4491306.038, -13592190...\n",
      "\n",
      "[1653 rows x 1 columns] 1111\n",
      "                                               geometry        area\n",
      "0     POLYGON ((-13591172.025 4490147.910, -13591183...  490.754719\n",
      "1     POLYGON ((-13592706.826 4491282.239, -13592706...  360.483508\n",
      "2     POLYGON ((-13592840.215 4490630.502, -13592831...  121.523561\n",
      "3     POLYGON ((-13591406.085 4490923.888, -13591399...  304.253367\n",
      "4     POLYGON ((-13592555.328 4490428.563, -13592538...  628.342221\n",
      "...                                                 ...         ...\n",
      "1648  POLYGON ((-13591156.473 4490499.061, -13591149...  659.453909\n",
      "1649  POLYGON ((-13591248.997 4490656.853, -13591248...  609.151025\n",
      "1650  POLYGON ((-13592231.604 4491307.612, -13592222...  375.163677\n",
      "1651  POLYGON ((-13592159.755 4491281.143, -13592159...  696.779291\n",
      "1652  POLYGON ((-13592198.143 4491306.038, -13592190...  570.302515\n",
      "\n",
      "[1636 rows x 2 columns] 2222\n"
     ]
    },
    {
     "name": "stderr",
     "output_type": "stream",
     "text": [
      "/home/skymap/anaconda3/envs/farm/lib/python3.6/site-packages/pyproj/crs/crs.py:53: FutureWarning: '+init=<authority>:<code>' syntax is deprecated. '<authority>:<code>' is the preferred initialization method. When making the change, be mindful of axis order changes: https://pyproj4.github.io/pyproj/stable/gotchas.html#axis-order-changes-in-proj-6\n",
      "  return _prepare_from_string(\" \".join(pjargs))\n"
     ]
    },
    {
     "name": "stdout",
     "output_type": "stream",
     "text": [
      "                                            geometry\n",
      "0  POLYGON ((-13592986.483 4489806.124, -13592968... 1111\n",
      "                                            geometry\n",
      "0  POLYGON ((-13592986.483 4489806.124, -13592968... 2222\n"
     ]
    },
    {
     "name": "stderr",
     "output_type": "stream",
     "text": [
      "/home/skymap/anaconda3/envs/farm/lib/python3.6/site-packages/pyproj/crs/crs.py:53: FutureWarning: '+init=<authority>:<code>' syntax is deprecated. '<authority>:<code>' is the preferred initialization method. When making the change, be mindful of axis order changes: https://pyproj4.github.io/pyproj/stable/gotchas.html#axis-order-changes-in-proj-6\n",
      "  return _prepare_from_string(\" \".join(pjargs))\n"
     ]
    },
    {
     "name": "stdout",
     "output_type": "stream",
     "text": [
      "10seg790370\n",
      "                                               geometry\n",
      "0     POLYGON ((-13591264.178 4492888.693, -13591255...\n",
      "1     POLYGON ((-13591267.072 4492881.114, -13591266...\n",
      "2     POLYGON ((-13591243.600 4493393.982, -13591224...\n",
      "3     POLYGON ((-13591266.498 4493395.089, -13591258...\n",
      "4     POLYGON ((-13591198.260 4493381.484, -13591202...\n",
      "...                                                 ...\n",
      "1633  POLYGON ((-13592058.145 4493585.223, -13592058...\n",
      "1634  POLYGON ((-13592000.526 4493584.671, -13592000...\n",
      "1635  POLYGON ((-13591687.903 4493581.666, -13591687...\n",
      "1636  POLYGON ((-13591143.111 4493576.409, -13591143...\n",
      "1637  POLYGON ((-13592194.714 4493586.532, -13592194...\n",
      "\n",
      "[1638 rows x 1 columns] 1111\n",
      "                                               geometry        area\n",
      "0     POLYGON ((-13591264.178 4492888.693, -13591255...  326.481839\n",
      "1     POLYGON ((-13591267.072 4492881.114, -13591266...  325.384780\n",
      "2     POLYGON ((-13591243.600 4493393.982, -13591224...  379.985559\n",
      "3     POLYGON ((-13591266.498 4493395.089, -13591258...  327.977736\n",
      "4     POLYGON ((-13591198.260 4493381.484, -13591202...  322.584360\n",
      "...                                                 ...         ...\n",
      "1633  POLYGON ((-13592058.145 4493585.223, -13592058...    0.565359\n",
      "1634  POLYGON ((-13592000.526 4493584.671, -13592000...    0.671401\n",
      "1635  POLYGON ((-13591687.903 4493581.666, -13591687...    0.131998\n",
      "1636  POLYGON ((-13591143.111 4493576.409, -13591143...    0.087736\n",
      "1637  POLYGON ((-13592194.714 4493586.532, -13592194...    0.385583\n",
      "\n",
      "[1625 rows x 2 columns] 2222\n"
     ]
    },
    {
     "name": "stderr",
     "output_type": "stream",
     "text": [
      "/home/skymap/anaconda3/envs/farm/lib/python3.6/site-packages/pyproj/crs/crs.py:53: FutureWarning: '+init=<authority>:<code>' syntax is deprecated. '<authority>:<code>' is the preferred initialization method. When making the change, be mindful of axis order changes: https://pyproj4.github.io/pyproj/stable/gotchas.html#axis-order-changes-in-proj-6\n",
      "  return _prepare_from_string(\" \".join(pjargs))\n"
     ]
    },
    {
     "name": "stdout",
     "output_type": "stream",
     "text": [
      "                                            geometry\n",
      "0  POLYGON ((-13592968.654 4491699.766, -13592950... 1111\n",
      "                                            geometry\n",
      "0  POLYGON ((-13592968.654 4491699.766, -13592950... 2222\n"
     ]
    },
    {
     "name": "stderr",
     "output_type": "stream",
     "text": [
      "/home/skymap/anaconda3/envs/farm/lib/python3.6/site-packages/pyproj/crs/crs.py:53: FutureWarning: '+init=<authority>:<code>' syntax is deprecated. '<authority>:<code>' is the preferred initialization method. When making the change, be mindful of axis order changes: https://pyproj4.github.io/pyproj/stable/gotchas.html#axis-order-changes-in-proj-6\n",
      "  return _prepare_from_string(\" \".join(pjargs))\n"
     ]
    },
    {
     "name": "stdout",
     "output_type": "stream",
     "text": [
      "10seg790385\n",
      "                                               geometry\n",
      "0     POLYGON ((-13592890.020 4494298.274, -13592875...\n",
      "1     POLYGON ((-13591307.572 4494105.458, -13591317...\n",
      "2     POLYGON ((-13591353.832 4494102.671, -13591362...\n",
      "3     POLYGON ((-13591595.029 4494379.984, -13591566...\n",
      "4     POLYGON ((-13592461.913 4494716.093, -13592417...\n",
      "...                                                 ...\n",
      "1849  POLYGON ((-13591348.980 4494255.459, -13591343...\n",
      "1850  POLYGON ((-13592714.365 4494748.957, -13592712...\n",
      "1851  POLYGON ((-13592209.337 4495256.869, -13592198...\n",
      "1852  POLYGON ((-13592410.268 4495470.452, -13592396...\n",
      "1853  POLYGON ((-13592395.693 4495463.944, -13592378...\n",
      "\n",
      "[1854 rows x 1 columns] 1111\n",
      "                                               geometry        area\n",
      "0     POLYGON ((-13592890.020 4494298.274, -13592875...  533.308228\n",
      "1     POLYGON ((-13591307.572 4494105.458, -13591317...  355.814512\n",
      "2     POLYGON ((-13591353.832 4494102.671, -13591362...  360.990615\n",
      "3     POLYGON ((-13591595.029 4494379.984, -13591566...  388.140593\n",
      "4     POLYGON ((-13592461.913 4494716.093, -13592417...  627.916943\n",
      "...                                                 ...         ...\n",
      "1848  POLYGON ((-13591337.514 4494278.088, -13591331...  331.290326\n",
      "1849  POLYGON ((-13591348.980 4494255.459, -13591343...  331.088947\n",
      "1851  POLYGON ((-13592209.337 4495256.869, -13592198...  428.324926\n",
      "1852  POLYGON ((-13592410.268 4495470.452, -13592396...  448.322409\n",
      "1853  POLYGON ((-13592395.693 4495463.944, -13592378...  585.843795\n",
      "\n",
      "[1632 rows x 2 columns] 2222\n"
     ]
    },
    {
     "name": "stderr",
     "output_type": "stream",
     "text": [
      "/home/skymap/anaconda3/envs/farm/lib/python3.6/site-packages/pyproj/crs/crs.py:53: FutureWarning: '+init=<authority>:<code>' syntax is deprecated. '<authority>:<code>' is the preferred initialization method. When making the change, be mindful of axis order changes: https://pyproj4.github.io/pyproj/stable/gotchas.html#axis-order-changes-in-proj-6\n",
      "  return _prepare_from_string(\" \".join(pjargs))\n"
     ]
    },
    {
     "name": "stdout",
     "output_type": "stream",
     "text": [
      "                                            geometry\n",
      "0  POLYGON ((-13592950.812 4493593.745, -13592932... 1111\n",
      "                                            geometry\n",
      "0  POLYGON ((-13592950.812 4493593.745, -13592932... 2222\n"
     ]
    },
    {
     "name": "stderr",
     "output_type": "stream",
     "text": [
      "/home/skymap/anaconda3/envs/farm/lib/python3.6/site-packages/pyproj/crs/crs.py:53: FutureWarning: '+init=<authority>:<code>' syntax is deprecated. '<authority>:<code>' is the preferred initialization method. When making the change, be mindful of axis order changes: https://pyproj4.github.io/pyproj/stable/gotchas.html#axis-order-changes-in-proj-6\n",
      "  return _prepare_from_string(\" \".join(pjargs))\n"
     ]
    },
    {
     "name": "stdout",
     "output_type": "stream",
     "text": [
      "10seg805325\n",
      "                                              geometry\n",
      "0    POLYGON ((-13589690.322 4486984.814, -13589681...\n",
      "1    POLYGON ((-13589734.915 4487007.358, -13589736...\n",
      "2    POLYGON ((-13590223.207 4487470.127, -13590224...\n",
      "3    POLYGON ((-13589372.985 4486764.967, -13589363...\n",
      "4    POLYGON ((-13589689.265 4487021.415, -13589676...\n",
      "..                                                 ...\n",
      "864  POLYGON ((-13590666.165 4486894.910, -13590652...\n",
      "865  POLYGON ((-13590660.455 4486904.724, -13590654...\n",
      "866  POLYGON ((-13590481.279 4486949.687, -13590465...\n",
      "867  POLYGON ((-13590529.329 4486926.097, -13590525...\n",
      "868  POLYGON ((-13590319.945 4486918.771, -13590308...\n",
      "\n",
      "[869 rows x 1 columns] 1111\n",
      "                                              geometry        area\n",
      "0    POLYGON ((-13589690.322 4486984.814, -13589681...  574.186926\n",
      "1    POLYGON ((-13589734.915 4487007.358, -13589736...  459.061537\n",
      "2    POLYGON ((-13590223.207 4487470.127, -13590224...  528.653982\n",
      "3    POLYGON ((-13589372.985 4486764.967, -13589363...  174.019396\n",
      "4    POLYGON ((-13589689.265 4487021.415, -13589676...  466.727196\n",
      "..                                                 ...         ...\n",
      "864  POLYGON ((-13590666.165 4486894.910, -13590652...  566.271894\n",
      "865  POLYGON ((-13590660.455 4486904.724, -13590654...  532.472079\n",
      "866  POLYGON ((-13590481.279 4486949.687, -13590465...  686.893356\n",
      "867  POLYGON ((-13590529.329 4486926.097, -13590525...  559.508213\n",
      "868  POLYGON ((-13590319.945 4486918.771, -13590308...  644.429670\n",
      "\n",
      "[862 rows x 2 columns] 2222\n"
     ]
    },
    {
     "name": "stderr",
     "output_type": "stream",
     "text": [
      "/home/skymap/anaconda3/envs/farm/lib/python3.6/site-packages/pyproj/crs/crs.py:53: FutureWarning: '+init=<authority>:<code>' syntax is deprecated. '<authority>:<code>' is the preferred initialization method. When making the change, be mindful of axis order changes: https://pyproj4.github.io/pyproj/stable/gotchas.html#axis-order-changes-in-proj-6\n",
      "  return _prepare_from_string(\" \".join(pjargs))\n"
     ]
    },
    {
     "name": "stdout",
     "output_type": "stream",
     "text": [
      "                                            geometry\n",
      "0  POLYGON ((-13591137.345 4486001.799, -13591119... 1111\n",
      "                                            geometry\n",
      "0  POLYGON ((-13591137.345 4486001.799, -13591119... 2222\n"
     ]
    },
    {
     "name": "stderr",
     "output_type": "stream",
     "text": [
      "/home/skymap/anaconda3/envs/farm/lib/python3.6/site-packages/pyproj/crs/crs.py:53: FutureWarning: '+init=<authority>:<code>' syntax is deprecated. '<authority>:<code>' is the preferred initialization method. When making the change, be mindful of axis order changes: https://pyproj4.github.io/pyproj/stable/gotchas.html#axis-order-changes-in-proj-6\n",
      "  return _prepare_from_string(\" \".join(pjargs))\n"
     ]
    },
    {
     "name": "stdout",
     "output_type": "stream",
     "text": [
      "10seg805340\n",
      "                                               geometry\n",
      "0     POLYGON ((-13590053.438 4489726.083, -13590078...\n",
      "1     POLYGON ((-13590052.803 4489738.002, -13590042...\n",
      "2     POLYGON ((-13590117.603 4489712.148, -13590108...\n",
      "3     POLYGON ((-13590395.502 4489085.370, -13590380...\n",
      "4     POLYGON ((-13590400.032 4489117.968, -13590382...\n",
      "...                                                 ...\n",
      "1433  POLYGON ((-13589263.290 4489547.605, -13589263...\n",
      "1434  POLYGON ((-13589259.514 4489313.970, -13589259...\n",
      "1435  POLYGON ((-13589267.961 4489427.674, -13589258...\n",
      "1436  POLYGON ((-13589267.296 4489440.646, -13589259...\n",
      "1437  POLYGON ((-13589269.267 4489455.941, -13589273...\n",
      "\n",
      "[1438 rows x 1 columns] 1111\n",
      "                                               geometry        area\n",
      "0     POLYGON ((-13590053.438 4489726.083, -13590078...  308.235276\n",
      "1     POLYGON ((-13590052.803 4489738.002, -13590042...  105.907964\n",
      "2     POLYGON ((-13590117.603 4489712.148, -13590108...   73.520284\n",
      "3     POLYGON ((-13590395.502 4489085.370, -13590380...  351.059690\n",
      "4     POLYGON ((-13590400.032 4489117.968, -13590382...  386.257436\n",
      "...                                                 ...         ...\n",
      "1433  POLYGON ((-13589263.290 4489547.605, -13589263...  322.215187\n",
      "1434  POLYGON ((-13589259.514 4489313.970, -13589259...  185.588770\n",
      "1435  POLYGON ((-13589267.961 4489427.674, -13589258...  449.498959\n",
      "1436  POLYGON ((-13589267.296 4489440.646, -13589259...  407.911375\n",
      "1437  POLYGON ((-13589269.267 4489455.941, -13589273...  549.091139\n",
      "\n",
      "[1432 rows x 2 columns] 2222\n"
     ]
    },
    {
     "name": "stderr",
     "output_type": "stream",
     "text": [
      "/home/skymap/anaconda3/envs/farm/lib/python3.6/site-packages/pyproj/crs/crs.py:53: FutureWarning: '+init=<authority>:<code>' syntax is deprecated. '<authority>:<code>' is the preferred initialization method. When making the change, be mindful of axis order changes: https://pyproj4.github.io/pyproj/stable/gotchas.html#axis-order-changes-in-proj-6\n",
      "  return _prepare_from_string(\" \".join(pjargs))\n"
     ]
    },
    {
     "name": "stdout",
     "output_type": "stream",
     "text": [
      "                                            geometry\n",
      "0  POLYGON ((-13591119.202 4487894.756, -13591101... 1111\n",
      "                                            geometry\n",
      "0  POLYGON ((-13591119.202 4487894.756, -13591101... 2222\n"
     ]
    },
    {
     "name": "stderr",
     "output_type": "stream",
     "text": [
      "/home/skymap/anaconda3/envs/farm/lib/python3.6/site-packages/pyproj/crs/crs.py:53: FutureWarning: '+init=<authority>:<code>' syntax is deprecated. '<authority>:<code>' is the preferred initialization method. When making the change, be mindful of axis order changes: https://pyproj4.github.io/pyproj/stable/gotchas.html#axis-order-changes-in-proj-6\n",
      "  return _prepare_from_string(\" \".join(pjargs))\n"
     ]
    },
    {
     "name": "stdout",
     "output_type": "stream",
     "text": [
      "['NUNUKAN']\n",
      "NUNUKAN\n",
      "                                               geometry\n",
      "0     POLYGON ((13096408.024 461005.481, 13096433.34...\n",
      "1     POLYGON ((13096436.983 461000.267, 13096433.34...\n",
      "2     POLYGON ((13096454.712 461004.976, 13096457.55...\n",
      "3     POLYGON ((13096417.493 461039.004, 13096424.79...\n",
      "4     POLYGON ((13096425.718 461038.531, 13096433.48...\n",
      "...                                                 ...\n",
      "1734  POLYGON ((13097279.277 460975.319, 13097288.27...\n",
      "1735  POLYGON ((13097236.825 461122.974, 13097238.83...\n",
      "1736  POLYGON ((13097203.507 461119.039, 13097209.13...\n",
      "1737  POLYGON ((13097217.769 461148.725, 13097223.31...\n",
      "1738  POLYGON ((13097215.288 461148.363, 13097199.81...\n",
      "\n",
      "[1739 rows x 1 columns] 1111\n",
      "                                               geometry        area\n",
      "0     POLYGON ((13096408.024 461005.481, 13096433.34...  583.884451\n",
      "1     POLYGON ((13096436.983 461000.267, 13096433.34...  266.736548\n",
      "2     POLYGON ((13096454.712 461004.976, 13096457.55...  215.369055\n",
      "3     POLYGON ((13096417.493 461039.004, 13096424.79...  179.270237\n",
      "4     POLYGON ((13096425.718 461038.531, 13096433.48...  267.378496\n",
      "...                                                 ...         ...\n",
      "1734  POLYGON ((13097279.277 460975.319, 13097288.27...   77.066697\n",
      "1735  POLYGON ((13097236.825 461122.974, 13097238.83...   37.921273\n",
      "1736  POLYGON ((13097203.507 461119.039, 13097209.13...   40.590965\n",
      "1737  POLYGON ((13097217.769 461148.725, 13097223.31...   30.988263\n",
      "1738  POLYGON ((13097215.288 461148.363, 13097199.81...   98.481378\n",
      "\n",
      "[1733 rows x 2 columns] 2222\n"
     ]
    },
    {
     "name": "stderr",
     "output_type": "stream",
     "text": [
      "/home/skymap/anaconda3/envs/farm/lib/python3.6/site-packages/pyproj/crs/crs.py:53: FutureWarning: '+init=<authority>:<code>' syntax is deprecated. '<authority>:<code>' is the preferred initialization method. When making the change, be mindful of axis order changes: https://pyproj4.github.io/pyproj/stable/gotchas.html#axis-order-changes-in-proj-6\n",
      "  return _prepare_from_string(\" \".join(pjargs))\n"
     ]
    },
    {
     "name": "stdout",
     "output_type": "stream",
     "text": [
      "                                            geometry\n",
      "0  POLYGON ((13096201.189 460313.337, 13096201.86... 1111\n",
      "                                            geometry\n",
      "0  POLYGON ((13096201.189 460313.337, 13096201.86... 2222\n"
     ]
    },
    {
     "name": "stderr",
     "output_type": "stream",
     "text": [
      "/home/skymap/anaconda3/envs/farm/lib/python3.6/site-packages/pyproj/crs/crs.py:53: FutureWarning: '+init=<authority>:<code>' syntax is deprecated. '<authority>:<code>' is the preferred initialization method. When making the change, be mindful of axis order changes: https://pyproj4.github.io/pyproj/stable/gotchas.html#axis-order-changes-in-proj-6\n",
      "  return _prepare_from_string(\" \".join(pjargs))\n"
     ]
    },
    {
     "name": "stdout",
     "output_type": "stream",
     "text": [
      "['3IN_sample', 'AerialPhoto_provo_1_1_s', 'Visalia_15t1_2018_NAD83_2_4_4326', 'Visalia_15t1_2018_NAD83_3_4_4326']\n",
      "3IN_sample\n",
      "                                              geometry\n",
      "0    POLYGON ((-13121524.573 3999629.743, -13121559...\n",
      "1    POLYGON ((-13121545.920 3999671.574, -13121545...\n",
      "2    POLYGON ((-13121487.170 3999629.779, -13121520...\n",
      "3    POLYGON ((-13121384.423 3999611.108, -13121386...\n",
      "4    POLYGON ((-13121384.461 3999668.267, -13121384...\n",
      "..                                                 ...\n",
      "346  POLYGON ((-13120536.509 3999668.876, -13120536...\n",
      "347  POLYGON ((-13121031.333 3999314.496, -13120961...\n",
      "348  POLYGON ((-13120892.185 3999495.447, -13120909...\n",
      "349  POLYGON ((-13120904.158 3999229.220, -13120881...\n",
      "350  POLYGON ((-13120922.747 3999302.183, -13120841...\n",
      "\n",
      "[351 rows x 1 columns] 1111\n",
      "                                              geometry        area\n",
      "0    POLYGON ((-13121524.573 3999629.743, -13121559...  252.709247\n",
      "1    POLYGON ((-13121545.920 3999671.574, -13121545...   20.740064\n",
      "2    POLYGON ((-13121487.170 3999629.779, -13121520...  237.577445\n",
      "3    POLYGON ((-13121384.423 3999611.108, -13121386...  185.265435\n",
      "4    POLYGON ((-13121384.461 3999668.267, -13121384...  233.289936\n",
      "..                                                 ...         ...\n",
      "341  POLYGON ((-13120735.075 3998804.756, -13120734...  818.664023\n",
      "345  POLYGON ((-13120841.739 3999648.914, -13120821...  289.171341\n",
      "346  POLYGON ((-13120536.509 3999668.876, -13120536...  173.133916\n",
      "348  POLYGON ((-13120892.185 3999495.447, -13120909...  395.760071\n",
      "349  POLYGON ((-13120904.158 3999229.220, -13120881...  191.249832\n",
      "\n",
      "[296 rows x 2 columns] 2222\n"
     ]
    },
    {
     "name": "stderr",
     "output_type": "stream",
     "text": [
      "/home/skymap/anaconda3/envs/farm/lib/python3.6/site-packages/pyproj/crs/crs.py:53: FutureWarning: '+init=<authority>:<code>' syntax is deprecated. '<authority>:<code>' is the preferred initialization method. When making the change, be mindful of axis order changes: https://pyproj4.github.io/pyproj/stable/gotchas.html#axis-order-changes-in-proj-6\n",
      "  return _prepare_from_string(\" \".join(pjargs))\n"
     ]
    },
    {
     "name": "stdout",
     "output_type": "stream",
     "text": [
      "                                            geometry\n",
      "0  POLYGON ((-13121607.602 3998791.234, -13121607... 1111\n",
      "                                            geometry\n",
      "0  POLYGON ((-13121607.602 3998791.234, -13121607... 2222\n"
     ]
    },
    {
     "name": "stderr",
     "output_type": "stream",
     "text": [
      "/home/skymap/anaconda3/envs/farm/lib/python3.6/site-packages/pyproj/crs/crs.py:53: FutureWarning: '+init=<authority>:<code>' syntax is deprecated. '<authority>:<code>' is the preferred initialization method. When making the change, be mindful of axis order changes: https://pyproj4.github.io/pyproj/stable/gotchas.html#axis-order-changes-in-proj-6\n",
      "  return _prepare_from_string(\" \".join(pjargs))\n"
     ]
    },
    {
     "name": "stdout",
     "output_type": "stream",
     "text": [
      "AerialPhoto_provo_1_1_s\n",
      "                                               geometry\n",
      "0     POLYGON ((-12429606.398 4906315.484, -12429595...\n",
      "1     POLYGON ((-12429598.549 4906243.788, -12429584...\n",
      "2     POLYGON ((-12429572.917 4906091.878, -12429565...\n",
      "3     POLYGON ((-12429384.353 4906105.783, -12429383...\n",
      "4     POLYGON ((-12429405.754 4906067.685, -12429405...\n",
      "...                                                 ...\n",
      "1835  POLYGON ((-12429487.891 4907194.367, -12429483...\n",
      "1836  POLYGON ((-12429430.861 4907180.871, -12429424...\n",
      "1837  POLYGON ((-12430030.726 4907735.832, -12430026...\n",
      "1838  POLYGON ((-12430113.033 4907761.796, -12430107...\n",
      "1839  POLYGON ((-12430113.408 4907813.833, -12430107...\n",
      "\n",
      "[1840 rows x 1 columns] 1111\n",
      "                                               geometry        area\n",
      "0     POLYGON ((-12429606.398 4906315.484, -12429595...  875.740457\n",
      "3     POLYGON ((-12429384.353 4906105.783, -12429383...  498.897668\n",
      "4     POLYGON ((-12429405.754 4906067.685, -12429405...  462.144868\n",
      "5     POLYGON ((-12429354.029 4906060.090, -12429354...  383.856210\n",
      "6     POLYGON ((-12429361.756 4905989.119, -12429361...  873.128997\n",
      "...                                                 ...         ...\n",
      "1835  POLYGON ((-12429487.891 4907194.367, -12429483...  840.638421\n",
      "1836  POLYGON ((-12429430.861 4907180.871, -12429424...  794.197245\n",
      "1837  POLYGON ((-12430030.726 4907735.832, -12430026...   26.109316\n",
      "1838  POLYGON ((-12430113.033 4907761.796, -12430107...   22.993855\n",
      "1839  POLYGON ((-12430113.408 4907813.833, -12430107...   29.297434\n",
      "\n",
      "[1685 rows x 2 columns] 2222\n"
     ]
    },
    {
     "name": "stderr",
     "output_type": "stream",
     "text": [
      "/home/skymap/anaconda3/envs/farm/lib/python3.6/site-packages/pyproj/crs/crs.py:53: FutureWarning: '+init=<authority>:<code>' syntax is deprecated. '<authority>:<code>' is the preferred initialization method. When making the change, be mindful of axis order changes: https://pyproj4.github.io/pyproj/stable/gotchas.html#axis-order-changes-in-proj-6\n",
      "  return _prepare_from_string(\" \".join(pjargs))\n"
     ]
    },
    {
     "name": "stdout",
     "output_type": "stream",
     "text": [
      "                                            geometry\n",
      "0  POLYGON ((-12432010.661 4905881.247, -12432010... 1111\n",
      "                                            geometry\n",
      "0  POLYGON ((-12432010.661 4905881.247, -12432010... 2222\n"
     ]
    },
    {
     "name": "stderr",
     "output_type": "stream",
     "text": [
      "/home/skymap/anaconda3/envs/farm/lib/python3.6/site-packages/pyproj/crs/crs.py:53: FutureWarning: '+init=<authority>:<code>' syntax is deprecated. '<authority>:<code>' is the preferred initialization method. When making the change, be mindful of axis order changes: https://pyproj4.github.io/pyproj/stable/gotchas.html#axis-order-changes-in-proj-6\n",
      "  return _prepare_from_string(\" \".join(pjargs))\n"
     ]
    },
    {
     "name": "stdout",
     "output_type": "stream",
     "text": [
      "Visalia_15t1_2018_NAD83_2_4_4326\n",
      "                                               geometry\n",
      "0     POLYGON ((-13280033.437 4350485.623, -13280033...\n",
      "1     POLYGON ((-13280027.296 4350493.236, -13280016...\n",
      "2     POLYGON ((-13278851.410 4350645.408, -13278851...\n",
      "3     POLYGON ((-13278901.133 4350604.610, -13278901...\n",
      "4     POLYGON ((-13278771.135 4350573.673, -13278763...\n",
      "...                                                 ...\n",
      "3526  POLYGON ((-13280089.845 4347670.027, -13280077...\n",
      "3527  POLYGON ((-13280089.628 4347662.655, -13280076...\n",
      "3528  POLYGON ((-13280012.366 4347488.260, -13279991...\n",
      "3529  POLYGON ((-13279992.742 4347465.158, -13279985...\n",
      "3530  POLYGON ((-13280066.674 4347460.303, -13280059...\n",
      "\n",
      "[3531 rows x 1 columns] 1111\n",
      "                                               geometry        area\n",
      "0     POLYGON ((-13280033.437 4350485.623, -13280033...  215.704983\n",
      "1     POLYGON ((-13280027.296 4350493.236, -13280016...   91.033676\n",
      "3     POLYGON ((-13278901.133 4350604.610, -13278901...  569.955751\n",
      "4     POLYGON ((-13278771.135 4350573.673, -13278763...  710.494969\n",
      "5     POLYGON ((-13278887.207 4350641.981, -13278901...  178.878320\n",
      "...                                                 ...         ...\n",
      "3526  POLYGON ((-13280089.845 4347670.027, -13280077...   66.457535\n",
      "3527  POLYGON ((-13280089.628 4347662.655, -13280076...  111.727048\n",
      "3528  POLYGON ((-13280012.366 4347488.260, -13279991...  360.701491\n",
      "3529  POLYGON ((-13279992.742 4347465.158, -13279985...   63.165884\n",
      "3530  POLYGON ((-13280066.674 4347460.303, -13280059...  239.707549\n",
      "\n",
      "[3479 rows x 2 columns] 2222\n"
     ]
    },
    {
     "name": "stderr",
     "output_type": "stream",
     "text": [
      "/home/skymap/anaconda3/envs/farm/lib/python3.6/site-packages/pyproj/crs/crs.py:53: FutureWarning: '+init=<authority>:<code>' syntax is deprecated. '<authority>:<code>' is the preferred initialization method. When making the change, be mindful of axis order changes: https://pyproj4.github.io/pyproj/stable/gotchas.html#axis-order-changes-in-proj-6\n",
      "  return _prepare_from_string(\" \".join(pjargs))\n"
     ]
    },
    {
     "name": "stdout",
     "output_type": "stream",
     "text": [
      "                                            geometry\n",
      "0  POLYGON ((inf inf, inf inf, inf inf, inf inf, ...\n",
      "1  POLYGON ((-13280139.432 4347441.595, -13280149... 1111\n",
      "                                            geometry\n",
      "0  POLYGON ((inf inf, inf inf, inf inf, inf inf, ...\n",
      "1  POLYGON ((-13280139.432 4347441.595, -13280149... 2222\n"
     ]
    },
    {
     "name": "stderr",
     "output_type": "stream",
     "text": [
      "/home/skymap/anaconda3/envs/farm/lib/python3.6/site-packages/pyproj/crs/crs.py:53: FutureWarning: '+init=<authority>:<code>' syntax is deprecated. '<authority>:<code>' is the preferred initialization method. When making the change, be mindful of axis order changes: https://pyproj4.github.io/pyproj/stable/gotchas.html#axis-order-changes-in-proj-6\n",
      "  return _prepare_from_string(\" \".join(pjargs))\n"
     ]
    },
    {
     "name": "stdout",
     "output_type": "stream",
     "text": [
      "Visalia_15t1_2018_NAD83_3_4_4326\n",
      "                                               geometry\n",
      "0     POLYGON ((-13279906.749 4345205.306, -13279944...\n",
      "1     POLYGON ((-13279925.336 4345244.701, -13279943...\n",
      "2     POLYGON ((-13279904.477 4345109.062, -13279909...\n",
      "3     POLYGON ((-13279913.804 4345115.606, -13279913...\n",
      "4     POLYGON ((-13279925.092 4345200.900, -13279925...\n",
      "...                                                 ...\n",
      "5256  POLYGON ((-13279092.294 4342528.199, -13279077...\n",
      "5257  POLYGON ((-13279665.170 4343274.625, -13279665...\n",
      "5258  POLYGON ((-13279961.541 4342698.254, -13279961...\n",
      "5259  POLYGON ((-13279857.455 4342129.957, -13279846...\n",
      "5260  POLYGON ((-13277661.165 4342365.518, -13277654...\n",
      "\n",
      "[5261 rows x 1 columns] 1111\n",
      "                                               geometry        area\n",
      "0     POLYGON ((-13279906.749 4345205.306, -13279944...  509.135547\n",
      "1     POLYGON ((-13279925.336 4345244.701, -13279943...  185.682122\n",
      "2     POLYGON ((-13279904.477 4345109.062, -13279909...   47.738471\n",
      "3     POLYGON ((-13279913.804 4345115.606, -13279913...  131.350024\n",
      "4     POLYGON ((-13279925.092 4345200.900, -13279925...  184.087483\n",
      "...                                                 ...         ...\n",
      "5256  POLYGON ((-13279092.294 4342528.199, -13279077...  560.524841\n",
      "5257  POLYGON ((-13279665.170 4343274.625, -13279665...  401.533034\n",
      "5258  POLYGON ((-13279961.541 4342698.254, -13279961...  509.307357\n",
      "5259  POLYGON ((-13279857.455 4342129.957, -13279846...  567.950447\n",
      "5260  POLYGON ((-13277661.165 4342365.518, -13277654...  336.561039\n",
      "\n",
      "[5192 rows x 2 columns] 2222\n"
     ]
    },
    {
     "name": "stderr",
     "output_type": "stream",
     "text": [
      "/home/skymap/anaconda3/envs/farm/lib/python3.6/site-packages/pyproj/crs/crs.py:53: FutureWarning: '+init=<authority>:<code>' syntax is deprecated. '<authority>:<code>' is the preferred initialization method. When making the change, be mindful of axis order changes: https://pyproj4.github.io/pyproj/stable/gotchas.html#axis-order-changes-in-proj-6\n",
      "  return _prepare_from_string(\" \".join(pjargs))\n"
     ]
    },
    {
     "name": "stdout",
     "output_type": "stream",
     "text": [
      "                                            geometry\n",
      "0  POLYGON ((-13280122.898 4342071.483, -13280132... 1111\n",
      "                                            geometry\n",
      "0  POLYGON ((-13280122.898 4342071.483, -13280132... 2222\n"
     ]
    },
    {
     "name": "stderr",
     "output_type": "stream",
     "text": [
      "/home/skymap/anaconda3/envs/farm/lib/python3.6/site-packages/pyproj/crs/crs.py:53: FutureWarning: '+init=<authority>:<code>' syntax is deprecated. '<authority>:<code>' is the preferred initialization method. When making the change, be mindful of axis order changes: https://pyproj4.github.io/pyproj/stable/gotchas.html#axis-order-changes-in-proj-6\n",
      "  return _prepare_from_string(\" \".join(pjargs))\n"
     ]
    },
    {
     "name": "stdout",
     "output_type": "stream",
     "text": [
      "['Mt_Isa_2017_10cm_Mosaic', 'Capricorn_Wide_Bay_2017_20cm_Mosaic']\n",
      "Mt_Isa_2017_10cm_Mosaic\n",
      "                                               geometry\n",
      "0     POLYGON ((15527057.141 -2357619.836, 15527078....\n",
      "1     POLYGON ((15527056.223 -2357654.216, 15527063....\n",
      "2     POLYGON ((15527064.049 -2357654.289, 15527073....\n",
      "3     POLYGON ((15527073.110 -2357655.906, 15527078....\n",
      "4     POLYGON ((15527090.426 -2357655.331, 15527096....\n",
      "...                                                 ...\n",
      "1522  POLYGON ((15528472.993 -2358852.347, 15528470....\n",
      "1523  POLYGON ((15528470.422 -2358868.289, 15528472....\n",
      "1524  POLYGON ((15528700.579 -2358979.920, 15528707....\n",
      "1525  POLYGON ((15528707.692 -2358979.222, 15528720....\n",
      "1526  POLYGON ((15528682.715 -2359028.661, 15528671....\n",
      "\n",
      "[1527 rows x 1 columns] 1111\n",
      "                                               geometry        area\n",
      "0     POLYGON ((15527057.141 -2357619.836, 15527078....  715.915550\n",
      "1     POLYGON ((15527056.223 -2357654.216, 15527063....  115.323445\n",
      "2     POLYGON ((15527064.049 -2357654.289, 15527073....  132.570712\n",
      "3     POLYGON ((15527073.110 -2357655.906, 15527078....   59.693961\n",
      "4     POLYGON ((15527090.426 -2357655.331, 15527096....   74.765644\n",
      "...                                                 ...         ...\n",
      "1522  POLYGON ((15528472.993 -2358852.347, 15528470....  127.626047\n",
      "1523  POLYGON ((15528470.422 -2358868.289, 15528472....  211.223418\n",
      "1524  POLYGON ((15528700.579 -2358979.920, 15528707....   43.627288\n",
      "1525  POLYGON ((15528707.692 -2358979.222, 15528720....  198.628544\n",
      "1526  POLYGON ((15528682.715 -2359028.661, 15528671....  137.207592\n",
      "\n",
      "[1504 rows x 2 columns] 2222\n"
     ]
    },
    {
     "name": "stderr",
     "output_type": "stream",
     "text": [
      "/home/skymap/anaconda3/envs/farm/lib/python3.6/site-packages/pyproj/crs/crs.py:53: FutureWarning: '+init=<authority>:<code>' syntax is deprecated. '<authority>:<code>' is the preferred initialization method. When making the change, be mindful of axis order changes: https://pyproj4.github.io/pyproj/stable/gotchas.html#axis-order-changes-in-proj-6\n",
      "  return _prepare_from_string(\" \".join(pjargs))\n"
     ]
    },
    {
     "name": "stdout",
     "output_type": "stream",
     "text": [
      "                                            geometry\n",
      "0  POLYGON ((15526928.112 -2359012.717, 15526941.... 1111\n",
      "                                            geometry\n",
      "0  POLYGON ((15526928.112 -2359012.717, 15526941.... 2222\n",
      "Capricorn_Wide_Bay_2017_20cm_Mosaic\n"
     ]
    },
    {
     "name": "stderr",
     "output_type": "stream",
     "text": [
      "/home/skymap/anaconda3/envs/farm/lib/python3.6/site-packages/pyproj/crs/crs.py:53: FutureWarning: '+init=<authority>:<code>' syntax is deprecated. '<authority>:<code>' is the preferred initialization method. When making the change, be mindful of axis order changes: https://pyproj4.github.io/pyproj/stable/gotchas.html#axis-order-changes-in-proj-6\n",
      "  return _prepare_from_string(\" \".join(pjargs))\n"
     ]
    },
    {
     "name": "stdout",
     "output_type": "stream",
     "text": [
      "                                              geometry\n",
      "0    POLYGON ((17017967.414 -2958846.681, 17017973....\n",
      "1    POLYGON ((17018098.750 -2958842.992, 17018105....\n",
      "2    POLYGON ((17018125.353 -2958844.553, 17018124....\n",
      "3    POLYGON ((17018147.309 -2958856.439, 17018149....\n",
      "4    POLYGON ((17018164.598 -2958846.868, 17018163....\n",
      "..                                                 ...\n",
      "224  POLYGON ((17018161.362 -2960293.795, 17018177....\n",
      "225  POLYGON ((17018167.231 -2960332.633, 17018154....\n",
      "226  POLYGON ((17018135.843 -2960314.514, 17018149....\n",
      "227  POLYGON ((17018253.074 -2959656.203, 17018268....\n",
      "228  POLYGON ((17018260.918 -2959038.795, 17018275....\n",
      "\n",
      "[229 rows x 1 columns] 1111\n",
      "                                              geometry        area\n",
      "0    POLYGON ((17017967.414 -2958846.681, 17017973....  294.116274\n",
      "1    POLYGON ((17018098.750 -2958842.992, 17018105....   74.445125\n",
      "2    POLYGON ((17018125.353 -2958844.553, 17018124....  187.652286\n",
      "3    POLYGON ((17018147.309 -2958856.439, 17018149....  104.146660\n",
      "4    POLYGON ((17018164.598 -2958846.868, 17018163....   88.886602\n",
      "..                                                 ...         ...\n",
      "224  POLYGON ((17018161.362 -2960293.795, 17018177....  231.758175\n",
      "225  POLYGON ((17018167.231 -2960332.633, 17018154....  228.987154\n",
      "226  POLYGON ((17018135.843 -2960314.514, 17018149....  119.740874\n",
      "227  POLYGON ((17018253.074 -2959656.203, 17018268....  195.507112\n",
      "228  POLYGON ((17018260.918 -2959038.795, 17018275....  239.553371\n",
      "\n",
      "[229 rows x 2 columns] 2222\n"
     ]
    },
    {
     "name": "stderr",
     "output_type": "stream",
     "text": [
      "/home/skymap/anaconda3/envs/farm/lib/python3.6/site-packages/pyproj/crs/crs.py:53: FutureWarning: '+init=<authority>:<code>' syntax is deprecated. '<authority>:<code>' is the preferred initialization method. When making the change, be mindful of axis order changes: https://pyproj4.github.io/pyproj/stable/gotchas.html#axis-order-changes-in-proj-6\n",
      "  return _prepare_from_string(\" \".join(pjargs))\n"
     ]
    },
    {
     "name": "stdout",
     "output_type": "stream",
     "text": [
      "                                            geometry\n",
      "0  POLYGON ((17016574.694 -2960342.803, 17016576.... 1111\n",
      "                                            geometry\n",
      "0  POLYGON ((17016574.694 -2960342.803, 17016576.... 2222\n",
      "['53392514', '53392515', '53394620', '53394622', '53397720', '53397721', '53397722']\n",
      "53392514\n"
     ]
    },
    {
     "name": "stderr",
     "output_type": "stream",
     "text": [
      "/home/skymap/anaconda3/envs/farm/lib/python3.6/site-packages/pyproj/crs/crs.py:53: FutureWarning: '+init=<authority>:<code>' syntax is deprecated. '<authority>:<code>' is the preferred initialization method. When making the change, be mindful of axis order changes: https://pyproj4.github.io/pyproj/stable/gotchas.html#axis-order-changes-in-proj-6\n",
      "  return _prepare_from_string(\" \".join(pjargs))\n"
     ]
    },
    {
     "name": "stdout",
     "output_type": "stream",
     "text": [
      "                                               geometry\n",
      "0     POLYGON ((15549597.462 4235322.335, 15549607.0...\n",
      "1     POLYGON ((15549607.659 4235311.922, 15549607.5...\n",
      "2     POLYGON ((15549619.975 4235312.980, 15549619.9...\n",
      "3     POLYGON ((15549628.781 4235324.045, 15549630.5...\n",
      "4     POLYGON ((15549620.306 4235304.356, 15549623.4...\n",
      "...                                                 ...\n",
      "6497  POLYGON ((15549709.319 4234493.704, 15549719.9...\n",
      "6498  POLYGON ((15549741.293 4234993.285, 15549751.4...\n",
      "6499  POLYGON ((15549753.491 4234981.669, 15549763.5...\n",
      "6500  POLYGON ((15550985.132 4235241.657, 15550997.5...\n",
      "6501  POLYGON ((15550593.667 4235134.142, 15550598.0...\n",
      "\n",
      "[6502 rows x 1 columns] 1111\n",
      "                                               geometry        area\n",
      "0     POLYGON ((15549597.462 4235322.335, 15549607.0...  120.258549\n",
      "1     POLYGON ((15549607.659 4235311.922, 15549607.5...  112.910244\n",
      "2     POLYGON ((15549619.975 4235312.980, 15549619.9...   69.067964\n",
      "3     POLYGON ((15549628.781 4235324.045, 15549630.5...   75.504208\n",
      "4     POLYGON ((15549620.306 4235304.356, 15549623.4...  109.247999\n",
      "...                                                 ...         ...\n",
      "6496  POLYGON ((15549719.021 4234018.628, 15549714.3...   54.511766\n",
      "6497  POLYGON ((15549709.319 4234493.704, 15549719.9...  127.674050\n",
      "6498  POLYGON ((15549741.293 4234993.285, 15549751.4...   60.242039\n",
      "6499  POLYGON ((15549753.491 4234981.669, 15549763.5...   59.337314\n",
      "6501  POLYGON ((15550593.667 4235134.142, 15550598.0...  103.954574\n",
      "\n",
      "[6429 rows x 2 columns] 2222\n"
     ]
    },
    {
     "name": "stderr",
     "output_type": "stream",
     "text": [
      "/home/skymap/anaconda3/envs/farm/lib/python3.6/site-packages/pyproj/crs/crs.py:53: FutureWarning: '+init=<authority>:<code>' syntax is deprecated. '<authority>:<code>' is the preferred initialization method. When making the change, be mindful of axis order changes: https://pyproj4.github.io/pyproj/stable/gotchas.html#axis-order-changes-in-proj-6\n",
      "  return _prepare_from_string(\" \".join(pjargs))\n"
     ]
    },
    {
     "name": "stdout",
     "output_type": "stream",
     "text": [
      "                                            geometry\n",
      "0  POLYGON ((15549582.880 4233908.265, 15549582.8... 1111\n",
      "                                            geometry\n",
      "0  POLYGON ((15549582.880 4233908.265, 15549582.8... 2222\n"
     ]
    },
    {
     "name": "stderr",
     "output_type": "stream",
     "text": [
      "/home/skymap/anaconda3/envs/farm/lib/python3.6/site-packages/pyproj/crs/crs.py:53: FutureWarning: '+init=<authority>:<code>' syntax is deprecated. '<authority>:<code>' is the preferred initialization method. When making the change, be mindful of axis order changes: https://pyproj4.github.io/pyproj/stable/gotchas.html#axis-order-changes-in-proj-6\n",
      "  return _prepare_from_string(\" \".join(pjargs))\n"
     ]
    },
    {
     "name": "stdout",
     "output_type": "stream",
     "text": [
      "53392515\n",
      "                                               geometry\n",
      "0     POLYGON ((15551338.345 4235332.182, 15551327.2...\n",
      "1     POLYGON ((15551343.245 4235323.396, 15551340.2...\n",
      "2     POLYGON ((15551341.305 4235328.979, 15551346.0...\n",
      "3     POLYGON ((15551345.899 4235323.199, 15551353.4...\n",
      "4     POLYGON ((15551343.118 4235321.572, 15551344.7...\n",
      "...                                                 ...\n",
      "7553  POLYGON ((15552916.385 4234988.167, 15552932.1...\n",
      "7554  POLYGON ((15552528.536 4235128.547, 15552536.9...\n",
      "7555  POLYGON ((15551494.163 4234635.082, 15551502.9...\n",
      "7556  POLYGON ((15552522.892 4235046.595, 15552525.1...\n",
      "7557  POLYGON ((15552883.894 4234201.893, 15552883.2...\n",
      "\n",
      "[7558 rows x 1 columns] 1111\n",
      "                                               geometry        area\n",
      "0     POLYGON ((15551338.345 4235332.182, 15551327.2...  115.814446\n",
      "1     POLYGON ((15551343.245 4235323.396, 15551340.2...   76.327183\n",
      "2     POLYGON ((15551341.305 4235328.979, 15551346.0...   63.284597\n",
      "3     POLYGON ((15551345.899 4235323.199, 15551353.4...   56.962698\n",
      "4     POLYGON ((15551343.118 4235321.572, 15551344.7...  144.923264\n",
      "...                                                 ...         ...\n",
      "7553  POLYGON ((15552916.385 4234988.167, 15552932.1...  163.402506\n",
      "7554  POLYGON ((15552528.536 4235128.547, 15552536.9...  204.122339\n",
      "7555  POLYGON ((15551494.163 4234635.082, 15551502.9...   85.729720\n",
      "7556  POLYGON ((15552522.892 4235046.595, 15552525.1...   49.159487\n",
      "7557  POLYGON ((15552883.894 4234201.893, 15552883.2...   32.574060\n",
      "\n",
      "[7505 rows x 2 columns] 2222\n"
     ]
    },
    {
     "name": "stderr",
     "output_type": "stream",
     "text": [
      "/home/skymap/anaconda3/envs/farm/lib/python3.6/site-packages/pyproj/crs/crs.py:53: FutureWarning: '+init=<authority>:<code>' syntax is deprecated. '<authority>:<code>' is the preferred initialization method. When making the change, be mindful of axis order changes: https://pyproj4.github.io/pyproj/stable/gotchas.html#axis-order-changes-in-proj-6\n",
      "  return _prepare_from_string(\" \".join(pjargs))\n"
     ]
    },
    {
     "name": "stdout",
     "output_type": "stream",
     "text": [
      "                                            geometry\n",
      "0  POLYGON ((15551322.099 4233908.322, 15551322.0... 1111\n",
      "                                            geometry\n",
      "0  POLYGON ((15551322.099 4233908.322, 15551322.0... 2222\n"
     ]
    },
    {
     "name": "stderr",
     "output_type": "stream",
     "text": [
      "/home/skymap/anaconda3/envs/farm/lib/python3.6/site-packages/pyproj/crs/crs.py:53: FutureWarning: '+init=<authority>:<code>' syntax is deprecated. '<authority>:<code>' is the preferred initialization method. When making the change, be mindful of axis order changes: https://pyproj4.github.io/pyproj/stable/gotchas.html#axis-order-changes-in-proj-6\n",
      "  return _prepare_from_string(\" \".join(pjargs))\n"
     ]
    },
    {
     "name": "stdout",
     "output_type": "stream",
     "text": [
      "53394620\n",
      "                                               geometry\n",
      "0     POLYGON ((15557824.824 4258924.758, 15557832.3...\n",
      "1     POLYGON ((15557809.092 4258918.757, 15557823.5...\n",
      "2     POLYGON ((15557803.953 4258926.388, 15557822.5...\n",
      "3     POLYGON ((15557774.409 4258909.592, 15557778.8...\n",
      "4     POLYGON ((15557757.618 4258934.118, 15557767.4...\n",
      "...                                                 ...\n",
      "2198  POLYGON ((15557872.998 4259159.348, 15557888.0...\n",
      "2199  POLYGON ((15557842.360 4259142.998, 15557850.4...\n",
      "2200  POLYGON ((15558268.703 4258605.433, 15558269.2...\n",
      "2201  POLYGON ((15558031.309 4258912.193, 15558036.0...\n",
      "2202  POLYGON ((15557506.657 4258755.765, 15557512.4...\n",
      "\n",
      "[2203 rows x 1 columns] 1111\n",
      "                                               geometry        area\n",
      "0     POLYGON ((15557824.824 4258924.758, 15557832.3...  106.299546\n",
      "1     POLYGON ((15557809.092 4258918.757, 15557823.5...  110.701238\n",
      "2     POLYGON ((15557803.953 4258926.388, 15557822.5...  117.547491\n",
      "3     POLYGON ((15557774.409 4258909.592, 15557778.8...  211.397827\n",
      "4     POLYGON ((15557757.618 4258934.118, 15557767.4...  139.561366\n",
      "...                                                 ...         ...\n",
      "2198  POLYGON ((15557872.998 4259159.348, 15557888.0...  257.242790\n",
      "2199  POLYGON ((15557842.360 4259142.998, 15557850.4...   81.364941\n",
      "2200  POLYGON ((15558268.703 4258605.433, 15558269.2...   99.144213\n",
      "2201  POLYGON ((15558031.309 4258912.193, 15558036.0...  157.527436\n",
      "2202  POLYGON ((15557506.657 4258755.765, 15557512.4...   94.365039\n",
      "\n",
      "[2035 rows x 2 columns] 2222\n"
     ]
    },
    {
     "name": "stderr",
     "output_type": "stream",
     "text": [
      "/home/skymap/anaconda3/envs/farm/lib/python3.6/site-packages/pyproj/crs/crs.py:53: FutureWarning: '+init=<authority>:<code>' syntax is deprecated. '<authority>:<code>' is the preferred initialization method. When making the change, be mindful of axis order changes: https://pyproj4.github.io/pyproj/stable/gotchas.html#axis-order-changes-in-proj-6\n",
      "  return _prepare_from_string(\" \".join(pjargs))\n"
     ]
    },
    {
     "name": "stdout",
     "output_type": "stream",
     "text": [
      "                                            geometry\n",
      "0  POLYGON ((15556538.967 4258150.473, 15556538.9... 1111\n",
      "                                            geometry\n",
      "0  POLYGON ((15556538.967 4258150.473, 15556538.9... 2222\n"
     ]
    },
    {
     "name": "stderr",
     "output_type": "stream",
     "text": [
      "/home/skymap/anaconda3/envs/farm/lib/python3.6/site-packages/pyproj/crs/crs.py:53: FutureWarning: '+init=<authority>:<code>' syntax is deprecated. '<authority>:<code>' is the preferred initialization method. When making the change, be mindful of axis order changes: https://pyproj4.github.io/pyproj/stable/gotchas.html#axis-order-changes-in-proj-6\n",
      "  return _prepare_from_string(\" \".join(pjargs))\n"
     ]
    },
    {
     "name": "stdout",
     "output_type": "stream",
     "text": [
      "53394622\n",
      "                                               geometry\n",
      "0     POLYGON ((15560168.453 4259541.891, 15560167.6...\n",
      "1     POLYGON ((15560174.406 4259524.440, 15560167.5...\n",
      "2     POLYGON ((15560104.376 4259522.012, 15560116.9...\n",
      "3     POLYGON ((15560139.197 4259529.417, 15560124.5...\n",
      "4     POLYGON ((15560118.747 4259492.777, 15560119.8...\n",
      "...                                                 ...\n",
      "4788  POLYGON ((15560020.517 4258510.313, 15560022.7...\n",
      "4789  POLYGON ((15560053.336 4258572.174, 15560050.7...\n",
      "4790  POLYGON ((15560306.971 4258737.964, 15560310.4...\n",
      "4791  POLYGON ((15560328.560 4258727.808, 15560338.0...\n",
      "4792  POLYGON ((15560329.437 4258727.808, 15560335.9...\n",
      "\n",
      "[4793 rows x 1 columns] 1111\n",
      "                                               geometry        area\n",
      "0     POLYGON ((15560168.453 4259541.891, 15560167.6...   83.754819\n",
      "1     POLYGON ((15560174.406 4259524.440, 15560167.5...   52.938029\n",
      "2     POLYGON ((15560104.376 4259522.012, 15560116.9...   75.028714\n",
      "3     POLYGON ((15560139.197 4259529.417, 15560124.5...   95.438115\n",
      "4     POLYGON ((15560118.747 4259492.777, 15560119.8...  128.219072\n",
      "...                                                 ...         ...\n",
      "4788  POLYGON ((15560020.517 4258510.313, 15560022.7...  287.735058\n",
      "4789  POLYGON ((15560053.336 4258572.174, 15560050.7...   78.321625\n",
      "4790  POLYGON ((15560306.971 4258737.964, 15560310.4...   69.298860\n",
      "4791  POLYGON ((15560328.560 4258727.808, 15560338.0...   96.229321\n",
      "4792  POLYGON ((15560329.437 4258727.808, 15560335.9...  119.622926\n",
      "\n",
      "[4716 rows x 2 columns] 2222\n"
     ]
    },
    {
     "name": "stderr",
     "output_type": "stream",
     "text": [
      "/home/skymap/anaconda3/envs/farm/lib/python3.6/site-packages/pyproj/crs/crs.py:53: FutureWarning: '+init=<authority>:<code>' syntax is deprecated. '<authority>:<code>' is the preferred initialization method. When making the change, be mindful of axis order changes: https://pyproj4.github.io/pyproj/stable/gotchas.html#axis-order-changes-in-proj-6\n",
      "  return _prepare_from_string(\" \".join(pjargs))\n"
     ]
    },
    {
     "name": "stdout",
     "output_type": "stream",
     "text": [
      "                                            geometry\n",
      "0  POLYGON ((15560017.407 4258150.588, 15560017.3... 1111\n",
      "                                            geometry\n",
      "0  POLYGON ((15560017.407 4258150.588, 15560017.3... 2222\n"
     ]
    },
    {
     "name": "stderr",
     "output_type": "stream",
     "text": [
      "/home/skymap/anaconda3/envs/farm/lib/python3.6/site-packages/pyproj/crs/crs.py:53: FutureWarning: '+init=<authority>:<code>' syntax is deprecated. '<authority>:<code>' is the preferred initialization method. When making the change, be mindful of axis order changes: https://pyproj4.github.io/pyproj/stable/gotchas.html#axis-order-changes-in-proj-6\n",
      "  return _prepare_from_string(\" \".join(pjargs))\n"
     ]
    },
    {
     "name": "stdout",
     "output_type": "stream",
     "text": [
      "53397720\n",
      "                                               geometry\n",
      "0     POLYGON ((15571215.239 4292466.471, 15571185.9...\n",
      "1     POLYGON ((15571274.406 4292471.500, 15571283.7...\n",
      "2     POLYGON ((15570535.392 4292666.764, 15570546.7...\n",
      "3     POLYGON ((15570548.885 4292654.278, 15570553.2...\n",
      "4     POLYGON ((15570543.900 4292642.619, 15570549.8...\n",
      "...                                                 ...\n",
      "3529  POLYGON ((15571586.472 4292571.983, 15571619.6...\n",
      "3530  POLYGON ((15571031.248 4293744.573, 15571045.0...\n",
      "3531  POLYGON ((15571519.102 4293292.975, 15571527.3...\n",
      "3532  POLYGON ((15570993.808 4293038.775, 15570996.3...\n",
      "3533  POLYGON ((15571273.124 4293520.380, 15571275.7...\n",
      "\n",
      "[3534 rows x 1 columns] 1111\n",
      "                                               geometry        area\n",
      "1     POLYGON ((15571274.406 4292471.500, 15571283.7...  126.930189\n",
      "2     POLYGON ((15570535.392 4292666.764, 15570546.7...  193.478588\n",
      "3     POLYGON ((15570548.885 4292654.278, 15570553.2...   21.848648\n",
      "4     POLYGON ((15570543.900 4292642.619, 15570549.8...   24.927593\n",
      "5     POLYGON ((15570549.486 4292637.958, 15570555.4...   36.184988\n",
      "...                                                 ...         ...\n",
      "3527  POLYGON ((15571174.808 4293737.773, 15571176.3...    5.431707\n",
      "3528  POLYGON ((15571364.653 4292597.243, 15571368.9...   26.978996\n",
      "3531  POLYGON ((15571519.102 4293292.975, 15571527.3...  133.703550\n",
      "3532  POLYGON ((15570993.808 4293038.775, 15570996.3...  105.254217\n",
      "3533  POLYGON ((15571273.124 4293520.380, 15571275.7...  150.566310\n",
      "\n",
      "[3482 rows x 2 columns] 2222\n"
     ]
    },
    {
     "name": "stderr",
     "output_type": "stream",
     "text": [
      "/home/skymap/anaconda3/envs/farm/lib/python3.6/site-packages/pyproj/crs/crs.py:53: FutureWarning: '+init=<authority>:<code>' syntax is deprecated. '<authority>:<code>' is the preferred initialization method. When making the change, be mindful of axis order changes: https://pyproj4.github.io/pyproj/stable/gotchas.html#axis-order-changes-in-proj-6\n",
      "  return _prepare_from_string(\" \".join(pjargs))\n"
     ]
    },
    {
     "name": "stdout",
     "output_type": "stream",
     "text": [
      "                                            geometry\n",
      "0  POLYGON ((15570451.592 4292466.727, 15570451.5... 1111\n",
      "                                            geometry\n",
      "0  POLYGON ((15570451.592 4292466.727, 15570451.5... 2222\n"
     ]
    },
    {
     "name": "stderr",
     "output_type": "stream",
     "text": [
      "/home/skymap/anaconda3/envs/farm/lib/python3.6/site-packages/pyproj/crs/crs.py:53: FutureWarning: '+init=<authority>:<code>' syntax is deprecated. '<authority>:<code>' is the preferred initialization method. When making the change, be mindful of axis order changes: https://pyproj4.github.io/pyproj/stable/gotchas.html#axis-order-changes-in-proj-6\n",
      "  return _prepare_from_string(\" \".join(pjargs))\n"
     ]
    },
    {
     "name": "stdout",
     "output_type": "stream",
     "text": [
      "53397721\n",
      "                                               geometry\n",
      "0     POLYGON ((15573718.695 4292473.572, 15573724.6...\n",
      "1     POLYGON ((15573711.355 4292466.203, 15573709.6...\n",
      "2     POLYGON ((15573729.994 4292465.751, 15573727.9...\n",
      "3     POLYGON ((15573739.052 4292466.242, 15573736.7...\n",
      "4     POLYGON ((15573748.150 4292468.450, 15573745.6...\n",
      "...                                                 ...\n",
      "1661  POLYGON ((15573630.599 4292597.842, 15573636.7...\n",
      "1662  POLYGON ((15573608.844 4293208.753, 15573602.3...\n",
      "1663  POLYGON ((15572213.793 4293626.079, 15572213.9...\n",
      "1664  POLYGON ((15572525.791 4292963.053, 15572529.0...\n",
      "1665  POLYGON ((15572697.586 4293056.752, 15572678.0...\n",
      "\n",
      "[1666 rows x 1 columns] 1111\n",
      "                                               geometry        area\n",
      "0     POLYGON ((15573718.695 4292473.572, 15573724.6...   79.736202\n",
      "1     POLYGON ((15573711.355 4292466.203, 15573709.6...   84.592278\n",
      "2     POLYGON ((15573729.994 4292465.751, 15573727.9...   87.197723\n",
      "3     POLYGON ((15573739.052 4292466.242, 15573736.7...  100.874453\n",
      "4     POLYGON ((15573748.150 4292468.450, 15573745.6...   92.827494\n",
      "...                                                 ...         ...\n",
      "1660  POLYGON ((15573784.917 4292741.242, 15573790.1...   18.288593\n",
      "1661  POLYGON ((15573630.599 4292597.842, 15573636.7...   37.103118\n",
      "1662  POLYGON ((15573608.844 4293208.753, 15573602.3...  104.101740\n",
      "1663  POLYGON ((15572213.793 4293626.079, 15572213.9...   32.241599\n",
      "1665  POLYGON ((15572697.586 4293056.752, 15572678.0...  117.460862\n",
      "\n",
      "[1651 rows x 2 columns] 2222\n"
     ]
    },
    {
     "name": "stderr",
     "output_type": "stream",
     "text": [
      "/home/skymap/anaconda3/envs/farm/lib/python3.6/site-packages/pyproj/crs/crs.py:53: FutureWarning: '+init=<authority>:<code>' syntax is deprecated. '<authority>:<code>' is the preferred initialization method. When making the change, be mindful of axis order changes: https://pyproj4.github.io/pyproj/stable/gotchas.html#axis-order-changes-in-proj-6\n",
      "  return _prepare_from_string(\" \".join(pjargs))\n"
     ]
    },
    {
     "name": "stdout",
     "output_type": "stream",
     "text": [
      "                                            geometry\n",
      "0  POLYGON ((15572190.811 4292466.785, 15572190.7... 1111\n",
      "                                            geometry\n",
      "0  POLYGON ((15572190.811 4292466.785, 15572190.7... 2222\n"
     ]
    },
    {
     "name": "stderr",
     "output_type": "stream",
     "text": [
      "/home/skymap/anaconda3/envs/farm/lib/python3.6/site-packages/pyproj/crs/crs.py:53: FutureWarning: '+init=<authority>:<code>' syntax is deprecated. '<authority>:<code>' is the preferred initialization method. When making the change, be mindful of axis order changes: https://pyproj4.github.io/pyproj/stable/gotchas.html#axis-order-changes-in-proj-6\n",
      "  return _prepare_from_string(\" \".join(pjargs))\n"
     ]
    },
    {
     "name": "stdout",
     "output_type": "stream",
     "text": [
      "53397722\n",
      "                                               geometry\n",
      "0     POLYGON ((15574448.384 4292726.525, 15574461.4...\n",
      "1     POLYGON ((15574449.288 4292714.001, 15574465.1...\n",
      "2     POLYGON ((15574456.559 4292697.099, 15574471.5...\n",
      "3     POLYGON ((15574464.986 4292675.108, 15574479.8...\n",
      "4     POLYGON ((15574477.700 4292641.643, 15574482.2...\n",
      "...                                                 ...\n",
      "1770  POLYGON ((15574642.854 4292573.651, 15574645.5...\n",
      "1771  POLYGON ((15574873.642 4292843.807, 15574884.3...\n",
      "1772  POLYGON ((15575305.083 4292562.132, 15575312.3...\n",
      "1773  POLYGON ((15574121.988 4292965.800, 15574123.8...\n",
      "1774  POLYGON ((15574200.392 4293185.775, 15574196.6...\n",
      "\n",
      "[1775 rows x 1 columns] 1111\n",
      "                                               geometry        area\n",
      "0     POLYGON ((15574448.384 4292726.525, 15574461.4...  146.086047\n",
      "1     POLYGON ((15574449.288 4292714.001, 15574465.1...  169.488204\n",
      "2     POLYGON ((15574456.559 4292697.099, 15574471.5...  188.703397\n",
      "3     POLYGON ((15574464.986 4292675.108, 15574479.8...  179.214868\n",
      "4     POLYGON ((15574477.700 4292641.643, 15574482.2...  181.662468\n",
      "...                                                 ...         ...\n",
      "1770  POLYGON ((15574642.854 4292573.651, 15574645.5...   65.677214\n",
      "1771  POLYGON ((15574873.642 4292843.807, 15574884.3...  296.952201\n",
      "1772  POLYGON ((15575305.083 4292562.132, 15575312.3...  290.414899\n",
      "1773  POLYGON ((15574121.988 4292965.800, 15574123.8...  136.115750\n",
      "1774  POLYGON ((15574200.392 4293185.775, 15574196.6...  118.764449\n",
      "\n",
      "[1762 rows x 2 columns] 2222\n"
     ]
    },
    {
     "name": "stderr",
     "output_type": "stream",
     "text": [
      "/home/skymap/anaconda3/envs/farm/lib/python3.6/site-packages/pyproj/crs/crs.py:53: FutureWarning: '+init=<authority>:<code>' syntax is deprecated. '<authority>:<code>' is the preferred initialization method. When making the change, be mindful of axis order changes: https://pyproj4.github.io/pyproj/stable/gotchas.html#axis-order-changes-in-proj-6\n",
      "  return _prepare_from_string(\" \".join(pjargs))\n"
     ]
    },
    {
     "name": "stdout",
     "output_type": "stream",
     "text": [
      "                                            geometry\n",
      "0  POLYGON ((15573930.031 4292466.843, 15573929.9... 1111\n",
      "                                            geometry\n",
      "0  POLYGON ((15573930.031 4292466.843, 15573929.9... 2222\n"
     ]
    },
    {
     "name": "stderr",
     "output_type": "stream",
     "text": [
      "/home/skymap/anaconda3/envs/farm/lib/python3.6/site-packages/pyproj/crs/crs.py:53: FutureWarning: '+init=<authority>:<code>' syntax is deprecated. '<authority>:<code>' is the preferred initialization method. When making the change, be mindful of axis order changes: https://pyproj4.github.io/pyproj/stable/gotchas.html#axis-order-changes-in-proj-6\n",
      "  return _prepare_from_string(\" \".join(pjargs))\n"
     ]
    },
    {
     "name": "stdout",
     "output_type": "stream",
     "text": [
      "['indo_sample2']\n",
      "indo_sample2\n",
      "                                               geometry\n",
      "0     POLYGON ((11283806.692 51939.047, 11283814.064...\n",
      "1     POLYGON ((11283850.010 51951.372, 11283859.686...\n",
      "2     POLYGON ((11283860.527 51985.789, 11283868.084...\n",
      "3     POLYGON ((11283882.469 52011.295, 11283895.740...\n",
      "4     POLYGON ((11283885.588 51969.730, 11283895.940...\n",
      "...                                                 ...\n",
      "3230  POLYGON ((11294018.698 49349.234, 11294029.551...\n",
      "3231  POLYGON ((11294007.947 49313.235, 11294030.338...\n",
      "3232  POLYGON ((11294036.393 49305.174, 11294056.158...\n",
      "3233  POLYGON ((11294035.823 49308.740, 11294037.653...\n",
      "3234  POLYGON ((11294353.488 49421.242, 11294383.419...\n",
      "\n",
      "[3235 rows x 1 columns] 1111\n",
      "                                               geometry        area\n",
      "0     POLYGON ((11283806.692 51939.047, 11283814.064...  417.591116\n",
      "1     POLYGON ((11283850.010 51951.372, 11283859.686...   75.874328\n",
      "2     POLYGON ((11283860.527 51985.789, 11283868.084...   55.336786\n",
      "3     POLYGON ((11283882.469 52011.295, 11283895.740...  342.639919\n",
      "4     POLYGON ((11283885.588 51969.730, 11283895.940...  329.376213\n",
      "...                                                 ...         ...\n",
      "3230  POLYGON ((11294018.698 49349.234, 11294029.551...  115.358004\n",
      "3231  POLYGON ((11294007.947 49313.235, 11294030.338...  175.909460\n",
      "3232  POLYGON ((11294036.393 49305.174, 11294056.158...  165.411698\n",
      "3233  POLYGON ((11294035.823 49308.740, 11294037.653...  202.552176\n",
      "3234  POLYGON ((11294353.488 49421.242, 11294383.419...  506.388241\n",
      "\n",
      "[3206 rows x 2 columns] 2222\n"
     ]
    },
    {
     "name": "stderr",
     "output_type": "stream",
     "text": [
      "/home/skymap/anaconda3/envs/farm/lib/python3.6/site-packages/pyproj/crs/crs.py:53: FutureWarning: '+init=<authority>:<code>' syntax is deprecated. '<authority>:<code>' is the preferred initialization method. When making the change, be mindful of axis order changes: https://pyproj4.github.io/pyproj/stable/gotchas.html#axis-order-changes-in-proj-6\n",
      "  return _prepare_from_string(\" \".join(pjargs))\n"
     ]
    },
    {
     "name": "stdout",
     "output_type": "stream",
     "text": [
      "                                             geometry\n",
      "0   POLYGON ((11293871.119 49003.615, 11293871.291...\n",
      "1   POLYGON ((11299025.864 51751.991, 11299025.864...\n",
      "2   POLYGON ((11299188.919 51255.266, 11299188.919...\n",
      "3   POLYGON ((11299878.278 52144.846, 11299878.278...\n",
      "4   POLYGON ((11292657.880 53495.784, 11293852.086...\n",
      "5   POLYGON ((11292657.880 53495.784, 11293852.086...\n",
      "6   POLYGON ((11293855.537 53492.332, 11294352.548...\n",
      "7   POLYGON ((11293855.537 53492.332, 11294352.548...\n",
      "8   POLYGON ((11290157.730 50175.922, 11289670.429...\n",
      "9   POLYGON ((11290157.730 50175.922, 11289670.429...\n",
      "10  POLYGON ((11290759.834 49351.515, 11290353.139...\n",
      "11  POLYGON ((11290759.834 49351.515, 11290353.139...\n",
      "12  POLYGON ((11284552.443 51120.283, 11284552.443...\n",
      "13  POLYGON ((11284233.096 51902.238, 11283400.656...\n",
      "14  POLYGON ((11284233.096 51902.238, 11283400.656...\n",
      "15  POLYGON ((11284716.017 51870.874, 11284891.858...\n",
      "16  POLYGON ((11284716.017 51870.874, 11284891.858...\n",
      "17  POLYGON ((11284268.180 51706.688, 11284268.180...\n",
      "18  POLYGON ((11284389.586 52188.364, 11284389.586...\n",
      "19  POLYGON ((11284507.030 51904.491, 11284507.030...\n",
      "20  POLYGON ((11283465.991 50740.415, 11283465.991... 1111\n",
      "                                             geometry\n",
      "0   POLYGON ((11293871.119 49003.615, 11293871.291...\n",
      "1   POLYGON ((11299025.864 51751.991, 11299025.864...\n",
      "2   POLYGON ((11299188.919 51255.266, 11299188.919...\n",
      "3   POLYGON ((11299878.278 52144.846, 11299878.278...\n",
      "4   POLYGON ((11292657.880 53495.784, 11293852.086...\n",
      "5   POLYGON ((11292657.880 53495.784, 11293852.086...\n",
      "6   POLYGON ((11293855.537 53492.332, 11294352.548...\n",
      "7   POLYGON ((11293855.537 53492.332, 11294352.548...\n",
      "8   POLYGON ((11290157.730 50175.922, 11289670.429...\n",
      "9   POLYGON ((11290157.730 50175.922, 11289670.429...\n",
      "10  POLYGON ((11290759.834 49351.515, 11290353.139...\n",
      "11  POLYGON ((11290759.834 49351.515, 11290353.139...\n",
      "12  POLYGON ((11284552.443 51120.283, 11284552.443...\n",
      "13  POLYGON ((11284233.096 51902.238, 11283400.656...\n",
      "14  POLYGON ((11284233.096 51902.238, 11283400.656...\n",
      "15  POLYGON ((11284716.017 51870.874, 11284891.858...\n",
      "16  POLYGON ((11284716.017 51870.874, 11284891.858...\n",
      "17  POLYGON ((11284268.180 51706.688, 11284268.180...\n",
      "18  POLYGON ((11284389.586 52188.364, 11284389.586...\n",
      "19  POLYGON ((11284507.030 51904.491, 11284507.030...\n",
      "20  POLYGON ((11283465.991 50740.415, 11283465.991... 2222\n"
     ]
    },
    {
     "name": "stderr",
     "output_type": "stream",
     "text": [
      "/home/skymap/anaconda3/envs/farm/lib/python3.6/site-packages/pyproj/crs/crs.py:53: FutureWarning: '+init=<authority>:<code>' syntax is deprecated. '<authority>:<code>' is the preferred initialization method. When making the change, be mindful of axis order changes: https://pyproj4.github.io/pyproj/stable/gotchas.html#axis-order-changes-in-proj-6\n",
      "  return _prepare_from_string(\" \".join(pjargs))\n"
     ]
    },
    {
     "name": "stdout",
     "output_type": "stream",
     "text": [
      "['vaisa1', 'varsaivira', 'varsaivira3', 'varsaivira4', 'varsaivira5', 'varsaivira6']\n",
      "vaisa1\n",
      "                                              geometry\n",
      "0    POLYGON ((8102962.770 2197117.097, 8102967.149...\n",
      "1    POLYGON ((8102953.817 2197121.775, 8102956.335...\n",
      "2    POLYGON ((8103709.800 2197226.505, 8103716.859...\n",
      "3    POLYGON ((8103714.723 2197475.084, 8103718.141...\n",
      "4    POLYGON ((8103714.227 2197604.811, 8103719.642...\n",
      "..                                                 ...\n",
      "716  POLYGON ((8102460.591 2197725.949, 8102463.683...\n",
      "717  POLYGON ((8102438.184 2197719.157, 8102448.833...\n",
      "718  POLYGON ((8102396.509 2197725.947, 8102410.076...\n",
      "719  POLYGON ((8102396.509 2197721.861, 8102400.341...\n",
      "720  POLYGON ((8102396.509 2197700.902, 8102406.798...\n",
      "\n",
      "[721 rows x 1 columns] 1111\n",
      "                                              geometry        area\n",
      "0    POLYGON ((8102962.770 2197117.097, 8102967.149...   16.820186\n",
      "1    POLYGON ((8102953.817 2197121.775, 8102956.335...   39.706186\n",
      "2    POLYGON ((8103709.800 2197226.505, 8103716.859...   27.511231\n",
      "3    POLYGON ((8103714.723 2197475.084, 8103718.141...   59.514423\n",
      "4    POLYGON ((8103714.227 2197604.811, 8103719.642...  131.149522\n",
      "..                                                 ...         ...\n",
      "716  POLYGON ((8102460.591 2197725.949, 8102463.683...  142.121581\n",
      "717  POLYGON ((8102438.184 2197719.157, 8102448.833...  129.900225\n",
      "718  POLYGON ((8102396.509 2197725.947, 8102410.076...   58.689195\n",
      "719  POLYGON ((8102396.509 2197721.861, 8102400.341...   16.629128\n",
      "720  POLYGON ((8102396.509 2197700.902, 8102406.798...  268.145552\n",
      "\n",
      "[720 rows x 2 columns] 2222\n"
     ]
    },
    {
     "name": "stderr",
     "output_type": "stream",
     "text": [
      "/home/skymap/anaconda3/envs/farm/lib/python3.6/site-packages/pyproj/crs/crs.py:53: FutureWarning: '+init=<authority>:<code>' syntax is deprecated. '<authority>:<code>' is the preferred initialization method. When making the change, be mindful of axis order changes: https://pyproj4.github.io/pyproj/stable/gotchas.html#axis-order-changes-in-proj-6\n",
      "  return _prepare_from_string(\" \".join(pjargs))\n"
     ]
    },
    {
     "name": "stdout",
     "output_type": "stream",
     "text": [
      "                                            geometry\n",
      "0  POLYGON ((8102396.509 2197016.217, 8102396.509... 1111\n",
      "                                            geometry\n",
      "0  POLYGON ((8102396.509 2197016.217, 8102396.509... 2222\n",
      "varsaivira\n"
     ]
    },
    {
     "name": "stderr",
     "output_type": "stream",
     "text": [
      "/home/skymap/anaconda3/envs/farm/lib/python3.6/site-packages/pyproj/crs/crs.py:53: FutureWarning: '+init=<authority>:<code>' syntax is deprecated. '<authority>:<code>' is the preferred initialization method. When making the change, be mindful of axis order changes: https://pyproj4.github.io/pyproj/stable/gotchas.html#axis-order-changes-in-proj-6\n",
      "  return _prepare_from_string(\" \".join(pjargs))\n"
     ]
    },
    {
     "name": "stdout",
     "output_type": "stream",
     "text": [
      "                                                geometry\n",
      "0      POLYGON ((8106766.352 2210777.216, 8106773.706...\n",
      "1      POLYGON ((8107371.350 2206372.514, 8107383.951...\n",
      "2      POLYGON ((8107368.163 2206379.895, 8107384.203...\n",
      "3      POLYGON ((8107410.484 2206377.192, 8107405.258...\n",
      "4      POLYGON ((8107411.706 2206375.085, 8107417.844...\n",
      "...                                                  ...\n",
      "31518  POLYGON ((8106052.269 2205281.782, 8106052.874...\n",
      "31519  POLYGON ((8105999.992 2205288.975, 8105997.944...\n",
      "31520  POLYGON ((8106036.530 2205324.122, 8106038.774...\n",
      "31521  POLYGON ((8106023.287 2205395.293, 8106026.816...\n",
      "31522  POLYGON ((8105996.878 2205394.772, 8105998.360...\n",
      "\n",
      "[31523 rows x 1 columns] 1111\n",
      "                                                geometry        area\n",
      "0      POLYGON ((8106766.352 2210777.216, 8106773.706...  155.433138\n",
      "1      POLYGON ((8107371.350 2206372.514, 8107383.951...   74.778508\n",
      "2      POLYGON ((8107368.163 2206379.895, 8107384.203...  104.401407\n",
      "3      POLYGON ((8107410.484 2206377.192, 8107405.258...  334.748957\n",
      "4      POLYGON ((8107411.706 2206375.085, 8107417.844...  147.976100\n",
      "...                                                  ...         ...\n",
      "31517  POLYGON ((8106019.159 2205238.685, 8106018.920...  724.126244\n",
      "31518  POLYGON ((8106052.269 2205281.782, 8106052.874...  428.008930\n",
      "31519  POLYGON ((8105999.992 2205288.975, 8105997.944...  586.613468\n",
      "31520  POLYGON ((8106036.530 2205324.122, 8106038.774...  490.241630\n",
      "31521  POLYGON ((8106023.287 2205395.293, 8106026.816...  375.310729\n",
      "\n",
      "[31102 rows x 2 columns] 2222\n"
     ]
    },
    {
     "name": "stderr",
     "output_type": "stream",
     "text": [
      "/home/skymap/anaconda3/envs/farm/lib/python3.6/site-packages/pyproj/crs/crs.py:53: FutureWarning: '+init=<authority>:<code>' syntax is deprecated. '<authority>:<code>' is the preferred initialization method. When making the change, be mindful of axis order changes: https://pyproj4.github.io/pyproj/stable/gotchas.html#axis-order-changes-in-proj-6\n",
      "  return _prepare_from_string(\" \".join(pjargs))\n"
     ]
    },
    {
     "name": "stdout",
     "output_type": "stream",
     "text": [
      "                                            geometry\n",
      "0  POLYGON ((8101652.741 2205120.931, 8101652.741... 1111\n",
      "                                            geometry\n",
      "0  POLYGON ((8101652.741 2205120.931, 8101652.741... 2222\n",
      "varsaivira3\n"
     ]
    },
    {
     "name": "stderr",
     "output_type": "stream",
     "text": [
      "/home/skymap/anaconda3/envs/farm/lib/python3.6/site-packages/pyproj/crs/crs.py:53: FutureWarning: '+init=<authority>:<code>' syntax is deprecated. '<authority>:<code>' is the preferred initialization method. When making the change, be mindful of axis order changes: https://pyproj4.github.io/pyproj/stable/gotchas.html#axis-order-changes-in-proj-6\n",
      "  return _prepare_from_string(\" \".join(pjargs))\n"
     ]
    },
    {
     "name": "stdout",
     "output_type": "stream",
     "text": [
      "                                               geometry\n",
      "0     POLYGON ((8107437.479 2198879.367, 8107458.855...\n",
      "1     POLYGON ((8107448.768 2198873.533, 8107466.664...\n",
      "2     POLYGON ((8107459.133 2198853.594, 8107467.328...\n",
      "3     POLYGON ((8107443.165 2198777.847, 8107422.821...\n",
      "4     POLYGON ((8107385.488 2198790.313, 8107397.334...\n",
      "...                                                 ...\n",
      "2845  POLYGON ((8107259.590 2199539.032, 8107271.543...\n",
      "2846  POLYGON ((8107266.551 2199554.476, 8107269.253...\n",
      "2847  POLYGON ((8107288.120 2199554.476, 8107289.492...\n",
      "2848  POLYGON ((8107299.088 2199554.475, 8107290.189...\n",
      "2849  POLYGON ((8107694.849 2199538.086, 8107691.322...\n",
      "\n",
      "[2850 rows x 1 columns] 1111\n",
      "                                               geometry        area\n",
      "0     POLYGON ((8107437.479 2198879.367, 8107458.855...  244.415622\n",
      "1     POLYGON ((8107448.768 2198873.533, 8107466.664...  202.190878\n",
      "2     POLYGON ((8107459.133 2198853.594, 8107467.328...  191.273565\n",
      "3     POLYGON ((8107443.165 2198777.847, 8107422.821...  754.205631\n",
      "5     POLYGON ((8107457.912 2198727.880, 8107464.164...  364.996674\n",
      "...                                                 ...         ...\n",
      "2845  POLYGON ((8107259.590 2199539.032, 8107271.543...   99.729336\n",
      "2846  POLYGON ((8107266.551 2199554.476, 8107269.253...  522.389627\n",
      "2847  POLYGON ((8107288.120 2199554.476, 8107289.492...  156.491710\n",
      "2848  POLYGON ((8107299.088 2199554.475, 8107290.189...   17.046246\n",
      "2849  POLYGON ((8107694.849 2199538.086, 8107691.322...   13.278845\n",
      "\n",
      "[2830 rows x 2 columns] 2222\n"
     ]
    },
    {
     "name": "stderr",
     "output_type": "stream",
     "text": [
      "/home/skymap/anaconda3/envs/farm/lib/python3.6/site-packages/pyproj/crs/crs.py:53: FutureWarning: '+init=<authority>:<code>' syntax is deprecated. '<authority>:<code>' is the preferred initialization method. When making the change, be mindful of axis order changes: https://pyproj4.github.io/pyproj/stable/gotchas.html#axis-order-changes-in-proj-6\n",
      "  return _prepare_from_string(\" \".join(pjargs))\n"
     ]
    },
    {
     "name": "stdout",
     "output_type": "stream",
     "text": [
      "                                            geometry\n",
      "0  POLYGON ((8106184.919 2198051.700, 8106184.919... 1111\n",
      "                                            geometry\n",
      "0  POLYGON ((8106184.919 2198051.700, 8106184.919... 2222\n",
      "varsaivira4\n"
     ]
    },
    {
     "name": "stderr",
     "output_type": "stream",
     "text": [
      "/home/skymap/anaconda3/envs/farm/lib/python3.6/site-packages/pyproj/crs/crs.py:53: FutureWarning: '+init=<authority>:<code>' syntax is deprecated. '<authority>:<code>' is the preferred initialization method. When making the change, be mindful of axis order changes: https://pyproj4.github.io/pyproj/stable/gotchas.html#axis-order-changes-in-proj-6\n",
      "  return _prepare_from_string(\" \".join(pjargs))\n"
     ]
    },
    {
     "name": "stdout",
     "output_type": "stream",
     "text": [
      "                                               geometry\n",
      "0     POLYGON ((8106531.538 2200159.647, 8106542.182...\n",
      "1     POLYGON ((8106793.020 2199726.108, 8106797.578...\n",
      "2     POLYGON ((8108009.529 2200062.995, 8108022.934...\n",
      "3     POLYGON ((8107222.130 2200001.510, 8107230.687...\n",
      "4     POLYGON ((8106684.886 2200104.543, 8106688.962...\n",
      "...                                                 ...\n",
      "2283  POLYGON ((8107353.891 2200898.117, 8107362.466...\n",
      "2284  POLYGON ((8107361.175 2200916.019, 8107369.917...\n",
      "2285  POLYGON ((8107360.248 2200921.495, 8107359.009...\n",
      "2286  POLYGON ((8107359.416 2200976.930, 8107366.682...\n",
      "2287  POLYGON ((8107323.033 2200976.930, 8107323.223...\n",
      "\n",
      "[2288 rows x 1 columns] 1111\n",
      "                                               geometry        area\n",
      "0     POLYGON ((8106531.538 2200159.647, 8106542.182...   40.410679\n",
      "1     POLYGON ((8106793.020 2199726.108, 8106797.578...   32.644509\n",
      "2     POLYGON ((8108009.529 2200062.995, 8108022.934...  307.462391\n",
      "3     POLYGON ((8107222.130 2200001.510, 8107230.687...  288.444719\n",
      "4     POLYGON ((8106684.886 2200104.543, 8106688.962...   26.271005\n",
      "...                                                 ...         ...\n",
      "2283  POLYGON ((8107353.891 2200898.117, 8107362.466...   94.407239\n",
      "2284  POLYGON ((8107361.175 2200916.019, 8107369.917...   34.837951\n",
      "2285  POLYGON ((8107360.248 2200921.495, 8107359.009...   35.221160\n",
      "2286  POLYGON ((8107359.416 2200976.930, 8107366.682...  860.608969\n",
      "2287  POLYGON ((8107323.033 2200976.930, 8107323.223...  115.627919\n",
      "\n",
      "[2208 rows x 2 columns] 2222\n"
     ]
    },
    {
     "name": "stderr",
     "output_type": "stream",
     "text": [
      "/home/skymap/anaconda3/envs/farm/lib/python3.6/site-packages/pyproj/crs/crs.py:53: FutureWarning: '+init=<authority>:<code>' syntax is deprecated. '<authority>:<code>' is the preferred initialization method. When making the change, be mindful of axis order changes: https://pyproj4.github.io/pyproj/stable/gotchas.html#axis-order-changes-in-proj-6\n",
      "  return _prepare_from_string(\" \".join(pjargs))\n"
     ]
    },
    {
     "name": "stdout",
     "output_type": "stream",
     "text": [
      "                                            geometry\n",
      "0  POLYGON ((8106484.695 2199584.024, 8106484.695... 1111\n",
      "                                            geometry\n",
      "0  POLYGON ((8106484.695 2199584.024, 8106484.695... 2222\n",
      "varsaivira5\n"
     ]
    },
    {
     "name": "stderr",
     "output_type": "stream",
     "text": [
      "/home/skymap/anaconda3/envs/farm/lib/python3.6/site-packages/pyproj/crs/crs.py:53: FutureWarning: '+init=<authority>:<code>' syntax is deprecated. '<authority>:<code>' is the preferred initialization method. When making the change, be mindful of axis order changes: https://pyproj4.github.io/pyproj/stable/gotchas.html#axis-order-changes-in-proj-6\n",
      "  return _prepare_from_string(\" \".join(pjargs))\n"
     ]
    },
    {
     "name": "stdout",
     "output_type": "stream",
     "text": [
      "                                               geometry\n",
      "0     POLYGON ((8105015.226 2194708.477, 8105035.474...\n",
      "1     POLYGON ((8104979.847 2194708.478, 8104975.969...\n",
      "2     POLYGON ((8104881.718 2194808.834, 8104884.502...\n",
      "3     POLYGON ((8104976.116 2195073.129, 8104981.089...\n",
      "4     POLYGON ((8105007.499 2195182.764, 8105010.178...\n",
      "...                                                 ...\n",
      "1282  POLYGON ((8104653.118 2195427.152, 8104663.535...\n",
      "1283  POLYGON ((8104652.811 2195454.042, 8104652.219...\n",
      "1284  POLYGON ((8104622.326 2195441.329, 8104640.137...\n",
      "1285  POLYGON ((8104638.438 2195454.042, 8104639.093...\n",
      "1286  POLYGON ((8104934.118 2195314.883, 8104942.276...\n",
      "\n",
      "[1287 rows x 1 columns] 1111\n",
      "                                               geometry        area\n",
      "0     POLYGON ((8105015.226 2194708.477, 8105035.474...   52.456419\n",
      "1     POLYGON ((8104979.847 2194708.478, 8104975.969...  351.022438\n",
      "2     POLYGON ((8104881.718 2194808.834, 8104884.502...   27.654014\n",
      "3     POLYGON ((8104976.116 2195073.129, 8104981.089...   37.996429\n",
      "4     POLYGON ((8105007.499 2195182.764, 8105010.178...  152.216924\n",
      "...                                                 ...         ...\n",
      "1281  POLYGON ((8104598.234 2195454.042, 8104587.272...   75.003729\n",
      "1282  POLYGON ((8104653.118 2195427.152, 8104663.535...  119.080784\n",
      "1283  POLYGON ((8104652.811 2195454.042, 8104652.219...    0.011044\n",
      "1284  POLYGON ((8104622.326 2195441.329, 8104640.137...  237.347628\n",
      "1285  POLYGON ((8104638.438 2195454.042, 8104639.093...  159.920185\n",
      "\n",
      "[1280 rows x 2 columns] 2222\n"
     ]
    },
    {
     "name": "stderr",
     "output_type": "stream",
     "text": [
      "/home/skymap/anaconda3/envs/farm/lib/python3.6/site-packages/pyproj/crs/crs.py:53: FutureWarning: '+init=<authority>:<code>' syntax is deprecated. '<authority>:<code>' is the preferred initialization method. When making the change, be mindful of axis order changes: https://pyproj4.github.io/pyproj/stable/gotchas.html#axis-order-changes-in-proj-6\n",
      "  return _prepare_from_string(\" \".join(pjargs))\n"
     ]
    },
    {
     "name": "stdout",
     "output_type": "stream",
     "text": [
      "                                            geometry\n",
      "0  POLYGON ((8104004.373 2194708.476, 8104004.373... 1111\n",
      "                                            geometry\n",
      "0  POLYGON ((8104004.373 2194708.476, 8104004.373... 2222\n"
     ]
    },
    {
     "name": "stderr",
     "output_type": "stream",
     "text": [
      "/home/skymap/anaconda3/envs/farm/lib/python3.6/site-packages/pyproj/crs/crs.py:53: FutureWarning: '+init=<authority>:<code>' syntax is deprecated. '<authority>:<code>' is the preferred initialization method. When making the change, be mindful of axis order changes: https://pyproj4.github.io/pyproj/stable/gotchas.html#axis-order-changes-in-proj-6\n",
      "  return _prepare_from_string(\" \".join(pjargs))\n"
     ]
    },
    {
     "name": "stdout",
     "output_type": "stream",
     "text": [
      "varsaivira6\n",
      "                                              geometry\n",
      "0    POLYGON ((8100753.525 2198938.165, 8100756.049...\n",
      "1    POLYGON ((8100955.398 2199123.621, 8100955.961...\n",
      "2    POLYGON ((8100974.258 2198968.994, 8100978.640...\n",
      "3    POLYGON ((8100652.182 2199023.009, 8100655.506...\n",
      "4    POLYGON ((8102124.014 2198723.656, 8102130.374...\n",
      "..                                                 ...\n",
      "477  POLYGON ((8101471.012 2198060.183, 8101480.124...\n",
      "478  POLYGON ((8101499.407 2198062.092, 8101512.333...\n",
      "479  POLYGON ((8101494.639 2198068.943, 8101508.943...\n",
      "480  POLYGON ((8101487.647 2198077.590, 8101506.294...\n",
      "481  POLYGON ((8101481.182 2198090.873, 8101501.737...\n",
      "\n",
      "[482 rows x 1 columns] 1111\n",
      "                                              geometry        area\n",
      "0    POLYGON ((8100753.525 2198938.165, 8100756.049...   13.781861\n",
      "1    POLYGON ((8100955.398 2199123.621, 8100955.961...   42.489341\n",
      "2    POLYGON ((8100974.258 2198968.994, 8100978.640...   73.998817\n",
      "3    POLYGON ((8100652.182 2199023.009, 8100655.506...   17.627156\n",
      "4    POLYGON ((8102124.014 2198723.656, 8102130.374...   36.263939\n",
      "..                                                 ...         ...\n",
      "477  POLYGON ((8101471.012 2198060.183, 8101480.124...  114.683595\n",
      "478  POLYGON ((8101499.407 2198062.092, 8101512.333...  153.605583\n",
      "479  POLYGON ((8101494.639 2198068.943, 8101508.943...  109.590834\n",
      "480  POLYGON ((8101487.647 2198077.590, 8101506.294...  163.600979\n",
      "481  POLYGON ((8101481.182 2198090.873, 8101501.737...  289.363756\n",
      "\n",
      "[482 rows x 2 columns] 2222\n"
     ]
    },
    {
     "name": "stderr",
     "output_type": "stream",
     "text": [
      "/home/skymap/anaconda3/envs/farm/lib/python3.6/site-packages/pyproj/crs/crs.py:53: FutureWarning: '+init=<authority>:<code>' syntax is deprecated. '<authority>:<code>' is the preferred initialization method. When making the change, be mindful of axis order changes: https://pyproj4.github.io/pyproj/stable/gotchas.html#axis-order-changes-in-proj-6\n",
      "  return _prepare_from_string(\" \".join(pjargs))\n"
     ]
    },
    {
     "name": "stdout",
     "output_type": "stream",
     "text": [
      "                                            geometry\n",
      "0  POLYGON ((8100616.661 2197998.254, 8100616.661... 1111\n",
      "                                            geometry\n",
      "0  POLYGON ((8100616.661 2197998.254, 8100616.661... 2222\n"
     ]
    },
    {
     "name": "stderr",
     "output_type": "stream",
     "text": [
      "/home/skymap/anaconda3/envs/farm/lib/python3.6/site-packages/pyproj/crs/crs.py:53: FutureWarning: '+init=<authority>:<code>' syntax is deprecated. '<authority>:<code>' is the preferred initialization method. When making the change, be mindful of axis order changes: https://pyproj4.github.io/pyproj/stable/gotchas.html#axis-order-changes-in-proj-6\n",
      "  return _prepare_from_string(\" \".join(pjargs))\n"
     ]
    },
    {
     "name": "stdout",
     "output_type": "stream",
     "text": [
      "['madrid']\n",
      "madrid\n",
      "                                               geometry\n",
      "0     POLYGON ((-405679.481 4929670.046, -405676.812...\n",
      "1     POLYGON ((-406305.954 4930008.558, -406300.430...\n",
      "2     POLYGON ((-406369.071 4929843.733, -406364.947...\n",
      "3     POLYGON ((-406209.862 4929881.332, -406208.658...\n",
      "4     POLYGON ((-406233.609 4930021.165, -406220.452...\n",
      "...                                                 ...\n",
      "6691  POLYGON ((-404124.141 4929322.923, -404067.392...\n",
      "6692  POLYGON ((-403804.949 4927191.772, -403796.112...\n",
      "6693  POLYGON ((-403856.750 4927163.372, -403832.593...\n",
      "6694  POLYGON ((-405498.040 4929748.785, -405471.509...\n",
      "6695  POLYGON ((-406234.861 4929595.698, -406204.371...\n",
      "\n",
      "[6696 rows x 1 columns] 1111\n",
      "                                               geometry        area\n",
      "0     POLYGON ((-405679.481 4929670.046, -405676.812...  255.632269\n",
      "1     POLYGON ((-406305.954 4930008.558, -406300.430...  396.340346\n",
      "2     POLYGON ((-406369.071 4929843.733, -406364.947...  332.081108\n",
      "3     POLYGON ((-406209.862 4929881.332, -406208.658...  442.989807\n",
      "4     POLYGON ((-406233.609 4930021.165, -406220.452...  378.136422\n",
      "...                                                 ...         ...\n",
      "6687  POLYGON ((-406050.657 4929008.157, -406016.301...  496.950923\n",
      "6690  POLYGON ((-404111.796 4929297.548, -404093.275...  867.864571\n",
      "6692  POLYGON ((-403804.949 4927191.772, -403796.112...  294.238365\n",
      "6693  POLYGON ((-403856.750 4927163.372, -403832.593...  270.492053\n",
      "6694  POLYGON ((-405498.040 4929748.785, -405471.509...  295.052669\n",
      "\n",
      "[5974 rows x 2 columns] 2222\n"
     ]
    },
    {
     "name": "stderr",
     "output_type": "stream",
     "text": [
      "/home/skymap/anaconda3/envs/farm/lib/python3.6/site-packages/pyproj/crs/crs.py:53: FutureWarning: '+init=<authority>:<code>' syntax is deprecated. '<authority>:<code>' is the preferred initialization method. When making the change, be mindful of axis order changes: https://pyproj4.github.io/pyproj/stable/gotchas.html#axis-order-changes-in-proj-6\n",
      "  return _prepare_from_string(\" \".join(pjargs))\n"
     ]
    },
    {
     "name": "stdout",
     "output_type": "stream",
     "text": [
      "                                             geometry\n",
      "0   POLYGON ((-407089.161 4930061.272, -406483.230...\n",
      "1   POLYGON ((-407089.161 4930061.272, -406483.230...\n",
      "2   POLYGON ((-405765.540 4929520.762, -404878.554...\n",
      "3   POLYGON ((-405765.540 4929520.762, -404878.554...\n",
      "4   POLYGON ((-404328.648 4929499.835, -403728.996...\n",
      "5   POLYGON ((-404328.648 4929499.835, -403728.996...\n",
      "6   POLYGON ((-404327.997 4928313.107, -403840.838...\n",
      "7   POLYGON ((-404327.997 4928313.107, -403840.838...\n",
      "8   POLYGON ((-404074.862 4927573.874, -403764.165...\n",
      "9   POLYGON ((-404074.862 4927573.874, -403764.165...\n",
      "10  POLYGON ((-406194.673 4927715.222, -405838.695...\n",
      "11  POLYGON ((-406194.673 4927715.222, -405838.695...\n",
      "12  POLYGON ((-407385.227 4927819.232, -406963.670...\n",
      "13  POLYGON ((-407385.227 4927819.232, -406963.670...\n",
      "14  POLYGON ((-405604.024 4927865.459, -405604.024...\n",
      "15  POLYGON ((-406320.126 4928375.328, -406320.126...\n",
      "16  POLYGON ((-405904.068 4929653.950, -405904.068... 1111\n",
      "                                             geometry\n",
      "0   POLYGON ((-407089.161 4930061.272, -406483.230...\n",
      "1   POLYGON ((-407089.161 4930061.272, -406483.230...\n",
      "2   POLYGON ((-405765.540 4929520.762, -404878.554...\n",
      "3   POLYGON ((-405765.540 4929520.762, -404878.554...\n",
      "4   POLYGON ((-404328.648 4929499.835, -403728.996...\n",
      "5   POLYGON ((-404328.648 4929499.835, -403728.996...\n",
      "6   POLYGON ((-404327.997 4928313.107, -403840.838...\n",
      "7   POLYGON ((-404327.997 4928313.107, -403840.838...\n",
      "8   POLYGON ((-404074.862 4927573.874, -403764.165...\n",
      "9   POLYGON ((-404074.862 4927573.874, -403764.165...\n",
      "10  POLYGON ((-406194.673 4927715.222, -405838.695...\n",
      "11  POLYGON ((-406194.673 4927715.222, -405838.695...\n",
      "12  POLYGON ((-407385.227 4927819.232, -406963.670...\n",
      "13  POLYGON ((-407385.227 4927819.232, -406963.670...\n",
      "14  POLYGON ((-405604.024 4927865.459, -405604.024...\n",
      "15  POLYGON ((-406320.126 4928375.328, -406320.126...\n",
      "16  POLYGON ((-405904.068 4929653.950, -405904.068... 2222\n"
     ]
    },
    {
     "name": "stderr",
     "output_type": "stream",
     "text": [
      "/home/skymap/anaconda3/envs/farm/lib/python3.6/site-packages/pyproj/crs/crs.py:53: FutureWarning: '+init=<authority>:<code>' syntax is deprecated. '<authority>:<code>' is the preferred initialization method. When making the change, be mindful of axis order changes: https://pyproj4.github.io/pyproj/stable/gotchas.html#axis-order-changes-in-proj-6\n",
      "  return _prepare_from_string(\" \".join(pjargs))\n"
     ]
    },
    {
     "name": "stdout",
     "output_type": "stream",
     "text": [
      "['YAS_Nort_exportedImage', 'khalifacity-2020']\n",
      "YAS_Nort_exportedImage\n",
      "                                              geometry\n",
      "0    POLYGON ((6077403.884 2814782.923, 6077409.196...\n",
      "1    POLYGON ((6077400.166 2814758.119, 6077398.897...\n",
      "2    POLYGON ((6077605.894 2814854.698, 6077628.503...\n",
      "3    POLYGON ((6077630.805 2814861.940, 6077624.768...\n",
      "4    POLYGON ((6077653.832 2814856.107, 6077644.747...\n",
      "..                                                 ...\n",
      "475  POLYGON ((6077833.352 2814969.165, 6077879.947...\n",
      "476  POLYGON ((6077787.432 2814934.769, 6077807.545...\n",
      "477  POLYGON ((6077783.907 2814955.648, 6077794.414...\n",
      "478  POLYGON ((6077340.757 2814827.938, 6077368.571...\n",
      "479  POLYGON ((6077890.504 2814789.654, 6077896.146...\n",
      "\n",
      "[480 rows x 1 columns] 1111\n",
      "                                              geometry        area\n",
      "0    POLYGON ((6077403.884 2814782.923, 6077409.196...  675.975235\n",
      "1    POLYGON ((6077400.166 2814758.119, 6077398.897...  611.541836\n",
      "2    POLYGON ((6077605.894 2814854.698, 6077628.503...  709.302945\n",
      "3    POLYGON ((6077630.805 2814861.940, 6077624.768...  533.916410\n",
      "4    POLYGON ((6077653.832 2814856.107, 6077644.747...  557.276035\n",
      "..                                                 ...         ...\n",
      "474  POLYGON ((6077817.178 2814973.618, 6077830.315...  174.502332\n",
      "475  POLYGON ((6077833.352 2814969.165, 6077879.947...  647.912518\n",
      "477  POLYGON ((6077783.907 2814955.648, 6077794.414...  135.750138\n",
      "478  POLYGON ((6077340.757 2814827.938, 6077368.571...  717.086828\n",
      "479  POLYGON ((6077890.504 2814789.654, 6077896.146...  600.817065\n",
      "\n",
      "[477 rows x 2 columns] 2222\n"
     ]
    },
    {
     "name": "stderr",
     "output_type": "stream",
     "text": [
      "/home/skymap/anaconda3/envs/farm/lib/python3.6/site-packages/pyproj/crs/crs.py:53: FutureWarning: '+init=<authority>:<code>' syntax is deprecated. '<authority>:<code>' is the preferred initialization method. When making the change, be mindful of axis order changes: https://pyproj4.github.io/pyproj/stable/gotchas.html#axis-order-changes-in-proj-6\n",
      "  return _prepare_from_string(\" \".join(pjargs))\n"
     ]
    },
    {
     "name": "stdout",
     "output_type": "stream",
     "text": [
      "                                            geometry\n",
      "0  POLYGON ((6077234.607 2814236.726, 6077246.647... 1111\n",
      "                                            geometry\n",
      "0  POLYGON ((6077234.607 2814236.726, 6077246.647... 2222\n"
     ]
    },
    {
     "name": "stderr",
     "output_type": "stream",
     "text": [
      "/home/skymap/anaconda3/envs/farm/lib/python3.6/site-packages/pyproj/crs/crs.py:53: FutureWarning: '+init=<authority>:<code>' syntax is deprecated. '<authority>:<code>' is the preferred initialization method. When making the change, be mindful of axis order changes: https://pyproj4.github.io/pyproj/stable/gotchas.html#axis-order-changes-in-proj-6\n",
      "  return _prepare_from_string(\" \".join(pjargs))\n"
     ]
    },
    {
     "name": "stdout",
     "output_type": "stream",
     "text": [
      "khalifacity-2020\n",
      "                                               geometry\n",
      "0     POLYGON ((6074484.470 2805052.355, 6074502.519...\n",
      "1     POLYGON ((6074477.286 2805069.713, 6074489.499...\n",
      "2     POLYGON ((6074479.552 2804997.497, 6074492.552...\n",
      "3     POLYGON ((6074492.552 2805001.858, 6074479.552...\n",
      "4     POLYGON ((6074512.936 2804998.999, 6074529.729...\n",
      "...                                                 ...\n",
      "1898  POLYGON ((6074445.616 2805185.150, 6074452.052...\n",
      "1899  POLYGON ((6074455.307 2805144.555, 6074469.406...\n",
      "1900  POLYGON ((6074469.406 2805148.480, 6074455.307...\n",
      "1901  POLYGON ((6074470.192 2805157.489, 6074482.494...\n",
      "1902  POLYGON ((6074479.351 2805141.315, 6074488.241...\n",
      "\n",
      "[1903 rows x 1 columns] 1111\n",
      "                                               geometry        area\n",
      "0     POLYGON ((6074484.470 2805052.355, 6074502.519...  661.307942\n",
      "1     POLYGON ((6074477.286 2805069.713, 6074489.499...  312.467770\n",
      "2     POLYGON ((6074479.552 2804997.497, 6074492.552...  288.620189\n",
      "3     POLYGON ((6074492.552 2805001.858, 6074479.552...  276.288659\n",
      "4     POLYGON ((6074512.936 2804998.999, 6074529.729...  137.575042\n",
      "...                                                 ...         ...\n",
      "1898  POLYGON ((6074445.616 2805185.150, 6074452.052...  440.663022\n",
      "1899  POLYGON ((6074455.307 2805144.555, 6074469.406...  271.415690\n",
      "1900  POLYGON ((6074469.406 2805148.480, 6074455.307...  311.951022\n",
      "1901  POLYGON ((6074470.192 2805157.489, 6074482.494...  107.942689\n",
      "1902  POLYGON ((6074479.351 2805141.315, 6074488.241...   41.775941\n",
      "\n",
      "[1710 rows x 2 columns] 2222\n"
     ]
    },
    {
     "name": "stderr",
     "output_type": "stream",
     "text": [
      "/home/skymap/anaconda3/envs/farm/lib/python3.6/site-packages/pyproj/crs/crs.py:53: FutureWarning: '+init=<authority>:<code>' syntax is deprecated. '<authority>:<code>' is the preferred initialization method. When making the change, be mindful of axis order changes: https://pyproj4.github.io/pyproj/stable/gotchas.html#axis-order-changes-in-proj-6\n",
      "  return _prepare_from_string(\" \".join(pjargs))\n"
     ]
    },
    {
     "name": "stdout",
     "output_type": "stream",
     "text": [
      "                                            geometry\n",
      "0  POLYGON ((6072613.128 2804826.439, 6072613.128...\n",
      "1  POLYGON ((6076545.516 2804913.843, 6076544.367... 1111\n",
      "                                            geometry\n",
      "0  POLYGON ((6072613.128 2804826.439, 6072613.128...\n",
      "1  POLYGON ((6076545.516 2804913.843, 6076544.367... 2222\n"
     ]
    },
    {
     "name": "stderr",
     "output_type": "stream",
     "text": [
      "/home/skymap/anaconda3/envs/farm/lib/python3.6/site-packages/pyproj/crs/crs.py:53: FutureWarning: '+init=<authority>:<code>' syntax is deprecated. '<authority>:<code>' is the preferred initialization method. When making the change, be mindful of axis order changes: https://pyproj4.github.io/pyproj/stable/gotchas.html#axis-order-changes-in-proj-6\n",
      "  return _prepare_from_string(\" \".join(pjargs))\n"
     ]
    },
    {
     "name": "stdout",
     "output_type": "stream",
     "text": [
      "['POC_AOI_Here_VN_Final_Image_10CM']\n",
      "POC_AOI_Here_VN_Final_Image_10CM\n",
      "                                               geometry\n",
      "0     POLYGON ((11772674.922 2388431.181, 11772676.1...\n",
      "1     POLYGON ((11772662.948 2388436.367, 11772675.3...\n",
      "2     POLYGON ((11772666.957 2388423.287, 11772663.5...\n",
      "3     POLYGON ((11772671.188 2388420.724, 11772679.3...\n",
      "4     POLYGON ((11772677.537 2388413.194, 11772681.5...\n",
      "...                                                 ...\n",
      "4098  POLYGON ((11773275.831 2388086.262, 11773283.7...\n",
      "4099  POLYGON ((11773099.693 2388050.681, 11773110.5...\n",
      "4100  POLYGON ((11773219.981 2387724.873, 11773223.4...\n",
      "4101  POLYGON ((11773216.049 2387717.823, 11773220.6...\n",
      "4102  POLYGON ((11773231.893 2387724.751, 11773235.3...\n",
      "\n",
      "[4103 rows x 1 columns] 1111\n",
      "                                               geometry        area\n",
      "0     POLYGON ((11772674.922 2388431.181, 11772676.1...  180.347468\n",
      "1     POLYGON ((11772662.948 2388436.367, 11772675.3...  173.965662\n",
      "2     POLYGON ((11772666.957 2388423.287, 11772663.5...  116.762017\n",
      "3     POLYGON ((11772671.188 2388420.724, 11772679.3...   99.084802\n",
      "4     POLYGON ((11772677.537 2388413.194, 11772681.5...  106.341493\n",
      "...                                                 ...         ...\n",
      "4098  POLYGON ((11773275.831 2388086.262, 11773283.7...   23.161772\n",
      "4099  POLYGON ((11773099.693 2388050.681, 11773110.5...   25.269225\n",
      "4100  POLYGON ((11773219.981 2387724.873, 11773223.4...   31.104470\n",
      "4101  POLYGON ((11773216.049 2387717.823, 11773220.6...   23.339482\n",
      "4102  POLYGON ((11773231.893 2387724.751, 11773235.3...   32.077466\n",
      "\n",
      "[4097 rows x 2 columns] 2222\n"
     ]
    },
    {
     "name": "stderr",
     "output_type": "stream",
     "text": [
      "/home/skymap/anaconda3/envs/farm/lib/python3.6/site-packages/pyproj/crs/crs.py:53: FutureWarning: '+init=<authority>:<code>' syntax is deprecated. '<authority>:<code>' is the preferred initialization method. When making the change, be mindful of axis order changes: https://pyproj4.github.io/pyproj/stable/gotchas.html#axis-order-changes-in-proj-6\n",
      "  return _prepare_from_string(\" \".join(pjargs))\n"
     ]
    },
    {
     "name": "stdout",
     "output_type": "stream",
     "text": [
      "                                            geometry\n",
      "0  POLYGON ((11773229.492 2388154.914, 11773914.4... 1111\n",
      "                                            geometry\n",
      "0  POLYGON ((11773229.492 2388154.914, 11773914.4... 2222\n"
     ]
    },
    {
     "name": "stderr",
     "output_type": "stream",
     "text": [
      "/home/skymap/anaconda3/envs/farm/lib/python3.6/site-packages/pyproj/crs/crs.py:53: FutureWarning: '+init=<authority>:<code>' syntax is deprecated. '<authority>:<code>' is the preferred initialization method. When making the change, be mindful of axis order changes: https://pyproj4.github.io/pyproj/stable/gotchas.html#axis-order-changes-in-proj-6\n",
      "  return _prepare_from_string(\" \".join(pjargs))\n"
     ]
    },
    {
     "name": "stdout",
     "output_type": "stream",
     "text": [
      "['Cape_Town_Image']\n",
      "Cape_Town_Image\n",
      "                                               geometry\n",
      "0     POLYGON ((2049405.329 -4018100.311, 2049390.41...\n",
      "1     POLYGON ((2049417.705 -4018100.881, 2049424.86...\n",
      "2     POLYGON ((2049464.657 -4018083.203, 2049471.80...\n",
      "3     POLYGON ((2049445.910 -4018063.656, 2049446.49...\n",
      "4     POLYGON ((2049473.064 -4017993.928, 2049498.60...\n",
      "...                                                 ...\n",
      "3357  POLYGON ((2050665.561 -4019802.738, 2050597.18...\n",
      "3358  POLYGON ((2050708.511 -4019823.244, 2050689.89...\n",
      "3359  POLYGON ((2050724.050 -4019846.666, 2050717.64...\n",
      "3360  POLYGON ((2050781.848 -4019851.301, 2050766.17...\n",
      "3361  POLYGON ((2050717.640 -4019865.185, 2050724.05...\n",
      "\n",
      "[3362 rows x 1 columns] 1111\n",
      "                                               geometry        area\n",
      "1     POLYGON ((2049417.705 -4018100.881, 2049424.86...  226.302639\n",
      "2     POLYGON ((2049464.657 -4018083.203, 2049471.80...  232.133859\n",
      "3     POLYGON ((2049445.910 -4018063.656, 2049446.49...  769.531167\n",
      "4     POLYGON ((2049473.064 -4017993.928, 2049498.60...  412.114718\n",
      "5     POLYGON ((2049487.424 -4018004.660, 2049513.52...  383.018904\n",
      "...                                                 ...         ...\n",
      "3351  POLYGON ((2051308.319 -4019323.409, 2051307.72...   38.768455\n",
      "3355  POLYGON ((2050448.402 -4019655.837, 2050448.00...  760.062461\n",
      "3358  POLYGON ((2050708.511 -4019823.244, 2050689.89...  268.015663\n",
      "3359  POLYGON ((2050724.050 -4019846.666, 2050717.64...  376.237205\n",
      "3360  POLYGON ((2050781.848 -4019851.301, 2050766.17...  369.754632\n",
      "\n",
      "[2877 rows x 2 columns] 2222\n"
     ]
    },
    {
     "name": "stderr",
     "output_type": "stream",
     "text": [
      "/home/skymap/anaconda3/envs/farm/lib/python3.6/site-packages/pyproj/crs/crs.py:53: FutureWarning: '+init=<authority>:<code>' syntax is deprecated. '<authority>:<code>' is the preferred initialization method. When making the change, be mindful of axis order changes: https://pyproj4.github.io/pyproj/stable/gotchas.html#axis-order-changes-in-proj-6\n",
      "  return _prepare_from_string(\" \".join(pjargs))\n"
     ]
    },
    {
     "name": "stdout",
     "output_type": "stream",
     "text": [
      "                                            geometry\n",
      "0  POLYGON ((2049277.886 -4020656.700, 2049357.34... 1111\n",
      "                                            geometry\n",
      "0  POLYGON ((2049277.886 -4020656.700, 2049357.34... 2222\n"
     ]
    },
    {
     "name": "stderr",
     "output_type": "stream",
     "text": [
      "/home/skymap/anaconda3/envs/farm/lib/python3.6/site-packages/pyproj/crs/crs.py:53: FutureWarning: '+init=<authority>:<code>' syntax is deprecated. '<authority>:<code>' is the preferred initialization method. When making the change, be mindful of axis order changes: https://pyproj4.github.io/pyproj/stable/gotchas.html#axis-order-changes-in-proj-6\n",
      "  return _prepare_from_string(\" \".join(pjargs))\n"
     ]
    },
    {
     "name": "stdout",
     "output_type": "stream",
     "text": [
      "['jupem2']\n",
      "jupem2\n",
      "                                              geometry\n",
      "0    POLYGON ((11290467.181 503289.993, 11290483.10...\n",
      "1    POLYGON ((11290489.640 503279.233, 11290505.22...\n",
      "2    POLYGON ((11290503.384 503320.592, 11290512.76...\n",
      "3    POLYGON ((11290590.286 503264.185, 11290595.73...\n",
      "4    POLYGON ((11290599.672 503252.942, 11290611.90...\n",
      "..                                                 ...\n",
      "435  POLYGON ((11288631.022 502091.336, 11288638.65...\n",
      "436  POLYGON ((11288696.721 501844.056, 11288708.53...\n",
      "437  POLYGON ((11288705.582 501850.487, 11288706.08...\n",
      "438  POLYGON ((11289456.057 501897.771, 11289463.83...\n",
      "439  POLYGON ((11289459.467 501891.845, 11289466.09...\n",
      "\n",
      "[440 rows x 1 columns] 1111\n",
      "                                              geometry        area\n",
      "0    POLYGON ((11290467.181 503289.993, 11290483.10...  449.085283\n",
      "1    POLYGON ((11290489.640 503279.233, 11290505.22...  352.896959\n",
      "2    POLYGON ((11290503.384 503320.592, 11290512.76...  172.327399\n",
      "3    POLYGON ((11290590.286 503264.185, 11290595.73...  188.349540\n",
      "4    POLYGON ((11290599.672 503252.942, 11290611.90...  819.329421\n",
      "..                                                 ...         ...\n",
      "435  POLYGON ((11288631.022 502091.336, 11288638.65...   61.788555\n",
      "436  POLYGON ((11288696.721 501844.056, 11288708.53...   88.636464\n",
      "437  POLYGON ((11288705.582 501850.487, 11288706.08...   65.346433\n",
      "438  POLYGON ((11289456.057 501897.771, 11289463.83...   53.780101\n",
      "439  POLYGON ((11289459.467 501891.845, 11289466.09...   36.520492\n",
      "\n",
      "[434 rows x 2 columns] 2222\n"
     ]
    },
    {
     "name": "stderr",
     "output_type": "stream",
     "text": [
      "/home/skymap/anaconda3/envs/farm/lib/python3.6/site-packages/pyproj/crs/crs.py:53: FutureWarning: '+init=<authority>:<code>' syntax is deprecated. '<authority>:<code>' is the preferred initialization method. When making the change, be mindful of axis order changes: https://pyproj4.github.io/pyproj/stable/gotchas.html#axis-order-changes-in-proj-6\n",
      "  return _prepare_from_string(\" \".join(pjargs))\n"
     ]
    },
    {
     "name": "stdout",
     "output_type": "stream",
     "text": [
      "                                            geometry\n",
      "0  POLYGON ((11290133.572 502236.293, 11290133.57...\n",
      "1  POLYGON ((11288935.797 501691.698, 11288935.79...\n",
      "2  POLYGON ((11288294.402 502050.539, 11288294.40... 1111\n",
      "                                            geometry\n",
      "0  POLYGON ((11290133.572 502236.293, 11290133.57...\n",
      "1  POLYGON ((11288935.797 501691.698, 11288935.79...\n",
      "2  POLYGON ((11288294.402 502050.539, 11288294.40... 2222\n"
     ]
    },
    {
     "name": "stderr",
     "output_type": "stream",
     "text": [
      "/home/skymap/anaconda3/envs/farm/lib/python3.6/site-packages/pyproj/crs/crs.py:53: FutureWarning: '+init=<authority>:<code>' syntax is deprecated. '<authority>:<code>' is the preferred initialization method. When making the change, be mindful of axis order changes: https://pyproj4.github.io/pyproj/stable/gotchas.html#axis-order-changes-in-proj-6\n",
      "  return _prepare_from_string(\" \".join(pjargs))\n"
     ]
    },
    {
     "name": "stdout",
     "output_type": "stream",
     "text": [
      "['jupem_dg']\n",
      "jupem_dg\n",
      "                                               geometry\n",
      "0     POLYGON ((11102630.494 702193.486, 11102632.14...\n",
      "1     POLYGON ((11102632.747 702202.873, 11102633.98...\n",
      "2     POLYGON ((11102597.563 702197.278, 11102603.42...\n",
      "3     POLYGON ((11102605.861 702212.486, 11102611.49...\n",
      "4     POLYGON ((11102594.784 702224.164, 11102599.25...\n",
      "...                                                 ...\n",
      "1116  POLYGON ((11102408.056 702569.859, 11102416.09...\n",
      "1117  POLYGON ((11102400.944 702570.357, 11102405.54...\n",
      "1118  POLYGON ((11102523.783 702599.287, 11102526.75...\n",
      "1119  POLYGON ((11102520.292 702840.623, 11102523.30...\n",
      "1120  POLYGON ((11101569.184 702930.133, 11101571.61...\n",
      "\n",
      "[1121 rows x 1 columns] 1111\n",
      "                                               geometry        area\n",
      "0     POLYGON ((11102630.494 702193.486, 11102632.14...  127.492614\n",
      "1     POLYGON ((11102632.747 702202.873, 11102633.98...  232.111735\n",
      "2     POLYGON ((11102597.563 702197.278, 11102603.42...  247.473055\n",
      "3     POLYGON ((11102605.861 702212.486, 11102611.49...  222.906223\n",
      "4     POLYGON ((11102594.784 702224.164, 11102599.25...  129.692124\n",
      "...                                                 ...         ...\n",
      "1116  POLYGON ((11102408.056 702569.859, 11102416.09...  173.694600\n",
      "1117  POLYGON ((11102400.944 702570.357, 11102405.54...   38.425245\n",
      "1118  POLYGON ((11102523.783 702599.287, 11102526.75...   81.874981\n",
      "1119  POLYGON ((11102520.292 702840.623, 11102523.30...   27.537054\n",
      "1120  POLYGON ((11101569.184 702930.133, 11101571.61...   35.019021\n",
      "\n",
      "[1109 rows x 2 columns] 2222\n"
     ]
    },
    {
     "name": "stderr",
     "output_type": "stream",
     "text": [
      "/home/skymap/anaconda3/envs/farm/lib/python3.6/site-packages/pyproj/crs/crs.py:53: FutureWarning: '+init=<authority>:<code>' syntax is deprecated. '<authority>:<code>' is the preferred initialization method. When making the change, be mindful of axis order changes: https://pyproj4.github.io/pyproj/stable/gotchas.html#axis-order-changes-in-proj-6\n",
      "  return _prepare_from_string(\" \".join(pjargs))\n"
     ]
    },
    {
     "name": "stdout",
     "output_type": "stream",
     "text": [
      "                                            geometry\n",
      "0  POLYGON ((11100373.426 702196.616, 11100374.99... 1111\n",
      "                                            geometry\n",
      "0  POLYGON ((11100373.426 702196.616, 11100374.99... 2222\n"
     ]
    },
    {
     "name": "stderr",
     "output_type": "stream",
     "text": [
      "/home/skymap/anaconda3/envs/farm/lib/python3.6/site-packages/pyproj/crs/crs.py:53: FutureWarning: '+init=<authority>:<code>' syntax is deprecated. '<authority>:<code>' is the preferred initialization method. When making the change, be mindful of axis order changes: https://pyproj4.github.io/pyproj/stable/gotchas.html#axis-order-changes-in-proj-6\n",
      "  return _prepare_from_string(\" \".join(pjargs))\n"
     ]
    },
    {
     "name": "stdout",
     "output_type": "stream",
     "text": [
      "['jupem_uav']\n",
      "jupem_uav\n",
      "                                               geometry\n",
      "0     POLYGON ((11894934.965 -734956.548, 11894950.7...\n",
      "1     POLYGON ((11894868.818 -734833.602, 11894880.1...\n",
      "2     POLYGON ((11894867.664 -734865.315, 11894869.8...\n",
      "3     POLYGON ((11894934.211 -734790.385, 11894941.5...\n",
      "4     POLYGON ((11894940.943 -734778.839, 11894948.0...\n",
      "...                                                 ...\n",
      "1126  POLYGON ((11896130.824 -735149.390, 11896133.8...\n",
      "1127  POLYGON ((11896130.385 -735145.014, 11896137.4...\n",
      "1128  POLYGON ((11896125.817 -735145.304, 11896129.7...\n",
      "1129  POLYGON ((11896124.529 -735135.633, 11896131.3...\n",
      "1130  POLYGON ((11895556.027 -734856.064, 11895561.1...\n",
      "\n",
      "[1131 rows x 1 columns] 1111\n",
      "                                               geometry        area\n",
      "0     POLYGON ((11894934.965 -734956.548, 11894950.7...  232.630242\n",
      "1     POLYGON ((11894868.818 -734833.602, 11894880.1...   93.195532\n",
      "2     POLYGON ((11894867.664 -734865.315, 11894869.8...    8.936628\n",
      "3     POLYGON ((11894934.211 -734790.385, 11894941.5...   48.503271\n",
      "4     POLYGON ((11894940.943 -734778.839, 11894948.0...   88.278965\n",
      "...                                                 ...         ...\n",
      "1126  POLYGON ((11896130.824 -735149.390, 11896133.8...   28.865674\n",
      "1127  POLYGON ((11896130.385 -735145.014, 11896137.4...   48.434968\n",
      "1128  POLYGON ((11896125.817 -735145.304, 11896129.7...   24.815298\n",
      "1129  POLYGON ((11896124.529 -735135.633, 11896131.3...   97.725989\n",
      "1130  POLYGON ((11895556.027 -734856.064, 11895561.1...  131.652402\n",
      "\n",
      "[1130 rows x 2 columns] 2222\n"
     ]
    },
    {
     "name": "stderr",
     "output_type": "stream",
     "text": [
      "/home/skymap/anaconda3/envs/farm/lib/python3.6/site-packages/pyproj/crs/crs.py:53: FutureWarning: '+init=<authority>:<code>' syntax is deprecated. '<authority>:<code>' is the preferred initialization method. When making the change, be mindful of axis order changes: https://pyproj4.github.io/pyproj/stable/gotchas.html#axis-order-changes-in-proj-6\n",
      "  return _prepare_from_string(\" \".join(pjargs))\n"
     ]
    },
    {
     "name": "stdout",
     "output_type": "stream",
     "text": [
      "                                            geometry\n",
      "0  POLYGON ((11894849.949 -735384.753, 11894847.4... 1111\n",
      "                                            geometry\n",
      "0  POLYGON ((11894849.949 -735384.753, 11894847.4... 2222\n"
     ]
    },
    {
     "name": "stderr",
     "output_type": "stream",
     "text": [
      "/home/skymap/anaconda3/envs/farm/lib/python3.6/site-packages/pyproj/crs/crs.py:53: FutureWarning: '+init=<authority>:<code>' syntax is deprecated. '<authority>:<code>' is the preferred initialization method. When making the change, be mindful of axis order changes: https://pyproj4.github.io/pyproj/stable/gotchas.html#axis-order-changes-in-proj-6\n",
      "  return _prepare_from_string(\" \".join(pjargs))\n"
     ]
    },
    {
     "name": "stdout",
     "output_type": "stream",
     "text": [
      "['10300100A86F9700-visual', '10300100BB7A5700-visual', '1030010084311900-visual', '10300100B0A32C00-visual']\n",
      "10300100A86F9700-visual\n",
      "                                               geometry\n",
      "0     POLYGON ((4321241.548 995834.016, 4321239.606 ...\n",
      "1     POLYGON ((4321238.898 995809.120, 4321238.993 ...\n",
      "2     POLYGON ((4321249.232 995881.940, 4321248.801 ...\n",
      "3     POLYGON ((4321294.419 995890.904, 4321289.295 ...\n",
      "4     POLYGON ((4321303.272 995891.656, 4321318.563 ...\n",
      "...                                                 ...\n",
      "4030  POLYGON ((4322225.364 991494.885, 4322227.555 ...\n",
      "4031  POLYGON ((4322242.010 991471.077, 4322245.236 ...\n",
      "4032  POLYGON ((4322393.305 991694.421, 4322397.014 ...\n",
      "4033  POLYGON ((4322367.961 991691.977, 4322373.217 ...\n",
      "4034  POLYGON ((4322337.515 991661.416, 4322342.811 ...\n",
      "\n",
      "[4035 rows x 1 columns] 1111\n",
      "                                               geometry        area\n",
      "0     POLYGON ((4321241.548 995834.016, 4321239.606 ...  301.338194\n",
      "1     POLYGON ((4321238.898 995809.120, 4321238.993 ...  327.576308\n",
      "2     POLYGON ((4321249.232 995881.940, 4321248.801 ...  340.588500\n",
      "3     POLYGON ((4321294.419 995890.904, 4321289.295 ...  443.745423\n",
      "4     POLYGON ((4321303.272 995891.656, 4321318.563 ...  471.383889\n",
      "...                                                 ...         ...\n",
      "4030  POLYGON ((4322225.364 991494.885, 4322227.555 ...   24.907323\n",
      "4031  POLYGON ((4322242.010 991471.077, 4322245.236 ...   11.479856\n",
      "4032  POLYGON ((4322393.305 991694.421, 4322397.014 ...   30.874130\n",
      "4033  POLYGON ((4322367.961 991691.977, 4322373.217 ...   49.341186\n",
      "4034  POLYGON ((4322337.515 991661.416, 4322342.811 ...   75.521380\n",
      "\n",
      "[4009 rows x 2 columns] 2222\n"
     ]
    },
    {
     "name": "stderr",
     "output_type": "stream",
     "text": [
      "/home/skymap/anaconda3/envs/farm/lib/python3.6/site-packages/pyproj/crs/crs.py:53: FutureWarning: '+init=<authority>:<code>' syntax is deprecated. '<authority>:<code>' is the preferred initialization method. When making the change, be mindful of axis order changes: https://pyproj4.github.io/pyproj/stable/gotchas.html#axis-order-changes-in-proj-6\n",
      "  return _prepare_from_string(\" \".join(pjargs))\n"
     ]
    },
    {
     "name": "stdout",
     "output_type": "stream",
     "text": [
      "                                            geometry\n",
      "0  POLYGON ((4321058.482 990709.108, 4321057.732 ...\n",
      "1  POLYGON ((4321113.872 993639.769, 4321112.768 ...\n",
      "2  POLYGON ((4321909.905 992692.556, 4321909.601 ... 1111\n",
      "                                            geometry\n",
      "0  POLYGON ((4321058.482 990709.108, 4321057.732 ...\n",
      "1  POLYGON ((4321113.872 993639.769, 4321112.768 ...\n",
      "2  POLYGON ((4321909.905 992692.556, 4321909.601 ... 2222\n"
     ]
    },
    {
     "name": "stderr",
     "output_type": "stream",
     "text": [
      "/home/skymap/anaconda3/envs/farm/lib/python3.6/site-packages/pyproj/crs/crs.py:53: FutureWarning: '+init=<authority>:<code>' syntax is deprecated. '<authority>:<code>' is the preferred initialization method. When making the change, be mindful of axis order changes: https://pyproj4.github.io/pyproj/stable/gotchas.html#axis-order-changes-in-proj-6\n",
      "  return _prepare_from_string(\" \".join(pjargs))\n"
     ]
    },
    {
     "name": "stdout",
     "output_type": "stream",
     "text": [
      "10300100BB7A5700-visual\n",
      "                                               geometry\n",
      "0     POLYGON ((4318432.632 1000766.764, 4318447.019...\n",
      "1     POLYGON ((4318301.669 1000823.071, 4318306.736...\n",
      "2     POLYGON ((4318399.218 1000644.359, 4318405.485...\n",
      "3     POLYGON ((4318406.685 1000641.401, 4318420.308...\n",
      "4     POLYGON ((4318403.803 1000631.034, 4318415.192...\n",
      "...                                                 ...\n",
      "2613  POLYGON ((4320054.214 997210.232, 4320060.086 ...\n",
      "2614  POLYGON ((4320050.016 997283.800, 4320055.752 ...\n",
      "2615  POLYGON ((4320109.836 997286.095, 4320119.274 ...\n",
      "2616  POLYGON ((4319909.041 997222.380, 4319918.153 ...\n",
      "2617  POLYGON ((4319474.290 996659.511, 4319473.389 ...\n",
      "\n",
      "[2618 rows x 1 columns] 1111\n",
      "                                               geometry        area\n",
      "0     POLYGON ((4318432.632 1000766.764, 4318447.019...  182.468104\n",
      "1     POLYGON ((4318301.669 1000823.071, 4318306.736...   67.575533\n",
      "2     POLYGON ((4318399.218 1000644.359, 4318405.485...   71.545323\n",
      "3     POLYGON ((4318406.685 1000641.401, 4318420.308...  129.207621\n",
      "4     POLYGON ((4318403.803 1000631.034, 4318415.192...   96.020755\n",
      "...                                                 ...         ...\n",
      "2613  POLYGON ((4320054.214 997210.232, 4320060.086 ...   33.617898\n",
      "2614  POLYGON ((4320050.016 997283.800, 4320055.752 ...   34.186641\n",
      "2615  POLYGON ((4320109.836 997286.095, 4320119.274 ...   39.822805\n",
      "2616  POLYGON ((4319909.041 997222.380, 4319918.153 ...   99.974606\n",
      "2617  POLYGON ((4319474.290 996659.511, 4319473.389 ...  515.480885\n",
      "\n",
      "[2550 rows x 2 columns] 2222\n"
     ]
    },
    {
     "name": "stderr",
     "output_type": "stream",
     "text": [
      "/home/skymap/anaconda3/envs/farm/lib/python3.6/site-packages/pyproj/crs/crs.py:53: FutureWarning: '+init=<authority>:<code>' syntax is deprecated. '<authority>:<code>' is the preferred initialization method. When making the change, be mindful of axis order changes: https://pyproj4.github.io/pyproj/stable/gotchas.html#axis-order-changes-in-proj-6\n",
      "  return _prepare_from_string(\" \".join(pjargs))\n"
     ]
    },
    {
     "name": "stdout",
     "output_type": "stream",
     "text": [
      "                                            geometry\n",
      "0  POLYGON ((4315997.139 1000004.783, 4315996.719...\n",
      "1  POLYGON ((4316049.254 997180.544, 4316048.804 ...\n",
      "2  POLYGON ((4319316.729 996660.895, 4319316.273 ...\n",
      "3  POLYGON ((4317483.342 999951.805, 4317482.839 ... 1111\n",
      "                                            geometry\n",
      "0  POLYGON ((4315997.139 1000004.783, 4315996.719...\n",
      "1  POLYGON ((4316049.254 997180.544, 4316048.804 ...\n",
      "2  POLYGON ((4319316.729 996660.895, 4319316.273 ...\n",
      "3  POLYGON ((4317483.342 999951.805, 4317482.839 ... 2222\n"
     ]
    },
    {
     "name": "stderr",
     "output_type": "stream",
     "text": [
      "/home/skymap/anaconda3/envs/farm/lib/python3.6/site-packages/pyproj/crs/crs.py:53: FutureWarning: '+init=<authority>:<code>' syntax is deprecated. '<authority>:<code>' is the preferred initialization method. When making the change, be mindful of axis order changes: https://pyproj4.github.io/pyproj/stable/gotchas.html#axis-order-changes-in-proj-6\n",
      "  return _prepare_from_string(\" \".join(pjargs))\n"
     ]
    },
    {
     "name": "stdout",
     "output_type": "stream",
     "text": [
      "1030010084311900-visual\n",
      "                                               geometry\n",
      "0     POLYGON ((12809833.075 -4024000.308, 12809838....\n",
      "1     POLYGON ((12809847.251 -4024011.059, 12809873....\n",
      "2     POLYGON ((12809856.280 -4023999.264, 12809851....\n",
      "3     POLYGON ((12809860.933 -4024012.591, 12809852....\n",
      "4     POLYGON ((12809837.939 -4024008.841, 12809842....\n",
      "...                                                 ...\n",
      "1116  POLYGON ((12811487.758 -4028719.132, 12811496....\n",
      "1117  POLYGON ((12807811.063 -4028037.860, 12807821....\n",
      "1118  POLYGON ((12807789.555 -4028031.425, 12807798....\n",
      "1119  POLYGON ((12810976.563 -4024921.969, 12810980....\n",
      "1120  POLYGON ((12810596.609 -4024707.937, 12810602....\n",
      "\n",
      "[1121 rows x 1 columns] 1111\n",
      "                                               geometry        area\n",
      "0     POLYGON ((12809833.075 -4024000.308, 12809838....   58.695188\n",
      "1     POLYGON ((12809847.251 -4024011.059, 12809873....  311.035767\n",
      "2     POLYGON ((12809856.280 -4023999.264, 12809851....   32.452447\n",
      "3     POLYGON ((12809860.933 -4024012.591, 12809852....  425.504904\n",
      "4     POLYGON ((12809837.939 -4024008.841, 12809842....   25.357680\n",
      "...                                                 ...         ...\n",
      "1116  POLYGON ((12811487.758 -4028719.132, 12811496....   72.074064\n",
      "1117  POLYGON ((12807811.063 -4028037.860, 12807821....   89.641695\n",
      "1118  POLYGON ((12807789.555 -4028031.425, 12807798....   82.056363\n",
      "1119  POLYGON ((12810976.563 -4024921.969, 12810980....   23.675476\n",
      "1120  POLYGON ((12810596.609 -4024707.937, 12810602....   46.402283\n",
      "\n",
      "[1086 rows x 2 columns] 2222\n"
     ]
    },
    {
     "name": "stderr",
     "output_type": "stream",
     "text": [
      "/home/skymap/anaconda3/envs/farm/lib/python3.6/site-packages/pyproj/crs/crs.py:53: FutureWarning: '+init=<authority>:<code>' syntax is deprecated. '<authority>:<code>' is the preferred initialization method. When making the change, be mindful of axis order changes: https://pyproj4.github.io/pyproj/stable/gotchas.html#axis-order-changes-in-proj-6\n",
      "  return _prepare_from_string(\" \".join(pjargs))\n"
     ]
    },
    {
     "name": "stdout",
     "output_type": "stream",
     "text": [
      "                                            geometry\n",
      "0  POLYGON ((12807199.773 -4030357.307, 12807321.... 1111\n",
      "                                            geometry\n",
      "0  POLYGON ((12807199.773 -4030357.307, 12807321.... 2222\n"
     ]
    },
    {
     "name": "stderr",
     "output_type": "stream",
     "text": [
      "/home/skymap/anaconda3/envs/farm/lib/python3.6/site-packages/pyproj/crs/crs.py:53: FutureWarning: '+init=<authority>:<code>' syntax is deprecated. '<authority>:<code>' is the preferred initialization method. When making the change, be mindful of axis order changes: https://pyproj4.github.io/pyproj/stable/gotchas.html#axis-order-changes-in-proj-6\n",
      "  return _prepare_from_string(\" \".join(pjargs))\n"
     ]
    },
    {
     "name": "stdout",
     "output_type": "stream",
     "text": [
      "10300100B0A32C00-visual\n",
      "                                              geometry\n",
      "0    POLYGON ((4804638.652 4340541.252, 4804680.161...\n",
      "1    POLYGON ((4804650.299 4340525.881, 4804690.512...\n",
      "2    POLYGON ((4804696.944 4340529.947, 4804710.057...\n",
      "3    POLYGON ((4804700.909 4340521.721, 4804709.787...\n",
      "4    POLYGON ((4804715.961 4340508.796, 4804729.019...\n",
      "..                                                 ...\n",
      "328  POLYGON ((4798938.778 4342512.154, 4798952.598...\n",
      "329  POLYGON ((4798929.901 4342521.092, 4798944.677...\n",
      "330  POLYGON ((4798921.419 4342529.631, 4798935.949...\n",
      "331  POLYGON ((4798935.949 4342543.099, 4798921.419...\n",
      "332  POLYGON ((4798998.178 4342313.819, 4799005.934...\n",
      "\n",
      "[333 rows x 1 columns] 1111\n",
      "                                              geometry        area\n",
      "0    POLYGON ((4804638.652 4340541.252, 4804680.161...  687.635498\n",
      "1    POLYGON ((4804650.299 4340525.881, 4804690.512...  715.790623\n",
      "2    POLYGON ((4804696.944 4340529.947, 4804710.057...  419.535481\n",
      "3    POLYGON ((4804700.909 4340521.721, 4804709.787...  331.651471\n",
      "4    POLYGON ((4804715.961 4340508.796, 4804729.019...  256.233393\n",
      "..                                                 ...         ...\n",
      "328  POLYGON ((4798938.778 4342512.154, 4798952.598...  514.680651\n",
      "329  POLYGON ((4798929.901 4342521.092, 4798944.677...  237.471400\n",
      "330  POLYGON ((4798921.419 4342529.631, 4798935.949...  240.984658\n",
      "331  POLYGON ((4798935.949 4342543.099, 4798921.419...  208.351237\n",
      "332  POLYGON ((4798998.178 4342313.819, 4799005.934...  181.597929\n",
      "\n",
      "[324 rows x 2 columns] 2222\n"
     ]
    },
    {
     "name": "stderr",
     "output_type": "stream",
     "text": [
      "/home/skymap/anaconda3/envs/farm/lib/python3.6/site-packages/pyproj/crs/crs.py:53: FutureWarning: '+init=<authority>:<code>' syntax is deprecated. '<authority>:<code>' is the preferred initialization method. When making the change, be mindful of axis order changes: https://pyproj4.github.io/pyproj/stable/gotchas.html#axis-order-changes-in-proj-6\n",
      "  return _prepare_from_string(\" \".join(pjargs))\n"
     ]
    },
    {
     "name": "stdout",
     "output_type": "stream",
     "text": [
      "                                            geometry\n",
      "0  POLYGON ((4798758.052 4343238.352, 4798752.496...\n",
      "1  POLYGON ((4799101.316 4342741.356, 4799095.848...\n",
      "2  POLYGON ((4798712.228 4342283.727, 4798705.829...\n",
      "3  POLYGON ((4803626.939 4339819.902, 4803618.970...\n",
      "4  POLYGON ((4804292.097 4340159.518, 4804283.715... 1111\n",
      "                                            geometry\n",
      "0  POLYGON ((4798758.052 4343238.352, 4798752.496...\n",
      "1  POLYGON ((4799101.316 4342741.356, 4799095.848...\n",
      "2  POLYGON ((4798712.228 4342283.727, 4798705.829...\n",
      "3  POLYGON ((4803626.939 4339819.902, 4803618.970...\n",
      "4  POLYGON ((4804292.097 4340159.518, 4804283.715... 2222\n"
     ]
    },
    {
     "name": "stderr",
     "output_type": "stream",
     "text": [
      "/home/skymap/anaconda3/envs/farm/lib/python3.6/site-packages/pyproj/crs/crs.py:53: FutureWarning: '+init=<authority>:<code>' syntax is deprecated. '<authority>:<code>' is the preferred initialization method. When making the change, be mindful of axis order changes: https://pyproj4.github.io/pyproj/stable/gotchas.html#axis-order-changes-in-proj-6\n",
      "  return _prepare_from_string(\" \".join(pjargs))\n"
     ]
    }
   ],
   "source": [
    "for dir_name in list_dir:\n",
    "# dir_name = \"Maxar\"\n",
    "    img_dir = os.path.join(input_dir,dir_name,\"image\")\n",
    "    shape_dir = os.path.join(input_dir,dir_name,\"shape\")\n",
    "    box_dir = os.path.join(input_dir,dir_name,\"box\")\n",
    "    box_out_dir, label_out_dir = main_std(img_dir,box_dir,shape_dir,output_dir)\n",
    "    img_cut_dir = main_cut_img(img_dir,box_out_dir,output_dir)"
   ]
  },
  {
   "cell_type": "code",
   "execution_count": 17,
   "metadata": {},
   "outputs": [
    {
     "name": "stdout",
     "output_type": "stream",
     "text": [
      "EPSG:32638EPSG:32638EPSG:32637EPSG:26910\n",
      "\n",
      "\n",
      "\n",
      "EPSG:32750\n",
      "EPSG:26910\n",
      "EPSG:32637\n",
      "EPSG:32638\n",
      "EPSG:26910\n",
      "EPSG:26910\n",
      "EPSG:26910\n",
      "EPSG:32637\n",
      "EPSG:32637\n",
      "EPSG:32638\n",
      "EPSG:26910\n",
      "EPSG:26910\n",
      "EPSG:26910\n",
      "EPSG:32637\n",
      "EPSG:32637\n",
      "EPSG:26910\n",
      "EPSG:32638\n",
      "EPSG:32637\n",
      "EPSG:26910\n",
      "EPSG:4326\n",
      "EPSG:4301\n",
      "EPSG:4301\n",
      "PROJCS[\"unnamed\",GEOGCS[\"GDA94\",DATUM[\"Geocentric_Datum_of_Australia_1994\",SPHEROID[\"GRS 1980\",6378137,298.257222101004,AUTHORITY[\"EPSG\",\"7019\"]],AUTHORITY[\"EPSG\",\"6283\"]],PRIMEM[\"Greenwich\",0],UNIT[\"degree\",0.0174532925199433,AUTHORITY[\"EPSG\",\"9122\"]],AUTHORITY[\"EPSG\",\"4283\"]],PROJECTION[\"Transverse_Mercator\"],PARAMETER[\"latitude_of_origin\",0],PARAMETER[\"central_meridian\",153],PARAMETER[\"scale_factor\",0.9996],PARAMETER[\"false_easting\",500000],PARAMETER[\"false_northing\",10000000],UNIT[\"metre\",1,AUTHORITY[\"EPSG\",\"9001\"]],AXIS[\"Easting\",EAST],AXIS[\"Northing\",NORTH]]\n",
      "EPSG:32647\n",
      "EPSG:32647\n",
      "EPSG:32647\n",
      "EPSG:4301\n",
      "EPSG:4301\n",
      "EPSG:32647\n",
      "EPSG:32647\n",
      "EPSG:32647\n",
      "EPSG:32647\n",
      "EPSG:4301\n",
      "EPSG:4301\n",
      "EPSG:32647\n",
      "EPSG:32647\n",
      "EPSG:32647\n",
      "EPSG:32647\n",
      "EPSG:32734\n",
      "EPSG:4301\n",
      "EPSG:32647\n",
      "EPSG:32647\n",
      "EPSG:32647\n",
      "EPSG:32647\n",
      "EPSG:32647\n",
      "EPSG:32647\n",
      "EPSG:4326\n",
      "EPSG:32630\n",
      "EPSG:32630\n",
      "EPSG:32630\n",
      "EPSG:32647\n",
      "EPSG:32647\n",
      "EPSG:32647\n",
      "EPSG:32630\n",
      "EPSG:32630\n",
      "EPSG:32630\n",
      "EPSG:4326\n",
      "EPSG:32748\n",
      "EPSG:32647\n",
      "EPSG:32630\n",
      "EPSG:32630\n",
      "EPSG:32630\n",
      "EPSG:4326\n",
      "EPSG:32647\n",
      "EPSG:32630\n",
      "EPSG:32630\n",
      "EPSG:32630\n",
      "EPSG:4326\n",
      "EPSG:32630\n",
      "PROJCS[\"unnamed\",GEOGCS[\"GDA94\",DATUM[\"Geocentric_Datum_of_Australia_1994\",SPHEROID[\"GRS 1980\",6378137,298.257222101004,AUTHORITY[\"EPSG\",\"7019\"]],AUTHORITY[\"EPSG\",\"6283\"]],PRIMEM[\"Greenwich\",0],UNIT[\"degree\",0.0174532925199433,AUTHORITY[\"EPSG\",\"9122\"]],AUTHORITY[\"EPSG\",\"4283\"]],PROJECTION[\"Transverse_Mercator\"],PARAMETER[\"latitude_of_origin\",0],PARAMETER[\"central_meridian\",141],PARAMETER[\"scale_factor\",0.9996],PARAMETER[\"false_easting\",500000],PARAMETER[\"false_northing\",10000000],UNIT[\"metre\",1,AUTHORITY[\"EPSG\",\"9001\"]],AXIS[\"Easting\",EAST],AXIS[\"Northing\",NORTH]]\n",
      "EPSG:3857\n",
      "EPSG:3857\n",
      "EPSG:4326\n",
      "EPSG:32630\n",
      "EPSG:32650\n",
      "EPSG:3857\n",
      "EPSG:4326\n",
      "EPSG:4326\n",
      "EPSG:32630\n",
      "EPSG:32648\n",
      "EPSG:3857\n",
      "EPSG:32630\n",
      "EPSG:4326\n",
      "EPSG:32630\n",
      "EPSG:3857\n",
      "EPSG:3857\n",
      "EPSG:32640\n"
     ]
    }
   ],
   "source": [
    "img_cut_mask_dir = main_build_mask(img_cut_dir,label_out_dir)"
   ]
  },
  {
   "cell_type": "code",
   "execution_count": 18,
   "metadata": {
    "scrolled": true
   },
   "outputs": [
    {
     "name": "stdout",
     "output_type": "stream",
     "text": [
      "['1030010084311900-visual_0', '10300100A86F9700-visual_0', '10300100A86F9700-visual_1', '10300100A86F9700-visual_2', '10300100B0A32C00-visual_0', '10300100B0A32C00-visual_1', '10300100B0A32C00-visual_2', '10300100B0A32C00-visual_3', '10300100B0A32C00-visual_4', '10300100BB7A5700-visual_0', '10300100BB7A5700-visual_1', '10300100BB7A5700-visual_2', '10300100BB7A5700-visual_3', '10seg775355_0', '10seg775370_0', '10seg775385_0', '10seg775400_0', '10seg790340_0', '10seg790355_0', '10seg790370_0', '10seg790385_0', '10seg805325_0', '10seg805340_0', '3IN_sample_0', '53392514_0', '53392515_0', '53394620_0', '53394622_0', '53397720_0', '53397721_0', '53397722_0', 'Cape_Town_Image_0', 'Capricorn_Wide_Bay_2017_20cm_Mosaic_0', 'indo_sample2_0', 'indo_sample2_1', 'indo_sample2_10', 'indo_sample2_11', 'indo_sample2_12', 'indo_sample2_13', 'indo_sample2_14', 'indo_sample2_15', 'indo_sample2_16', 'indo_sample2_17', 'indo_sample2_18', 'indo_sample2_19', 'indo_sample2_2', 'indo_sample2_20', 'indo_sample2_3', 'indo_sample2_4', 'indo_sample2_5', 'indo_sample2_6', 'indo_sample2_7', 'indo_sample2_8', 'indo_sample2_9', 'jupem2_0', 'jupem2_1', 'jupem2_2', 'jupem_dg_0', 'jupem_uav_0', 'khalifacity-2020_1', 'madrid_0', 'madrid_1', 'madrid_10', 'madrid_11', 'madrid_12', 'madrid_13', 'madrid_14', 'madrid_15', 'madrid_16', 'madrid_3', 'madrid_4', 'madrid_5', 'madrid_6', 'madrid_7', 'madrid_8', 'madrid_9', 'Mt_Isa_2017_10cm_Mosaic_0', 'NUNUKAN_0', 'POC_AOI_Here_VN_Final_Image_10CM_0', 'vaisa1_0', 'varsaivira3_0', 'varsaivira4_0', 'varsaivira5_0', 'varsaivira6_0', 'varsaivira_0', 'Visalia_15t1_2018_NAD83_2_4_4326_1', 'Visalia_15t1_2018_NAD83_3_4_4326_0', 'YAS_Nort_exportedImage_0', 'AerialPhoto_provo_1_1_s_0', 'khalifacity-2020_0', 'madrid_2']\n",
      "17408 17408\n"
     ]
    },
    {
     "name": "stderr",
     "output_type": "stream",
     "text": [
      "/home/skymap/anaconda3/envs/farm/lib/python3.6/site-packages/pyproj/crs/crs.py:294: FutureWarning: '+init=<authority>:<code>' syntax is deprecated. '<authority>:<code>' is the preferred initialization method. When making the change, be mindful of axis order changes: https://pyproj4.github.io/pyproj/stable/gotchas.html#axis-order-changes-in-proj-6\n",
      "  projstring = _prepare_from_string(\" \".join((projstring, projkwargs)))\n",
      "/home/skymap/anaconda3/envs/farm/lib/python3.6/site-packages/pyproj/crs/crs.py:53: FutureWarning: '+init=<authority>:<code>' syntax is deprecated. '<authority>:<code>' is the preferred initialization method. When making the change, be mindful of axis order changes: https://pyproj4.github.io/pyproj/stable/gotchas.html#axis-order-changes-in-proj-6\n",
      "  return _prepare_from_string(\" \".join(pjargs))\n",
      "/home/skymap/anaconda3/envs/farm/lib/python3.6/site-packages/pyproj/crs/crs.py:294: FutureWarning: '+init=<authority>:<code>' syntax is deprecated. '<authority>:<code>' is the preferred initialization method. When making the change, be mindful of axis order changes: https://pyproj4.github.io/pyproj/stable/gotchas.html#axis-order-changes-in-proj-6\n",
      "  projstring = _prepare_from_string(\" \".join((projstring, projkwargs)))\n",
      "/home/skymap/anaconda3/envs/farm/lib/python3.6/site-packages/pyproj/crs/crs.py:53: FutureWarning: '+init=<authority>:<code>' syntax is deprecated. '<authority>:<code>' is the preferred initialization method. When making the change, be mindful of axis order changes: https://pyproj4.github.io/pyproj/stable/gotchas.html#axis-order-changes-in-proj-6\n",
      "  return _prepare_from_string(\" \".join(pjargs))\n",
      "/home/skymap/anaconda3/envs/farm/lib/python3.6/site-packages/pyproj/crs/crs.py:294: FutureWarning: '+init=<authority>:<code>' syntax is deprecated. '<authority>:<code>' is the preferred initialization method. When making the change, be mindful of axis order changes: https://pyproj4.github.io/pyproj/stable/gotchas.html#axis-order-changes-in-proj-6\n",
      "  projstring = _prepare_from_string(\" \".join((projstring, projkwargs)))\n",
      "/home/skymap/anaconda3/envs/farm/lib/python3.6/site-packages/pyproj/crs/crs.py:53: FutureWarning: '+init=<authority>:<code>' syntax is deprecated. '<authority>:<code>' is the preferred initialization method. When making the change, be mindful of axis order changes: https://pyproj4.github.io/pyproj/stable/gotchas.html#axis-order-changes-in-proj-6\n",
      "  return _prepare_from_string(\" \".join(pjargs))\n",
      "/home/skymap/anaconda3/envs/farm/lib/python3.6/site-packages/pyproj/crs/crs.py:294: FutureWarning: '+init=<authority>:<code>' syntax is deprecated. '<authority>:<code>' is the preferred initialization method. When making the change, be mindful of axis order changes: https://pyproj4.github.io/pyproj/stable/gotchas.html#axis-order-changes-in-proj-6\n",
      "  projstring = _prepare_from_string(\" \".join((projstring, projkwargs)))\n"
     ]
    },
    {
     "name": "stdout",
     "output_type": "stream",
     "text": [
      "1030010084311900-visual_0 0.3051757812500384\n",
      "500\n"
     ]
    },
    {
     "name": "stderr",
     "output_type": "stream",
     "text": [
      "100%|██████████| 500/500 [01:22<00:00,  6.04it/s]\n",
      "/home/skymap/anaconda3/envs/farm/lib/python3.6/site-packages/pyproj/crs/crs.py:53: FutureWarning: '+init=<authority>:<code>' syntax is deprecated. '<authority>:<code>' is the preferred initialization method. When making the change, be mindful of axis order changes: https://pyproj4.github.io/pyproj/stable/gotchas.html#axis-order-changes-in-proj-6\n",
      "  return _prepare_from_string(\" \".join(pjargs))\n",
      "/home/skymap/anaconda3/envs/farm/lib/python3.6/site-packages/pyproj/crs/crs.py:294: FutureWarning: '+init=<authority>:<code>' syntax is deprecated. '<authority>:<code>' is the preferred initialization method. When making the change, be mindful of axis order changes: https://pyproj4.github.io/pyproj/stable/gotchas.html#axis-order-changes-in-proj-6\n",
      "  projstring = _prepare_from_string(\" \".join((projstring, projkwargs)))\n",
      "/home/skymap/anaconda3/envs/farm/lib/python3.6/site-packages/pyproj/crs/crs.py:53: FutureWarning: '+init=<authority>:<code>' syntax is deprecated. '<authority>:<code>' is the preferred initialization method. When making the change, be mindful of axis order changes: https://pyproj4.github.io/pyproj/stable/gotchas.html#axis-order-changes-in-proj-6\n",
      "  return _prepare_from_string(\" \".join(pjargs))\n",
      "/home/skymap/anaconda3/envs/farm/lib/python3.6/site-packages/pyproj/crs/crs.py:294: FutureWarning: '+init=<authority>:<code>' syntax is deprecated. '<authority>:<code>' is the preferred initialization method. When making the change, be mindful of axis order changes: https://pyproj4.github.io/pyproj/stable/gotchas.html#axis-order-changes-in-proj-6\n",
      "  projstring = _prepare_from_string(\" \".join((projstring, projkwargs)))\n"
     ]
    },
    {
     "name": "stdout",
     "output_type": "stream",
     "text": [
      "4739 4893\n"
     ]
    },
    {
     "name": "stderr",
     "output_type": "stream",
     "text": [
      "/home/skymap/anaconda3/envs/farm/lib/python3.6/site-packages/pyproj/crs/crs.py:53: FutureWarning: '+init=<authority>:<code>' syntax is deprecated. '<authority>:<code>' is the preferred initialization method. When making the change, be mindful of axis order changes: https://pyproj4.github.io/pyproj/stable/gotchas.html#axis-order-changes-in-proj-6\n",
      "  return _prepare_from_string(\" \".join(pjargs))\n",
      "/home/skymap/anaconda3/envs/farm/lib/python3.6/site-packages/pyproj/crs/crs.py:294: FutureWarning: '+init=<authority>:<code>' syntax is deprecated. '<authority>:<code>' is the preferred initialization method. When making the change, be mindful of axis order changes: https://pyproj4.github.io/pyproj/stable/gotchas.html#axis-order-changes-in-proj-6\n",
      "  projstring = _prepare_from_string(\" \".join((projstring, projkwargs)))\n",
      "/home/skymap/anaconda3/envs/farm/lib/python3.6/site-packages/pyproj/crs/crs.py:53: FutureWarning: '+init=<authority>:<code>' syntax is deprecated. '<authority>:<code>' is the preferred initialization method. When making the change, be mindful of axis order changes: https://pyproj4.github.io/pyproj/stable/gotchas.html#axis-order-changes-in-proj-6\n",
      "  return _prepare_from_string(\" \".join(pjargs))\n",
      "/home/skymap/anaconda3/envs/farm/lib/python3.6/site-packages/pyproj/crs/crs.py:294: FutureWarning: '+init=<authority>:<code>' syntax is deprecated. '<authority>:<code>' is the preferred initialization method. When making the change, be mindful of axis order changes: https://pyproj4.github.io/pyproj/stable/gotchas.html#axis-order-changes-in-proj-6\n",
      "  projstring = _prepare_from_string(\" \".join((projstring, projkwargs)))\n"
     ]
    },
    {
     "name": "stdout",
     "output_type": "stream",
     "text": [
      "10300100A86F9700-visual_0 0.3051757812500733\n",
      "500\n"
     ]
    },
    {
     "name": "stderr",
     "output_type": "stream",
     "text": [
      "100%|██████████| 500/500 [00:17<00:00, 28.95it/s]\n",
      "/home/skymap/anaconda3/envs/farm/lib/python3.6/site-packages/pyproj/crs/crs.py:53: FutureWarning: '+init=<authority>:<code>' syntax is deprecated. '<authority>:<code>' is the preferred initialization method. When making the change, be mindful of axis order changes: https://pyproj4.github.io/pyproj/stable/gotchas.html#axis-order-changes-in-proj-6\n",
      "  return _prepare_from_string(\" \".join(pjargs))\n",
      "/home/skymap/anaconda3/envs/farm/lib/python3.6/site-packages/pyproj/crs/crs.py:294: FutureWarning: '+init=<authority>:<code>' syntax is deprecated. '<authority>:<code>' is the preferred initialization method. When making the change, be mindful of axis order changes: https://pyproj4.github.io/pyproj/stable/gotchas.html#axis-order-changes-in-proj-6\n",
      "  projstring = _prepare_from_string(\" \".join((projstring, projkwargs)))\n",
      "/home/skymap/anaconda3/envs/farm/lib/python3.6/site-packages/pyproj/crs/crs.py:53: FutureWarning: '+init=<authority>:<code>' syntax is deprecated. '<authority>:<code>' is the preferred initialization method. When making the change, be mindful of axis order changes: https://pyproj4.github.io/pyproj/stable/gotchas.html#axis-order-changes-in-proj-6\n",
      "  return _prepare_from_string(\" \".join(pjargs))\n",
      "/home/skymap/anaconda3/envs/farm/lib/python3.6/site-packages/pyproj/crs/crs.py:294: FutureWarning: '+init=<authority>:<code>' syntax is deprecated. '<authority>:<code>' is the preferred initialization method. When making the change, be mindful of axis order changes: https://pyproj4.github.io/pyproj/stable/gotchas.html#axis-order-changes-in-proj-6\n",
      "  projstring = _prepare_from_string(\" \".join((projstring, projkwargs)))\n"
     ]
    },
    {
     "name": "stdout",
     "output_type": "stream",
     "text": [
      "8483 7239\n"
     ]
    },
    {
     "name": "stderr",
     "output_type": "stream",
     "text": [
      "/home/skymap/anaconda3/envs/farm/lib/python3.6/site-packages/pyproj/crs/crs.py:53: FutureWarning: '+init=<authority>:<code>' syntax is deprecated. '<authority>:<code>' is the preferred initialization method. When making the change, be mindful of axis order changes: https://pyproj4.github.io/pyproj/stable/gotchas.html#axis-order-changes-in-proj-6\n",
      "  return _prepare_from_string(\" \".join(pjargs))\n",
      "/home/skymap/anaconda3/envs/farm/lib/python3.6/site-packages/pyproj/crs/crs.py:294: FutureWarning: '+init=<authority>:<code>' syntax is deprecated. '<authority>:<code>' is the preferred initialization method. When making the change, be mindful of axis order changes: https://pyproj4.github.io/pyproj/stable/gotchas.html#axis-order-changes-in-proj-6\n",
      "  projstring = _prepare_from_string(\" \".join((projstring, projkwargs)))\n",
      "/home/skymap/anaconda3/envs/farm/lib/python3.6/site-packages/pyproj/crs/crs.py:53: FutureWarning: '+init=<authority>:<code>' syntax is deprecated. '<authority>:<code>' is the preferred initialization method. When making the change, be mindful of axis order changes: https://pyproj4.github.io/pyproj/stable/gotchas.html#axis-order-changes-in-proj-6\n",
      "  return _prepare_from_string(\" \".join(pjargs))\n",
      "/home/skymap/anaconda3/envs/farm/lib/python3.6/site-packages/pyproj/crs/crs.py:294: FutureWarning: '+init=<authority>:<code>' syntax is deprecated. '<authority>:<code>' is the preferred initialization method. When making the change, be mindful of axis order changes: https://pyproj4.github.io/pyproj/stable/gotchas.html#axis-order-changes-in-proj-6\n",
      "  projstring = _prepare_from_string(\" \".join((projstring, projkwargs)))\n"
     ]
    },
    {
     "name": "stdout",
     "output_type": "stream",
     "text": [
      "10300100A86F9700-visual_1 0.30517578125002753\n",
      "500\n"
     ]
    },
    {
     "name": "stderr",
     "output_type": "stream",
     "text": [
      "100%|██████████| 500/500 [00:24<00:00, 20.14it/s]\n",
      "/home/skymap/anaconda3/envs/farm/lib/python3.6/site-packages/pyproj/crs/crs.py:53: FutureWarning: '+init=<authority>:<code>' syntax is deprecated. '<authority>:<code>' is the preferred initialization method. When making the change, be mindful of axis order changes: https://pyproj4.github.io/pyproj/stable/gotchas.html#axis-order-changes-in-proj-6\n",
      "  return _prepare_from_string(\" \".join(pjargs))\n",
      "/home/skymap/anaconda3/envs/farm/lib/python3.6/site-packages/pyproj/crs/crs.py:294: FutureWarning: '+init=<authority>:<code>' syntax is deprecated. '<authority>:<code>' is the preferred initialization method. When making the change, be mindful of axis order changes: https://pyproj4.github.io/pyproj/stable/gotchas.html#axis-order-changes-in-proj-6\n",
      "  projstring = _prepare_from_string(\" \".join((projstring, projkwargs)))\n",
      "/home/skymap/anaconda3/envs/farm/lib/python3.6/site-packages/pyproj/crs/crs.py:53: FutureWarning: '+init=<authority>:<code>' syntax is deprecated. '<authority>:<code>' is the preferred initialization method. When making the change, be mindful of axis order changes: https://pyproj4.github.io/pyproj/stable/gotchas.html#axis-order-changes-in-proj-6\n",
      "  return _prepare_from_string(\" \".join(pjargs))\n",
      "/home/skymap/anaconda3/envs/farm/lib/python3.6/site-packages/pyproj/crs/crs.py:294: FutureWarning: '+init=<authority>:<code>' syntax is deprecated. '<authority>:<code>' is the preferred initialization method. When making the change, be mindful of axis order changes: https://pyproj4.github.io/pyproj/stable/gotchas.html#axis-order-changes-in-proj-6\n",
      "  projstring = _prepare_from_string(\" \".join((projstring, projkwargs)))\n"
     ]
    },
    {
     "name": "stdout",
     "output_type": "stream",
     "text": [
      "2835 2079\n"
     ]
    },
    {
     "name": "stderr",
     "output_type": "stream",
     "text": [
      "/home/skymap/anaconda3/envs/farm/lib/python3.6/site-packages/pyproj/crs/crs.py:53: FutureWarning: '+init=<authority>:<code>' syntax is deprecated. '<authority>:<code>' is the preferred initialization method. When making the change, be mindful of axis order changes: https://pyproj4.github.io/pyproj/stable/gotchas.html#axis-order-changes-in-proj-6\n",
      "  return _prepare_from_string(\" \".join(pjargs))\n",
      "/home/skymap/anaconda3/envs/farm/lib/python3.6/site-packages/pyproj/crs/crs.py:294: FutureWarning: '+init=<authority>:<code>' syntax is deprecated. '<authority>:<code>' is the preferred initialization method. When making the change, be mindful of axis order changes: https://pyproj4.github.io/pyproj/stable/gotchas.html#axis-order-changes-in-proj-6\n",
      "  projstring = _prepare_from_string(\" \".join((projstring, projkwargs)))\n",
      "/home/skymap/anaconda3/envs/farm/lib/python3.6/site-packages/pyproj/crs/crs.py:53: FutureWarning: '+init=<authority>:<code>' syntax is deprecated. '<authority>:<code>' is the preferred initialization method. When making the change, be mindful of axis order changes: https://pyproj4.github.io/pyproj/stable/gotchas.html#axis-order-changes-in-proj-6\n",
      "  return _prepare_from_string(\" \".join(pjargs))\n",
      "/home/skymap/anaconda3/envs/farm/lib/python3.6/site-packages/pyproj/crs/crs.py:294: FutureWarning: '+init=<authority>:<code>' syntax is deprecated. '<authority>:<code>' is the preferred initialization method. When making the change, be mindful of axis order changes: https://pyproj4.github.io/pyproj/stable/gotchas.html#axis-order-changes-in-proj-6\n",
      "  projstring = _prepare_from_string(\" \".join((projstring, projkwargs)))\n"
     ]
    },
    {
     "name": "stdout",
     "output_type": "stream",
     "text": [
      "10300100A86F9700-visual_2 0.30517578124998224\n",
      "500\n"
     ]
    },
    {
     "name": "stderr",
     "output_type": "stream",
     "text": [
      "100%|██████████| 500/500 [00:15<00:00, 31.76it/s]\n",
      "/home/skymap/anaconda3/envs/farm/lib/python3.6/site-packages/pyproj/crs/crs.py:53: FutureWarning: '+init=<authority>:<code>' syntax is deprecated. '<authority>:<code>' is the preferred initialization method. When making the change, be mindful of axis order changes: https://pyproj4.github.io/pyproj/stable/gotchas.html#axis-order-changes-in-proj-6\n",
      "  return _prepare_from_string(\" \".join(pjargs))\n",
      "/home/skymap/anaconda3/envs/farm/lib/python3.6/site-packages/pyproj/crs/crs.py:294: FutureWarning: '+init=<authority>:<code>' syntax is deprecated. '<authority>:<code>' is the preferred initialization method. When making the change, be mindful of axis order changes: https://pyproj4.github.io/pyproj/stable/gotchas.html#axis-order-changes-in-proj-6\n",
      "  projstring = _prepare_from_string(\" \".join((projstring, projkwargs)))\n",
      "/home/skymap/anaconda3/envs/farm/lib/python3.6/site-packages/pyproj/crs/crs.py:53: FutureWarning: '+init=<authority>:<code>' syntax is deprecated. '<authority>:<code>' is the preferred initialization method. When making the change, be mindful of axis order changes: https://pyproj4.github.io/pyproj/stable/gotchas.html#axis-order-changes-in-proj-6\n",
      "  return _prepare_from_string(\" \".join(pjargs))\n",
      "/home/skymap/anaconda3/envs/farm/lib/python3.6/site-packages/pyproj/crs/crs.py:294: FutureWarning: '+init=<authority>:<code>' syntax is deprecated. '<authority>:<code>' is the preferred initialization method. When making the change, be mindful of axis order changes: https://pyproj4.github.io/pyproj/stable/gotchas.html#axis-order-changes-in-proj-6\n",
      "  projstring = _prepare_from_string(\" \".join((projstring, projkwargs)))\n"
     ]
    },
    {
     "name": "stdout",
     "output_type": "stream",
     "text": [
      "1038 752\n"
     ]
    },
    {
     "name": "stderr",
     "output_type": "stream",
     "text": [
      "/home/skymap/anaconda3/envs/farm/lib/python3.6/site-packages/pyproj/crs/crs.py:53: FutureWarning: '+init=<authority>:<code>' syntax is deprecated. '<authority>:<code>' is the preferred initialization method. When making the change, be mindful of axis order changes: https://pyproj4.github.io/pyproj/stable/gotchas.html#axis-order-changes-in-proj-6\n",
      "  return _prepare_from_string(\" \".join(pjargs))\n",
      "/home/skymap/anaconda3/envs/farm/lib/python3.6/site-packages/pyproj/crs/crs.py:294: FutureWarning: '+init=<authority>:<code>' syntax is deprecated. '<authority>:<code>' is the preferred initialization method. When making the change, be mindful of axis order changes: https://pyproj4.github.io/pyproj/stable/gotchas.html#axis-order-changes-in-proj-6\n",
      "  projstring = _prepare_from_string(\" \".join((projstring, projkwargs)))\n",
      "/home/skymap/anaconda3/envs/farm/lib/python3.6/site-packages/pyproj/crs/crs.py:53: FutureWarning: '+init=<authority>:<code>' syntax is deprecated. '<authority>:<code>' is the preferred initialization method. When making the change, be mindful of axis order changes: https://pyproj4.github.io/pyproj/stable/gotchas.html#axis-order-changes-in-proj-6\n",
      "  return _prepare_from_string(\" \".join(pjargs))\n",
      "/home/skymap/anaconda3/envs/farm/lib/python3.6/site-packages/pyproj/crs/crs.py:294: FutureWarning: '+init=<authority>:<code>' syntax is deprecated. '<authority>:<code>' is the preferred initialization method. When making the change, be mindful of axis order changes: https://pyproj4.github.io/pyproj/stable/gotchas.html#axis-order-changes-in-proj-6\n",
      "  projstring = _prepare_from_string(\" \".join((projstring, projkwargs)))\n"
     ]
    },
    {
     "name": "stdout",
     "output_type": "stream",
     "text": [
      "10300100B0A32C00-visual_0 0.3051757812498866\n",
      "100\n"
     ]
    },
    {
     "name": "stderr",
     "output_type": "stream",
     "text": [
      "100%|██████████| 100/100 [00:02<00:00, 42.03it/s]\n",
      "/home/skymap/anaconda3/envs/farm/lib/python3.6/site-packages/pyproj/crs/crs.py:53: FutureWarning: '+init=<authority>:<code>' syntax is deprecated. '<authority>:<code>' is the preferred initialization method. When making the change, be mindful of axis order changes: https://pyproj4.github.io/pyproj/stable/gotchas.html#axis-order-changes-in-proj-6\n",
      "  return _prepare_from_string(\" \".join(pjargs))\n",
      "/home/skymap/anaconda3/envs/farm/lib/python3.6/site-packages/pyproj/crs/crs.py:294: FutureWarning: '+init=<authority>:<code>' syntax is deprecated. '<authority>:<code>' is the preferred initialization method. When making the change, be mindful of axis order changes: https://pyproj4.github.io/pyproj/stable/gotchas.html#axis-order-changes-in-proj-6\n",
      "  projstring = _prepare_from_string(\" \".join((projstring, projkwargs)))\n",
      "/home/skymap/anaconda3/envs/farm/lib/python3.6/site-packages/pyproj/crs/crs.py:53: FutureWarning: '+init=<authority>:<code>' syntax is deprecated. '<authority>:<code>' is the preferred initialization method. When making the change, be mindful of axis order changes: https://pyproj4.github.io/pyproj/stable/gotchas.html#axis-order-changes-in-proj-6\n",
      "  return _prepare_from_string(\" \".join(pjargs))\n",
      "/home/skymap/anaconda3/envs/farm/lib/python3.6/site-packages/pyproj/crs/crs.py:294: FutureWarning: '+init=<authority>:<code>' syntax is deprecated. '<authority>:<code>' is the preferred initialization method. When making the change, be mindful of axis order changes: https://pyproj4.github.io/pyproj/stable/gotchas.html#axis-order-changes-in-proj-6\n",
      "  projstring = _prepare_from_string(\" \".join((projstring, projkwargs)))\n"
     ]
    },
    {
     "name": "stdout",
     "output_type": "stream",
     "text": [
      "823 741\n"
     ]
    },
    {
     "name": "stderr",
     "output_type": "stream",
     "text": [
      "/home/skymap/anaconda3/envs/farm/lib/python3.6/site-packages/pyproj/crs/crs.py:53: FutureWarning: '+init=<authority>:<code>' syntax is deprecated. '<authority>:<code>' is the preferred initialization method. When making the change, be mindful of axis order changes: https://pyproj4.github.io/pyproj/stable/gotchas.html#axis-order-changes-in-proj-6\n",
      "  return _prepare_from_string(\" \".join(pjargs))\n",
      "/home/skymap/anaconda3/envs/farm/lib/python3.6/site-packages/pyproj/crs/crs.py:294: FutureWarning: '+init=<authority>:<code>' syntax is deprecated. '<authority>:<code>' is the preferred initialization method. When making the change, be mindful of axis order changes: https://pyproj4.github.io/pyproj/stable/gotchas.html#axis-order-changes-in-proj-6\n",
      "  projstring = _prepare_from_string(\" \".join((projstring, projkwargs)))\n",
      "/home/skymap/anaconda3/envs/farm/lib/python3.6/site-packages/pyproj/crs/crs.py:53: FutureWarning: '+init=<authority>:<code>' syntax is deprecated. '<authority>:<code>' is the preferred initialization method. When making the change, be mindful of axis order changes: https://pyproj4.github.io/pyproj/stable/gotchas.html#axis-order-changes-in-proj-6\n",
      "  return _prepare_from_string(\" \".join(pjargs))\n",
      "/home/skymap/anaconda3/envs/farm/lib/python3.6/site-packages/pyproj/crs/crs.py:294: FutureWarning: '+init=<authority>:<code>' syntax is deprecated. '<authority>:<code>' is the preferred initialization method. When making the change, be mindful of axis order changes: https://pyproj4.github.io/pyproj/stable/gotchas.html#axis-order-changes-in-proj-6\n",
      "  projstring = _prepare_from_string(\" \".join((projstring, projkwargs)))\n"
     ]
    },
    {
     "name": "stdout",
     "output_type": "stream",
     "text": [
      "10300100B0A32C00-visual_1 0.3051757812499293\n",
      "100\n"
     ]
    },
    {
     "name": "stderr",
     "output_type": "stream",
     "text": [
      "100%|██████████| 100/100 [00:02<00:00, 44.48it/s]\n",
      "/home/skymap/anaconda3/envs/farm/lib/python3.6/site-packages/pyproj/crs/crs.py:53: FutureWarning: '+init=<authority>:<code>' syntax is deprecated. '<authority>:<code>' is the preferred initialization method. When making the change, be mindful of axis order changes: https://pyproj4.github.io/pyproj/stable/gotchas.html#axis-order-changes-in-proj-6\n",
      "  return _prepare_from_string(\" \".join(pjargs))\n",
      "/home/skymap/anaconda3/envs/farm/lib/python3.6/site-packages/pyproj/crs/crs.py:294: FutureWarning: '+init=<authority>:<code>' syntax is deprecated. '<authority>:<code>' is the preferred initialization method. When making the change, be mindful of axis order changes: https://pyproj4.github.io/pyproj/stable/gotchas.html#axis-order-changes-in-proj-6\n",
      "  projstring = _prepare_from_string(\" \".join((projstring, projkwargs)))\n",
      "/home/skymap/anaconda3/envs/farm/lib/python3.6/site-packages/pyproj/crs/crs.py:53: FutureWarning: '+init=<authority>:<code>' syntax is deprecated. '<authority>:<code>' is the preferred initialization method. When making the change, be mindful of axis order changes: https://pyproj4.github.io/pyproj/stable/gotchas.html#axis-order-changes-in-proj-6\n",
      "  return _prepare_from_string(\" \".join(pjargs))\n",
      "/home/skymap/anaconda3/envs/farm/lib/python3.6/site-packages/pyproj/crs/crs.py:294: FutureWarning: '+init=<authority>:<code>' syntax is deprecated. '<authority>:<code>' is the preferred initialization method. When making the change, be mindful of axis order changes: https://pyproj4.github.io/pyproj/stable/gotchas.html#axis-order-changes-in-proj-6\n",
      "  projstring = _prepare_from_string(\" \".join((projstring, projkwargs)))\n"
     ]
    },
    {
     "name": "stdout",
     "output_type": "stream",
     "text": [
      "921 866\n"
     ]
    },
    {
     "name": "stderr",
     "output_type": "stream",
     "text": [
      "/home/skymap/anaconda3/envs/farm/lib/python3.6/site-packages/pyproj/crs/crs.py:53: FutureWarning: '+init=<authority>:<code>' syntax is deprecated. '<authority>:<code>' is the preferred initialization method. When making the change, be mindful of axis order changes: https://pyproj4.github.io/pyproj/stable/gotchas.html#axis-order-changes-in-proj-6\n",
      "  return _prepare_from_string(\" \".join(pjargs))\n",
      "/home/skymap/anaconda3/envs/farm/lib/python3.6/site-packages/pyproj/crs/crs.py:294: FutureWarning: '+init=<authority>:<code>' syntax is deprecated. '<authority>:<code>' is the preferred initialization method. When making the change, be mindful of axis order changes: https://pyproj4.github.io/pyproj/stable/gotchas.html#axis-order-changes-in-proj-6\n",
      "  projstring = _prepare_from_string(\" \".join((projstring, projkwargs)))\n",
      "/home/skymap/anaconda3/envs/farm/lib/python3.6/site-packages/pyproj/crs/crs.py:53: FutureWarning: '+init=<authority>:<code>' syntax is deprecated. '<authority>:<code>' is the preferred initialization method. When making the change, be mindful of axis order changes: https://pyproj4.github.io/pyproj/stable/gotchas.html#axis-order-changes-in-proj-6\n",
      "  return _prepare_from_string(\" \".join(pjargs))\n",
      "/home/skymap/anaconda3/envs/farm/lib/python3.6/site-packages/pyproj/crs/crs.py:294: FutureWarning: '+init=<authority>:<code>' syntax is deprecated. '<authority>:<code>' is the preferred initialization method. When making the change, be mindful of axis order changes: https://pyproj4.github.io/pyproj/stable/gotchas.html#axis-order-changes-in-proj-6\n",
      "  projstring = _prepare_from_string(\" \".join((projstring, projkwargs)))\n"
     ]
    },
    {
     "name": "stdout",
     "output_type": "stream",
     "text": [
      "10300100B0A32C00-visual_2 0.3051757812499368\n",
      "100\n"
     ]
    },
    {
     "name": "stderr",
     "output_type": "stream",
     "text": [
      "100%|██████████| 100/100 [00:02<00:00, 46.16it/s]\n",
      "/home/skymap/anaconda3/envs/farm/lib/python3.6/site-packages/pyproj/crs/crs.py:53: FutureWarning: '+init=<authority>:<code>' syntax is deprecated. '<authority>:<code>' is the preferred initialization method. When making the change, be mindful of axis order changes: https://pyproj4.github.io/pyproj/stable/gotchas.html#axis-order-changes-in-proj-6\n",
      "  return _prepare_from_string(\" \".join(pjargs))\n",
      "/home/skymap/anaconda3/envs/farm/lib/python3.6/site-packages/pyproj/crs/crs.py:294: FutureWarning: '+init=<authority>:<code>' syntax is deprecated. '<authority>:<code>' is the preferred initialization method. When making the change, be mindful of axis order changes: https://pyproj4.github.io/pyproj/stable/gotchas.html#axis-order-changes-in-proj-6\n",
      "  projstring = _prepare_from_string(\" \".join((projstring, projkwargs)))\n",
      "/home/skymap/anaconda3/envs/farm/lib/python3.6/site-packages/pyproj/crs/crs.py:53: FutureWarning: '+init=<authority>:<code>' syntax is deprecated. '<authority>:<code>' is the preferred initialization method. When making the change, be mindful of axis order changes: https://pyproj4.github.io/pyproj/stable/gotchas.html#axis-order-changes-in-proj-6\n",
      "  return _prepare_from_string(\" \".join(pjargs))\n",
      "/home/skymap/anaconda3/envs/farm/lib/python3.6/site-packages/pyproj/crs/crs.py:294: FutureWarning: '+init=<authority>:<code>' syntax is deprecated. '<authority>:<code>' is the preferred initialization method. When making the change, be mindful of axis order changes: https://pyproj4.github.io/pyproj/stable/gotchas.html#axis-order-changes-in-proj-6\n",
      "  projstring = _prepare_from_string(\" \".join((projstring, projkwargs)))\n"
     ]
    },
    {
     "name": "stdout",
     "output_type": "stream",
     "text": [
      "1132 1104\n"
     ]
    },
    {
     "name": "stderr",
     "output_type": "stream",
     "text": [
      "/home/skymap/anaconda3/envs/farm/lib/python3.6/site-packages/pyproj/crs/crs.py:53: FutureWarning: '+init=<authority>:<code>' syntax is deprecated. '<authority>:<code>' is the preferred initialization method. When making the change, be mindful of axis order changes: https://pyproj4.github.io/pyproj/stable/gotchas.html#axis-order-changes-in-proj-6\n",
      "  return _prepare_from_string(\" \".join(pjargs))\n",
      "/home/skymap/anaconda3/envs/farm/lib/python3.6/site-packages/pyproj/crs/crs.py:294: FutureWarning: '+init=<authority>:<code>' syntax is deprecated. '<authority>:<code>' is the preferred initialization method. When making the change, be mindful of axis order changes: https://pyproj4.github.io/pyproj/stable/gotchas.html#axis-order-changes-in-proj-6\n",
      "  projstring = _prepare_from_string(\" \".join((projstring, projkwargs)))\n",
      "/home/skymap/anaconda3/envs/farm/lib/python3.6/site-packages/pyproj/crs/crs.py:53: FutureWarning: '+init=<authority>:<code>' syntax is deprecated. '<authority>:<code>' is the preferred initialization method. When making the change, be mindful of axis order changes: https://pyproj4.github.io/pyproj/stable/gotchas.html#axis-order-changes-in-proj-6\n",
      "  return _prepare_from_string(\" \".join(pjargs))\n",
      "/home/skymap/anaconda3/envs/farm/lib/python3.6/site-packages/pyproj/crs/crs.py:294: FutureWarning: '+init=<authority>:<code>' syntax is deprecated. '<authority>:<code>' is the preferred initialization method. When making the change, be mindful of axis order changes: https://pyproj4.github.io/pyproj/stable/gotchas.html#axis-order-changes-in-proj-6\n",
      "  projstring = _prepare_from_string(\" \".join((projstring, projkwargs)))\n"
     ]
    },
    {
     "name": "stdout",
     "output_type": "stream",
     "text": [
      "10300100B0A32C00-visual_3 0.3051757812502623\n",
      "152\n"
     ]
    },
    {
     "name": "stderr",
     "output_type": "stream",
     "text": [
      "100%|██████████| 152/152 [00:03<00:00, 44.04it/s]\n",
      "/home/skymap/anaconda3/envs/farm/lib/python3.6/site-packages/pyproj/crs/crs.py:53: FutureWarning: '+init=<authority>:<code>' syntax is deprecated. '<authority>:<code>' is the preferred initialization method. When making the change, be mindful of axis order changes: https://pyproj4.github.io/pyproj/stable/gotchas.html#axis-order-changes-in-proj-6\n",
      "  return _prepare_from_string(\" \".join(pjargs))\n",
      "/home/skymap/anaconda3/envs/farm/lib/python3.6/site-packages/pyproj/crs/crs.py:294: FutureWarning: '+init=<authority>:<code>' syntax is deprecated. '<authority>:<code>' is the preferred initialization method. When making the change, be mindful of axis order changes: https://pyproj4.github.io/pyproj/stable/gotchas.html#axis-order-changes-in-proj-6\n",
      "  projstring = _prepare_from_string(\" \".join((projstring, projkwargs)))\n",
      "/home/skymap/anaconda3/envs/farm/lib/python3.6/site-packages/pyproj/crs/crs.py:53: FutureWarning: '+init=<authority>:<code>' syntax is deprecated. '<authority>:<code>' is the preferred initialization method. When making the change, be mindful of axis order changes: https://pyproj4.github.io/pyproj/stable/gotchas.html#axis-order-changes-in-proj-6\n",
      "  return _prepare_from_string(\" \".join(pjargs))\n",
      "/home/skymap/anaconda3/envs/farm/lib/python3.6/site-packages/pyproj/crs/crs.py:294: FutureWarning: '+init=<authority>:<code>' syntax is deprecated. '<authority>:<code>' is the preferred initialization method. When making the change, be mindful of axis order changes: https://pyproj4.github.io/pyproj/stable/gotchas.html#axis-order-changes-in-proj-6\n",
      "  projstring = _prepare_from_string(\" \".join((projstring, projkwargs)))\n"
     ]
    },
    {
     "name": "stdout",
     "output_type": "stream",
     "text": [
      "1411 1166\n"
     ]
    },
    {
     "name": "stderr",
     "output_type": "stream",
     "text": [
      "/home/skymap/anaconda3/envs/farm/lib/python3.6/site-packages/pyproj/crs/crs.py:53: FutureWarning: '+init=<authority>:<code>' syntax is deprecated. '<authority>:<code>' is the preferred initialization method. When making the change, be mindful of axis order changes: https://pyproj4.github.io/pyproj/stable/gotchas.html#axis-order-changes-in-proj-6\n",
      "  return _prepare_from_string(\" \".join(pjargs))\n",
      "/home/skymap/anaconda3/envs/farm/lib/python3.6/site-packages/pyproj/crs/crs.py:294: FutureWarning: '+init=<authority>:<code>' syntax is deprecated. '<authority>:<code>' is the preferred initialization method. When making the change, be mindful of axis order changes: https://pyproj4.github.io/pyproj/stable/gotchas.html#axis-order-changes-in-proj-6\n",
      "  projstring = _prepare_from_string(\" \".join((projstring, projkwargs)))\n",
      "/home/skymap/anaconda3/envs/farm/lib/python3.6/site-packages/pyproj/crs/crs.py:53: FutureWarning: '+init=<authority>:<code>' syntax is deprecated. '<authority>:<code>' is the preferred initialization method. When making the change, be mindful of axis order changes: https://pyproj4.github.io/pyproj/stable/gotchas.html#axis-order-changes-in-proj-6\n",
      "  return _prepare_from_string(\" \".join(pjargs))\n",
      "/home/skymap/anaconda3/envs/farm/lib/python3.6/site-packages/pyproj/crs/crs.py:294: FutureWarning: '+init=<authority>:<code>' syntax is deprecated. '<authority>:<code>' is the preferred initialization method. When making the change, be mindful of axis order changes: https://pyproj4.github.io/pyproj/stable/gotchas.html#axis-order-changes-in-proj-6\n",
      "  projstring = _prepare_from_string(\" \".join((projstring, projkwargs)))\n"
     ]
    },
    {
     "name": "stdout",
     "output_type": "stream",
     "text": [
      "10300100B0A32C00-visual_4 0.30517578125083994\n",
      "200\n"
     ]
    },
    {
     "name": "stderr",
     "output_type": "stream",
     "text": [
      "100%|██████████| 200/200 [00:04<00:00, 41.06it/s]\n",
      "/home/skymap/anaconda3/envs/farm/lib/python3.6/site-packages/pyproj/crs/crs.py:53: FutureWarning: '+init=<authority>:<code>' syntax is deprecated. '<authority>:<code>' is the preferred initialization method. When making the change, be mindful of axis order changes: https://pyproj4.github.io/pyproj/stable/gotchas.html#axis-order-changes-in-proj-6\n",
      "  return _prepare_from_string(\" \".join(pjargs))\n",
      "/home/skymap/anaconda3/envs/farm/lib/python3.6/site-packages/pyproj/crs/crs.py:294: FutureWarning: '+init=<authority>:<code>' syntax is deprecated. '<authority>:<code>' is the preferred initialization method. When making the change, be mindful of axis order changes: https://pyproj4.github.io/pyproj/stable/gotchas.html#axis-order-changes-in-proj-6\n",
      "  projstring = _prepare_from_string(\" \".join((projstring, projkwargs)))\n",
      "/home/skymap/anaconda3/envs/farm/lib/python3.6/site-packages/pyproj/crs/crs.py:53: FutureWarning: '+init=<authority>:<code>' syntax is deprecated. '<authority>:<code>' is the preferred initialization method. When making the change, be mindful of axis order changes: https://pyproj4.github.io/pyproj/stable/gotchas.html#axis-order-changes-in-proj-6\n",
      "  return _prepare_from_string(\" \".join(pjargs))\n",
      "/home/skymap/anaconda3/envs/farm/lib/python3.6/site-packages/pyproj/crs/crs.py:294: FutureWarning: '+init=<authority>:<code>' syntax is deprecated. '<authority>:<code>' is the preferred initialization method. When making the change, be mindful of axis order changes: https://pyproj4.github.io/pyproj/stable/gotchas.html#axis-order-changes-in-proj-6\n",
      "  projstring = _prepare_from_string(\" \".join((projstring, projkwargs)))\n"
     ]
    },
    {
     "name": "stdout",
     "output_type": "stream",
     "text": [
      "2545 2193\n"
     ]
    },
    {
     "name": "stderr",
     "output_type": "stream",
     "text": [
      "/home/skymap/anaconda3/envs/farm/lib/python3.6/site-packages/pyproj/crs/crs.py:53: FutureWarning: '+init=<authority>:<code>' syntax is deprecated. '<authority>:<code>' is the preferred initialization method. When making the change, be mindful of axis order changes: https://pyproj4.github.io/pyproj/stable/gotchas.html#axis-order-changes-in-proj-6\n",
      "  return _prepare_from_string(\" \".join(pjargs))\n",
      "/home/skymap/anaconda3/envs/farm/lib/python3.6/site-packages/pyproj/crs/crs.py:294: FutureWarning: '+init=<authority>:<code>' syntax is deprecated. '<authority>:<code>' is the preferred initialization method. When making the change, be mindful of axis order changes: https://pyproj4.github.io/pyproj/stable/gotchas.html#axis-order-changes-in-proj-6\n",
      "  projstring = _prepare_from_string(\" \".join((projstring, projkwargs)))\n",
      "/home/skymap/anaconda3/envs/farm/lib/python3.6/site-packages/pyproj/crs/crs.py:53: FutureWarning: '+init=<authority>:<code>' syntax is deprecated. '<authority>:<code>' is the preferred initialization method. When making the change, be mindful of axis order changes: https://pyproj4.github.io/pyproj/stable/gotchas.html#axis-order-changes-in-proj-6\n",
      "  return _prepare_from_string(\" \".join(pjargs))\n",
      "/home/skymap/anaconda3/envs/farm/lib/python3.6/site-packages/pyproj/crs/crs.py:294: FutureWarning: '+init=<authority>:<code>' syntax is deprecated. '<authority>:<code>' is the preferred initialization method. When making the change, be mindful of axis order changes: https://pyproj4.github.io/pyproj/stable/gotchas.html#axis-order-changes-in-proj-6\n",
      "  projstring = _prepare_from_string(\" \".join((projstring, projkwargs)))\n"
     ]
    },
    {
     "name": "stdout",
     "output_type": "stream",
     "text": [
      "10300100BB7A5700-visual_0 0.3051757812500151\n",
      "500\n"
     ]
    },
    {
     "name": "stderr",
     "output_type": "stream",
     "text": [
      "100%|██████████| 500/500 [00:12<00:00, 39.46it/s]\n",
      "/home/skymap/anaconda3/envs/farm/lib/python3.6/site-packages/pyproj/crs/crs.py:53: FutureWarning: '+init=<authority>:<code>' syntax is deprecated. '<authority>:<code>' is the preferred initialization method. When making the change, be mindful of axis order changes: https://pyproj4.github.io/pyproj/stable/gotchas.html#axis-order-changes-in-proj-6\n",
      "  return _prepare_from_string(\" \".join(pjargs))\n",
      "/home/skymap/anaconda3/envs/farm/lib/python3.6/site-packages/pyproj/crs/crs.py:294: FutureWarning: '+init=<authority>:<code>' syntax is deprecated. '<authority>:<code>' is the preferred initialization method. When making the change, be mindful of axis order changes: https://pyproj4.github.io/pyproj/stable/gotchas.html#axis-order-changes-in-proj-6\n",
      "  projstring = _prepare_from_string(\" \".join((projstring, projkwargs)))\n",
      "/home/skymap/anaconda3/envs/farm/lib/python3.6/site-packages/pyproj/crs/crs.py:53: FutureWarning: '+init=<authority>:<code>' syntax is deprecated. '<authority>:<code>' is the preferred initialization method. When making the change, be mindful of axis order changes: https://pyproj4.github.io/pyproj/stable/gotchas.html#axis-order-changes-in-proj-6\n",
      "  return _prepare_from_string(\" \".join(pjargs))\n",
      "/home/skymap/anaconda3/envs/farm/lib/python3.6/site-packages/pyproj/crs/crs.py:294: FutureWarning: '+init=<authority>:<code>' syntax is deprecated. '<authority>:<code>' is the preferred initialization method. When making the change, be mindful of axis order changes: https://pyproj4.github.io/pyproj/stable/gotchas.html#axis-order-changes-in-proj-6\n",
      "  projstring = _prepare_from_string(\" \".join((projstring, projkwargs)))\n"
     ]
    },
    {
     "name": "stdout",
     "output_type": "stream",
     "text": [
      "2388 2359\n"
     ]
    },
    {
     "name": "stderr",
     "output_type": "stream",
     "text": [
      "/home/skymap/anaconda3/envs/farm/lib/python3.6/site-packages/pyproj/crs/crs.py:53: FutureWarning: '+init=<authority>:<code>' syntax is deprecated. '<authority>:<code>' is the preferred initialization method. When making the change, be mindful of axis order changes: https://pyproj4.github.io/pyproj/stable/gotchas.html#axis-order-changes-in-proj-6\n",
      "  return _prepare_from_string(\" \".join(pjargs))\n",
      "/home/skymap/anaconda3/envs/farm/lib/python3.6/site-packages/pyproj/crs/crs.py:294: FutureWarning: '+init=<authority>:<code>' syntax is deprecated. '<authority>:<code>' is the preferred initialization method. When making the change, be mindful of axis order changes: https://pyproj4.github.io/pyproj/stable/gotchas.html#axis-order-changes-in-proj-6\n",
      "  projstring = _prepare_from_string(\" \".join((projstring, projkwargs)))\n",
      "/home/skymap/anaconda3/envs/farm/lib/python3.6/site-packages/pyproj/crs/crs.py:53: FutureWarning: '+init=<authority>:<code>' syntax is deprecated. '<authority>:<code>' is the preferred initialization method. When making the change, be mindful of axis order changes: https://pyproj4.github.io/pyproj/stable/gotchas.html#axis-order-changes-in-proj-6\n",
      "  return _prepare_from_string(\" \".join(pjargs))\n",
      "/home/skymap/anaconda3/envs/farm/lib/python3.6/site-packages/pyproj/crs/crs.py:294: FutureWarning: '+init=<authority>:<code>' syntax is deprecated. '<authority>:<code>' is the preferred initialization method. When making the change, be mindful of axis order changes: https://pyproj4.github.io/pyproj/stable/gotchas.html#axis-order-changes-in-proj-6\n",
      "  projstring = _prepare_from_string(\" \".join((projstring, projkwargs)))\n"
     ]
    },
    {
     "name": "stdout",
     "output_type": "stream",
     "text": [
      "10300100BB7A5700-visual_1 0.30517578125001243\n",
      "500\n"
     ]
    },
    {
     "name": "stderr",
     "output_type": "stream",
     "text": [
      "100%|██████████| 500/500 [00:26<00:00, 19.02it/s]\n",
      "/home/skymap/anaconda3/envs/farm/lib/python3.6/site-packages/pyproj/crs/crs.py:53: FutureWarning: '+init=<authority>:<code>' syntax is deprecated. '<authority>:<code>' is the preferred initialization method. When making the change, be mindful of axis order changes: https://pyproj4.github.io/pyproj/stable/gotchas.html#axis-order-changes-in-proj-6\n",
      "  return _prepare_from_string(\" \".join(pjargs))\n",
      "/home/skymap/anaconda3/envs/farm/lib/python3.6/site-packages/pyproj/crs/crs.py:294: FutureWarning: '+init=<authority>:<code>' syntax is deprecated. '<authority>:<code>' is the preferred initialization method. When making the change, be mindful of axis order changes: https://pyproj4.github.io/pyproj/stable/gotchas.html#axis-order-changes-in-proj-6\n",
      "  projstring = _prepare_from_string(\" \".join((projstring, projkwargs)))\n",
      "/home/skymap/anaconda3/envs/farm/lib/python3.6/site-packages/pyproj/crs/crs.py:53: FutureWarning: '+init=<authority>:<code>' syntax is deprecated. '<authority>:<code>' is the preferred initialization method. When making the change, be mindful of axis order changes: https://pyproj4.github.io/pyproj/stable/gotchas.html#axis-order-changes-in-proj-6\n",
      "  return _prepare_from_string(\" \".join(pjargs))\n",
      "/home/skymap/anaconda3/envs/farm/lib/python3.6/site-packages/pyproj/crs/crs.py:294: FutureWarning: '+init=<authority>:<code>' syntax is deprecated. '<authority>:<code>' is the preferred initialization method. When making the change, be mindful of axis order changes: https://pyproj4.github.io/pyproj/stable/gotchas.html#axis-order-changes-in-proj-6\n",
      "  projstring = _prepare_from_string(\" \".join((projstring, projkwargs)))\n"
     ]
    },
    {
     "name": "stdout",
     "output_type": "stream",
     "text": [
      "2877 2743\n"
     ]
    },
    {
     "name": "stderr",
     "output_type": "stream",
     "text": [
      "/home/skymap/anaconda3/envs/farm/lib/python3.6/site-packages/pyproj/crs/crs.py:53: FutureWarning: '+init=<authority>:<code>' syntax is deprecated. '<authority>:<code>' is the preferred initialization method. When making the change, be mindful of axis order changes: https://pyproj4.github.io/pyproj/stable/gotchas.html#axis-order-changes-in-proj-6\n",
      "  return _prepare_from_string(\" \".join(pjargs))\n",
      "/home/skymap/anaconda3/envs/farm/lib/python3.6/site-packages/pyproj/crs/crs.py:294: FutureWarning: '+init=<authority>:<code>' syntax is deprecated. '<authority>:<code>' is the preferred initialization method. When making the change, be mindful of axis order changes: https://pyproj4.github.io/pyproj/stable/gotchas.html#axis-order-changes-in-proj-6\n",
      "  projstring = _prepare_from_string(\" \".join((projstring, projkwargs)))\n",
      "/home/skymap/anaconda3/envs/farm/lib/python3.6/site-packages/pyproj/crs/crs.py:53: FutureWarning: '+init=<authority>:<code>' syntax is deprecated. '<authority>:<code>' is the preferred initialization method. When making the change, be mindful of axis order changes: https://pyproj4.github.io/pyproj/stable/gotchas.html#axis-order-changes-in-proj-6\n",
      "  return _prepare_from_string(\" \".join(pjargs))\n",
      "/home/skymap/anaconda3/envs/farm/lib/python3.6/site-packages/pyproj/crs/crs.py:294: FutureWarning: '+init=<authority>:<code>' syntax is deprecated. '<authority>:<code>' is the preferred initialization method. When making the change, be mindful of axis order changes: https://pyproj4.github.io/pyproj/stable/gotchas.html#axis-order-changes-in-proj-6\n",
      "  projstring = _prepare_from_string(\" \".join((projstring, projkwargs)))\n"
     ]
    },
    {
     "name": "stdout",
     "output_type": "stream",
     "text": [
      "10300100BB7A5700-visual_2 0.3051757812500313\n",
      "500\n"
     ]
    },
    {
     "name": "stderr",
     "output_type": "stream",
     "text": [
      "100%|██████████| 500/500 [00:15<00:00, 33.07it/s]\n",
      "/home/skymap/anaconda3/envs/farm/lib/python3.6/site-packages/pyproj/crs/crs.py:53: FutureWarning: '+init=<authority>:<code>' syntax is deprecated. '<authority>:<code>' is the preferred initialization method. When making the change, be mindful of axis order changes: https://pyproj4.github.io/pyproj/stable/gotchas.html#axis-order-changes-in-proj-6\n",
      "  return _prepare_from_string(\" \".join(pjargs))\n",
      "/home/skymap/anaconda3/envs/farm/lib/python3.6/site-packages/pyproj/crs/crs.py:294: FutureWarning: '+init=<authority>:<code>' syntax is deprecated. '<authority>:<code>' is the preferred initialization method. When making the change, be mindful of axis order changes: https://pyproj4.github.io/pyproj/stable/gotchas.html#axis-order-changes-in-proj-6\n",
      "  projstring = _prepare_from_string(\" \".join((projstring, projkwargs)))\n",
      "/home/skymap/anaconda3/envs/farm/lib/python3.6/site-packages/pyproj/crs/crs.py:53: FutureWarning: '+init=<authority>:<code>' syntax is deprecated. '<authority>:<code>' is the preferred initialization method. When making the change, be mindful of axis order changes: https://pyproj4.github.io/pyproj/stable/gotchas.html#axis-order-changes-in-proj-6\n",
      "  return _prepare_from_string(\" \".join(pjargs))\n",
      "/home/skymap/anaconda3/envs/farm/lib/python3.6/site-packages/pyproj/crs/crs.py:294: FutureWarning: '+init=<authority>:<code>' syntax is deprecated. '<authority>:<code>' is the preferred initialization method. When making the change, be mindful of axis order changes: https://pyproj4.github.io/pyproj/stable/gotchas.html#axis-order-changes-in-proj-6\n",
      "  projstring = _prepare_from_string(\" \".join((projstring, projkwargs)))\n"
     ]
    },
    {
     "name": "stdout",
     "output_type": "stream",
     "text": [
      "3337 2787\n"
     ]
    },
    {
     "name": "stderr",
     "output_type": "stream",
     "text": [
      "/home/skymap/anaconda3/envs/farm/lib/python3.6/site-packages/pyproj/crs/crs.py:53: FutureWarning: '+init=<authority>:<code>' syntax is deprecated. '<authority>:<code>' is the preferred initialization method. When making the change, be mindful of axis order changes: https://pyproj4.github.io/pyproj/stable/gotchas.html#axis-order-changes-in-proj-6\n",
      "  return _prepare_from_string(\" \".join(pjargs))\n",
      "/home/skymap/anaconda3/envs/farm/lib/python3.6/site-packages/pyproj/crs/crs.py:294: FutureWarning: '+init=<authority>:<code>' syntax is deprecated. '<authority>:<code>' is the preferred initialization method. When making the change, be mindful of axis order changes: https://pyproj4.github.io/pyproj/stable/gotchas.html#axis-order-changes-in-proj-6\n",
      "  projstring = _prepare_from_string(\" \".join((projstring, projkwargs)))\n",
      "/home/skymap/anaconda3/envs/farm/lib/python3.6/site-packages/pyproj/crs/crs.py:53: FutureWarning: '+init=<authority>:<code>' syntax is deprecated. '<authority>:<code>' is the preferred initialization method. When making the change, be mindful of axis order changes: https://pyproj4.github.io/pyproj/stable/gotchas.html#axis-order-changes-in-proj-6\n",
      "  return _prepare_from_string(\" \".join(pjargs))\n",
      "/home/skymap/anaconda3/envs/farm/lib/python3.6/site-packages/pyproj/crs/crs.py:294: FutureWarning: '+init=<authority>:<code>' syntax is deprecated. '<authority>:<code>' is the preferred initialization method. When making the change, be mindful of axis order changes: https://pyproj4.github.io/pyproj/stable/gotchas.html#axis-order-changes-in-proj-6\n",
      "  projstring = _prepare_from_string(\" \".join((projstring, projkwargs)))\n"
     ]
    },
    {
     "name": "stdout",
     "output_type": "stream",
     "text": [
      "10300100BB7A5700-visual_3 0.30517578125007483\n",
      "500\n"
     ]
    },
    {
     "name": "stderr",
     "output_type": "stream",
     "text": [
      "100%|██████████| 500/500 [00:20<00:00, 24.29it/s]\n",
      "/home/skymap/anaconda3/envs/farm/lib/python3.6/site-packages/pyproj/crs/crs.py:53: FutureWarning: '+init=<authority>:<code>' syntax is deprecated. '<authority>:<code>' is the preferred initialization method. When making the change, be mindful of axis order changes: https://pyproj4.github.io/pyproj/stable/gotchas.html#axis-order-changes-in-proj-6\n",
      "  return _prepare_from_string(\" \".join(pjargs))\n",
      "/home/skymap/anaconda3/envs/farm/lib/python3.6/site-packages/pyproj/crs/crs.py:294: FutureWarning: '+init=<authority>:<code>' syntax is deprecated. '<authority>:<code>' is the preferred initialization method. When making the change, be mindful of axis order changes: https://pyproj4.github.io/pyproj/stable/gotchas.html#axis-order-changes-in-proj-6\n",
      "  projstring = _prepare_from_string(\" \".join((projstring, projkwargs)))\n",
      "/home/skymap/anaconda3/envs/farm/lib/python3.6/site-packages/pyproj/crs/crs.py:53: FutureWarning: '+init=<authority>:<code>' syntax is deprecated. '<authority>:<code>' is the preferred initialization method. When making the change, be mindful of axis order changes: https://pyproj4.github.io/pyproj/stable/gotchas.html#axis-order-changes-in-proj-6\n",
      "  return _prepare_from_string(\" \".join(pjargs))\n",
      "/home/skymap/anaconda3/envs/farm/lib/python3.6/site-packages/pyproj/crs/crs.py:294: FutureWarning: '+init=<authority>:<code>' syntax is deprecated. '<authority>:<code>' is the preferred initialization method. When making the change, be mindful of axis order changes: https://pyproj4.github.io/pyproj/stable/gotchas.html#axis-order-changes-in-proj-6\n",
      "  projstring = _prepare_from_string(\" \".join((projstring, projkwargs)))\n"
     ]
    },
    {
     "name": "stdout",
     "output_type": "stream",
     "text": [
      "5000 5000\n"
     ]
    },
    {
     "name": "stderr",
     "output_type": "stream",
     "text": [
      "/home/skymap/anaconda3/envs/farm/lib/python3.6/site-packages/pyproj/crs/crs.py:53: FutureWarning: '+init=<authority>:<code>' syntax is deprecated. '<authority>:<code>' is the preferred initialization method. When making the change, be mindful of axis order changes: https://pyproj4.github.io/pyproj/stable/gotchas.html#axis-order-changes-in-proj-6\n",
      "  return _prepare_from_string(\" \".join(pjargs))\n",
      "/home/skymap/anaconda3/envs/farm/lib/python3.6/site-packages/pyproj/crs/crs.py:294: FutureWarning: '+init=<authority>:<code>' syntax is deprecated. '<authority>:<code>' is the preferred initialization method. When making the change, be mindful of axis order changes: https://pyproj4.github.io/pyproj/stable/gotchas.html#axis-order-changes-in-proj-6\n",
      "  projstring = _prepare_from_string(\" \".join((projstring, projkwargs)))\n",
      "/home/skymap/anaconda3/envs/farm/lib/python3.6/site-packages/pyproj/crs/crs.py:53: FutureWarning: '+init=<authority>:<code>' syntax is deprecated. '<authority>:<code>' is the preferred initialization method. When making the change, be mindful of axis order changes: https://pyproj4.github.io/pyproj/stable/gotchas.html#axis-order-changes-in-proj-6\n",
      "  return _prepare_from_string(\" \".join(pjargs))\n",
      "/home/skymap/anaconda3/envs/farm/lib/python3.6/site-packages/pyproj/crs/crs.py:294: FutureWarning: '+init=<authority>:<code>' syntax is deprecated. '<authority>:<code>' is the preferred initialization method. When making the change, be mindful of axis order changes: https://pyproj4.github.io/pyproj/stable/gotchas.html#axis-order-changes-in-proj-6\n",
      "  projstring = _prepare_from_string(\" \".join((projstring, projkwargs)))\n"
     ]
    },
    {
     "name": "stdout",
     "output_type": "stream",
     "text": [
      "10seg775355_0 0.3000001370147637\n",
      "500\n"
     ]
    },
    {
     "name": "stderr",
     "output_type": "stream",
     "text": [
      "100%|██████████| 500/500 [00:16<00:00, 30.06it/s]\n",
      "/home/skymap/anaconda3/envs/farm/lib/python3.6/site-packages/pyproj/crs/crs.py:53: FutureWarning: '+init=<authority>:<code>' syntax is deprecated. '<authority>:<code>' is the preferred initialization method. When making the change, be mindful of axis order changes: https://pyproj4.github.io/pyproj/stable/gotchas.html#axis-order-changes-in-proj-6\n",
      "  return _prepare_from_string(\" \".join(pjargs))\n",
      "/home/skymap/anaconda3/envs/farm/lib/python3.6/site-packages/pyproj/crs/crs.py:294: FutureWarning: '+init=<authority>:<code>' syntax is deprecated. '<authority>:<code>' is the preferred initialization method. When making the change, be mindful of axis order changes: https://pyproj4.github.io/pyproj/stable/gotchas.html#axis-order-changes-in-proj-6\n",
      "  projstring = _prepare_from_string(\" \".join((projstring, projkwargs)))\n",
      "/home/skymap/anaconda3/envs/farm/lib/python3.6/site-packages/pyproj/crs/crs.py:53: FutureWarning: '+init=<authority>:<code>' syntax is deprecated. '<authority>:<code>' is the preferred initialization method. When making the change, be mindful of axis order changes: https://pyproj4.github.io/pyproj/stable/gotchas.html#axis-order-changes-in-proj-6\n",
      "  return _prepare_from_string(\" \".join(pjargs))\n",
      "/home/skymap/anaconda3/envs/farm/lib/python3.6/site-packages/pyproj/crs/crs.py:294: FutureWarning: '+init=<authority>:<code>' syntax is deprecated. '<authority>:<code>' is the preferred initialization method. When making the change, be mindful of axis order changes: https://pyproj4.github.io/pyproj/stable/gotchas.html#axis-order-changes-in-proj-6\n",
      "  projstring = _prepare_from_string(\" \".join((projstring, projkwargs)))\n"
     ]
    },
    {
     "name": "stdout",
     "output_type": "stream",
     "text": [
      "5000 5000\n"
     ]
    },
    {
     "name": "stderr",
     "output_type": "stream",
     "text": [
      "/home/skymap/anaconda3/envs/farm/lib/python3.6/site-packages/pyproj/crs/crs.py:53: FutureWarning: '+init=<authority>:<code>' syntax is deprecated. '<authority>:<code>' is the preferred initialization method. When making the change, be mindful of axis order changes: https://pyproj4.github.io/pyproj/stable/gotchas.html#axis-order-changes-in-proj-6\n",
      "  return _prepare_from_string(\" \".join(pjargs))\n",
      "/home/skymap/anaconda3/envs/farm/lib/python3.6/site-packages/pyproj/crs/crs.py:294: FutureWarning: '+init=<authority>:<code>' syntax is deprecated. '<authority>:<code>' is the preferred initialization method. When making the change, be mindful of axis order changes: https://pyproj4.github.io/pyproj/stable/gotchas.html#axis-order-changes-in-proj-6\n",
      "  projstring = _prepare_from_string(\" \".join((projstring, projkwargs)))\n",
      "/home/skymap/anaconda3/envs/farm/lib/python3.6/site-packages/pyproj/crs/crs.py:53: FutureWarning: '+init=<authority>:<code>' syntax is deprecated. '<authority>:<code>' is the preferred initialization method. When making the change, be mindful of axis order changes: https://pyproj4.github.io/pyproj/stable/gotchas.html#axis-order-changes-in-proj-6\n",
      "  return _prepare_from_string(\" \".join(pjargs))\n",
      "/home/skymap/anaconda3/envs/farm/lib/python3.6/site-packages/pyproj/crs/crs.py:294: FutureWarning: '+init=<authority>:<code>' syntax is deprecated. '<authority>:<code>' is the preferred initialization method. When making the change, be mindful of axis order changes: https://pyproj4.github.io/pyproj/stable/gotchas.html#axis-order-changes-in-proj-6\n",
      "  projstring = _prepare_from_string(\" \".join((projstring, projkwargs)))\n"
     ]
    },
    {
     "name": "stdout",
     "output_type": "stream",
     "text": [
      "10seg775370_0 0.30000002545035886\n",
      "500\n"
     ]
    },
    {
     "name": "stderr",
     "output_type": "stream",
     "text": [
      "100%|██████████| 500/500 [00:16<00:00, 30.78it/s]\n",
      "/home/skymap/anaconda3/envs/farm/lib/python3.6/site-packages/pyproj/crs/crs.py:53: FutureWarning: '+init=<authority>:<code>' syntax is deprecated. '<authority>:<code>' is the preferred initialization method. When making the change, be mindful of axis order changes: https://pyproj4.github.io/pyproj/stable/gotchas.html#axis-order-changes-in-proj-6\n",
      "  return _prepare_from_string(\" \".join(pjargs))\n",
      "/home/skymap/anaconda3/envs/farm/lib/python3.6/site-packages/pyproj/crs/crs.py:294: FutureWarning: '+init=<authority>:<code>' syntax is deprecated. '<authority>:<code>' is the preferred initialization method. When making the change, be mindful of axis order changes: https://pyproj4.github.io/pyproj/stable/gotchas.html#axis-order-changes-in-proj-6\n",
      "  projstring = _prepare_from_string(\" \".join((projstring, projkwargs)))\n",
      "/home/skymap/anaconda3/envs/farm/lib/python3.6/site-packages/pyproj/crs/crs.py:53: FutureWarning: '+init=<authority>:<code>' syntax is deprecated. '<authority>:<code>' is the preferred initialization method. When making the change, be mindful of axis order changes: https://pyproj4.github.io/pyproj/stable/gotchas.html#axis-order-changes-in-proj-6\n",
      "  return _prepare_from_string(\" \".join(pjargs))\n",
      "/home/skymap/anaconda3/envs/farm/lib/python3.6/site-packages/pyproj/crs/crs.py:294: FutureWarning: '+init=<authority>:<code>' syntax is deprecated. '<authority>:<code>' is the preferred initialization method. When making the change, be mindful of axis order changes: https://pyproj4.github.io/pyproj/stable/gotchas.html#axis-order-changes-in-proj-6\n",
      "  projstring = _prepare_from_string(\" \".join((projstring, projkwargs)))\n"
     ]
    },
    {
     "name": "stdout",
     "output_type": "stream",
     "text": [
      "5000 5000\n"
     ]
    },
    {
     "name": "stderr",
     "output_type": "stream",
     "text": [
      "/home/skymap/anaconda3/envs/farm/lib/python3.6/site-packages/pyproj/crs/crs.py:53: FutureWarning: '+init=<authority>:<code>' syntax is deprecated. '<authority>:<code>' is the preferred initialization method. When making the change, be mindful of axis order changes: https://pyproj4.github.io/pyproj/stable/gotchas.html#axis-order-changes-in-proj-6\n",
      "  return _prepare_from_string(\" \".join(pjargs))\n",
      "/home/skymap/anaconda3/envs/farm/lib/python3.6/site-packages/pyproj/crs/crs.py:294: FutureWarning: '+init=<authority>:<code>' syntax is deprecated. '<authority>:<code>' is the preferred initialization method. When making the change, be mindful of axis order changes: https://pyproj4.github.io/pyproj/stable/gotchas.html#axis-order-changes-in-proj-6\n",
      "  projstring = _prepare_from_string(\" \".join((projstring, projkwargs)))\n",
      "/home/skymap/anaconda3/envs/farm/lib/python3.6/site-packages/pyproj/crs/crs.py:53: FutureWarning: '+init=<authority>:<code>' syntax is deprecated. '<authority>:<code>' is the preferred initialization method. When making the change, be mindful of axis order changes: https://pyproj4.github.io/pyproj/stable/gotchas.html#axis-order-changes-in-proj-6\n",
      "  return _prepare_from_string(\" \".join(pjargs))\n",
      "/home/skymap/anaconda3/envs/farm/lib/python3.6/site-packages/pyproj/crs/crs.py:294: FutureWarning: '+init=<authority>:<code>' syntax is deprecated. '<authority>:<code>' is the preferred initialization method. When making the change, be mindful of axis order changes: https://pyproj4.github.io/pyproj/stable/gotchas.html#axis-order-changes-in-proj-6\n",
      "  projstring = _prepare_from_string(\" \".join((projstring, projkwargs)))\n"
     ]
    },
    {
     "name": "stdout",
     "output_type": "stream",
     "text": [
      "10seg775385_0 0.2999999138625565\n",
      "500\n"
     ]
    },
    {
     "name": "stderr",
     "output_type": "stream",
     "text": [
      "100%|██████████| 500/500 [00:21<00:00, 23.05it/s]\n",
      "/home/skymap/anaconda3/envs/farm/lib/python3.6/site-packages/pyproj/crs/crs.py:53: FutureWarning: '+init=<authority>:<code>' syntax is deprecated. '<authority>:<code>' is the preferred initialization method. When making the change, be mindful of axis order changes: https://pyproj4.github.io/pyproj/stable/gotchas.html#axis-order-changes-in-proj-6\n",
      "  return _prepare_from_string(\" \".join(pjargs))\n",
      "/home/skymap/anaconda3/envs/farm/lib/python3.6/site-packages/pyproj/crs/crs.py:294: FutureWarning: '+init=<authority>:<code>' syntax is deprecated. '<authority>:<code>' is the preferred initialization method. When making the change, be mindful of axis order changes: https://pyproj4.github.io/pyproj/stable/gotchas.html#axis-order-changes-in-proj-6\n",
      "  projstring = _prepare_from_string(\" \".join((projstring, projkwargs)))\n",
      "/home/skymap/anaconda3/envs/farm/lib/python3.6/site-packages/pyproj/crs/crs.py:53: FutureWarning: '+init=<authority>:<code>' syntax is deprecated. '<authority>:<code>' is the preferred initialization method. When making the change, be mindful of axis order changes: https://pyproj4.github.io/pyproj/stable/gotchas.html#axis-order-changes-in-proj-6\n",
      "  return _prepare_from_string(\" \".join(pjargs))\n",
      "/home/skymap/anaconda3/envs/farm/lib/python3.6/site-packages/pyproj/crs/crs.py:294: FutureWarning: '+init=<authority>:<code>' syntax is deprecated. '<authority>:<code>' is the preferred initialization method. When making the change, be mindful of axis order changes: https://pyproj4.github.io/pyproj/stable/gotchas.html#axis-order-changes-in-proj-6\n",
      "  projstring = _prepare_from_string(\" \".join((projstring, projkwargs)))\n"
     ]
    },
    {
     "name": "stdout",
     "output_type": "stream",
     "text": [
      "5000 5000\n"
     ]
    },
    {
     "name": "stderr",
     "output_type": "stream",
     "text": [
      "/home/skymap/anaconda3/envs/farm/lib/python3.6/site-packages/pyproj/crs/crs.py:53: FutureWarning: '+init=<authority>:<code>' syntax is deprecated. '<authority>:<code>' is the preferred initialization method. When making the change, be mindful of axis order changes: https://pyproj4.github.io/pyproj/stable/gotchas.html#axis-order-changes-in-proj-6\n",
      "  return _prepare_from_string(\" \".join(pjargs))\n",
      "/home/skymap/anaconda3/envs/farm/lib/python3.6/site-packages/pyproj/crs/crs.py:294: FutureWarning: '+init=<authority>:<code>' syntax is deprecated. '<authority>:<code>' is the preferred initialization method. When making the change, be mindful of axis order changes: https://pyproj4.github.io/pyproj/stable/gotchas.html#axis-order-changes-in-proj-6\n",
      "  projstring = _prepare_from_string(\" \".join((projstring, projkwargs)))\n",
      "/home/skymap/anaconda3/envs/farm/lib/python3.6/site-packages/pyproj/crs/crs.py:53: FutureWarning: '+init=<authority>:<code>' syntax is deprecated. '<authority>:<code>' is the preferred initialization method. When making the change, be mindful of axis order changes: https://pyproj4.github.io/pyproj/stable/gotchas.html#axis-order-changes-in-proj-6\n",
      "  return _prepare_from_string(\" \".join(pjargs))\n",
      "/home/skymap/anaconda3/envs/farm/lib/python3.6/site-packages/pyproj/crs/crs.py:294: FutureWarning: '+init=<authority>:<code>' syntax is deprecated. '<authority>:<code>' is the preferred initialization method. When making the change, be mindful of axis order changes: https://pyproj4.github.io/pyproj/stable/gotchas.html#axis-order-changes-in-proj-6\n",
      "  projstring = _prepare_from_string(\" \".join((projstring, projkwargs)))\n"
     ]
    },
    {
     "name": "stdout",
     "output_type": "stream",
     "text": [
      "10seg775400_0 0.29999980225063483\n",
      "500\n"
     ]
    },
    {
     "name": "stderr",
     "output_type": "stream",
     "text": [
      "100%|██████████| 500/500 [00:17<00:00, 28.43it/s]\n",
      "/home/skymap/anaconda3/envs/farm/lib/python3.6/site-packages/pyproj/crs/crs.py:53: FutureWarning: '+init=<authority>:<code>' syntax is deprecated. '<authority>:<code>' is the preferred initialization method. When making the change, be mindful of axis order changes: https://pyproj4.github.io/pyproj/stable/gotchas.html#axis-order-changes-in-proj-6\n",
      "  return _prepare_from_string(\" \".join(pjargs))\n",
      "/home/skymap/anaconda3/envs/farm/lib/python3.6/site-packages/pyproj/crs/crs.py:294: FutureWarning: '+init=<authority>:<code>' syntax is deprecated. '<authority>:<code>' is the preferred initialization method. When making the change, be mindful of axis order changes: https://pyproj4.github.io/pyproj/stable/gotchas.html#axis-order-changes-in-proj-6\n",
      "  projstring = _prepare_from_string(\" \".join((projstring, projkwargs)))\n"
     ]
    },
    {
     "name": "stdout",
     "output_type": "stream",
     "text": [
      "5000 5000\n"
     ]
    },
    {
     "name": "stderr",
     "output_type": "stream",
     "text": [
      "/home/skymap/anaconda3/envs/farm/lib/python3.6/site-packages/pyproj/crs/crs.py:53: FutureWarning: '+init=<authority>:<code>' syntax is deprecated. '<authority>:<code>' is the preferred initialization method. When making the change, be mindful of axis order changes: https://pyproj4.github.io/pyproj/stable/gotchas.html#axis-order-changes-in-proj-6\n",
      "  return _prepare_from_string(\" \".join(pjargs))\n",
      "/home/skymap/anaconda3/envs/farm/lib/python3.6/site-packages/pyproj/crs/crs.py:294: FutureWarning: '+init=<authority>:<code>' syntax is deprecated. '<authority>:<code>' is the preferred initialization method. When making the change, be mindful of axis order changes: https://pyproj4.github.io/pyproj/stable/gotchas.html#axis-order-changes-in-proj-6\n",
      "  projstring = _prepare_from_string(\" \".join((projstring, projkwargs)))\n",
      "/home/skymap/anaconda3/envs/farm/lib/python3.6/site-packages/pyproj/crs/crs.py:53: FutureWarning: '+init=<authority>:<code>' syntax is deprecated. '<authority>:<code>' is the preferred initialization method. When making the change, be mindful of axis order changes: https://pyproj4.github.io/pyproj/stable/gotchas.html#axis-order-changes-in-proj-6\n",
      "  return _prepare_from_string(\" \".join(pjargs))\n",
      "/home/skymap/anaconda3/envs/farm/lib/python3.6/site-packages/pyproj/crs/crs.py:294: FutureWarning: '+init=<authority>:<code>' syntax is deprecated. '<authority>:<code>' is the preferred initialization method. When making the change, be mindful of axis order changes: https://pyproj4.github.io/pyproj/stable/gotchas.html#axis-order-changes-in-proj-6\n",
      "  projstring = _prepare_from_string(\" \".join((projstring, projkwargs)))\n",
      "/home/skymap/anaconda3/envs/farm/lib/python3.6/site-packages/pyproj/crs/crs.py:53: FutureWarning: '+init=<authority>:<code>' syntax is deprecated. '<authority>:<code>' is the preferred initialization method. When making the change, be mindful of axis order changes: https://pyproj4.github.io/pyproj/stable/gotchas.html#axis-order-changes-in-proj-6\n",
      "  return _prepare_from_string(\" \".join(pjargs))\n",
      "/home/skymap/anaconda3/envs/farm/lib/python3.6/site-packages/pyproj/crs/crs.py:294: FutureWarning: '+init=<authority>:<code>' syntax is deprecated. '<authority>:<code>' is the preferred initialization method. When making the change, be mindful of axis order changes: https://pyproj4.github.io/pyproj/stable/gotchas.html#axis-order-changes-in-proj-6\n",
      "  projstring = _prepare_from_string(\" \".join((projstring, projkwargs)))\n"
     ]
    },
    {
     "name": "stdout",
     "output_type": "stream",
     "text": [
      "10seg790340_0 0.3000003648563424\n",
      "500\n"
     ]
    },
    {
     "name": "stderr",
     "output_type": "stream",
     "text": [
      "100%|██████████| 500/500 [00:21<00:00, 23.09it/s]\n",
      "/home/skymap/anaconda3/envs/farm/lib/python3.6/site-packages/pyproj/crs/crs.py:53: FutureWarning: '+init=<authority>:<code>' syntax is deprecated. '<authority>:<code>' is the preferred initialization method. When making the change, be mindful of axis order changes: https://pyproj4.github.io/pyproj/stable/gotchas.html#axis-order-changes-in-proj-6\n",
      "  return _prepare_from_string(\" \".join(pjargs))\n",
      "/home/skymap/anaconda3/envs/farm/lib/python3.6/site-packages/pyproj/crs/crs.py:294: FutureWarning: '+init=<authority>:<code>' syntax is deprecated. '<authority>:<code>' is the preferred initialization method. When making the change, be mindful of axis order changes: https://pyproj4.github.io/pyproj/stable/gotchas.html#axis-order-changes-in-proj-6\n",
      "  projstring = _prepare_from_string(\" \".join((projstring, projkwargs)))\n",
      "/home/skymap/anaconda3/envs/farm/lib/python3.6/site-packages/pyproj/crs/crs.py:53: FutureWarning: '+init=<authority>:<code>' syntax is deprecated. '<authority>:<code>' is the preferred initialization method. When making the change, be mindful of axis order changes: https://pyproj4.github.io/pyproj/stable/gotchas.html#axis-order-changes-in-proj-6\n",
      "  return _prepare_from_string(\" \".join(pjargs))\n",
      "/home/skymap/anaconda3/envs/farm/lib/python3.6/site-packages/pyproj/crs/crs.py:294: FutureWarning: '+init=<authority>:<code>' syntax is deprecated. '<authority>:<code>' is the preferred initialization method. When making the change, be mindful of axis order changes: https://pyproj4.github.io/pyproj/stable/gotchas.html#axis-order-changes-in-proj-6\n",
      "  projstring = _prepare_from_string(\" \".join((projstring, projkwargs)))\n"
     ]
    },
    {
     "name": "stdout",
     "output_type": "stream",
     "text": [
      "5000 5000\n"
     ]
    },
    {
     "name": "stderr",
     "output_type": "stream",
     "text": [
      "/home/skymap/anaconda3/envs/farm/lib/python3.6/site-packages/pyproj/crs/crs.py:53: FutureWarning: '+init=<authority>:<code>' syntax is deprecated. '<authority>:<code>' is the preferred initialization method. When making the change, be mindful of axis order changes: https://pyproj4.github.io/pyproj/stable/gotchas.html#axis-order-changes-in-proj-6\n",
      "  return _prepare_from_string(\" \".join(pjargs))\n",
      "/home/skymap/anaconda3/envs/farm/lib/python3.6/site-packages/pyproj/crs/crs.py:294: FutureWarning: '+init=<authority>:<code>' syntax is deprecated. '<authority>:<code>' is the preferred initialization method. When making the change, be mindful of axis order changes: https://pyproj4.github.io/pyproj/stable/gotchas.html#axis-order-changes-in-proj-6\n",
      "  projstring = _prepare_from_string(\" \".join((projstring, projkwargs)))\n",
      "/home/skymap/anaconda3/envs/farm/lib/python3.6/site-packages/pyproj/crs/crs.py:53: FutureWarning: '+init=<authority>:<code>' syntax is deprecated. '<authority>:<code>' is the preferred initialization method. When making the change, be mindful of axis order changes: https://pyproj4.github.io/pyproj/stable/gotchas.html#axis-order-changes-in-proj-6\n",
      "  return _prepare_from_string(\" \".join(pjargs))\n",
      "/home/skymap/anaconda3/envs/farm/lib/python3.6/site-packages/pyproj/crs/crs.py:294: FutureWarning: '+init=<authority>:<code>' syntax is deprecated. '<authority>:<code>' is the preferred initialization method. When making the change, be mindful of axis order changes: https://pyproj4.github.io/pyproj/stable/gotchas.html#axis-order-changes-in-proj-6\n",
      "  projstring = _prepare_from_string(\" \".join((projstring, projkwargs)))\n"
     ]
    },
    {
     "name": "stdout",
     "output_type": "stream",
     "text": [
      "10seg790355_0 0.300000253334507\n",
      "500\n"
     ]
    },
    {
     "name": "stderr",
     "output_type": "stream",
     "text": [
      "100%|██████████| 500/500 [00:15<00:00, 32.16it/s]\n",
      "/home/skymap/anaconda3/envs/farm/lib/python3.6/site-packages/pyproj/crs/crs.py:53: FutureWarning: '+init=<authority>:<code>' syntax is deprecated. '<authority>:<code>' is the preferred initialization method. When making the change, be mindful of axis order changes: https://pyproj4.github.io/pyproj/stable/gotchas.html#axis-order-changes-in-proj-6\n",
      "  return _prepare_from_string(\" \".join(pjargs))\n",
      "/home/skymap/anaconda3/envs/farm/lib/python3.6/site-packages/pyproj/crs/crs.py:294: FutureWarning: '+init=<authority>:<code>' syntax is deprecated. '<authority>:<code>' is the preferred initialization method. When making the change, be mindful of axis order changes: https://pyproj4.github.io/pyproj/stable/gotchas.html#axis-order-changes-in-proj-6\n",
      "  projstring = _prepare_from_string(\" \".join((projstring, projkwargs)))\n",
      "/home/skymap/anaconda3/envs/farm/lib/python3.6/site-packages/pyproj/crs/crs.py:53: FutureWarning: '+init=<authority>:<code>' syntax is deprecated. '<authority>:<code>' is the preferred initialization method. When making the change, be mindful of axis order changes: https://pyproj4.github.io/pyproj/stable/gotchas.html#axis-order-changes-in-proj-6\n",
      "  return _prepare_from_string(\" \".join(pjargs))\n",
      "/home/skymap/anaconda3/envs/farm/lib/python3.6/site-packages/pyproj/crs/crs.py:294: FutureWarning: '+init=<authority>:<code>' syntax is deprecated. '<authority>:<code>' is the preferred initialization method. When making the change, be mindful of axis order changes: https://pyproj4.github.io/pyproj/stable/gotchas.html#axis-order-changes-in-proj-6\n",
      "  projstring = _prepare_from_string(\" \".join((projstring, projkwargs)))\n"
     ]
    },
    {
     "name": "stdout",
     "output_type": "stream",
     "text": [
      "5000 5000\n"
     ]
    },
    {
     "name": "stderr",
     "output_type": "stream",
     "text": [
      "/home/skymap/anaconda3/envs/farm/lib/python3.6/site-packages/pyproj/crs/crs.py:53: FutureWarning: '+init=<authority>:<code>' syntax is deprecated. '<authority>:<code>' is the preferred initialization method. When making the change, be mindful of axis order changes: https://pyproj4.github.io/pyproj/stable/gotchas.html#axis-order-changes-in-proj-6\n",
      "  return _prepare_from_string(\" \".join(pjargs))\n",
      "/home/skymap/anaconda3/envs/farm/lib/python3.6/site-packages/pyproj/crs/crs.py:294: FutureWarning: '+init=<authority>:<code>' syntax is deprecated. '<authority>:<code>' is the preferred initialization method. When making the change, be mindful of axis order changes: https://pyproj4.github.io/pyproj/stable/gotchas.html#axis-order-changes-in-proj-6\n",
      "  projstring = _prepare_from_string(\" \".join((projstring, projkwargs)))\n",
      "/home/skymap/anaconda3/envs/farm/lib/python3.6/site-packages/pyproj/crs/crs.py:53: FutureWarning: '+init=<authority>:<code>' syntax is deprecated. '<authority>:<code>' is the preferred initialization method. When making the change, be mindful of axis order changes: https://pyproj4.github.io/pyproj/stable/gotchas.html#axis-order-changes-in-proj-6\n",
      "  return _prepare_from_string(\" \".join(pjargs))\n",
      "/home/skymap/anaconda3/envs/farm/lib/python3.6/site-packages/pyproj/crs/crs.py:294: FutureWarning: '+init=<authority>:<code>' syntax is deprecated. '<authority>:<code>' is the preferred initialization method. When making the change, be mindful of axis order changes: https://pyproj4.github.io/pyproj/stable/gotchas.html#axis-order-changes-in-proj-6\n",
      "  projstring = _prepare_from_string(\" \".join((projstring, projkwargs)))\n"
     ]
    },
    {
     "name": "stdout",
     "output_type": "stream",
     "text": [
      "10seg790370_0 0.3000001417885756\n",
      "500\n"
     ]
    },
    {
     "name": "stderr",
     "output_type": "stream",
     "text": [
      "100%|██████████| 500/500 [00:23<00:00, 21.71it/s]\n",
      "/home/skymap/anaconda3/envs/farm/lib/python3.6/site-packages/pyproj/crs/crs.py:53: FutureWarning: '+init=<authority>:<code>' syntax is deprecated. '<authority>:<code>' is the preferred initialization method. When making the change, be mindful of axis order changes: https://pyproj4.github.io/pyproj/stable/gotchas.html#axis-order-changes-in-proj-6\n",
      "  return _prepare_from_string(\" \".join(pjargs))\n",
      "/home/skymap/anaconda3/envs/farm/lib/python3.6/site-packages/pyproj/crs/crs.py:294: FutureWarning: '+init=<authority>:<code>' syntax is deprecated. '<authority>:<code>' is the preferred initialization method. When making the change, be mindful of axis order changes: https://pyproj4.github.io/pyproj/stable/gotchas.html#axis-order-changes-in-proj-6\n",
      "  projstring = _prepare_from_string(\" \".join((projstring, projkwargs)))\n",
      "/home/skymap/anaconda3/envs/farm/lib/python3.6/site-packages/pyproj/crs/crs.py:53: FutureWarning: '+init=<authority>:<code>' syntax is deprecated. '<authority>:<code>' is the preferred initialization method. When making the change, be mindful of axis order changes: https://pyproj4.github.io/pyproj/stable/gotchas.html#axis-order-changes-in-proj-6\n",
      "  return _prepare_from_string(\" \".join(pjargs))\n",
      "/home/skymap/anaconda3/envs/farm/lib/python3.6/site-packages/pyproj/crs/crs.py:294: FutureWarning: '+init=<authority>:<code>' syntax is deprecated. '<authority>:<code>' is the preferred initialization method. When making the change, be mindful of axis order changes: https://pyproj4.github.io/pyproj/stable/gotchas.html#axis-order-changes-in-proj-6\n",
      "  projstring = _prepare_from_string(\" \".join((projstring, projkwargs)))\n"
     ]
    },
    {
     "name": "stdout",
     "output_type": "stream",
     "text": [
      "5000 5000\n"
     ]
    },
    {
     "name": "stderr",
     "output_type": "stream",
     "text": [
      "/home/skymap/anaconda3/envs/farm/lib/python3.6/site-packages/pyproj/crs/crs.py:53: FutureWarning: '+init=<authority>:<code>' syntax is deprecated. '<authority>:<code>' is the preferred initialization method. When making the change, be mindful of axis order changes: https://pyproj4.github.io/pyproj/stable/gotchas.html#axis-order-changes-in-proj-6\n",
      "  return _prepare_from_string(\" \".join(pjargs))\n",
      "/home/skymap/anaconda3/envs/farm/lib/python3.6/site-packages/pyproj/crs/crs.py:294: FutureWarning: '+init=<authority>:<code>' syntax is deprecated. '<authority>:<code>' is the preferred initialization method. When making the change, be mindful of axis order changes: https://pyproj4.github.io/pyproj/stable/gotchas.html#axis-order-changes-in-proj-6\n",
      "  projstring = _prepare_from_string(\" \".join((projstring, projkwargs)))\n",
      "/home/skymap/anaconda3/envs/farm/lib/python3.6/site-packages/pyproj/crs/crs.py:53: FutureWarning: '+init=<authority>:<code>' syntax is deprecated. '<authority>:<code>' is the preferred initialization method. When making the change, be mindful of axis order changes: https://pyproj4.github.io/pyproj/stable/gotchas.html#axis-order-changes-in-proj-6\n",
      "  return _prepare_from_string(\" \".join(pjargs))\n",
      "/home/skymap/anaconda3/envs/farm/lib/python3.6/site-packages/pyproj/crs/crs.py:294: FutureWarning: '+init=<authority>:<code>' syntax is deprecated. '<authority>:<code>' is the preferred initialization method. When making the change, be mindful of axis order changes: https://pyproj4.github.io/pyproj/stable/gotchas.html#axis-order-changes-in-proj-6\n",
      "  projstring = _prepare_from_string(\" \".join((projstring, projkwargs)))\n"
     ]
    },
    {
     "name": "stdout",
     "output_type": "stream",
     "text": [
      "10seg790385_0 0.3000000302193397\n",
      "500\n"
     ]
    },
    {
     "name": "stderr",
     "output_type": "stream",
     "text": [
      "100%|██████████| 500/500 [00:16<00:00, 30.56it/s]\n",
      "/home/skymap/anaconda3/envs/farm/lib/python3.6/site-packages/pyproj/crs/crs.py:53: FutureWarning: '+init=<authority>:<code>' syntax is deprecated. '<authority>:<code>' is the preferred initialization method. When making the change, be mindful of axis order changes: https://pyproj4.github.io/pyproj/stable/gotchas.html#axis-order-changes-in-proj-6\n",
      "  return _prepare_from_string(\" \".join(pjargs))\n",
      "/home/skymap/anaconda3/envs/farm/lib/python3.6/site-packages/pyproj/crs/crs.py:294: FutureWarning: '+init=<authority>:<code>' syntax is deprecated. '<authority>:<code>' is the preferred initialization method. When making the change, be mindful of axis order changes: https://pyproj4.github.io/pyproj/stable/gotchas.html#axis-order-changes-in-proj-6\n",
      "  projstring = _prepare_from_string(\" \".join((projstring, projkwargs)))\n"
     ]
    },
    {
     "name": "stdout",
     "output_type": "stream",
     "text": [
      "5000 5000\n"
     ]
    },
    {
     "name": "stderr",
     "output_type": "stream",
     "text": [
      "/home/skymap/anaconda3/envs/farm/lib/python3.6/site-packages/pyproj/crs/crs.py:53: FutureWarning: '+init=<authority>:<code>' syntax is deprecated. '<authority>:<code>' is the preferred initialization method. When making the change, be mindful of axis order changes: https://pyproj4.github.io/pyproj/stable/gotchas.html#axis-order-changes-in-proj-6\n",
      "  return _prepare_from_string(\" \".join(pjargs))\n",
      "/home/skymap/anaconda3/envs/farm/lib/python3.6/site-packages/pyproj/crs/crs.py:294: FutureWarning: '+init=<authority>:<code>' syntax is deprecated. '<authority>:<code>' is the preferred initialization method. When making the change, be mindful of axis order changes: https://pyproj4.github.io/pyproj/stable/gotchas.html#axis-order-changes-in-proj-6\n",
      "  projstring = _prepare_from_string(\" \".join((projstring, projkwargs)))\n",
      "/home/skymap/anaconda3/envs/farm/lib/python3.6/site-packages/pyproj/crs/crs.py:53: FutureWarning: '+init=<authority>:<code>' syntax is deprecated. '<authority>:<code>' is the preferred initialization method. When making the change, be mindful of axis order changes: https://pyproj4.github.io/pyproj/stable/gotchas.html#axis-order-changes-in-proj-6\n",
      "  return _prepare_from_string(\" \".join(pjargs))\n",
      "/home/skymap/anaconda3/envs/farm/lib/python3.6/site-packages/pyproj/crs/crs.py:294: FutureWarning: '+init=<authority>:<code>' syntax is deprecated. '<authority>:<code>' is the preferred initialization method. When making the change, be mindful of axis order changes: https://pyproj4.github.io/pyproj/stable/gotchas.html#axis-order-changes-in-proj-6\n",
      "  projstring = _prepare_from_string(\" \".join((projstring, projkwargs)))\n",
      "/home/skymap/anaconda3/envs/farm/lib/python3.6/site-packages/pyproj/crs/crs.py:53: FutureWarning: '+init=<authority>:<code>' syntax is deprecated. '<authority>:<code>' is the preferred initialization method. When making the change, be mindful of axis order changes: https://pyproj4.github.io/pyproj/stable/gotchas.html#axis-order-changes-in-proj-6\n",
      "  return _prepare_from_string(\" \".join(pjargs))\n",
      "/home/skymap/anaconda3/envs/farm/lib/python3.6/site-packages/pyproj/crs/crs.py:294: FutureWarning: '+init=<authority>:<code>' syntax is deprecated. '<authority>:<code>' is the preferred initialization method. When making the change, be mindful of axis order changes: https://pyproj4.github.io/pyproj/stable/gotchas.html#axis-order-changes-in-proj-6\n",
      "  projstring = _prepare_from_string(\" \".join((projstring, projkwargs)))\n"
     ]
    },
    {
     "name": "stdout",
     "output_type": "stream",
     "text": [
      "10seg805325_0 0.30000059270663626\n",
      "500\n"
     ]
    },
    {
     "name": "stderr",
     "output_type": "stream",
     "text": [
      "100%|██████████| 500/500 [00:22<00:00, 21.89it/s]\n",
      "/home/skymap/anaconda3/envs/farm/lib/python3.6/site-packages/pyproj/crs/crs.py:53: FutureWarning: '+init=<authority>:<code>' syntax is deprecated. '<authority>:<code>' is the preferred initialization method. When making the change, be mindful of axis order changes: https://pyproj4.github.io/pyproj/stable/gotchas.html#axis-order-changes-in-proj-6\n",
      "  return _prepare_from_string(\" \".join(pjargs))\n",
      "/home/skymap/anaconda3/envs/farm/lib/python3.6/site-packages/pyproj/crs/crs.py:294: FutureWarning: '+init=<authority>:<code>' syntax is deprecated. '<authority>:<code>' is the preferred initialization method. When making the change, be mindful of axis order changes: https://pyproj4.github.io/pyproj/stable/gotchas.html#axis-order-changes-in-proj-6\n",
      "  projstring = _prepare_from_string(\" \".join((projstring, projkwargs)))\n",
      "/home/skymap/anaconda3/envs/farm/lib/python3.6/site-packages/pyproj/crs/crs.py:53: FutureWarning: '+init=<authority>:<code>' syntax is deprecated. '<authority>:<code>' is the preferred initialization method. When making the change, be mindful of axis order changes: https://pyproj4.github.io/pyproj/stable/gotchas.html#axis-order-changes-in-proj-6\n",
      "  return _prepare_from_string(\" \".join(pjargs))\n",
      "/home/skymap/anaconda3/envs/farm/lib/python3.6/site-packages/pyproj/crs/crs.py:294: FutureWarning: '+init=<authority>:<code>' syntax is deprecated. '<authority>:<code>' is the preferred initialization method. When making the change, be mindful of axis order changes: https://pyproj4.github.io/pyproj/stable/gotchas.html#axis-order-changes-in-proj-6\n",
      "  projstring = _prepare_from_string(\" \".join((projstring, projkwargs)))\n"
     ]
    },
    {
     "name": "stdout",
     "output_type": "stream",
     "text": [
      "5000 5000\n"
     ]
    },
    {
     "name": "stderr",
     "output_type": "stream",
     "text": [
      "/home/skymap/anaconda3/envs/farm/lib/python3.6/site-packages/pyproj/crs/crs.py:53: FutureWarning: '+init=<authority>:<code>' syntax is deprecated. '<authority>:<code>' is the preferred initialization method. When making the change, be mindful of axis order changes: https://pyproj4.github.io/pyproj/stable/gotchas.html#axis-order-changes-in-proj-6\n",
      "  return _prepare_from_string(\" \".join(pjargs))\n",
      "/home/skymap/anaconda3/envs/farm/lib/python3.6/site-packages/pyproj/crs/crs.py:294: FutureWarning: '+init=<authority>:<code>' syntax is deprecated. '<authority>:<code>' is the preferred initialization method. When making the change, be mindful of axis order changes: https://pyproj4.github.io/pyproj/stable/gotchas.html#axis-order-changes-in-proj-6\n",
      "  projstring = _prepare_from_string(\" \".join((projstring, projkwargs)))\n",
      "/home/skymap/anaconda3/envs/farm/lib/python3.6/site-packages/pyproj/crs/crs.py:53: FutureWarning: '+init=<authority>:<code>' syntax is deprecated. '<authority>:<code>' is the preferred initialization method. When making the change, be mindful of axis order changes: https://pyproj4.github.io/pyproj/stable/gotchas.html#axis-order-changes-in-proj-6\n",
      "  return _prepare_from_string(\" \".join(pjargs))\n",
      "/home/skymap/anaconda3/envs/farm/lib/python3.6/site-packages/pyproj/crs/crs.py:294: FutureWarning: '+init=<authority>:<code>' syntax is deprecated. '<authority>:<code>' is the preferred initialization method. When making the change, be mindful of axis order changes: https://pyproj4.github.io/pyproj/stable/gotchas.html#axis-order-changes-in-proj-6\n",
      "  projstring = _prepare_from_string(\" \".join((projstring, projkwargs)))\n"
     ]
    },
    {
     "name": "stdout",
     "output_type": "stream",
     "text": [
      "10seg805340_0 0.3000004812270444\n",
      "500\n"
     ]
    },
    {
     "name": "stderr",
     "output_type": "stream",
     "text": [
      "100%|██████████| 500/500 [00:16<00:00, 30.83it/s]\n",
      "/home/skymap/anaconda3/envs/farm/lib/python3.6/site-packages/pyproj/crs/crs.py:53: FutureWarning: '+init=<authority>:<code>' syntax is deprecated. '<authority>:<code>' is the preferred initialization method. When making the change, be mindful of axis order changes: https://pyproj4.github.io/pyproj/stable/gotchas.html#axis-order-changes-in-proj-6\n",
      "  return _prepare_from_string(\" \".join(pjargs))\n",
      "/home/skymap/anaconda3/envs/farm/lib/python3.6/site-packages/pyproj/crs/crs.py:294: FutureWarning: '+init=<authority>:<code>' syntax is deprecated. '<authority>:<code>' is the preferred initialization method. When making the change, be mindful of axis order changes: https://pyproj4.github.io/pyproj/stable/gotchas.html#axis-order-changes-in-proj-6\n",
      "  projstring = _prepare_from_string(\" \".join((projstring, projkwargs)))\n"
     ]
    },
    {
     "name": "stdout",
     "output_type": "stream",
     "text": [
      "11966 9669\n"
     ]
    },
    {
     "name": "stderr",
     "output_type": "stream",
     "text": [
      "/home/skymap/anaconda3/envs/farm/lib/python3.6/site-packages/pyproj/crs/crs.py:53: FutureWarning: '+init=<authority>:<code>' syntax is deprecated. '<authority>:<code>' is the preferred initialization method. When making the change, be mindful of axis order changes: https://pyproj4.github.io/pyproj/stable/gotchas.html#axis-order-changes-in-proj-6\n",
      "  return _prepare_from_string(\" \".join(pjargs))\n",
      "/home/skymap/anaconda3/envs/farm/lib/python3.6/site-packages/pyproj/crs/crs.py:294: FutureWarning: '+init=<authority>:<code>' syntax is deprecated. '<authority>:<code>' is the preferred initialization method. When making the change, be mindful of axis order changes: https://pyproj4.github.io/pyproj/stable/gotchas.html#axis-order-changes-in-proj-6\n",
      "  projstring = _prepare_from_string(\" \".join((projstring, projkwargs)))\n"
     ]
    },
    {
     "name": "stdout",
     "output_type": "stream",
     "text": [
      "3IN_sample_0 0.07631798693527607\n",
      "500\n"
     ]
    },
    {
     "name": "stderr",
     "output_type": "stream",
     "text": [
      "100%|██████████| 500/500 [01:41<00:00,  4.94it/s]\n",
      "/home/skymap/anaconda3/envs/farm/lib/python3.6/site-packages/pyproj/crs/crs.py:53: FutureWarning: '+init=<authority>:<code>' syntax is deprecated. '<authority>:<code>' is the preferred initialization method. When making the change, be mindful of axis order changes: https://pyproj4.github.io/pyproj/stable/gotchas.html#axis-order-changes-in-proj-6\n",
      "  return _prepare_from_string(\" \".join(pjargs))\n",
      "/home/skymap/anaconda3/envs/farm/lib/python3.6/site-packages/pyproj/crs/crs.py:294: FutureWarning: '+init=<authority>:<code>' syntax is deprecated. '<authority>:<code>' is the preferred initialization method. When making the change, be mindful of axis order changes: https://pyproj4.github.io/pyproj/stable/gotchas.html#axis-order-changes-in-proj-6\n",
      "  projstring = _prepare_from_string(\" \".join((projstring, projkwargs)))\n",
      "/home/skymap/anaconda3/envs/farm/lib/python3.6/site-packages/pyproj/crs/crs.py:53: FutureWarning: '+init=<authority>:<code>' syntax is deprecated. '<authority>:<code>' is the preferred initialization method. When making the change, be mindful of axis order changes: https://pyproj4.github.io/pyproj/stable/gotchas.html#axis-order-changes-in-proj-6\n",
      "  return _prepare_from_string(\" \".join(pjargs))\n",
      "/home/skymap/anaconda3/envs/farm/lib/python3.6/site-packages/pyproj/crs/crs.py:294: FutureWarning: '+init=<authority>:<code>' syntax is deprecated. '<authority>:<code>' is the preferred initialization method. When making the change, be mindful of axis order changes: https://pyproj4.github.io/pyproj/stable/gotchas.html#axis-order-changes-in-proj-6\n",
      "  projstring = _prepare_from_string(\" \".join((projstring, projkwargs)))\n"
     ]
    },
    {
     "name": "stdout",
     "output_type": "stream",
     "text": [
      "5800 4600\n"
     ]
    },
    {
     "name": "stderr",
     "output_type": "stream",
     "text": [
      "/home/skymap/anaconda3/envs/farm/lib/python3.6/site-packages/pyproj/crs/crs.py:53: FutureWarning: '+init=<authority>:<code>' syntax is deprecated. '<authority>:<code>' is the preferred initialization method. When making the change, be mindful of axis order changes: https://pyproj4.github.io/pyproj/stable/gotchas.html#axis-order-changes-in-proj-6\n",
      "  return _prepare_from_string(\" \".join(pjargs))\n",
      "/home/skymap/anaconda3/envs/farm/lib/python3.6/site-packages/pyproj/crs/crs.py:294: FutureWarning: '+init=<authority>:<code>' syntax is deprecated. '<authority>:<code>' is the preferred initialization method. When making the change, be mindful of axis order changes: https://pyproj4.github.io/pyproj/stable/gotchas.html#axis-order-changes-in-proj-6\n",
      "  projstring = _prepare_from_string(\" \".join((projstring, projkwargs)))\n",
      "/home/skymap/anaconda3/envs/farm/lib/python3.6/site-packages/pyproj/crs/crs.py:53: FutureWarning: '+init=<authority>:<code>' syntax is deprecated. '<authority>:<code>' is the preferred initialization method. When making the change, be mindful of axis order changes: https://pyproj4.github.io/pyproj/stable/gotchas.html#axis-order-changes-in-proj-6\n",
      "  return _prepare_from_string(\" \".join(pjargs))\n",
      "/home/skymap/anaconda3/envs/farm/lib/python3.6/site-packages/pyproj/crs/crs.py:294: FutureWarning: '+init=<authority>:<code>' syntax is deprecated. '<authority>:<code>' is the preferred initialization method. When making the change, be mindful of axis order changes: https://pyproj4.github.io/pyproj/stable/gotchas.html#axis-order-changes-in-proj-6\n",
      "  projstring = _prepare_from_string(\" \".join((projstring, projkwargs)))\n"
     ]
    },
    {
     "name": "stdout",
     "output_type": "stream",
     "text": [
      "53392514_0 0.2485155684554195\n",
      "500\n"
     ]
    },
    {
     "name": "stderr",
     "output_type": "stream",
     "text": [
      "100%|██████████| 500/500 [00:19<00:00, 25.81it/s]\n",
      "/home/skymap/anaconda3/envs/farm/lib/python3.6/site-packages/pyproj/crs/crs.py:53: FutureWarning: '+init=<authority>:<code>' syntax is deprecated. '<authority>:<code>' is the preferred initialization method. When making the change, be mindful of axis order changes: https://pyproj4.github.io/pyproj/stable/gotchas.html#axis-order-changes-in-proj-6\n",
      "  return _prepare_from_string(\" \".join(pjargs))\n",
      "/home/skymap/anaconda3/envs/farm/lib/python3.6/site-packages/pyproj/crs/crs.py:294: FutureWarning: '+init=<authority>:<code>' syntax is deprecated. '<authority>:<code>' is the preferred initialization method. When making the change, be mindful of axis order changes: https://pyproj4.github.io/pyproj/stable/gotchas.html#axis-order-changes-in-proj-6\n",
      "  projstring = _prepare_from_string(\" \".join((projstring, projkwargs)))\n",
      "/home/skymap/anaconda3/envs/farm/lib/python3.6/site-packages/pyproj/crs/crs.py:53: FutureWarning: '+init=<authority>:<code>' syntax is deprecated. '<authority>:<code>' is the preferred initialization method. When making the change, be mindful of axis order changes: https://pyproj4.github.io/pyproj/stable/gotchas.html#axis-order-changes-in-proj-6\n",
      "  return _prepare_from_string(\" \".join(pjargs))\n",
      "/home/skymap/anaconda3/envs/farm/lib/python3.6/site-packages/pyproj/crs/crs.py:294: FutureWarning: '+init=<authority>:<code>' syntax is deprecated. '<authority>:<code>' is the preferred initialization method. When making the change, be mindful of axis order changes: https://pyproj4.github.io/pyproj/stable/gotchas.html#axis-order-changes-in-proj-6\n",
      "  projstring = _prepare_from_string(\" \".join((projstring, projkwargs)))\n"
     ]
    },
    {
     "name": "stdout",
     "output_type": "stream",
     "text": [
      "5800 4600\n"
     ]
    },
    {
     "name": "stderr",
     "output_type": "stream",
     "text": [
      "/home/skymap/anaconda3/envs/farm/lib/python3.6/site-packages/pyproj/crs/crs.py:53: FutureWarning: '+init=<authority>:<code>' syntax is deprecated. '<authority>:<code>' is the preferred initialization method. When making the change, be mindful of axis order changes: https://pyproj4.github.io/pyproj/stable/gotchas.html#axis-order-changes-in-proj-6\n",
      "  return _prepare_from_string(\" \".join(pjargs))\n",
      "/home/skymap/anaconda3/envs/farm/lib/python3.6/site-packages/pyproj/crs/crs.py:294: FutureWarning: '+init=<authority>:<code>' syntax is deprecated. '<authority>:<code>' is the preferred initialization method. When making the change, be mindful of axis order changes: https://pyproj4.github.io/pyproj/stable/gotchas.html#axis-order-changes-in-proj-6\n",
      "  projstring = _prepare_from_string(\" \".join((projstring, projkwargs)))\n",
      "/home/skymap/anaconda3/envs/farm/lib/python3.6/site-packages/pyproj/crs/crs.py:53: FutureWarning: '+init=<authority>:<code>' syntax is deprecated. '<authority>:<code>' is the preferred initialization method. When making the change, be mindful of axis order changes: https://pyproj4.github.io/pyproj/stable/gotchas.html#axis-order-changes-in-proj-6\n",
      "  return _prepare_from_string(\" \".join(pjargs))\n",
      "/home/skymap/anaconda3/envs/farm/lib/python3.6/site-packages/pyproj/crs/crs.py:294: FutureWarning: '+init=<authority>:<code>' syntax is deprecated. '<authority>:<code>' is the preferred initialization method. When making the change, be mindful of axis order changes: https://pyproj4.github.io/pyproj/stable/gotchas.html#axis-order-changes-in-proj-6\n",
      "  projstring = _prepare_from_string(\" \".join((projstring, projkwargs)))\n"
     ]
    },
    {
     "name": "stdout",
     "output_type": "stream",
     "text": [
      "53392515_0 0.24850534965066537\n",
      "500\n"
     ]
    },
    {
     "name": "stderr",
     "output_type": "stream",
     "text": [
      "100%|██████████| 500/500 [00:20<00:00, 24.97it/s]\n",
      "/home/skymap/anaconda3/envs/farm/lib/python3.6/site-packages/pyproj/crs/crs.py:53: FutureWarning: '+init=<authority>:<code>' syntax is deprecated. '<authority>:<code>' is the preferred initialization method. When making the change, be mindful of axis order changes: https://pyproj4.github.io/pyproj/stable/gotchas.html#axis-order-changes-in-proj-6\n",
      "  return _prepare_from_string(\" \".join(pjargs))\n",
      "/home/skymap/anaconda3/envs/farm/lib/python3.6/site-packages/pyproj/crs/crs.py:294: FutureWarning: '+init=<authority>:<code>' syntax is deprecated. '<authority>:<code>' is the preferred initialization method. When making the change, be mindful of axis order changes: https://pyproj4.github.io/pyproj/stable/gotchas.html#axis-order-changes-in-proj-6\n",
      "  projstring = _prepare_from_string(\" \".join((projstring, projkwargs)))\n",
      "/home/skymap/anaconda3/envs/farm/lib/python3.6/site-packages/pyproj/crs/crs.py:53: FutureWarning: '+init=<authority>:<code>' syntax is deprecated. '<authority>:<code>' is the preferred initialization method. When making the change, be mindful of axis order changes: https://pyproj4.github.io/pyproj/stable/gotchas.html#axis-order-changes-in-proj-6\n",
      "  return _prepare_from_string(\" \".join(pjargs))\n",
      "/home/skymap/anaconda3/envs/farm/lib/python3.6/site-packages/pyproj/crs/crs.py:294: FutureWarning: '+init=<authority>:<code>' syntax is deprecated. '<authority>:<code>' is the preferred initialization method. When making the change, be mindful of axis order changes: https://pyproj4.github.io/pyproj/stable/gotchas.html#axis-order-changes-in-proj-6\n",
      "  projstring = _prepare_from_string(\" \".join((projstring, projkwargs)))\n"
     ]
    },
    {
     "name": "stdout",
     "output_type": "stream",
     "text": [
      "5800 4600\n"
     ]
    },
    {
     "name": "stderr",
     "output_type": "stream",
     "text": [
      "/home/skymap/anaconda3/envs/farm/lib/python3.6/site-packages/pyproj/crs/crs.py:53: FutureWarning: '+init=<authority>:<code>' syntax is deprecated. '<authority>:<code>' is the preferred initialization method. When making the change, be mindful of axis order changes: https://pyproj4.github.io/pyproj/stable/gotchas.html#axis-order-changes-in-proj-6\n",
      "  return _prepare_from_string(\" \".join(pjargs))\n",
      "/home/skymap/anaconda3/envs/farm/lib/python3.6/site-packages/pyproj/crs/crs.py:294: FutureWarning: '+init=<authority>:<code>' syntax is deprecated. '<authority>:<code>' is the preferred initialization method. When making the change, be mindful of axis order changes: https://pyproj4.github.io/pyproj/stable/gotchas.html#axis-order-changes-in-proj-6\n",
      "  projstring = _prepare_from_string(\" \".join((projstring, projkwargs)))\n",
      "/home/skymap/anaconda3/envs/farm/lib/python3.6/site-packages/pyproj/crs/crs.py:53: FutureWarning: '+init=<authority>:<code>' syntax is deprecated. '<authority>:<code>' is the preferred initialization method. When making the change, be mindful of axis order changes: https://pyproj4.github.io/pyproj/stable/gotchas.html#axis-order-changes-in-proj-6\n",
      "  return _prepare_from_string(\" \".join(pjargs))\n",
      "/home/skymap/anaconda3/envs/farm/lib/python3.6/site-packages/pyproj/crs/crs.py:294: FutureWarning: '+init=<authority>:<code>' syntax is deprecated. '<authority>:<code>' is the preferred initialization method. When making the change, be mindful of axis order changes: https://pyproj4.github.io/pyproj/stable/gotchas.html#axis-order-changes-in-proj-6\n",
      "  projstring = _prepare_from_string(\" \".join((projstring, projkwargs)))\n"
     ]
    },
    {
     "name": "stdout",
     "output_type": "stream",
     "text": [
      "53394620_0 0.24821570216547104\n",
      "500\n"
     ]
    },
    {
     "name": "stderr",
     "output_type": "stream",
     "text": [
      "100%|██████████| 500/500 [00:25<00:00, 19.24it/s]\n",
      "/home/skymap/anaconda3/envs/farm/lib/python3.6/site-packages/pyproj/crs/crs.py:53: FutureWarning: '+init=<authority>:<code>' syntax is deprecated. '<authority>:<code>' is the preferred initialization method. When making the change, be mindful of axis order changes: https://pyproj4.github.io/pyproj/stable/gotchas.html#axis-order-changes-in-proj-6\n",
      "  return _prepare_from_string(\" \".join(pjargs))\n",
      "/home/skymap/anaconda3/envs/farm/lib/python3.6/site-packages/pyproj/crs/crs.py:294: FutureWarning: '+init=<authority>:<code>' syntax is deprecated. '<authority>:<code>' is the preferred initialization method. When making the change, be mindful of axis order changes: https://pyproj4.github.io/pyproj/stable/gotchas.html#axis-order-changes-in-proj-6\n",
      "  projstring = _prepare_from_string(\" \".join((projstring, projkwargs)))\n",
      "/home/skymap/anaconda3/envs/farm/lib/python3.6/site-packages/pyproj/crs/crs.py:53: FutureWarning: '+init=<authority>:<code>' syntax is deprecated. '<authority>:<code>' is the preferred initialization method. When making the change, be mindful of axis order changes: https://pyproj4.github.io/pyproj/stable/gotchas.html#axis-order-changes-in-proj-6\n",
      "  return _prepare_from_string(\" \".join(pjargs))\n",
      "/home/skymap/anaconda3/envs/farm/lib/python3.6/site-packages/pyproj/crs/crs.py:294: FutureWarning: '+init=<authority>:<code>' syntax is deprecated. '<authority>:<code>' is the preferred initialization method. When making the change, be mindful of axis order changes: https://pyproj4.github.io/pyproj/stable/gotchas.html#axis-order-changes-in-proj-6\n",
      "  projstring = _prepare_from_string(\" \".join((projstring, projkwargs)))\n"
     ]
    },
    {
     "name": "stdout",
     "output_type": "stream",
     "text": [
      "5800 4600\n"
     ]
    },
    {
     "name": "stderr",
     "output_type": "stream",
     "text": [
      "/home/skymap/anaconda3/envs/farm/lib/python3.6/site-packages/pyproj/crs/crs.py:53: FutureWarning: '+init=<authority>:<code>' syntax is deprecated. '<authority>:<code>' is the preferred initialization method. When making the change, be mindful of axis order changes: https://pyproj4.github.io/pyproj/stable/gotchas.html#axis-order-changes-in-proj-6\n",
      "  return _prepare_from_string(\" \".join(pjargs))\n",
      "/home/skymap/anaconda3/envs/farm/lib/python3.6/site-packages/pyproj/crs/crs.py:294: FutureWarning: '+init=<authority>:<code>' syntax is deprecated. '<authority>:<code>' is the preferred initialization method. When making the change, be mindful of axis order changes: https://pyproj4.github.io/pyproj/stable/gotchas.html#axis-order-changes-in-proj-6\n",
      "  projstring = _prepare_from_string(\" \".join((projstring, projkwargs)))\n",
      "/home/skymap/anaconda3/envs/farm/lib/python3.6/site-packages/pyproj/crs/crs.py:53: FutureWarning: '+init=<authority>:<code>' syntax is deprecated. '<authority>:<code>' is the preferred initialization method. When making the change, be mindful of axis order changes: https://pyproj4.github.io/pyproj/stable/gotchas.html#axis-order-changes-in-proj-6\n",
      "  return _prepare_from_string(\" \".join(pjargs))\n",
      "/home/skymap/anaconda3/envs/farm/lib/python3.6/site-packages/pyproj/crs/crs.py:294: FutureWarning: '+init=<authority>:<code>' syntax is deprecated. '<authority>:<code>' is the preferred initialization method. When making the change, be mindful of axis order changes: https://pyproj4.github.io/pyproj/stable/gotchas.html#axis-order-changes-in-proj-6\n",
      "  projstring = _prepare_from_string(\" \".join((projstring, projkwargs)))\n"
     ]
    },
    {
     "name": "stdout",
     "output_type": "stream",
     "text": [
      "53394622_0 0.24819533085712028\n",
      "500\n"
     ]
    },
    {
     "name": "stderr",
     "output_type": "stream",
     "text": [
      "100%|██████████| 500/500 [00:18<00:00, 26.59it/s]\n",
      "/home/skymap/anaconda3/envs/farm/lib/python3.6/site-packages/pyproj/crs/crs.py:53: FutureWarning: '+init=<authority>:<code>' syntax is deprecated. '<authority>:<code>' is the preferred initialization method. When making the change, be mindful of axis order changes: https://pyproj4.github.io/pyproj/stable/gotchas.html#axis-order-changes-in-proj-6\n",
      "  return _prepare_from_string(\" \".join(pjargs))\n",
      "/home/skymap/anaconda3/envs/farm/lib/python3.6/site-packages/pyproj/crs/crs.py:294: FutureWarning: '+init=<authority>:<code>' syntax is deprecated. '<authority>:<code>' is the preferred initialization method. When making the change, be mindful of axis order changes: https://pyproj4.github.io/pyproj/stable/gotchas.html#axis-order-changes-in-proj-6\n",
      "  projstring = _prepare_from_string(\" \".join((projstring, projkwargs)))\n",
      "/home/skymap/anaconda3/envs/farm/lib/python3.6/site-packages/pyproj/crs/crs.py:53: FutureWarning: '+init=<authority>:<code>' syntax is deprecated. '<authority>:<code>' is the preferred initialization method. When making the change, be mindful of axis order changes: https://pyproj4.github.io/pyproj/stable/gotchas.html#axis-order-changes-in-proj-6\n",
      "  return _prepare_from_string(\" \".join(pjargs))\n",
      "/home/skymap/anaconda3/envs/farm/lib/python3.6/site-packages/pyproj/crs/crs.py:294: FutureWarning: '+init=<authority>:<code>' syntax is deprecated. '<authority>:<code>' is the preferred initialization method. When making the change, be mindful of axis order changes: https://pyproj4.github.io/pyproj/stable/gotchas.html#axis-order-changes-in-proj-6\n",
      "  projstring = _prepare_from_string(\" \".join((projstring, projkwargs)))\n"
     ]
    },
    {
     "name": "stdout",
     "output_type": "stream",
     "text": [
      "5800 4600\n"
     ]
    },
    {
     "name": "stderr",
     "output_type": "stream",
     "text": [
      "/home/skymap/anaconda3/envs/farm/lib/python3.6/site-packages/pyproj/crs/crs.py:53: FutureWarning: '+init=<authority>:<code>' syntax is deprecated. '<authority>:<code>' is the preferred initialization method. When making the change, be mindful of axis order changes: https://pyproj4.github.io/pyproj/stable/gotchas.html#axis-order-changes-in-proj-6\n",
      "  return _prepare_from_string(\" \".join(pjargs))\n",
      "/home/skymap/anaconda3/envs/farm/lib/python3.6/site-packages/pyproj/crs/crs.py:294: FutureWarning: '+init=<authority>:<code>' syntax is deprecated. '<authority>:<code>' is the preferred initialization method. When making the change, be mindful of axis order changes: https://pyproj4.github.io/pyproj/stable/gotchas.html#axis-order-changes-in-proj-6\n",
      "  projstring = _prepare_from_string(\" \".join((projstring, projkwargs)))\n",
      "/home/skymap/anaconda3/envs/farm/lib/python3.6/site-packages/pyproj/crs/crs.py:53: FutureWarning: '+init=<authority>:<code>' syntax is deprecated. '<authority>:<code>' is the preferred initialization method. When making the change, be mindful of axis order changes: https://pyproj4.github.io/pyproj/stable/gotchas.html#axis-order-changes-in-proj-6\n",
      "  return _prepare_from_string(\" \".join(pjargs))\n",
      "/home/skymap/anaconda3/envs/farm/lib/python3.6/site-packages/pyproj/crs/crs.py:294: FutureWarning: '+init=<authority>:<code>' syntax is deprecated. '<authority>:<code>' is the preferred initialization method. When making the change, be mindful of axis order changes: https://pyproj4.github.io/pyproj/stable/gotchas.html#axis-order-changes-in-proj-6\n",
      "  projstring = _prepare_from_string(\" \".join((projstring, projkwargs)))\n"
     ]
    },
    {
     "name": "stdout",
     "output_type": "stream",
     "text": [
      "53397720_0 0.2477670621441768\n",
      "500\n"
     ]
    },
    {
     "name": "stderr",
     "output_type": "stream",
     "text": [
      "100%|██████████| 500/500 [00:24<00:00, 20.66it/s]\n",
      "/home/skymap/anaconda3/envs/farm/lib/python3.6/site-packages/pyproj/crs/crs.py:53: FutureWarning: '+init=<authority>:<code>' syntax is deprecated. '<authority>:<code>' is the preferred initialization method. When making the change, be mindful of axis order changes: https://pyproj4.github.io/pyproj/stable/gotchas.html#axis-order-changes-in-proj-6\n",
      "  return _prepare_from_string(\" \".join(pjargs))\n",
      "/home/skymap/anaconda3/envs/farm/lib/python3.6/site-packages/pyproj/crs/crs.py:294: FutureWarning: '+init=<authority>:<code>' syntax is deprecated. '<authority>:<code>' is the preferred initialization method. When making the change, be mindful of axis order changes: https://pyproj4.github.io/pyproj/stable/gotchas.html#axis-order-changes-in-proj-6\n",
      "  projstring = _prepare_from_string(\" \".join((projstring, projkwargs)))\n",
      "/home/skymap/anaconda3/envs/farm/lib/python3.6/site-packages/pyproj/crs/crs.py:53: FutureWarning: '+init=<authority>:<code>' syntax is deprecated. '<authority>:<code>' is the preferred initialization method. When making the change, be mindful of axis order changes: https://pyproj4.github.io/pyproj/stable/gotchas.html#axis-order-changes-in-proj-6\n",
      "  return _prepare_from_string(\" \".join(pjargs))\n",
      "/home/skymap/anaconda3/envs/farm/lib/python3.6/site-packages/pyproj/crs/crs.py:294: FutureWarning: '+init=<authority>:<code>' syntax is deprecated. '<authority>:<code>' is the preferred initialization method. When making the change, be mindful of axis order changes: https://pyproj4.github.io/pyproj/stable/gotchas.html#axis-order-changes-in-proj-6\n",
      "  projstring = _prepare_from_string(\" \".join((projstring, projkwargs)))\n"
     ]
    },
    {
     "name": "stdout",
     "output_type": "stream",
     "text": [
      "5800 4600\n"
     ]
    },
    {
     "name": "stderr",
     "output_type": "stream",
     "text": [
      "/home/skymap/anaconda3/envs/farm/lib/python3.6/site-packages/pyproj/crs/crs.py:53: FutureWarning: '+init=<authority>:<code>' syntax is deprecated. '<authority>:<code>' is the preferred initialization method. When making the change, be mindful of axis order changes: https://pyproj4.github.io/pyproj/stable/gotchas.html#axis-order-changes-in-proj-6\n",
      "  return _prepare_from_string(\" \".join(pjargs))\n",
      "/home/skymap/anaconda3/envs/farm/lib/python3.6/site-packages/pyproj/crs/crs.py:294: FutureWarning: '+init=<authority>:<code>' syntax is deprecated. '<authority>:<code>' is the preferred initialization method. When making the change, be mindful of axis order changes: https://pyproj4.github.io/pyproj/stable/gotchas.html#axis-order-changes-in-proj-6\n",
      "  projstring = _prepare_from_string(\" \".join((projstring, projkwargs)))\n",
      "/home/skymap/anaconda3/envs/farm/lib/python3.6/site-packages/pyproj/crs/crs.py:53: FutureWarning: '+init=<authority>:<code>' syntax is deprecated. '<authority>:<code>' is the preferred initialization method. When making the change, be mindful of axis order changes: https://pyproj4.github.io/pyproj/stable/gotchas.html#axis-order-changes-in-proj-6\n",
      "  return _prepare_from_string(\" \".join(pjargs))\n",
      "/home/skymap/anaconda3/envs/farm/lib/python3.6/site-packages/pyproj/crs/crs.py:294: FutureWarning: '+init=<authority>:<code>' syntax is deprecated. '<authority>:<code>' is the preferred initialization method. When making the change, be mindful of axis order changes: https://pyproj4.github.io/pyproj/stable/gotchas.html#axis-order-changes-in-proj-6\n",
      "  projstring = _prepare_from_string(\" \".join((projstring, projkwargs)))\n"
     ]
    },
    {
     "name": "stdout",
     "output_type": "stream",
     "text": [
      "53397721_0 0.2477569368484834\n",
      "500\n"
     ]
    },
    {
     "name": "stderr",
     "output_type": "stream",
     "text": [
      "100%|██████████| 500/500 [00:21<00:00, 23.32it/s]\n",
      "/home/skymap/anaconda3/envs/farm/lib/python3.6/site-packages/pyproj/crs/crs.py:53: FutureWarning: '+init=<authority>:<code>' syntax is deprecated. '<authority>:<code>' is the preferred initialization method. When making the change, be mindful of axis order changes: https://pyproj4.github.io/pyproj/stable/gotchas.html#axis-order-changes-in-proj-6\n",
      "  return _prepare_from_string(\" \".join(pjargs))\n",
      "/home/skymap/anaconda3/envs/farm/lib/python3.6/site-packages/pyproj/crs/crs.py:294: FutureWarning: '+init=<authority>:<code>' syntax is deprecated. '<authority>:<code>' is the preferred initialization method. When making the change, be mindful of axis order changes: https://pyproj4.github.io/pyproj/stable/gotchas.html#axis-order-changes-in-proj-6\n",
      "  projstring = _prepare_from_string(\" \".join((projstring, projkwargs)))\n",
      "/home/skymap/anaconda3/envs/farm/lib/python3.6/site-packages/pyproj/crs/crs.py:53: FutureWarning: '+init=<authority>:<code>' syntax is deprecated. '<authority>:<code>' is the preferred initialization method. When making the change, be mindful of axis order changes: https://pyproj4.github.io/pyproj/stable/gotchas.html#axis-order-changes-in-proj-6\n",
      "  return _prepare_from_string(\" \".join(pjargs))\n",
      "/home/skymap/anaconda3/envs/farm/lib/python3.6/site-packages/pyproj/crs/crs.py:294: FutureWarning: '+init=<authority>:<code>' syntax is deprecated. '<authority>:<code>' is the preferred initialization method. When making the change, be mindful of axis order changes: https://pyproj4.github.io/pyproj/stable/gotchas.html#axis-order-changes-in-proj-6\n",
      "  projstring = _prepare_from_string(\" \".join((projstring, projkwargs)))\n"
     ]
    },
    {
     "name": "stdout",
     "output_type": "stream",
     "text": [
      "5800 4600\n"
     ]
    },
    {
     "name": "stderr",
     "output_type": "stream",
     "text": [
      "/home/skymap/anaconda3/envs/farm/lib/python3.6/site-packages/pyproj/crs/crs.py:53: FutureWarning: '+init=<authority>:<code>' syntax is deprecated. '<authority>:<code>' is the preferred initialization method. When making the change, be mindful of axis order changes: https://pyproj4.github.io/pyproj/stable/gotchas.html#axis-order-changes-in-proj-6\n",
      "  return _prepare_from_string(\" \".join(pjargs))\n",
      "/home/skymap/anaconda3/envs/farm/lib/python3.6/site-packages/pyproj/crs/crs.py:294: FutureWarning: '+init=<authority>:<code>' syntax is deprecated. '<authority>:<code>' is the preferred initialization method. When making the change, be mindful of axis order changes: https://pyproj4.github.io/pyproj/stable/gotchas.html#axis-order-changes-in-proj-6\n",
      "  projstring = _prepare_from_string(\" \".join((projstring, projkwargs)))\n",
      "/home/skymap/anaconda3/envs/farm/lib/python3.6/site-packages/pyproj/crs/crs.py:53: FutureWarning: '+init=<authority>:<code>' syntax is deprecated. '<authority>:<code>' is the preferred initialization method. When making the change, be mindful of axis order changes: https://pyproj4.github.io/pyproj/stable/gotchas.html#axis-order-changes-in-proj-6\n",
      "  return _prepare_from_string(\" \".join(pjargs))\n",
      "/home/skymap/anaconda3/envs/farm/lib/python3.6/site-packages/pyproj/crs/crs.py:294: FutureWarning: '+init=<authority>:<code>' syntax is deprecated. '<authority>:<code>' is the preferred initialization method. When making the change, be mindful of axis order changes: https://pyproj4.github.io/pyproj/stable/gotchas.html#axis-order-changes-in-proj-6\n",
      "  projstring = _prepare_from_string(\" \".join((projstring, projkwargs)))\n"
     ]
    },
    {
     "name": "stdout",
     "output_type": "stream",
     "text": [
      "53397722_0 0.24774682398969236\n",
      "500\n"
     ]
    },
    {
     "name": "stderr",
     "output_type": "stream",
     "text": [
      "100%|██████████| 500/500 [00:19<00:00, 25.74it/s]\n",
      "/home/skymap/anaconda3/envs/farm/lib/python3.6/site-packages/pyproj/crs/crs.py:53: FutureWarning: '+init=<authority>:<code>' syntax is deprecated. '<authority>:<code>' is the preferred initialization method. When making the change, be mindful of axis order changes: https://pyproj4.github.io/pyproj/stable/gotchas.html#axis-order-changes-in-proj-6\n",
      "  return _prepare_from_string(\" \".join(pjargs))\n",
      "/home/skymap/anaconda3/envs/farm/lib/python3.6/site-packages/pyproj/crs/crs.py:294: FutureWarning: '+init=<authority>:<code>' syntax is deprecated. '<authority>:<code>' is the preferred initialization method. When making the change, be mindful of axis order changes: https://pyproj4.github.io/pyproj/stable/gotchas.html#axis-order-changes-in-proj-6\n",
      "  projstring = _prepare_from_string(\" \".join((projstring, projkwargs)))\n",
      "/home/skymap/anaconda3/envs/farm/lib/python3.6/site-packages/pyproj/crs/crs.py:53: FutureWarning: '+init=<authority>:<code>' syntax is deprecated. '<authority>:<code>' is the preferred initialization method. When making the change, be mindful of axis order changes: https://pyproj4.github.io/pyproj/stable/gotchas.html#axis-order-changes-in-proj-6\n",
      "  return _prepare_from_string(\" \".join(pjargs))\n",
      "/home/skymap/anaconda3/envs/farm/lib/python3.6/site-packages/pyproj/crs/crs.py:294: FutureWarning: '+init=<authority>:<code>' syntax is deprecated. '<authority>:<code>' is the preferred initialization method. When making the change, be mindful of axis order changes: https://pyproj4.github.io/pyproj/stable/gotchas.html#axis-order-changes-in-proj-6\n",
      "  projstring = _prepare_from_string(\" \".join((projstring, projkwargs)))\n"
     ]
    },
    {
     "name": "stdout",
     "output_type": "stream",
     "text": [
      "7222 8717\n"
     ]
    },
    {
     "name": "stderr",
     "output_type": "stream",
     "text": [
      "/home/skymap/anaconda3/envs/farm/lib/python3.6/site-packages/pyproj/crs/crs.py:53: FutureWarning: '+init=<authority>:<code>' syntax is deprecated. '<authority>:<code>' is the preferred initialization method. When making the change, be mindful of axis order changes: https://pyproj4.github.io/pyproj/stable/gotchas.html#axis-order-changes-in-proj-6\n",
      "  return _prepare_from_string(\" \".join(pjargs))\n",
      "/home/skymap/anaconda3/envs/farm/lib/python3.6/site-packages/pyproj/crs/crs.py:294: FutureWarning: '+init=<authority>:<code>' syntax is deprecated. '<authority>:<code>' is the preferred initialization method. When making the change, be mindful of axis order changes: https://pyproj4.github.io/pyproj/stable/gotchas.html#axis-order-changes-in-proj-6\n",
      "  projstring = _prepare_from_string(\" \".join((projstring, projkwargs)))\n",
      "/home/skymap/anaconda3/envs/farm/lib/python3.6/site-packages/pyproj/crs/crs.py:53: FutureWarning: '+init=<authority>:<code>' syntax is deprecated. '<authority>:<code>' is the preferred initialization method. When making the change, be mindful of axis order changes: https://pyproj4.github.io/pyproj/stable/gotchas.html#axis-order-changes-in-proj-6\n",
      "  return _prepare_from_string(\" \".join(pjargs))\n",
      "/home/skymap/anaconda3/envs/farm/lib/python3.6/site-packages/pyproj/crs/crs.py:294: FutureWarning: '+init=<authority>:<code>' syntax is deprecated. '<authority>:<code>' is the preferred initialization method. When making the change, be mindful of axis order changes: https://pyproj4.github.io/pyproj/stable/gotchas.html#axis-order-changes-in-proj-6\n",
      "  projstring = _prepare_from_string(\" \".join((projstring, projkwargs)))\n"
     ]
    },
    {
     "name": "stdout",
     "output_type": "stream",
     "text": [
      "Cape_Town_Image_0 0.29999999999988824\n",
      "500\n"
     ]
    },
    {
     "name": "stderr",
     "output_type": "stream",
     "text": [
      "100%|██████████| 500/500 [00:21<00:00, 23.68it/s]\n"
     ]
    },
    {
     "name": "stdout",
     "output_type": "stream",
     "text": [
      "16646 6698\n"
     ]
    },
    {
     "name": "stderr",
     "output_type": "stream",
     "text": [
      "/home/skymap/anaconda3/envs/farm/lib/python3.6/site-packages/pyproj/crs/crs.py:53: FutureWarning: '+init=<authority>:<code>' syntax is deprecated. '<authority>:<code>' is the preferred initialization method. When making the change, be mindful of axis order changes: https://pyproj4.github.io/pyproj/stable/gotchas.html#axis-order-changes-in-proj-6\n",
      "  return _prepare_from_string(\" \".join(pjargs))\n",
      "/home/skymap/anaconda3/envs/farm/lib/python3.6/site-packages/pyproj/crs/crs.py:294: FutureWarning: '+init=<authority>:<code>' syntax is deprecated. '<authority>:<code>' is the preferred initialization method. When making the change, be mindful of axis order changes: https://pyproj4.github.io/pyproj/stable/gotchas.html#axis-order-changes-in-proj-6\n",
      "  projstring = _prepare_from_string(\" \".join((projstring, projkwargs)))\n",
      "/home/skymap/anaconda3/envs/farm/lib/python3.6/site-packages/pyproj/crs/crs.py:53: FutureWarning: '+init=<authority>:<code>' syntax is deprecated. '<authority>:<code>' is the preferred initialization method. When making the change, be mindful of axis order changes: https://pyproj4.github.io/pyproj/stable/gotchas.html#axis-order-changes-in-proj-6\n",
      "  return _prepare_from_string(\" \".join(pjargs))\n",
      "/home/skymap/anaconda3/envs/farm/lib/python3.6/site-packages/pyproj/crs/crs.py:294: FutureWarning: '+init=<authority>:<code>' syntax is deprecated. '<authority>:<code>' is the preferred initialization method. When making the change, be mindful of axis order changes: https://pyproj4.github.io/pyproj/stable/gotchas.html#axis-order-changes-in-proj-6\n",
      "  projstring = _prepare_from_string(\" \".join((projstring, projkwargs)))\n",
      "/home/skymap/anaconda3/envs/farm/lib/python3.6/site-packages/pyproj/crs/crs.py:53: FutureWarning: '+init=<authority>:<code>' syntax is deprecated. '<authority>:<code>' is the preferred initialization method. When making the change, be mindful of axis order changes: https://pyproj4.github.io/pyproj/stable/gotchas.html#axis-order-changes-in-proj-6\n",
      "  return _prepare_from_string(\" \".join(pjargs))\n",
      "/home/skymap/anaconda3/envs/farm/lib/python3.6/site-packages/pyproj/crs/crs.py:294: FutureWarning: '+init=<authority>:<code>' syntax is deprecated. '<authority>:<code>' is the preferred initialization method. When making the change, be mindful of axis order changes: https://pyproj4.github.io/pyproj/stable/gotchas.html#axis-order-changes-in-proj-6\n",
      "  projstring = _prepare_from_string(\" \".join((projstring, projkwargs)))\n"
     ]
    },
    {
     "name": "stdout",
     "output_type": "stream",
     "text": [
      "Capricorn_Wide_Bay_2017_20cm_Mosaic_0 0.2000000000020701\n",
      "500\n"
     ]
    },
    {
     "name": "stderr",
     "output_type": "stream",
     "text": [
      "100%|██████████| 500/500 [01:32<00:00,  5.38it/s]\n",
      "/home/skymap/anaconda3/envs/farm/lib/python3.6/site-packages/pyproj/crs/crs.py:53: FutureWarning: '+init=<authority>:<code>' syntax is deprecated. '<authority>:<code>' is the preferred initialization method. When making the change, be mindful of axis order changes: https://pyproj4.github.io/pyproj/stable/gotchas.html#axis-order-changes-in-proj-6\n",
      "  return _prepare_from_string(\" \".join(pjargs))\n",
      "/home/skymap/anaconda3/envs/farm/lib/python3.6/site-packages/pyproj/crs/crs.py:294: FutureWarning: '+init=<authority>:<code>' syntax is deprecated. '<authority>:<code>' is the preferred initialization method. When making the change, be mindful of axis order changes: https://pyproj4.github.io/pyproj/stable/gotchas.html#axis-order-changes-in-proj-6\n",
      "  projstring = _prepare_from_string(\" \".join((projstring, projkwargs)))\n"
     ]
    },
    {
     "name": "stdout",
     "output_type": "stream",
     "text": [
      "1118 1037\n"
     ]
    },
    {
     "name": "stderr",
     "output_type": "stream",
     "text": [
      "/home/skymap/anaconda3/envs/farm/lib/python3.6/site-packages/pyproj/crs/crs.py:53: FutureWarning: '+init=<authority>:<code>' syntax is deprecated. '<authority>:<code>' is the preferred initialization method. When making the change, be mindful of axis order changes: https://pyproj4.github.io/pyproj/stable/gotchas.html#axis-order-changes-in-proj-6\n",
      "  return _prepare_from_string(\" \".join(pjargs))\n",
      "/home/skymap/anaconda3/envs/farm/lib/python3.6/site-packages/pyproj/crs/crs.py:294: FutureWarning: '+init=<authority>:<code>' syntax is deprecated. '<authority>:<code>' is the preferred initialization method. When making the change, be mindful of axis order changes: https://pyproj4.github.io/pyproj/stable/gotchas.html#axis-order-changes-in-proj-6\n",
      "  projstring = _prepare_from_string(\" \".join((projstring, projkwargs)))\n",
      "/home/skymap/anaconda3/envs/farm/lib/python3.6/site-packages/pyproj/crs/crs.py:53: FutureWarning: '+init=<authority>:<code>' syntax is deprecated. '<authority>:<code>' is the preferred initialization method. When making the change, be mindful of axis order changes: https://pyproj4.github.io/pyproj/stable/gotchas.html#axis-order-changes-in-proj-6\n",
      "  return _prepare_from_string(\" \".join(pjargs))\n",
      "/home/skymap/anaconda3/envs/farm/lib/python3.6/site-packages/pyproj/crs/crs.py:294: FutureWarning: '+init=<authority>:<code>' syntax is deprecated. '<authority>:<code>' is the preferred initialization method. When making the change, be mindful of axis order changes: https://pyproj4.github.io/pyproj/stable/gotchas.html#axis-order-changes-in-proj-6\n",
      "  projstring = _prepare_from_string(\" \".join((projstring, projkwargs)))\n",
      "/home/skymap/anaconda3/envs/farm/lib/python3.6/site-packages/pyproj/crs/crs.py:53: FutureWarning: '+init=<authority>:<code>' syntax is deprecated. '<authority>:<code>' is the preferred initialization method. When making the change, be mindful of axis order changes: https://pyproj4.github.io/pyproj/stable/gotchas.html#axis-order-changes-in-proj-6\n",
      "  return _prepare_from_string(\" \".join(pjargs))\n",
      "/home/skymap/anaconda3/envs/farm/lib/python3.6/site-packages/pyproj/crs/crs.py:294: FutureWarning: '+init=<authority>:<code>' syntax is deprecated. '<authority>:<code>' is the preferred initialization method. When making the change, be mindful of axis order changes: https://pyproj4.github.io/pyproj/stable/gotchas.html#axis-order-changes-in-proj-6\n",
      "  projstring = _prepare_from_string(\" \".join((projstring, projkwargs)))\n"
     ]
    },
    {
     "name": "stdout",
     "output_type": "stream",
     "text": [
      "indo_sample2_0 0.49999999999989936\n",
      "500\n"
     ]
    },
    {
     "name": "stderr",
     "output_type": "stream",
     "text": [
      "100%|██████████| 500/500 [00:07<00:00, 66.83it/s]\n"
     ]
    },
    {
     "name": "stdout",
     "output_type": "stream",
     "text": [
      "986 1247\n"
     ]
    },
    {
     "name": "stderr",
     "output_type": "stream",
     "text": [
      "/home/skymap/anaconda3/envs/farm/lib/python3.6/site-packages/pyproj/crs/crs.py:53: FutureWarning: '+init=<authority>:<code>' syntax is deprecated. '<authority>:<code>' is the preferred initialization method. When making the change, be mindful of axis order changes: https://pyproj4.github.io/pyproj/stable/gotchas.html#axis-order-changes-in-proj-6\n",
      "  return _prepare_from_string(\" \".join(pjargs))\n",
      "/home/skymap/anaconda3/envs/farm/lib/python3.6/site-packages/pyproj/crs/crs.py:294: FutureWarning: '+init=<authority>:<code>' syntax is deprecated. '<authority>:<code>' is the preferred initialization method. When making the change, be mindful of axis order changes: https://pyproj4.github.io/pyproj/stable/gotchas.html#axis-order-changes-in-proj-6\n",
      "  projstring = _prepare_from_string(\" \".join((projstring, projkwargs)))\n",
      "/home/skymap/anaconda3/envs/farm/lib/python3.6/site-packages/pyproj/crs/crs.py:53: FutureWarning: '+init=<authority>:<code>' syntax is deprecated. '<authority>:<code>' is the preferred initialization method. When making the change, be mindful of axis order changes: https://pyproj4.github.io/pyproj/stable/gotchas.html#axis-order-changes-in-proj-6\n",
      "  return _prepare_from_string(\" \".join(pjargs))\n",
      "/home/skymap/anaconda3/envs/farm/lib/python3.6/site-packages/pyproj/crs/crs.py:294: FutureWarning: '+init=<authority>:<code>' syntax is deprecated. '<authority>:<code>' is the preferred initialization method. When making the change, be mindful of axis order changes: https://pyproj4.github.io/pyproj/stable/gotchas.html#axis-order-changes-in-proj-6\n",
      "  projstring = _prepare_from_string(\" \".join((projstring, projkwargs)))\n",
      "/home/skymap/anaconda3/envs/farm/lib/python3.6/site-packages/pyproj/crs/crs.py:53: FutureWarning: '+init=<authority>:<code>' syntax is deprecated. '<authority>:<code>' is the preferred initialization method. When making the change, be mindful of axis order changes: https://pyproj4.github.io/pyproj/stable/gotchas.html#axis-order-changes-in-proj-6\n",
      "  return _prepare_from_string(\" \".join(pjargs))\n",
      "/home/skymap/anaconda3/envs/farm/lib/python3.6/site-packages/pyproj/crs/crs.py:294: FutureWarning: '+init=<authority>:<code>' syntax is deprecated. '<authority>:<code>' is the preferred initialization method. When making the change, be mindful of axis order changes: https://pyproj4.github.io/pyproj/stable/gotchas.html#axis-order-changes-in-proj-6\n",
      "  projstring = _prepare_from_string(\" \".join((projstring, projkwargs)))\n",
      "/home/skymap/anaconda3/envs/farm/lib/python3.6/site-packages/pyproj/crs/crs.py:53: FutureWarning: '+init=<authority>:<code>' syntax is deprecated. '<authority>:<code>' is the preferred initialization method. When making the change, be mindful of axis order changes: https://pyproj4.github.io/pyproj/stable/gotchas.html#axis-order-changes-in-proj-6\n",
      "  return _prepare_from_string(\" \".join(pjargs))\n",
      "/home/skymap/anaconda3/envs/farm/lib/python3.6/site-packages/pyproj/crs/crs.py:294: FutureWarning: '+init=<authority>:<code>' syntax is deprecated. '<authority>:<code>' is the preferred initialization method. When making the change, be mindful of axis order changes: https://pyproj4.github.io/pyproj/stable/gotchas.html#axis-order-changes-in-proj-6\n",
      "  projstring = _prepare_from_string(\" \".join((projstring, projkwargs)))\n"
     ]
    },
    {
     "name": "stdout",
     "output_type": "stream",
     "text": [
      "indo_sample2_1 0.5000000000005844\n",
      "500\n"
     ]
    },
    {
     "name": "stderr",
     "output_type": "stream",
     "text": [
      "100%|██████████| 500/500 [00:07<00:00, 64.23it/s]\n",
      "/home/skymap/anaconda3/envs/farm/lib/python3.6/site-packages/pyproj/crs/crs.py:53: FutureWarning: '+init=<authority>:<code>' syntax is deprecated. '<authority>:<code>' is the preferred initialization method. When making the change, be mindful of axis order changes: https://pyproj4.github.io/pyproj/stable/gotchas.html#axis-order-changes-in-proj-6\n",
      "  return _prepare_from_string(\" \".join(pjargs))\n",
      "/home/skymap/anaconda3/envs/farm/lib/python3.6/site-packages/pyproj/crs/crs.py:294: FutureWarning: '+init=<authority>:<code>' syntax is deprecated. '<authority>:<code>' is the preferred initialization method. When making the change, be mindful of axis order changes: https://pyproj4.github.io/pyproj/stable/gotchas.html#axis-order-changes-in-proj-6\n",
      "  projstring = _prepare_from_string(\" \".join((projstring, projkwargs)))\n",
      "/home/skymap/anaconda3/envs/farm/lib/python3.6/site-packages/pyproj/crs/crs.py:53: FutureWarning: '+init=<authority>:<code>' syntax is deprecated. '<authority>:<code>' is the preferred initialization method. When making the change, be mindful of axis order changes: https://pyproj4.github.io/pyproj/stable/gotchas.html#axis-order-changes-in-proj-6\n",
      "  return _prepare_from_string(\" \".join(pjargs))\n",
      "/home/skymap/anaconda3/envs/farm/lib/python3.6/site-packages/pyproj/crs/crs.py:294: FutureWarning: '+init=<authority>:<code>' syntax is deprecated. '<authority>:<code>' is the preferred initialization method. When making the change, be mindful of axis order changes: https://pyproj4.github.io/pyproj/stable/gotchas.html#axis-order-changes-in-proj-6\n",
      "  projstring = _prepare_from_string(\" \".join((projstring, projkwargs)))\n"
     ]
    },
    {
     "name": "stdout",
     "output_type": "stream",
     "text": [
      "815 800\n"
     ]
    },
    {
     "name": "stderr",
     "output_type": "stream",
     "text": [
      "/home/skymap/anaconda3/envs/farm/lib/python3.6/site-packages/pyproj/crs/crs.py:53: FutureWarning: '+init=<authority>:<code>' syntax is deprecated. '<authority>:<code>' is the preferred initialization method. When making the change, be mindful of axis order changes: https://pyproj4.github.io/pyproj/stable/gotchas.html#axis-order-changes-in-proj-6\n",
      "  return _prepare_from_string(\" \".join(pjargs))\n",
      "/home/skymap/anaconda3/envs/farm/lib/python3.6/site-packages/pyproj/crs/crs.py:294: FutureWarning: '+init=<authority>:<code>' syntax is deprecated. '<authority>:<code>' is the preferred initialization method. When making the change, be mindful of axis order changes: https://pyproj4.github.io/pyproj/stable/gotchas.html#axis-order-changes-in-proj-6\n",
      "  projstring = _prepare_from_string(\" \".join((projstring, projkwargs)))\n",
      "/home/skymap/anaconda3/envs/farm/lib/python3.6/site-packages/pyproj/crs/crs.py:53: FutureWarning: '+init=<authority>:<code>' syntax is deprecated. '<authority>:<code>' is the preferred initialization method. When making the change, be mindful of axis order changes: https://pyproj4.github.io/pyproj/stable/gotchas.html#axis-order-changes-in-proj-6\n",
      "  return _prepare_from_string(\" \".join(pjargs))\n",
      "/home/skymap/anaconda3/envs/farm/lib/python3.6/site-packages/pyproj/crs/crs.py:294: FutureWarning: '+init=<authority>:<code>' syntax is deprecated. '<authority>:<code>' is the preferred initialization method. When making the change, be mindful of axis order changes: https://pyproj4.github.io/pyproj/stable/gotchas.html#axis-order-changes-in-proj-6\n",
      "  projstring = _prepare_from_string(\" \".join((projstring, projkwargs)))\n"
     ]
    },
    {
     "name": "stdout",
     "output_type": "stream",
     "text": [
      "indo_sample2_10 0.499999999999424\n",
      "318\n"
     ]
    },
    {
     "name": "stderr",
     "output_type": "stream",
     "text": [
      "100%|██████████| 318/318 [00:04<00:00, 74.81it/s]\n",
      "/home/skymap/anaconda3/envs/farm/lib/python3.6/site-packages/pyproj/crs/crs.py:53: FutureWarning: '+init=<authority>:<code>' syntax is deprecated. '<authority>:<code>' is the preferred initialization method. When making the change, be mindful of axis order changes: https://pyproj4.github.io/pyproj/stable/gotchas.html#axis-order-changes-in-proj-6\n",
      "  return _prepare_from_string(\" \".join(pjargs))\n",
      "/home/skymap/anaconda3/envs/farm/lib/python3.6/site-packages/pyproj/crs/crs.py:294: FutureWarning: '+init=<authority>:<code>' syntax is deprecated. '<authority>:<code>' is the preferred initialization method. When making the change, be mindful of axis order changes: https://pyproj4.github.io/pyproj/stable/gotchas.html#axis-order-changes-in-proj-6\n",
      "  projstring = _prepare_from_string(\" \".join((projstring, projkwargs)))\n",
      "/home/skymap/anaconda3/envs/farm/lib/python3.6/site-packages/pyproj/crs/crs.py:53: FutureWarning: '+init=<authority>:<code>' syntax is deprecated. '<authority>:<code>' is the preferred initialization method. When making the change, be mindful of axis order changes: https://pyproj4.github.io/pyproj/stable/gotchas.html#axis-order-changes-in-proj-6\n",
      "  return _prepare_from_string(\" \".join(pjargs))\n",
      "/home/skymap/anaconda3/envs/farm/lib/python3.6/site-packages/pyproj/crs/crs.py:294: FutureWarning: '+init=<authority>:<code>' syntax is deprecated. '<authority>:<code>' is the preferred initialization method. When making the change, be mindful of axis order changes: https://pyproj4.github.io/pyproj/stable/gotchas.html#axis-order-changes-in-proj-6\n",
      "  projstring = _prepare_from_string(\" \".join((projstring, projkwargs)))\n"
     ]
    },
    {
     "name": "stdout",
     "output_type": "stream",
     "text": [
      "815 800\n"
     ]
    },
    {
     "name": "stderr",
     "output_type": "stream",
     "text": [
      "/home/skymap/anaconda3/envs/farm/lib/python3.6/site-packages/pyproj/crs/crs.py:53: FutureWarning: '+init=<authority>:<code>' syntax is deprecated. '<authority>:<code>' is the preferred initialization method. When making the change, be mindful of axis order changes: https://pyproj4.github.io/pyproj/stable/gotchas.html#axis-order-changes-in-proj-6\n",
      "  return _prepare_from_string(\" \".join(pjargs))\n",
      "/home/skymap/anaconda3/envs/farm/lib/python3.6/site-packages/pyproj/crs/crs.py:294: FutureWarning: '+init=<authority>:<code>' syntax is deprecated. '<authority>:<code>' is the preferred initialization method. When making the change, be mindful of axis order changes: https://pyproj4.github.io/pyproj/stable/gotchas.html#axis-order-changes-in-proj-6\n",
      "  projstring = _prepare_from_string(\" \".join((projstring, projkwargs)))\n",
      "/home/skymap/anaconda3/envs/farm/lib/python3.6/site-packages/pyproj/crs/crs.py:53: FutureWarning: '+init=<authority>:<code>' syntax is deprecated. '<authority>:<code>' is the preferred initialization method. When making the change, be mindful of axis order changes: https://pyproj4.github.io/pyproj/stable/gotchas.html#axis-order-changes-in-proj-6\n",
      "  return _prepare_from_string(\" \".join(pjargs))\n",
      "/home/skymap/anaconda3/envs/farm/lib/python3.6/site-packages/pyproj/crs/crs.py:294: FutureWarning: '+init=<authority>:<code>' syntax is deprecated. '<authority>:<code>' is the preferred initialization method. When making the change, be mindful of axis order changes: https://pyproj4.github.io/pyproj/stable/gotchas.html#axis-order-changes-in-proj-6\n",
      "  projstring = _prepare_from_string(\" \".join((projstring, projkwargs)))\n"
     ]
    },
    {
     "name": "stdout",
     "output_type": "stream",
     "text": [
      "indo_sample2_11 0.499999999999424\n",
      "318\n"
     ]
    },
    {
     "name": "stderr",
     "output_type": "stream",
     "text": [
      "100%|██████████| 318/318 [00:04<00:00, 75.75it/s]\n",
      "/home/skymap/anaconda3/envs/farm/lib/python3.6/site-packages/pyproj/crs/crs.py:53: FutureWarning: '+init=<authority>:<code>' syntax is deprecated. '<authority>:<code>' is the preferred initialization method. When making the change, be mindful of axis order changes: https://pyproj4.github.io/pyproj/stable/gotchas.html#axis-order-changes-in-proj-6\n",
      "  return _prepare_from_string(\" \".join(pjargs))\n",
      "/home/skymap/anaconda3/envs/farm/lib/python3.6/site-packages/pyproj/crs/crs.py:294: FutureWarning: '+init=<authority>:<code>' syntax is deprecated. '<authority>:<code>' is the preferred initialization method. When making the change, be mindful of axis order changes: https://pyproj4.github.io/pyproj/stable/gotchas.html#axis-order-changes-in-proj-6\n",
      "  projstring = _prepare_from_string(\" \".join((projstring, projkwargs)))\n",
      "/home/skymap/anaconda3/envs/farm/lib/python3.6/site-packages/pyproj/crs/crs.py:53: FutureWarning: '+init=<authority>:<code>' syntax is deprecated. '<authority>:<code>' is the preferred initialization method. When making the change, be mindful of axis order changes: https://pyproj4.github.io/pyproj/stable/gotchas.html#axis-order-changes-in-proj-6\n",
      "  return _prepare_from_string(\" \".join(pjargs))\n",
      "/home/skymap/anaconda3/envs/farm/lib/python3.6/site-packages/pyproj/crs/crs.py:294: FutureWarning: '+init=<authority>:<code>' syntax is deprecated. '<authority>:<code>' is the preferred initialization method. When making the change, be mindful of axis order changes: https://pyproj4.github.io/pyproj/stable/gotchas.html#axis-order-changes-in-proj-6\n",
      "  projstring = _prepare_from_string(\" \".join((projstring, projkwargs)))\n"
     ]
    },
    {
     "name": "stdout",
     "output_type": "stream",
     "text": [
      "666 598\n"
     ]
    },
    {
     "name": "stderr",
     "output_type": "stream",
     "text": [
      "/home/skymap/anaconda3/envs/farm/lib/python3.6/site-packages/pyproj/crs/crs.py:53: FutureWarning: '+init=<authority>:<code>' syntax is deprecated. '<authority>:<code>' is the preferred initialization method. When making the change, be mindful of axis order changes: https://pyproj4.github.io/pyproj/stable/gotchas.html#axis-order-changes-in-proj-6\n",
      "  return _prepare_from_string(\" \".join(pjargs))\n",
      "/home/skymap/anaconda3/envs/farm/lib/python3.6/site-packages/pyproj/crs/crs.py:294: FutureWarning: '+init=<authority>:<code>' syntax is deprecated. '<authority>:<code>' is the preferred initialization method. When making the change, be mindful of axis order changes: https://pyproj4.github.io/pyproj/stable/gotchas.html#axis-order-changes-in-proj-6\n",
      "  projstring = _prepare_from_string(\" \".join((projstring, projkwargs)))\n",
      "/home/skymap/anaconda3/envs/farm/lib/python3.6/site-packages/pyproj/crs/crs.py:53: FutureWarning: '+init=<authority>:<code>' syntax is deprecated. '<authority>:<code>' is the preferred initialization method. When making the change, be mindful of axis order changes: https://pyproj4.github.io/pyproj/stable/gotchas.html#axis-order-changes-in-proj-6\n",
      "  return _prepare_from_string(\" \".join(pjargs))\n",
      "/home/skymap/anaconda3/envs/farm/lib/python3.6/site-packages/pyproj/crs/crs.py:294: FutureWarning: '+init=<authority>:<code>' syntax is deprecated. '<authority>:<code>' is the preferred initialization method. When making the change, be mindful of axis order changes: https://pyproj4.github.io/pyproj/stable/gotchas.html#axis-order-changes-in-proj-6\n",
      "  projstring = _prepare_from_string(\" \".join((projstring, projkwargs)))\n"
     ]
    },
    {
     "name": "stdout",
     "output_type": "stream",
     "text": [
      "indo_sample2_12 0.49999999999965034\n",
      "194\n"
     ]
    },
    {
     "name": "stderr",
     "output_type": "stream",
     "text": [
      "100%|██████████| 194/194 [00:02<00:00, 76.97it/s]\n",
      "/home/skymap/anaconda3/envs/farm/lib/python3.6/site-packages/pyproj/crs/crs.py:53: FutureWarning: '+init=<authority>:<code>' syntax is deprecated. '<authority>:<code>' is the preferred initialization method. When making the change, be mindful of axis order changes: https://pyproj4.github.io/pyproj/stable/gotchas.html#axis-order-changes-in-proj-6\n",
      "  return _prepare_from_string(\" \".join(pjargs))\n",
      "/home/skymap/anaconda3/envs/farm/lib/python3.6/site-packages/pyproj/crs/crs.py:294: FutureWarning: '+init=<authority>:<code>' syntax is deprecated. '<authority>:<code>' is the preferred initialization method. When making the change, be mindful of axis order changes: https://pyproj4.github.io/pyproj/stable/gotchas.html#axis-order-changes-in-proj-6\n",
      "  projstring = _prepare_from_string(\" \".join((projstring, projkwargs)))\n",
      "/home/skymap/anaconda3/envs/farm/lib/python3.6/site-packages/pyproj/crs/crs.py:53: FutureWarning: '+init=<authority>:<code>' syntax is deprecated. '<authority>:<code>' is the preferred initialization method. When making the change, be mindful of axis order changes: https://pyproj4.github.io/pyproj/stable/gotchas.html#axis-order-changes-in-proj-6\n",
      "  return _prepare_from_string(\" \".join(pjargs))\n",
      "/home/skymap/anaconda3/envs/farm/lib/python3.6/site-packages/pyproj/crs/crs.py:294: FutureWarning: '+init=<authority>:<code>' syntax is deprecated. '<authority>:<code>' is the preferred initialization method. When making the change, be mindful of axis order changes: https://pyproj4.github.io/pyproj/stable/gotchas.html#axis-order-changes-in-proj-6\n",
      "  projstring = _prepare_from_string(\" \".join((projstring, projkwargs)))\n"
     ]
    },
    {
     "name": "stdout",
     "output_type": "stream",
     "text": [
      "1666 808\n"
     ]
    },
    {
     "name": "stderr",
     "output_type": "stream",
     "text": [
      "/home/skymap/anaconda3/envs/farm/lib/python3.6/site-packages/pyproj/crs/crs.py:53: FutureWarning: '+init=<authority>:<code>' syntax is deprecated. '<authority>:<code>' is the preferred initialization method. When making the change, be mindful of axis order changes: https://pyproj4.github.io/pyproj/stable/gotchas.html#axis-order-changes-in-proj-6\n",
      "  return _prepare_from_string(\" \".join(pjargs))\n",
      "/home/skymap/anaconda3/envs/farm/lib/python3.6/site-packages/pyproj/crs/crs.py:294: FutureWarning: '+init=<authority>:<code>' syntax is deprecated. '<authority>:<code>' is the preferred initialization method. When making the change, be mindful of axis order changes: https://pyproj4.github.io/pyproj/stable/gotchas.html#axis-order-changes-in-proj-6\n",
      "  projstring = _prepare_from_string(\" \".join((projstring, projkwargs)))\n",
      "/home/skymap/anaconda3/envs/farm/lib/python3.6/site-packages/pyproj/crs/crs.py:53: FutureWarning: '+init=<authority>:<code>' syntax is deprecated. '<authority>:<code>' is the preferred initialization method. When making the change, be mindful of axis order changes: https://pyproj4.github.io/pyproj/stable/gotchas.html#axis-order-changes-in-proj-6\n",
      "  return _prepare_from_string(\" \".join(pjargs))\n",
      "/home/skymap/anaconda3/envs/farm/lib/python3.6/site-packages/pyproj/crs/crs.py:294: FutureWarning: '+init=<authority>:<code>' syntax is deprecated. '<authority>:<code>' is the preferred initialization method. When making the change, be mindful of axis order changes: https://pyproj4.github.io/pyproj/stable/gotchas.html#axis-order-changes-in-proj-6\n",
      "  projstring = _prepare_from_string(\" \".join((projstring, projkwargs)))\n"
     ]
    },
    {
     "name": "stdout",
     "output_type": "stream",
     "text": [
      "indo_sample2_13 0.5000000000002051\n",
      "500\n"
     ]
    },
    {
     "name": "stderr",
     "output_type": "stream",
     "text": [
      "100%|██████████| 500/500 [00:07<00:00, 67.73it/s]\n",
      "/home/skymap/anaconda3/envs/farm/lib/python3.6/site-packages/pyproj/crs/crs.py:53: FutureWarning: '+init=<authority>:<code>' syntax is deprecated. '<authority>:<code>' is the preferred initialization method. When making the change, be mindful of axis order changes: https://pyproj4.github.io/pyproj/stable/gotchas.html#axis-order-changes-in-proj-6\n",
      "  return _prepare_from_string(\" \".join(pjargs))\n",
      "/home/skymap/anaconda3/envs/farm/lib/python3.6/site-packages/pyproj/crs/crs.py:294: FutureWarning: '+init=<authority>:<code>' syntax is deprecated. '<authority>:<code>' is the preferred initialization method. When making the change, be mindful of axis order changes: https://pyproj4.github.io/pyproj/stable/gotchas.html#axis-order-changes-in-proj-6\n",
      "  projstring = _prepare_from_string(\" \".join((projstring, projkwargs)))\n",
      "/home/skymap/anaconda3/envs/farm/lib/python3.6/site-packages/pyproj/crs/crs.py:53: FutureWarning: '+init=<authority>:<code>' syntax is deprecated. '<authority>:<code>' is the preferred initialization method. When making the change, be mindful of axis order changes: https://pyproj4.github.io/pyproj/stable/gotchas.html#axis-order-changes-in-proj-6\n",
      "  return _prepare_from_string(\" \".join(pjargs))\n",
      "/home/skymap/anaconda3/envs/farm/lib/python3.6/site-packages/pyproj/crs/crs.py:294: FutureWarning: '+init=<authority>:<code>' syntax is deprecated. '<authority>:<code>' is the preferred initialization method. When making the change, be mindful of axis order changes: https://pyproj4.github.io/pyproj/stable/gotchas.html#axis-order-changes-in-proj-6\n",
      "  projstring = _prepare_from_string(\" \".join((projstring, projkwargs)))\n"
     ]
    },
    {
     "name": "stdout",
     "output_type": "stream",
     "text": [
      "1666 808\n"
     ]
    },
    {
     "name": "stderr",
     "output_type": "stream",
     "text": [
      "/home/skymap/anaconda3/envs/farm/lib/python3.6/site-packages/pyproj/crs/crs.py:53: FutureWarning: '+init=<authority>:<code>' syntax is deprecated. '<authority>:<code>' is the preferred initialization method. When making the change, be mindful of axis order changes: https://pyproj4.github.io/pyproj/stable/gotchas.html#axis-order-changes-in-proj-6\n",
      "  return _prepare_from_string(\" \".join(pjargs))\n",
      "/home/skymap/anaconda3/envs/farm/lib/python3.6/site-packages/pyproj/crs/crs.py:294: FutureWarning: '+init=<authority>:<code>' syntax is deprecated. '<authority>:<code>' is the preferred initialization method. When making the change, be mindful of axis order changes: https://pyproj4.github.io/pyproj/stable/gotchas.html#axis-order-changes-in-proj-6\n",
      "  projstring = _prepare_from_string(\" \".join((projstring, projkwargs)))\n",
      "/home/skymap/anaconda3/envs/farm/lib/python3.6/site-packages/pyproj/crs/crs.py:53: FutureWarning: '+init=<authority>:<code>' syntax is deprecated. '<authority>:<code>' is the preferred initialization method. When making the change, be mindful of axis order changes: https://pyproj4.github.io/pyproj/stable/gotchas.html#axis-order-changes-in-proj-6\n",
      "  return _prepare_from_string(\" \".join(pjargs))\n",
      "/home/skymap/anaconda3/envs/farm/lib/python3.6/site-packages/pyproj/crs/crs.py:294: FutureWarning: '+init=<authority>:<code>' syntax is deprecated. '<authority>:<code>' is the preferred initialization method. When making the change, be mindful of axis order changes: https://pyproj4.github.io/pyproj/stable/gotchas.html#axis-order-changes-in-proj-6\n",
      "  projstring = _prepare_from_string(\" \".join((projstring, projkwargs)))\n"
     ]
    },
    {
     "name": "stdout",
     "output_type": "stream",
     "text": [
      "indo_sample2_14 0.5000000000002051\n",
      "500\n"
     ]
    },
    {
     "name": "stderr",
     "output_type": "stream",
     "text": [
      "100%|██████████| 500/500 [00:22<00:00, 22.54it/s]\n"
     ]
    },
    {
     "name": "stdout",
     "output_type": "stream",
     "text": [
      "353 365\n"
     ]
    },
    {
     "name": "stderr",
     "output_type": "stream",
     "text": [
      "/home/skymap/anaconda3/envs/farm/lib/python3.6/site-packages/pyproj/crs/crs.py:53: FutureWarning: '+init=<authority>:<code>' syntax is deprecated. '<authority>:<code>' is the preferred initialization method. When making the change, be mindful of axis order changes: https://pyproj4.github.io/pyproj/stable/gotchas.html#axis-order-changes-in-proj-6\n",
      "  return _prepare_from_string(\" \".join(pjargs))\n",
      "/home/skymap/anaconda3/envs/farm/lib/python3.6/site-packages/pyproj/crs/crs.py:294: FutureWarning: '+init=<authority>:<code>' syntax is deprecated. '<authority>:<code>' is the preferred initialization method. When making the change, be mindful of axis order changes: https://pyproj4.github.io/pyproj/stable/gotchas.html#axis-order-changes-in-proj-6\n",
      "  projstring = _prepare_from_string(\" \".join((projstring, projkwargs)))\n",
      "/home/skymap/anaconda3/envs/farm/lib/python3.6/site-packages/pyproj/crs/crs.py:53: FutureWarning: '+init=<authority>:<code>' syntax is deprecated. '<authority>:<code>' is the preferred initialization method. When making the change, be mindful of axis order changes: https://pyproj4.github.io/pyproj/stable/gotchas.html#axis-order-changes-in-proj-6\n",
      "  return _prepare_from_string(\" \".join(pjargs))\n",
      "/home/skymap/anaconda3/envs/farm/lib/python3.6/site-packages/pyproj/crs/crs.py:294: FutureWarning: '+init=<authority>:<code>' syntax is deprecated. '<authority>:<code>' is the preferred initialization method. When making the change, be mindful of axis order changes: https://pyproj4.github.io/pyproj/stable/gotchas.html#axis-order-changes-in-proj-6\n",
      "  projstring = _prepare_from_string(\" \".join((projstring, projkwargs)))\n",
      "/home/skymap/anaconda3/envs/farm/lib/python3.6/site-packages/pyproj/crs/crs.py:53: FutureWarning: '+init=<authority>:<code>' syntax is deprecated. '<authority>:<code>' is the preferred initialization method. When making the change, be mindful of axis order changes: https://pyproj4.github.io/pyproj/stable/gotchas.html#axis-order-changes-in-proj-6\n",
      "  return _prepare_from_string(\" \".join(pjargs))\n",
      "/home/skymap/anaconda3/envs/farm/lib/python3.6/site-packages/pyproj/crs/crs.py:294: FutureWarning: '+init=<authority>:<code>' syntax is deprecated. '<authority>:<code>' is the preferred initialization method. When making the change, be mindful of axis order changes: https://pyproj4.github.io/pyproj/stable/gotchas.html#axis-order-changes-in-proj-6\n",
      "  projstring = _prepare_from_string(\" \".join((projstring, projkwargs)))\n",
      "/home/skymap/anaconda3/envs/farm/lib/python3.6/site-packages/pyproj/crs/crs.py:53: FutureWarning: '+init=<authority>:<code>' syntax is deprecated. '<authority>:<code>' is the preferred initialization method. When making the change, be mindful of axis order changes: https://pyproj4.github.io/pyproj/stable/gotchas.html#axis-order-changes-in-proj-6\n",
      "  return _prepare_from_string(\" \".join(pjargs))\n",
      "/home/skymap/anaconda3/envs/farm/lib/python3.6/site-packages/pyproj/crs/crs.py:294: FutureWarning: '+init=<authority>:<code>' syntax is deprecated. '<authority>:<code>' is the preferred initialization method. When making the change, be mindful of axis order changes: https://pyproj4.github.io/pyproj/stable/gotchas.html#axis-order-changes-in-proj-6\n",
      "  projstring = _prepare_from_string(\" \".join((projstring, projkwargs)))\n"
     ]
    },
    {
     "name": "stdout",
     "output_type": "stream",
     "text": [
      "indo_sample2_15 0.49999999999866085\n",
      "100\n"
     ]
    },
    {
     "name": "stderr",
     "output_type": "stream",
     "text": [
      "100%|██████████| 100/100 [00:01<00:00, 76.25it/s]\n",
      "/home/skymap/anaconda3/envs/farm/lib/python3.6/site-packages/pyproj/crs/crs.py:53: FutureWarning: '+init=<authority>:<code>' syntax is deprecated. '<authority>:<code>' is the preferred initialization method. When making the change, be mindful of axis order changes: https://pyproj4.github.io/pyproj/stable/gotchas.html#axis-order-changes-in-proj-6\n",
      "  return _prepare_from_string(\" \".join(pjargs))\n",
      "/home/skymap/anaconda3/envs/farm/lib/python3.6/site-packages/pyproj/crs/crs.py:294: FutureWarning: '+init=<authority>:<code>' syntax is deprecated. '<authority>:<code>' is the preferred initialization method. When making the change, be mindful of axis order changes: https://pyproj4.github.io/pyproj/stable/gotchas.html#axis-order-changes-in-proj-6\n",
      "  projstring = _prepare_from_string(\" \".join((projstring, projkwargs)))\n",
      "/home/skymap/anaconda3/envs/farm/lib/python3.6/site-packages/pyproj/crs/crs.py:53: FutureWarning: '+init=<authority>:<code>' syntax is deprecated. '<authority>:<code>' is the preferred initialization method. When making the change, be mindful of axis order changes: https://pyproj4.github.io/pyproj/stable/gotchas.html#axis-order-changes-in-proj-6\n",
      "  return _prepare_from_string(\" \".join(pjargs))\n",
      "/home/skymap/anaconda3/envs/farm/lib/python3.6/site-packages/pyproj/crs/crs.py:294: FutureWarning: '+init=<authority>:<code>' syntax is deprecated. '<authority>:<code>' is the preferred initialization method. When making the change, be mindful of axis order changes: https://pyproj4.github.io/pyproj/stable/gotchas.html#axis-order-changes-in-proj-6\n",
      "  projstring = _prepare_from_string(\" \".join((projstring, projkwargs)))\n"
     ]
    },
    {
     "name": "stdout",
     "output_type": "stream",
     "text": [
      "353 365\n"
     ]
    },
    {
     "name": "stderr",
     "output_type": "stream",
     "text": [
      "/home/skymap/anaconda3/envs/farm/lib/python3.6/site-packages/pyproj/crs/crs.py:53: FutureWarning: '+init=<authority>:<code>' syntax is deprecated. '<authority>:<code>' is the preferred initialization method. When making the change, be mindful of axis order changes: https://pyproj4.github.io/pyproj/stable/gotchas.html#axis-order-changes-in-proj-6\n",
      "  return _prepare_from_string(\" \".join(pjargs))\n",
      "/home/skymap/anaconda3/envs/farm/lib/python3.6/site-packages/pyproj/crs/crs.py:294: FutureWarning: '+init=<authority>:<code>' syntax is deprecated. '<authority>:<code>' is the preferred initialization method. When making the change, be mindful of axis order changes: https://pyproj4.github.io/pyproj/stable/gotchas.html#axis-order-changes-in-proj-6\n",
      "  projstring = _prepare_from_string(\" \".join((projstring, projkwargs)))\n",
      "/home/skymap/anaconda3/envs/farm/lib/python3.6/site-packages/pyproj/crs/crs.py:53: FutureWarning: '+init=<authority>:<code>' syntax is deprecated. '<authority>:<code>' is the preferred initialization method. When making the change, be mindful of axis order changes: https://pyproj4.github.io/pyproj/stable/gotchas.html#axis-order-changes-in-proj-6\n",
      "  return _prepare_from_string(\" \".join(pjargs))\n",
      "/home/skymap/anaconda3/envs/farm/lib/python3.6/site-packages/pyproj/crs/crs.py:294: FutureWarning: '+init=<authority>:<code>' syntax is deprecated. '<authority>:<code>' is the preferred initialization method. When making the change, be mindful of axis order changes: https://pyproj4.github.io/pyproj/stable/gotchas.html#axis-order-changes-in-proj-6\n",
      "  projstring = _prepare_from_string(\" \".join((projstring, projkwargs)))\n"
     ]
    },
    {
     "name": "stdout",
     "output_type": "stream",
     "text": [
      "indo_sample2_16 0.49999999999866085\n",
      "100\n"
     ]
    },
    {
     "name": "stderr",
     "output_type": "stream",
     "text": [
      "100%|██████████| 100/100 [00:01<00:00, 76.84it/s]\n",
      "/home/skymap/anaconda3/envs/farm/lib/python3.6/site-packages/pyproj/crs/crs.py:53: FutureWarning: '+init=<authority>:<code>' syntax is deprecated. '<authority>:<code>' is the preferred initialization method. When making the change, be mindful of axis order changes: https://pyproj4.github.io/pyproj/stable/gotchas.html#axis-order-changes-in-proj-6\n",
      "  return _prepare_from_string(\" \".join(pjargs))\n",
      "/home/skymap/anaconda3/envs/farm/lib/python3.6/site-packages/pyproj/crs/crs.py:294: FutureWarning: '+init=<authority>:<code>' syntax is deprecated. '<authority>:<code>' is the preferred initialization method. When making the change, be mindful of axis order changes: https://pyproj4.github.io/pyproj/stable/gotchas.html#axis-order-changes-in-proj-6\n",
      "  projstring = _prepare_from_string(\" \".join((projstring, projkwargs)))\n",
      "/home/skymap/anaconda3/envs/farm/lib/python3.6/site-packages/pyproj/crs/crs.py:53: FutureWarning: '+init=<authority>:<code>' syntax is deprecated. '<authority>:<code>' is the preferred initialization method. When making the change, be mindful of axis order changes: https://pyproj4.github.io/pyproj/stable/gotchas.html#axis-order-changes-in-proj-6\n",
      "  return _prepare_from_string(\" \".join(pjargs))\n",
      "/home/skymap/anaconda3/envs/farm/lib/python3.6/site-packages/pyproj/crs/crs.py:294: FutureWarning: '+init=<authority>:<code>' syntax is deprecated. '<authority>:<code>' is the preferred initialization method. When making the change, be mindful of axis order changes: https://pyproj4.github.io/pyproj/stable/gotchas.html#axis-order-changes-in-proj-6\n",
      "  projstring = _prepare_from_string(\" \".join((projstring, projkwargs)))\n"
     ]
    },
    {
     "name": "stdout",
     "output_type": "stream",
     "text": [
      "382 481\n"
     ]
    },
    {
     "name": "stderr",
     "output_type": "stream",
     "text": [
      "/home/skymap/anaconda3/envs/farm/lib/python3.6/site-packages/pyproj/crs/crs.py:53: FutureWarning: '+init=<authority>:<code>' syntax is deprecated. '<authority>:<code>' is the preferred initialization method. When making the change, be mindful of axis order changes: https://pyproj4.github.io/pyproj/stable/gotchas.html#axis-order-changes-in-proj-6\n",
      "  return _prepare_from_string(\" \".join(pjargs))\n",
      "/home/skymap/anaconda3/envs/farm/lib/python3.6/site-packages/pyproj/crs/crs.py:294: FutureWarning: '+init=<authority>:<code>' syntax is deprecated. '<authority>:<code>' is the preferred initialization method. When making the change, be mindful of axis order changes: https://pyproj4.github.io/pyproj/stable/gotchas.html#axis-order-changes-in-proj-6\n",
      "  projstring = _prepare_from_string(\" \".join((projstring, projkwargs)))\n",
      "/home/skymap/anaconda3/envs/farm/lib/python3.6/site-packages/pyproj/crs/crs.py:53: FutureWarning: '+init=<authority>:<code>' syntax is deprecated. '<authority>:<code>' is the preferred initialization method. When making the change, be mindful of axis order changes: https://pyproj4.github.io/pyproj/stable/gotchas.html#axis-order-changes-in-proj-6\n",
      "  return _prepare_from_string(\" \".join(pjargs))\n",
      "/home/skymap/anaconda3/envs/farm/lib/python3.6/site-packages/pyproj/crs/crs.py:294: FutureWarning: '+init=<authority>:<code>' syntax is deprecated. '<authority>:<code>' is the preferred initialization method. When making the change, be mindful of axis order changes: https://pyproj4.github.io/pyproj/stable/gotchas.html#axis-order-changes-in-proj-6\n",
      "  projstring = _prepare_from_string(\" \".join((projstring, projkwargs)))\n"
     ]
    },
    {
     "name": "stdout",
     "output_type": "stream",
     "text": [
      "indo_sample2_17 0.4999999999990706\n",
      "100\n"
     ]
    },
    {
     "name": "stderr",
     "output_type": "stream",
     "text": [
      "100%|██████████| 100/100 [00:01<00:00, 76.77it/s]\n",
      "/home/skymap/anaconda3/envs/farm/lib/python3.6/site-packages/pyproj/crs/crs.py:53: FutureWarning: '+init=<authority>:<code>' syntax is deprecated. '<authority>:<code>' is the preferred initialization method. When making the change, be mindful of axis order changes: https://pyproj4.github.io/pyproj/stable/gotchas.html#axis-order-changes-in-proj-6\n",
      "  return _prepare_from_string(\" \".join(pjargs))\n",
      "/home/skymap/anaconda3/envs/farm/lib/python3.6/site-packages/pyproj/crs/crs.py:294: FutureWarning: '+init=<authority>:<code>' syntax is deprecated. '<authority>:<code>' is the preferred initialization method. When making the change, be mindful of axis order changes: https://pyproj4.github.io/pyproj/stable/gotchas.html#axis-order-changes-in-proj-6\n",
      "  projstring = _prepare_from_string(\" \".join((projstring, projkwargs)))\n",
      "/home/skymap/anaconda3/envs/farm/lib/python3.6/site-packages/pyproj/crs/crs.py:53: FutureWarning: '+init=<authority>:<code>' syntax is deprecated. '<authority>:<code>' is the preferred initialization method. When making the change, be mindful of axis order changes: https://pyproj4.github.io/pyproj/stable/gotchas.html#axis-order-changes-in-proj-6\n",
      "  return _prepare_from_string(\" \".join(pjargs))\n",
      "/home/skymap/anaconda3/envs/farm/lib/python3.6/site-packages/pyproj/crs/crs.py:294: FutureWarning: '+init=<authority>:<code>' syntax is deprecated. '<authority>:<code>' is the preferred initialization method. When making the change, be mindful of axis order changes: https://pyproj4.github.io/pyproj/stable/gotchas.html#axis-order-changes-in-proj-6\n",
      "  projstring = _prepare_from_string(\" \".join((projstring, projkwargs)))\n"
     ]
    },
    {
     "name": "stdout",
     "output_type": "stream",
     "text": [
      "415 308\n"
     ]
    },
    {
     "name": "stderr",
     "output_type": "stream",
     "text": [
      "/home/skymap/anaconda3/envs/farm/lib/python3.6/site-packages/pyproj/crs/crs.py:53: FutureWarning: '+init=<authority>:<code>' syntax is deprecated. '<authority>:<code>' is the preferred initialization method. When making the change, be mindful of axis order changes: https://pyproj4.github.io/pyproj/stable/gotchas.html#axis-order-changes-in-proj-6\n",
      "  return _prepare_from_string(\" \".join(pjargs))\n",
      "/home/skymap/anaconda3/envs/farm/lib/python3.6/site-packages/pyproj/crs/crs.py:294: FutureWarning: '+init=<authority>:<code>' syntax is deprecated. '<authority>:<code>' is the preferred initialization method. When making the change, be mindful of axis order changes: https://pyproj4.github.io/pyproj/stable/gotchas.html#axis-order-changes-in-proj-6\n",
      "  projstring = _prepare_from_string(\" \".join((projstring, projkwargs)))\n",
      "/home/skymap/anaconda3/envs/farm/lib/python3.6/site-packages/pyproj/crs/crs.py:53: FutureWarning: '+init=<authority>:<code>' syntax is deprecated. '<authority>:<code>' is the preferred initialization method. When making the change, be mindful of axis order changes: https://pyproj4.github.io/pyproj/stable/gotchas.html#axis-order-changes-in-proj-6\n",
      "  return _prepare_from_string(\" \".join(pjargs))\n",
      "/home/skymap/anaconda3/envs/farm/lib/python3.6/site-packages/pyproj/crs/crs.py:294: FutureWarning: '+init=<authority>:<code>' syntax is deprecated. '<authority>:<code>' is the preferred initialization method. When making the change, be mindful of axis order changes: https://pyproj4.github.io/pyproj/stable/gotchas.html#axis-order-changes-in-proj-6\n",
      "  projstring = _prepare_from_string(\" \".join((projstring, projkwargs)))\n"
     ]
    },
    {
     "name": "stdout",
     "output_type": "stream",
     "text": [
      "indo_sample2_18 0.4999999999972302\n",
      "100\n"
     ]
    },
    {
     "name": "stderr",
     "output_type": "stream",
     "text": [
      "100%|██████████| 100/100 [00:01<00:00, 76.50it/s]\n",
      "/home/skymap/anaconda3/envs/farm/lib/python3.6/site-packages/pyproj/crs/crs.py:53: FutureWarning: '+init=<authority>:<code>' syntax is deprecated. '<authority>:<code>' is the preferred initialization method. When making the change, be mindful of axis order changes: https://pyproj4.github.io/pyproj/stable/gotchas.html#axis-order-changes-in-proj-6\n",
      "  return _prepare_from_string(\" \".join(pjargs))\n",
      "/home/skymap/anaconda3/envs/farm/lib/python3.6/site-packages/pyproj/crs/crs.py:294: FutureWarning: '+init=<authority>:<code>' syntax is deprecated. '<authority>:<code>' is the preferred initialization method. When making the change, be mindful of axis order changes: https://pyproj4.github.io/pyproj/stable/gotchas.html#axis-order-changes-in-proj-6\n",
      "  projstring = _prepare_from_string(\" \".join((projstring, projkwargs)))\n",
      "/home/skymap/anaconda3/envs/farm/lib/python3.6/site-packages/pyproj/crs/crs.py:53: FutureWarning: '+init=<authority>:<code>' syntax is deprecated. '<authority>:<code>' is the preferred initialization method. When making the change, be mindful of axis order changes: https://pyproj4.github.io/pyproj/stable/gotchas.html#axis-order-changes-in-proj-6\n",
      "  return _prepare_from_string(\" \".join(pjargs))\n",
      "/home/skymap/anaconda3/envs/farm/lib/python3.6/site-packages/pyproj/crs/crs.py:294: FutureWarning: '+init=<authority>:<code>' syntax is deprecated. '<authority>:<code>' is the preferred initialization method. When making the change, be mindful of axis order changes: https://pyproj4.github.io/pyproj/stable/gotchas.html#axis-order-changes-in-proj-6\n",
      "  projstring = _prepare_from_string(\" \".join((projstring, projkwargs)))\n"
     ]
    },
    {
     "name": "stdout",
     "output_type": "stream",
     "text": [
      "739 505\n"
     ]
    },
    {
     "name": "stderr",
     "output_type": "stream",
     "text": [
      "/home/skymap/anaconda3/envs/farm/lib/python3.6/site-packages/pyproj/crs/crs.py:53: FutureWarning: '+init=<authority>:<code>' syntax is deprecated. '<authority>:<code>' is the preferred initialization method. When making the change, be mindful of axis order changes: https://pyproj4.github.io/pyproj/stable/gotchas.html#axis-order-changes-in-proj-6\n",
      "  return _prepare_from_string(\" \".join(pjargs))\n",
      "/home/skymap/anaconda3/envs/farm/lib/python3.6/site-packages/pyproj/crs/crs.py:294: FutureWarning: '+init=<authority>:<code>' syntax is deprecated. '<authority>:<code>' is the preferred initialization method. When making the change, be mindful of axis order changes: https://pyproj4.github.io/pyproj/stable/gotchas.html#axis-order-changes-in-proj-6\n",
      "  projstring = _prepare_from_string(\" \".join((projstring, projkwargs)))\n",
      "/home/skymap/anaconda3/envs/farm/lib/python3.6/site-packages/pyproj/crs/crs.py:53: FutureWarning: '+init=<authority>:<code>' syntax is deprecated. '<authority>:<code>' is the preferred initialization method. When making the change, be mindful of axis order changes: https://pyproj4.github.io/pyproj/stable/gotchas.html#axis-order-changes-in-proj-6\n",
      "  return _prepare_from_string(\" \".join(pjargs))\n",
      "/home/skymap/anaconda3/envs/farm/lib/python3.6/site-packages/pyproj/crs/crs.py:294: FutureWarning: '+init=<authority>:<code>' syntax is deprecated. '<authority>:<code>' is the preferred initialization method. When making the change, be mindful of axis order changes: https://pyproj4.github.io/pyproj/stable/gotchas.html#axis-order-changes-in-proj-6\n",
      "  projstring = _prepare_from_string(\" \".join((projstring, projkwargs)))\n"
     ]
    },
    {
     "name": "stdout",
     "output_type": "stream",
     "text": [
      "indo_sample2_19 0.5000000000003295\n",
      "182\n"
     ]
    },
    {
     "name": "stderr",
     "output_type": "stream",
     "text": [
      "100%|██████████| 182/182 [00:02<00:00, 74.59it/s]\n",
      "/home/skymap/anaconda3/envs/farm/lib/python3.6/site-packages/pyproj/crs/crs.py:53: FutureWarning: '+init=<authority>:<code>' syntax is deprecated. '<authority>:<code>' is the preferred initialization method. When making the change, be mindful of axis order changes: https://pyproj4.github.io/pyproj/stable/gotchas.html#axis-order-changes-in-proj-6\n",
      "  return _prepare_from_string(\" \".join(pjargs))\n",
      "/home/skymap/anaconda3/envs/farm/lib/python3.6/site-packages/pyproj/crs/crs.py:294: FutureWarning: '+init=<authority>:<code>' syntax is deprecated. '<authority>:<code>' is the preferred initialization method. When making the change, be mindful of axis order changes: https://pyproj4.github.io/pyproj/stable/gotchas.html#axis-order-changes-in-proj-6\n",
      "  projstring = _prepare_from_string(\" \".join((projstring, projkwargs)))\n",
      "/home/skymap/anaconda3/envs/farm/lib/python3.6/site-packages/pyproj/crs/crs.py:53: FutureWarning: '+init=<authority>:<code>' syntax is deprecated. '<authority>:<code>' is the preferred initialization method. When making the change, be mindful of axis order changes: https://pyproj4.github.io/pyproj/stable/gotchas.html#axis-order-changes-in-proj-6\n",
      "  return _prepare_from_string(\" \".join(pjargs))\n",
      "/home/skymap/anaconda3/envs/farm/lib/python3.6/site-packages/pyproj/crs/crs.py:294: FutureWarning: '+init=<authority>:<code>' syntax is deprecated. '<authority>:<code>' is the preferred initialization method. When making the change, be mindful of axis order changes: https://pyproj4.github.io/pyproj/stable/gotchas.html#axis-order-changes-in-proj-6\n",
      "  projstring = _prepare_from_string(\" \".join((projstring, projkwargs)))\n"
     ]
    },
    {
     "name": "stdout",
     "output_type": "stream",
     "text": [
      "1112 709\n"
     ]
    },
    {
     "name": "stderr",
     "output_type": "stream",
     "text": [
      "/home/skymap/anaconda3/envs/farm/lib/python3.6/site-packages/pyproj/crs/crs.py:53: FutureWarning: '+init=<authority>:<code>' syntax is deprecated. '<authority>:<code>' is the preferred initialization method. When making the change, be mindful of axis order changes: https://pyproj4.github.io/pyproj/stable/gotchas.html#axis-order-changes-in-proj-6\n",
      "  return _prepare_from_string(\" \".join(pjargs))\n",
      "/home/skymap/anaconda3/envs/farm/lib/python3.6/site-packages/pyproj/crs/crs.py:294: FutureWarning: '+init=<authority>:<code>' syntax is deprecated. '<authority>:<code>' is the preferred initialization method. When making the change, be mindful of axis order changes: https://pyproj4.github.io/pyproj/stable/gotchas.html#axis-order-changes-in-proj-6\n",
      "  projstring = _prepare_from_string(\" \".join((projstring, projkwargs)))\n",
      "/home/skymap/anaconda3/envs/farm/lib/python3.6/site-packages/pyproj/crs/crs.py:53: FutureWarning: '+init=<authority>:<code>' syntax is deprecated. '<authority>:<code>' is the preferred initialization method. When making the change, be mindful of axis order changes: https://pyproj4.github.io/pyproj/stable/gotchas.html#axis-order-changes-in-proj-6\n",
      "  return _prepare_from_string(\" \".join(pjargs))\n",
      "/home/skymap/anaconda3/envs/farm/lib/python3.6/site-packages/pyproj/crs/crs.py:294: FutureWarning: '+init=<authority>:<code>' syntax is deprecated. '<authority>:<code>' is the preferred initialization method. When making the change, be mindful of axis order changes: https://pyproj4.github.io/pyproj/stable/gotchas.html#axis-order-changes-in-proj-6\n",
      "  projstring = _prepare_from_string(\" \".join((projstring, projkwargs)))\n"
     ]
    },
    {
     "name": "stdout",
     "output_type": "stream",
     "text": [
      "indo_sample2_2 0.4999999999997013\n",
      "384\n"
     ]
    },
    {
     "name": "stderr",
     "output_type": "stream",
     "text": [
      "100%|██████████| 384/384 [00:05<00:00, 70.89it/s]\n",
      "/home/skymap/anaconda3/envs/farm/lib/python3.6/site-packages/pyproj/crs/crs.py:53: FutureWarning: '+init=<authority>:<code>' syntax is deprecated. '<authority>:<code>' is the preferred initialization method. When making the change, be mindful of axis order changes: https://pyproj4.github.io/pyproj/stable/gotchas.html#axis-order-changes-in-proj-6\n",
      "  return _prepare_from_string(\" \".join(pjargs))\n",
      "/home/skymap/anaconda3/envs/farm/lib/python3.6/site-packages/pyproj/crs/crs.py:294: FutureWarning: '+init=<authority>:<code>' syntax is deprecated. '<authority>:<code>' is the preferred initialization method. When making the change, be mindful of axis order changes: https://pyproj4.github.io/pyproj/stable/gotchas.html#axis-order-changes-in-proj-6\n",
      "  projstring = _prepare_from_string(\" \".join((projstring, projkwargs)))\n",
      "/home/skymap/anaconda3/envs/farm/lib/python3.6/site-packages/pyproj/crs/crs.py:53: FutureWarning: '+init=<authority>:<code>' syntax is deprecated. '<authority>:<code>' is the preferred initialization method. When making the change, be mindful of axis order changes: https://pyproj4.github.io/pyproj/stable/gotchas.html#axis-order-changes-in-proj-6\n",
      "  return _prepare_from_string(\" \".join(pjargs))\n",
      "/home/skymap/anaconda3/envs/farm/lib/python3.6/site-packages/pyproj/crs/crs.py:294: FutureWarning: '+init=<authority>:<code>' syntax is deprecated. '<authority>:<code>' is the preferred initialization method. When making the change, be mindful of axis order changes: https://pyproj4.github.io/pyproj/stable/gotchas.html#axis-order-changes-in-proj-6\n",
      "  projstring = _prepare_from_string(\" \".join((projstring, projkwargs)))\n"
     ]
    },
    {
     "name": "stdout",
     "output_type": "stream",
     "text": [
      "587 596\n"
     ]
    },
    {
     "name": "stderr",
     "output_type": "stream",
     "text": [
      "/home/skymap/anaconda3/envs/farm/lib/python3.6/site-packages/pyproj/crs/crs.py:53: FutureWarning: '+init=<authority>:<code>' syntax is deprecated. '<authority>:<code>' is the preferred initialization method. When making the change, be mindful of axis order changes: https://pyproj4.github.io/pyproj/stable/gotchas.html#axis-order-changes-in-proj-6\n",
      "  return _prepare_from_string(\" \".join(pjargs))\n",
      "/home/skymap/anaconda3/envs/farm/lib/python3.6/site-packages/pyproj/crs/crs.py:294: FutureWarning: '+init=<authority>:<code>' syntax is deprecated. '<authority>:<code>' is the preferred initialization method. When making the change, be mindful of axis order changes: https://pyproj4.github.io/pyproj/stable/gotchas.html#axis-order-changes-in-proj-6\n",
      "  projstring = _prepare_from_string(\" \".join((projstring, projkwargs)))\n",
      "/home/skymap/anaconda3/envs/farm/lib/python3.6/site-packages/pyproj/crs/crs.py:53: FutureWarning: '+init=<authority>:<code>' syntax is deprecated. '<authority>:<code>' is the preferred initialization method. When making the change, be mindful of axis order changes: https://pyproj4.github.io/pyproj/stable/gotchas.html#axis-order-changes-in-proj-6\n",
      "  return _prepare_from_string(\" \".join(pjargs))\n",
      "/home/skymap/anaconda3/envs/farm/lib/python3.6/site-packages/pyproj/crs/crs.py:294: FutureWarning: '+init=<authority>:<code>' syntax is deprecated. '<authority>:<code>' is the preferred initialization method. When making the change, be mindful of axis order changes: https://pyproj4.github.io/pyproj/stable/gotchas.html#axis-order-changes-in-proj-6\n",
      "  projstring = _prepare_from_string(\" \".join((projstring, projkwargs)))\n"
     ]
    },
    {
     "name": "stdout",
     "output_type": "stream",
     "text": [
      "indo_sample2_20 0.5000000000001983\n",
      "170\n"
     ]
    },
    {
     "name": "stderr",
     "output_type": "stream",
     "text": [
      "100%|██████████| 170/170 [00:02<00:00, 76.12it/s]\n",
      "/home/skymap/anaconda3/envs/farm/lib/python3.6/site-packages/pyproj/crs/crs.py:53: FutureWarning: '+init=<authority>:<code>' syntax is deprecated. '<authority>:<code>' is the preferred initialization method. When making the change, be mindful of axis order changes: https://pyproj4.github.io/pyproj/stable/gotchas.html#axis-order-changes-in-proj-6\n",
      "  return _prepare_from_string(\" \".join(pjargs))\n",
      "/home/skymap/anaconda3/envs/farm/lib/python3.6/site-packages/pyproj/crs/crs.py:294: FutureWarning: '+init=<authority>:<code>' syntax is deprecated. '<authority>:<code>' is the preferred initialization method. When making the change, be mindful of axis order changes: https://pyproj4.github.io/pyproj/stable/gotchas.html#axis-order-changes-in-proj-6\n",
      "  projstring = _prepare_from_string(\" \".join((projstring, projkwargs)))\n",
      "/home/skymap/anaconda3/envs/farm/lib/python3.6/site-packages/pyproj/crs/crs.py:53: FutureWarning: '+init=<authority>:<code>' syntax is deprecated. '<authority>:<code>' is the preferred initialization method. When making the change, be mindful of axis order changes: https://pyproj4.github.io/pyproj/stable/gotchas.html#axis-order-changes-in-proj-6\n",
      "  return _prepare_from_string(\" \".join(pjargs))\n",
      "/home/skymap/anaconda3/envs/farm/lib/python3.6/site-packages/pyproj/crs/crs.py:294: FutureWarning: '+init=<authority>:<code>' syntax is deprecated. '<authority>:<code>' is the preferred initialization method. When making the change, be mindful of axis order changes: https://pyproj4.github.io/pyproj/stable/gotchas.html#axis-order-changes-in-proj-6\n",
      "  projstring = _prepare_from_string(\" \".join((projstring, projkwargs)))\n",
      "/home/skymap/anaconda3/envs/farm/lib/python3.6/site-packages/pyproj/crs/crs.py:53: FutureWarning: '+init=<authority>:<code>' syntax is deprecated. '<authority>:<code>' is the preferred initialization method. When making the change, be mindful of axis order changes: https://pyproj4.github.io/pyproj/stable/gotchas.html#axis-order-changes-in-proj-6\n",
      "  return _prepare_from_string(\" \".join(pjargs))\n",
      "/home/skymap/anaconda3/envs/farm/lib/python3.6/site-packages/pyproj/crs/crs.py:294: FutureWarning: '+init=<authority>:<code>' syntax is deprecated. '<authority>:<code>' is the preferred initialization method. When making the change, be mindful of axis order changes: https://pyproj4.github.io/pyproj/stable/gotchas.html#axis-order-changes-in-proj-6\n",
      "  projstring = _prepare_from_string(\" \".join((projstring, projkwargs)))\n"
     ]
    },
    {
     "name": "stdout",
     "output_type": "stream",
     "text": [
      "663 749\n"
     ]
    },
    {
     "name": "stderr",
     "output_type": "stream",
     "text": [
      "/home/skymap/anaconda3/envs/farm/lib/python3.6/site-packages/pyproj/crs/crs.py:53: FutureWarning: '+init=<authority>:<code>' syntax is deprecated. '<authority>:<code>' is the preferred initialization method. When making the change, be mindful of axis order changes: https://pyproj4.github.io/pyproj/stable/gotchas.html#axis-order-changes-in-proj-6\n",
      "  return _prepare_from_string(\" \".join(pjargs))\n",
      "/home/skymap/anaconda3/envs/farm/lib/python3.6/site-packages/pyproj/crs/crs.py:294: FutureWarning: '+init=<authority>:<code>' syntax is deprecated. '<authority>:<code>' is the preferred initialization method. When making the change, be mindful of axis order changes: https://pyproj4.github.io/pyproj/stable/gotchas.html#axis-order-changes-in-proj-6\n",
      "  projstring = _prepare_from_string(\" \".join((projstring, projkwargs)))\n"
     ]
    },
    {
     "name": "stdout",
     "output_type": "stream",
     "text": [
      "indo_sample2_3 0.5000000000013998\n",
      "242\n"
     ]
    },
    {
     "name": "stderr",
     "output_type": "stream",
     "text": [
      "100%|██████████| 242/242 [00:03<00:00, 71.56it/s]\n",
      "/home/skymap/anaconda3/envs/farm/lib/python3.6/site-packages/pyproj/crs/crs.py:53: FutureWarning: '+init=<authority>:<code>' syntax is deprecated. '<authority>:<code>' is the preferred initialization method. When making the change, be mindful of axis order changes: https://pyproj4.github.io/pyproj/stable/gotchas.html#axis-order-changes-in-proj-6\n",
      "  return _prepare_from_string(\" \".join(pjargs))\n",
      "/home/skymap/anaconda3/envs/farm/lib/python3.6/site-packages/pyproj/crs/crs.py:294: FutureWarning: '+init=<authority>:<code>' syntax is deprecated. '<authority>:<code>' is the preferred initialization method. When making the change, be mindful of axis order changes: https://pyproj4.github.io/pyproj/stable/gotchas.html#axis-order-changes-in-proj-6\n",
      "  projstring = _prepare_from_string(\" \".join((projstring, projkwargs)))\n",
      "/home/skymap/anaconda3/envs/farm/lib/python3.6/site-packages/pyproj/crs/crs.py:53: FutureWarning: '+init=<authority>:<code>' syntax is deprecated. '<authority>:<code>' is the preferred initialization method. When making the change, be mindful of axis order changes: https://pyproj4.github.io/pyproj/stable/gotchas.html#axis-order-changes-in-proj-6\n",
      "  return _prepare_from_string(\" \".join(pjargs))\n",
      "/home/skymap/anaconda3/envs/farm/lib/python3.6/site-packages/pyproj/crs/crs.py:294: FutureWarning: '+init=<authority>:<code>' syntax is deprecated. '<authority>:<code>' is the preferred initialization method. When making the change, be mindful of axis order changes: https://pyproj4.github.io/pyproj/stable/gotchas.html#axis-order-changes-in-proj-6\n",
      "  projstring = _prepare_from_string(\" \".join((projstring, projkwargs)))\n"
     ]
    },
    {
     "name": "stdout",
     "output_type": "stream",
     "text": [
      "2392 1936\n"
     ]
    },
    {
     "name": "stderr",
     "output_type": "stream",
     "text": [
      "/home/skymap/anaconda3/envs/farm/lib/python3.6/site-packages/pyproj/crs/crs.py:53: FutureWarning: '+init=<authority>:<code>' syntax is deprecated. '<authority>:<code>' is the preferred initialization method. When making the change, be mindful of axis order changes: https://pyproj4.github.io/pyproj/stable/gotchas.html#axis-order-changes-in-proj-6\n",
      "  return _prepare_from_string(\" \".join(pjargs))\n",
      "/home/skymap/anaconda3/envs/farm/lib/python3.6/site-packages/pyproj/crs/crs.py:294: FutureWarning: '+init=<authority>:<code>' syntax is deprecated. '<authority>:<code>' is the preferred initialization method. When making the change, be mindful of axis order changes: https://pyproj4.github.io/pyproj/stable/gotchas.html#axis-order-changes-in-proj-6\n",
      "  projstring = _prepare_from_string(\" \".join((projstring, projkwargs)))\n",
      "/home/skymap/anaconda3/envs/farm/lib/python3.6/site-packages/pyproj/crs/crs.py:53: FutureWarning: '+init=<authority>:<code>' syntax is deprecated. '<authority>:<code>' is the preferred initialization method. When making the change, be mindful of axis order changes: https://pyproj4.github.io/pyproj/stable/gotchas.html#axis-order-changes-in-proj-6\n",
      "  return _prepare_from_string(\" \".join(pjargs))\n",
      "/home/skymap/anaconda3/envs/farm/lib/python3.6/site-packages/pyproj/crs/crs.py:294: FutureWarning: '+init=<authority>:<code>' syntax is deprecated. '<authority>:<code>' is the preferred initialization method. When making the change, be mindful of axis order changes: https://pyproj4.github.io/pyproj/stable/gotchas.html#axis-order-changes-in-proj-6\n",
      "  projstring = _prepare_from_string(\" \".join((projstring, projkwargs)))\n"
     ]
    },
    {
     "name": "stdout",
     "output_type": "stream",
     "text": [
      "indo_sample2_4 0.4999999999999045\n",
      "500\n"
     ]
    },
    {
     "name": "stderr",
     "output_type": "stream",
     "text": [
      "100%|██████████| 500/500 [00:19<00:00, 25.49it/s]\n",
      "/home/skymap/anaconda3/envs/farm/lib/python3.6/site-packages/pyproj/crs/crs.py:53: FutureWarning: '+init=<authority>:<code>' syntax is deprecated. '<authority>:<code>' is the preferred initialization method. When making the change, be mindful of axis order changes: https://pyproj4.github.io/pyproj/stable/gotchas.html#axis-order-changes-in-proj-6\n",
      "  return _prepare_from_string(\" \".join(pjargs))\n",
      "/home/skymap/anaconda3/envs/farm/lib/python3.6/site-packages/pyproj/crs/crs.py:294: FutureWarning: '+init=<authority>:<code>' syntax is deprecated. '<authority>:<code>' is the preferred initialization method. When making the change, be mindful of axis order changes: https://pyproj4.github.io/pyproj/stable/gotchas.html#axis-order-changes-in-proj-6\n",
      "  projstring = _prepare_from_string(\" \".join((projstring, projkwargs)))\n",
      "/home/skymap/anaconda3/envs/farm/lib/python3.6/site-packages/pyproj/crs/crs.py:53: FutureWarning: '+init=<authority>:<code>' syntax is deprecated. '<authority>:<code>' is the preferred initialization method. When making the change, be mindful of axis order changes: https://pyproj4.github.io/pyproj/stable/gotchas.html#axis-order-changes-in-proj-6\n",
      "  return _prepare_from_string(\" \".join(pjargs))\n",
      "/home/skymap/anaconda3/envs/farm/lib/python3.6/site-packages/pyproj/crs/crs.py:294: FutureWarning: '+init=<authority>:<code>' syntax is deprecated. '<authority>:<code>' is the preferred initialization method. When making the change, be mindful of axis order changes: https://pyproj4.github.io/pyproj/stable/gotchas.html#axis-order-changes-in-proj-6\n",
      "  projstring = _prepare_from_string(\" \".join((projstring, projkwargs)))\n"
     ]
    },
    {
     "name": "stdout",
     "output_type": "stream",
     "text": [
      "2392 1936\n"
     ]
    },
    {
     "name": "stderr",
     "output_type": "stream",
     "text": [
      "/home/skymap/anaconda3/envs/farm/lib/python3.6/site-packages/pyproj/crs/crs.py:53: FutureWarning: '+init=<authority>:<code>' syntax is deprecated. '<authority>:<code>' is the preferred initialization method. When making the change, be mindful of axis order changes: https://pyproj4.github.io/pyproj/stable/gotchas.html#axis-order-changes-in-proj-6\n",
      "  return _prepare_from_string(\" \".join(pjargs))\n",
      "/home/skymap/anaconda3/envs/farm/lib/python3.6/site-packages/pyproj/crs/crs.py:294: FutureWarning: '+init=<authority>:<code>' syntax is deprecated. '<authority>:<code>' is the preferred initialization method. When making the change, be mindful of axis order changes: https://pyproj4.github.io/pyproj/stable/gotchas.html#axis-order-changes-in-proj-6\n",
      "  projstring = _prepare_from_string(\" \".join((projstring, projkwargs)))\n",
      "/home/skymap/anaconda3/envs/farm/lib/python3.6/site-packages/pyproj/crs/crs.py:53: FutureWarning: '+init=<authority>:<code>' syntax is deprecated. '<authority>:<code>' is the preferred initialization method. When making the change, be mindful of axis order changes: https://pyproj4.github.io/pyproj/stable/gotchas.html#axis-order-changes-in-proj-6\n",
      "  return _prepare_from_string(\" \".join(pjargs))\n",
      "/home/skymap/anaconda3/envs/farm/lib/python3.6/site-packages/pyproj/crs/crs.py:294: FutureWarning: '+init=<authority>:<code>' syntax is deprecated. '<authority>:<code>' is the preferred initialization method. When making the change, be mindful of axis order changes: https://pyproj4.github.io/pyproj/stable/gotchas.html#axis-order-changes-in-proj-6\n",
      "  projstring = _prepare_from_string(\" \".join((projstring, projkwargs)))\n"
     ]
    },
    {
     "name": "stdout",
     "output_type": "stream",
     "text": [
      "indo_sample2_5 0.4999999999999045\n",
      "500\n"
     ]
    },
    {
     "name": "stderr",
     "output_type": "stream",
     "text": [
      "100%|██████████| 500/500 [00:08<00:00, 56.06it/s]\n",
      "/home/skymap/anaconda3/envs/farm/lib/python3.6/site-packages/pyproj/crs/crs.py:53: FutureWarning: '+init=<authority>:<code>' syntax is deprecated. '<authority>:<code>' is the preferred initialization method. When making the change, be mindful of axis order changes: https://pyproj4.github.io/pyproj/stable/gotchas.html#axis-order-changes-in-proj-6\n",
      "  return _prepare_from_string(\" \".join(pjargs))\n",
      "/home/skymap/anaconda3/envs/farm/lib/python3.6/site-packages/pyproj/crs/crs.py:294: FutureWarning: '+init=<authority>:<code>' syntax is deprecated. '<authority>:<code>' is the preferred initialization method. When making the change, be mindful of axis order changes: https://pyproj4.github.io/pyproj/stable/gotchas.html#axis-order-changes-in-proj-6\n",
      "  projstring = _prepare_from_string(\" \".join((projstring, projkwargs)))\n",
      "/home/skymap/anaconda3/envs/farm/lib/python3.6/site-packages/pyproj/crs/crs.py:53: FutureWarning: '+init=<authority>:<code>' syntax is deprecated. '<authority>:<code>' is the preferred initialization method. When making the change, be mindful of axis order changes: https://pyproj4.github.io/pyproj/stable/gotchas.html#axis-order-changes-in-proj-6\n",
      "  return _prepare_from_string(\" \".join(pjargs))\n",
      "/home/skymap/anaconda3/envs/farm/lib/python3.6/site-packages/pyproj/crs/crs.py:294: FutureWarning: '+init=<authority>:<code>' syntax is deprecated. '<authority>:<code>' is the preferred initialization method. When making the change, be mindful of axis order changes: https://pyproj4.github.io/pyproj/stable/gotchas.html#axis-order-changes-in-proj-6\n",
      "  projstring = _prepare_from_string(\" \".join((projstring, projkwargs)))\n"
     ]
    },
    {
     "name": "stdout",
     "output_type": "stream",
     "text": [
      "996 1682\n"
     ]
    },
    {
     "name": "stderr",
     "output_type": "stream",
     "text": [
      "/home/skymap/anaconda3/envs/farm/lib/python3.6/site-packages/pyproj/crs/crs.py:53: FutureWarning: '+init=<authority>:<code>' syntax is deprecated. '<authority>:<code>' is the preferred initialization method. When making the change, be mindful of axis order changes: https://pyproj4.github.io/pyproj/stable/gotchas.html#axis-order-changes-in-proj-6\n",
      "  return _prepare_from_string(\" \".join(pjargs))\n",
      "/home/skymap/anaconda3/envs/farm/lib/python3.6/site-packages/pyproj/crs/crs.py:294: FutureWarning: '+init=<authority>:<code>' syntax is deprecated. '<authority>:<code>' is the preferred initialization method. When making the change, be mindful of axis order changes: https://pyproj4.github.io/pyproj/stable/gotchas.html#axis-order-changes-in-proj-6\n",
      "  projstring = _prepare_from_string(\" \".join((projstring, projkwargs)))\n",
      "/home/skymap/anaconda3/envs/farm/lib/python3.6/site-packages/pyproj/crs/crs.py:53: FutureWarning: '+init=<authority>:<code>' syntax is deprecated. '<authority>:<code>' is the preferred initialization method. When making the change, be mindful of axis order changes: https://pyproj4.github.io/pyproj/stable/gotchas.html#axis-order-changes-in-proj-6\n",
      "  return _prepare_from_string(\" \".join(pjargs))\n",
      "/home/skymap/anaconda3/envs/farm/lib/python3.6/site-packages/pyproj/crs/crs.py:294: FutureWarning: '+init=<authority>:<code>' syntax is deprecated. '<authority>:<code>' is the preferred initialization method. When making the change, be mindful of axis order changes: https://pyproj4.github.io/pyproj/stable/gotchas.html#axis-order-changes-in-proj-6\n",
      "  projstring = _prepare_from_string(\" \".join((projstring, projkwargs)))\n"
     ]
    },
    {
     "name": "stdout",
     "output_type": "stream",
     "text": [
      "indo_sample2_6 0.49999999999906275\n",
      "500\n"
     ]
    },
    {
     "name": "stderr",
     "output_type": "stream",
     "text": [
      "100%|██████████| 500/500 [00:07<00:00, 64.93it/s]\n"
     ]
    },
    {
     "name": "stdout",
     "output_type": "stream",
     "text": [
      "996 1682\n"
     ]
    },
    {
     "name": "stderr",
     "output_type": "stream",
     "text": [
      "/home/skymap/anaconda3/envs/farm/lib/python3.6/site-packages/pyproj/crs/crs.py:53: FutureWarning: '+init=<authority>:<code>' syntax is deprecated. '<authority>:<code>' is the preferred initialization method. When making the change, be mindful of axis order changes: https://pyproj4.github.io/pyproj/stable/gotchas.html#axis-order-changes-in-proj-6\n",
      "  return _prepare_from_string(\" \".join(pjargs))\n",
      "/home/skymap/anaconda3/envs/farm/lib/python3.6/site-packages/pyproj/crs/crs.py:294: FutureWarning: '+init=<authority>:<code>' syntax is deprecated. '<authority>:<code>' is the preferred initialization method. When making the change, be mindful of axis order changes: https://pyproj4.github.io/pyproj/stable/gotchas.html#axis-order-changes-in-proj-6\n",
      "  projstring = _prepare_from_string(\" \".join((projstring, projkwargs)))\n",
      "/home/skymap/anaconda3/envs/farm/lib/python3.6/site-packages/pyproj/crs/crs.py:53: FutureWarning: '+init=<authority>:<code>' syntax is deprecated. '<authority>:<code>' is the preferred initialization method. When making the change, be mindful of axis order changes: https://pyproj4.github.io/pyproj/stable/gotchas.html#axis-order-changes-in-proj-6\n",
      "  return _prepare_from_string(\" \".join(pjargs))\n",
      "/home/skymap/anaconda3/envs/farm/lib/python3.6/site-packages/pyproj/crs/crs.py:294: FutureWarning: '+init=<authority>:<code>' syntax is deprecated. '<authority>:<code>' is the preferred initialization method. When making the change, be mindful of axis order changes: https://pyproj4.github.io/pyproj/stable/gotchas.html#axis-order-changes-in-proj-6\n",
      "  projstring = _prepare_from_string(\" \".join((projstring, projkwargs)))\n",
      "/home/skymap/anaconda3/envs/farm/lib/python3.6/site-packages/pyproj/crs/crs.py:53: FutureWarning: '+init=<authority>:<code>' syntax is deprecated. '<authority>:<code>' is the preferred initialization method. When making the change, be mindful of axis order changes: https://pyproj4.github.io/pyproj/stable/gotchas.html#axis-order-changes-in-proj-6\n",
      "  return _prepare_from_string(\" \".join(pjargs))\n",
      "/home/skymap/anaconda3/envs/farm/lib/python3.6/site-packages/pyproj/crs/crs.py:294: FutureWarning: '+init=<authority>:<code>' syntax is deprecated. '<authority>:<code>' is the preferred initialization method. When making the change, be mindful of axis order changes: https://pyproj4.github.io/pyproj/stable/gotchas.html#axis-order-changes-in-proj-6\n",
      "  projstring = _prepare_from_string(\" \".join((projstring, projkwargs)))\n",
      "/home/skymap/anaconda3/envs/farm/lib/python3.6/site-packages/pyproj/crs/crs.py:53: FutureWarning: '+init=<authority>:<code>' syntax is deprecated. '<authority>:<code>' is the preferred initialization method. When making the change, be mindful of axis order changes: https://pyproj4.github.io/pyproj/stable/gotchas.html#axis-order-changes-in-proj-6\n",
      "  return _prepare_from_string(\" \".join(pjargs))\n",
      "/home/skymap/anaconda3/envs/farm/lib/python3.6/site-packages/pyproj/crs/crs.py:294: FutureWarning: '+init=<authority>:<code>' syntax is deprecated. '<authority>:<code>' is the preferred initialization method. When making the change, be mindful of axis order changes: https://pyproj4.github.io/pyproj/stable/gotchas.html#axis-order-changes-in-proj-6\n",
      "  projstring = _prepare_from_string(\" \".join((projstring, projkwargs)))\n"
     ]
    },
    {
     "name": "stdout",
     "output_type": "stream",
     "text": [
      "indo_sample2_7 0.49999999999906275\n",
      "500\n"
     ]
    },
    {
     "name": "stderr",
     "output_type": "stream",
     "text": [
      "100%|██████████| 500/500 [00:14<00:00, 33.52it/s]\n",
      "/home/skymap/anaconda3/envs/farm/lib/python3.6/site-packages/pyproj/crs/crs.py:53: FutureWarning: '+init=<authority>:<code>' syntax is deprecated. '<authority>:<code>' is the preferred initialization method. When making the change, be mindful of axis order changes: https://pyproj4.github.io/pyproj/stable/gotchas.html#axis-order-changes-in-proj-6\n",
      "  return _prepare_from_string(\" \".join(pjargs))\n",
      "/home/skymap/anaconda3/envs/farm/lib/python3.6/site-packages/pyproj/crs/crs.py:294: FutureWarning: '+init=<authority>:<code>' syntax is deprecated. '<authority>:<code>' is the preferred initialization method. When making the change, be mindful of axis order changes: https://pyproj4.github.io/pyproj/stable/gotchas.html#axis-order-changes-in-proj-6\n",
      "  projstring = _prepare_from_string(\" \".join((projstring, projkwargs)))\n",
      "/home/skymap/anaconda3/envs/farm/lib/python3.6/site-packages/pyproj/crs/crs.py:53: FutureWarning: '+init=<authority>:<code>' syntax is deprecated. '<authority>:<code>' is the preferred initialization method. When making the change, be mindful of axis order changes: https://pyproj4.github.io/pyproj/stable/gotchas.html#axis-order-changes-in-proj-6\n",
      "  return _prepare_from_string(\" \".join(pjargs))\n",
      "/home/skymap/anaconda3/envs/farm/lib/python3.6/site-packages/pyproj/crs/crs.py:294: FutureWarning: '+init=<authority>:<code>' syntax is deprecated. '<authority>:<code>' is the preferred initialization method. When making the change, be mindful of axis order changes: https://pyproj4.github.io/pyproj/stable/gotchas.html#axis-order-changes-in-proj-6\n",
      "  projstring = _prepare_from_string(\" \".join((projstring, projkwargs)))\n",
      "/home/skymap/anaconda3/envs/farm/lib/python3.6/site-packages/pyproj/crs/crs.py:53: FutureWarning: '+init=<authority>:<code>' syntax is deprecated. '<authority>:<code>' is the preferred initialization method. When making the change, be mindful of axis order changes: https://pyproj4.github.io/pyproj/stable/gotchas.html#axis-order-changes-in-proj-6\n",
      "  return _prepare_from_string(\" \".join(pjargs))\n",
      "/home/skymap/anaconda3/envs/farm/lib/python3.6/site-packages/pyproj/crs/crs.py:294: FutureWarning: '+init=<authority>:<code>' syntax is deprecated. '<authority>:<code>' is the preferred initialization method. When making the change, be mindful of axis order changes: https://pyproj4.github.io/pyproj/stable/gotchas.html#axis-order-changes-in-proj-6\n",
      "  projstring = _prepare_from_string(\" \".join((projstring, projkwargs)))\n",
      "/home/skymap/anaconda3/envs/farm/lib/python3.6/site-packages/pyproj/crs/crs.py:53: FutureWarning: '+init=<authority>:<code>' syntax is deprecated. '<authority>:<code>' is the preferred initialization method. When making the change, be mindful of axis order changes: https://pyproj4.github.io/pyproj/stable/gotchas.html#axis-order-changes-in-proj-6\n",
      "  return _prepare_from_string(\" \".join(pjargs))\n",
      "/home/skymap/anaconda3/envs/farm/lib/python3.6/site-packages/pyproj/crs/crs.py:294: FutureWarning: '+init=<authority>:<code>' syntax is deprecated. '<authority>:<code>' is the preferred initialization method. When making the change, be mindful of axis order changes: https://pyproj4.github.io/pyproj/stable/gotchas.html#axis-order-changes-in-proj-6\n",
      "  projstring = _prepare_from_string(\" \".join((projstring, projkwargs)))\n"
     ]
    },
    {
     "name": "stdout",
     "output_type": "stream",
     "text": [
      "976 846\n",
      "indo_sample2_8 0.4999999999997657\n",
      "402\n"
     ]
    },
    {
     "name": "stderr",
     "output_type": "stream",
     "text": [
      "100%|██████████| 402/402 [00:06<00:00, 66.70it/s]\n",
      "/home/skymap/anaconda3/envs/farm/lib/python3.6/site-packages/pyproj/crs/crs.py:53: FutureWarning: '+init=<authority>:<code>' syntax is deprecated. '<authority>:<code>' is the preferred initialization method. When making the change, be mindful of axis order changes: https://pyproj4.github.io/pyproj/stable/gotchas.html#axis-order-changes-in-proj-6\n",
      "  return _prepare_from_string(\" \".join(pjargs))\n",
      "/home/skymap/anaconda3/envs/farm/lib/python3.6/site-packages/pyproj/crs/crs.py:294: FutureWarning: '+init=<authority>:<code>' syntax is deprecated. '<authority>:<code>' is the preferred initialization method. When making the change, be mindful of axis order changes: https://pyproj4.github.io/pyproj/stable/gotchas.html#axis-order-changes-in-proj-6\n",
      "  projstring = _prepare_from_string(\" \".join((projstring, projkwargs)))\n",
      "/home/skymap/anaconda3/envs/farm/lib/python3.6/site-packages/pyproj/crs/crs.py:53: FutureWarning: '+init=<authority>:<code>' syntax is deprecated. '<authority>:<code>' is the preferred initialization method. When making the change, be mindful of axis order changes: https://pyproj4.github.io/pyproj/stable/gotchas.html#axis-order-changes-in-proj-6\n",
      "  return _prepare_from_string(\" \".join(pjargs))\n",
      "/home/skymap/anaconda3/envs/farm/lib/python3.6/site-packages/pyproj/crs/crs.py:294: FutureWarning: '+init=<authority>:<code>' syntax is deprecated. '<authority>:<code>' is the preferred initialization method. When making the change, be mindful of axis order changes: https://pyproj4.github.io/pyproj/stable/gotchas.html#axis-order-changes-in-proj-6\n",
      "  projstring = _prepare_from_string(\" \".join((projstring, projkwargs)))\n"
     ]
    },
    {
     "name": "stdout",
     "output_type": "stream",
     "text": [
      "976 846\n"
     ]
    },
    {
     "name": "stderr",
     "output_type": "stream",
     "text": [
      "/home/skymap/anaconda3/envs/farm/lib/python3.6/site-packages/pyproj/crs/crs.py:53: FutureWarning: '+init=<authority>:<code>' syntax is deprecated. '<authority>:<code>' is the preferred initialization method. When making the change, be mindful of axis order changes: https://pyproj4.github.io/pyproj/stable/gotchas.html#axis-order-changes-in-proj-6\n",
      "  return _prepare_from_string(\" \".join(pjargs))\n",
      "/home/skymap/anaconda3/envs/farm/lib/python3.6/site-packages/pyproj/crs/crs.py:294: FutureWarning: '+init=<authority>:<code>' syntax is deprecated. '<authority>:<code>' is the preferred initialization method. When making the change, be mindful of axis order changes: https://pyproj4.github.io/pyproj/stable/gotchas.html#axis-order-changes-in-proj-6\n",
      "  projstring = _prepare_from_string(\" \".join((projstring, projkwargs)))\n",
      "/home/skymap/anaconda3/envs/farm/lib/python3.6/site-packages/pyproj/crs/crs.py:53: FutureWarning: '+init=<authority>:<code>' syntax is deprecated. '<authority>:<code>' is the preferred initialization method. When making the change, be mindful of axis order changes: https://pyproj4.github.io/pyproj/stable/gotchas.html#axis-order-changes-in-proj-6\n",
      "  return _prepare_from_string(\" \".join(pjargs))\n",
      "/home/skymap/anaconda3/envs/farm/lib/python3.6/site-packages/pyproj/crs/crs.py:294: FutureWarning: '+init=<authority>:<code>' syntax is deprecated. '<authority>:<code>' is the preferred initialization method. When making the change, be mindful of axis order changes: https://pyproj4.github.io/pyproj/stable/gotchas.html#axis-order-changes-in-proj-6\n",
      "  projstring = _prepare_from_string(\" \".join((projstring, projkwargs)))\n"
     ]
    },
    {
     "name": "stdout",
     "output_type": "stream",
     "text": [
      "indo_sample2_9 0.4999999999997657\n",
      "402\n"
     ]
    },
    {
     "name": "stderr",
     "output_type": "stream",
     "text": [
      "100%|██████████| 402/402 [00:05<00:00, 72.39it/s]\n",
      "/home/skymap/anaconda3/envs/farm/lib/python3.6/site-packages/pyproj/crs/crs.py:53: FutureWarning: '+init=<authority>:<code>' syntax is deprecated. '<authority>:<code>' is the preferred initialization method. When making the change, be mindful of axis order changes: https://pyproj4.github.io/pyproj/stable/gotchas.html#axis-order-changes-in-proj-6\n",
      "  return _prepare_from_string(\" \".join(pjargs))\n",
      "/home/skymap/anaconda3/envs/farm/lib/python3.6/site-packages/pyproj/crs/crs.py:294: FutureWarning: '+init=<authority>:<code>' syntax is deprecated. '<authority>:<code>' is the preferred initialization method. When making the change, be mindful of axis order changes: https://pyproj4.github.io/pyproj/stable/gotchas.html#axis-order-changes-in-proj-6\n",
      "  projstring = _prepare_from_string(\" \".join((projstring, projkwargs)))\n",
      "/home/skymap/anaconda3/envs/farm/lib/python3.6/site-packages/pyproj/crs/crs.py:53: FutureWarning: '+init=<authority>:<code>' syntax is deprecated. '<authority>:<code>' is the preferred initialization method. When making the change, be mindful of axis order changes: https://pyproj4.github.io/pyproj/stable/gotchas.html#axis-order-changes-in-proj-6\n",
      "  return _prepare_from_string(\" \".join(pjargs))\n",
      "/home/skymap/anaconda3/envs/farm/lib/python3.6/site-packages/pyproj/crs/crs.py:294: FutureWarning: '+init=<authority>:<code>' syntax is deprecated. '<authority>:<code>' is the preferred initialization method. When making the change, be mindful of axis order changes: https://pyproj4.github.io/pyproj/stable/gotchas.html#axis-order-changes-in-proj-6\n",
      "  projstring = _prepare_from_string(\" \".join((projstring, projkwargs)))\n"
     ]
    },
    {
     "name": "stdout",
     "output_type": "stream",
     "text": [
      "4015 5008\n",
      "jupem2_0 0.29750123843421933\n",
      "500\n"
     ]
    },
    {
     "name": "stderr",
     "output_type": "stream",
     "text": [
      "100%|██████████| 500/500 [00:33<00:00, 14.99it/s]\n",
      "/home/skymap/anaconda3/envs/farm/lib/python3.6/site-packages/pyproj/crs/crs.py:53: FutureWarning: '+init=<authority>:<code>' syntax is deprecated. '<authority>:<code>' is the preferred initialization method. When making the change, be mindful of axis order changes: https://pyproj4.github.io/pyproj/stable/gotchas.html#axis-order-changes-in-proj-6\n",
      "  return _prepare_from_string(\" \".join(pjargs))\n",
      "/home/skymap/anaconda3/envs/farm/lib/python3.6/site-packages/pyproj/crs/crs.py:294: FutureWarning: '+init=<authority>:<code>' syntax is deprecated. '<authority>:<code>' is the preferred initialization method. When making the change, be mindful of axis order changes: https://pyproj4.github.io/pyproj/stable/gotchas.html#axis-order-changes-in-proj-6\n",
      "  projstring = _prepare_from_string(\" \".join((projstring, projkwargs)))\n",
      "/home/skymap/anaconda3/envs/farm/lib/python3.6/site-packages/pyproj/crs/crs.py:53: FutureWarning: '+init=<authority>:<code>' syntax is deprecated. '<authority>:<code>' is the preferred initialization method. When making the change, be mindful of axis order changes: https://pyproj4.github.io/pyproj/stable/gotchas.html#axis-order-changes-in-proj-6\n",
      "  return _prepare_from_string(\" \".join(pjargs))\n",
      "/home/skymap/anaconda3/envs/farm/lib/python3.6/site-packages/pyproj/crs/crs.py:294: FutureWarning: '+init=<authority>:<code>' syntax is deprecated. '<authority>:<code>' is the preferred initialization method. When making the change, be mindful of axis order changes: https://pyproj4.github.io/pyproj/stable/gotchas.html#axis-order-changes-in-proj-6\n",
      "  projstring = _prepare_from_string(\" \".join((projstring, projkwargs)))\n"
     ]
    },
    {
     "name": "stdout",
     "output_type": "stream",
     "text": [
      "1515 1822\n",
      "jupem2_1 0.2974615990638129\n",
      "336\n"
     ]
    },
    {
     "name": "stderr",
     "output_type": "stream",
     "text": [
      "100%|██████████| 336/336 [00:08<00:00, 41.94it/s]\n",
      "/home/skymap/anaconda3/envs/farm/lib/python3.6/site-packages/pyproj/crs/crs.py:53: FutureWarning: '+init=<authority>:<code>' syntax is deprecated. '<authority>:<code>' is the preferred initialization method. When making the change, be mindful of axis order changes: https://pyproj4.github.io/pyproj/stable/gotchas.html#axis-order-changes-in-proj-6\n",
      "  return _prepare_from_string(\" \".join(pjargs))\n",
      "/home/skymap/anaconda3/envs/farm/lib/python3.6/site-packages/pyproj/crs/crs.py:294: FutureWarning: '+init=<authority>:<code>' syntax is deprecated. '<authority>:<code>' is the preferred initialization method. When making the change, be mindful of axis order changes: https://pyproj4.github.io/pyproj/stable/gotchas.html#axis-order-changes-in-proj-6\n",
      "  projstring = _prepare_from_string(\" \".join((projstring, projkwargs)))\n",
      "/home/skymap/anaconda3/envs/farm/lib/python3.6/site-packages/pyproj/crs/crs.py:53: FutureWarning: '+init=<authority>:<code>' syntax is deprecated. '<authority>:<code>' is the preferred initialization method. When making the change, be mindful of axis order changes: https://pyproj4.github.io/pyproj/stable/gotchas.html#axis-order-changes-in-proj-6\n",
      "  return _prepare_from_string(\" \".join(pjargs))\n",
      "/home/skymap/anaconda3/envs/farm/lib/python3.6/site-packages/pyproj/crs/crs.py:294: FutureWarning: '+init=<authority>:<code>' syntax is deprecated. '<authority>:<code>' is the preferred initialization method. When making the change, be mindful of axis order changes: https://pyproj4.github.io/pyproj/stable/gotchas.html#axis-order-changes-in-proj-6\n",
      "  projstring = _prepare_from_string(\" \".join((projstring, projkwargs)))\n"
     ]
    },
    {
     "name": "stdout",
     "output_type": "stream",
     "text": [
      "2465 2200\n",
      "jupem2_2 0.2971653326484204\n",
      "500\n"
     ]
    },
    {
     "name": "stderr",
     "output_type": "stream",
     "text": [
      "100%|██████████| 500/500 [00:17<00:00, 28.13it/s]\n",
      "/home/skymap/anaconda3/envs/farm/lib/python3.6/site-packages/pyproj/crs/crs.py:53: FutureWarning: '+init=<authority>:<code>' syntax is deprecated. '<authority>:<code>' is the preferred initialization method. When making the change, be mindful of axis order changes: https://pyproj4.github.io/pyproj/stable/gotchas.html#axis-order-changes-in-proj-6\n",
      "  return _prepare_from_string(\" \".join(pjargs))\n",
      "/home/skymap/anaconda3/envs/farm/lib/python3.6/site-packages/pyproj/crs/crs.py:294: FutureWarning: '+init=<authority>:<code>' syntax is deprecated. '<authority>:<code>' is the preferred initialization method. When making the change, be mindful of axis order changes: https://pyproj4.github.io/pyproj/stable/gotchas.html#axis-order-changes-in-proj-6\n",
      "  projstring = _prepare_from_string(\" \".join((projstring, projkwargs)))\n",
      "/home/skymap/anaconda3/envs/farm/lib/python3.6/site-packages/pyproj/crs/crs.py:53: FutureWarning: '+init=<authority>:<code>' syntax is deprecated. '<authority>:<code>' is the preferred initialization method. When making the change, be mindful of axis order changes: https://pyproj4.github.io/pyproj/stable/gotchas.html#axis-order-changes-in-proj-6\n",
      "  return _prepare_from_string(\" \".join(pjargs))\n",
      "/home/skymap/anaconda3/envs/farm/lib/python3.6/site-packages/pyproj/crs/crs.py:294: FutureWarning: '+init=<authority>:<code>' syntax is deprecated. '<authority>:<code>' is the preferred initialization method. When making the change, be mindful of axis order changes: https://pyproj4.github.io/pyproj/stable/gotchas.html#axis-order-changes-in-proj-6\n",
      "  projstring = _prepare_from_string(\" \".join((projstring, projkwargs)))\n"
     ]
    },
    {
     "name": "stdout",
     "output_type": "stream",
     "text": [
      "4559 2268\n"
     ]
    },
    {
     "name": "stderr",
     "output_type": "stream",
     "text": [
      "/home/skymap/anaconda3/envs/farm/lib/python3.6/site-packages/pyproj/crs/crs.py:53: FutureWarning: '+init=<authority>:<code>' syntax is deprecated. '<authority>:<code>' is the preferred initialization method. When making the change, be mindful of axis order changes: https://pyproj4.github.io/pyproj/stable/gotchas.html#axis-order-changes-in-proj-6\n",
      "  return _prepare_from_string(\" \".join(pjargs))\n",
      "/home/skymap/anaconda3/envs/farm/lib/python3.6/site-packages/pyproj/crs/crs.py:294: FutureWarning: '+init=<authority>:<code>' syntax is deprecated. '<authority>:<code>' is the preferred initialization method. When making the change, be mindful of axis order changes: https://pyproj4.github.io/pyproj/stable/gotchas.html#axis-order-changes-in-proj-6\n",
      "  projstring = _prepare_from_string(\" \".join((projstring, projkwargs)))\n",
      "/home/skymap/anaconda3/envs/farm/lib/python3.6/site-packages/pyproj/crs/crs.py:53: FutureWarning: '+init=<authority>:<code>' syntax is deprecated. '<authority>:<code>' is the preferred initialization method. When making the change, be mindful of axis order changes: https://pyproj4.github.io/pyproj/stable/gotchas.html#axis-order-changes-in-proj-6\n",
      "  return _prepare_from_string(\" \".join(pjargs))\n",
      "/home/skymap/anaconda3/envs/farm/lib/python3.6/site-packages/pyproj/crs/crs.py:294: FutureWarning: '+init=<authority>:<code>' syntax is deprecated. '<authority>:<code>' is the preferred initialization method. When making the change, be mindful of axis order changes: https://pyproj4.github.io/pyproj/stable/gotchas.html#axis-order-changes-in-proj-6\n",
      "  projstring = _prepare_from_string(\" \".join((projstring, projkwargs)))\n"
     ]
    },
    {
     "name": "stdout",
     "output_type": "stream",
     "text": [
      "jupem_dg_0 0.4999999999999361\n",
      "500\n"
     ]
    },
    {
     "name": "stderr",
     "output_type": "stream",
     "text": [
      "100%|██████████| 500/500 [00:11<00:00, 41.98it/s]\n",
      "/home/skymap/anaconda3/envs/farm/lib/python3.6/site-packages/pyproj/crs/crs.py:53: FutureWarning: '+init=<authority>:<code>' syntax is deprecated. '<authority>:<code>' is the preferred initialization method. When making the change, be mindful of axis order changes: https://pyproj4.github.io/pyproj/stable/gotchas.html#axis-order-changes-in-proj-6\n",
      "  return _prepare_from_string(\" \".join(pjargs))\n",
      "/home/skymap/anaconda3/envs/farm/lib/python3.6/site-packages/pyproj/crs/crs.py:294: FutureWarning: '+init=<authority>:<code>' syntax is deprecated. '<authority>:<code>' is the preferred initialization method. When making the change, be mindful of axis order changes: https://pyproj4.github.io/pyproj/stable/gotchas.html#axis-order-changes-in-proj-6\n",
      "  projstring = _prepare_from_string(\" \".join((projstring, projkwargs)))\n",
      "/home/skymap/anaconda3/envs/farm/lib/python3.6/site-packages/pyproj/crs/crs.py:53: FutureWarning: '+init=<authority>:<code>' syntax is deprecated. '<authority>:<code>' is the preferred initialization method. When making the change, be mindful of axis order changes: https://pyproj4.github.io/pyproj/stable/gotchas.html#axis-order-changes-in-proj-6\n",
      "  return _prepare_from_string(\" \".join(pjargs))\n",
      "/home/skymap/anaconda3/envs/farm/lib/python3.6/site-packages/pyproj/crs/crs.py:294: FutureWarning: '+init=<authority>:<code>' syntax is deprecated. '<authority>:<code>' is the preferred initialization method. When making the change, be mindful of axis order changes: https://pyproj4.github.io/pyproj/stable/gotchas.html#axis-order-changes-in-proj-6\n",
      "  projstring = _prepare_from_string(\" \".join((projstring, projkwargs)))\n"
     ]
    },
    {
     "name": "stdout",
     "output_type": "stream",
     "text": [
      "36721 14397\n"
     ]
    },
    {
     "name": "stderr",
     "output_type": "stream",
     "text": [
      "/home/skymap/anaconda3/envs/farm/lib/python3.6/site-packages/pyproj/crs/crs.py:53: FutureWarning: '+init=<authority>:<code>' syntax is deprecated. '<authority>:<code>' is the preferred initialization method. When making the change, be mindful of axis order changes: https://pyproj4.github.io/pyproj/stable/gotchas.html#axis-order-changes-in-proj-6\n",
      "  return _prepare_from_string(\" \".join(pjargs))\n",
      "/home/skymap/anaconda3/envs/farm/lib/python3.6/site-packages/pyproj/crs/crs.py:294: FutureWarning: '+init=<authority>:<code>' syntax is deprecated. '<authority>:<code>' is the preferred initialization method. When making the change, be mindful of axis order changes: https://pyproj4.github.io/pyproj/stable/gotchas.html#axis-order-changes-in-proj-6\n",
      "  projstring = _prepare_from_string(\" \".join((projstring, projkwargs)))\n",
      "/home/skymap/anaconda3/envs/farm/lib/python3.6/site-packages/pyproj/crs/crs.py:53: FutureWarning: '+init=<authority>:<code>' syntax is deprecated. '<authority>:<code>' is the preferred initialization method. When making the change, be mindful of axis order changes: https://pyproj4.github.io/pyproj/stable/gotchas.html#axis-order-changes-in-proj-6\n",
      "  return _prepare_from_string(\" \".join(pjargs))\n",
      "/home/skymap/anaconda3/envs/farm/lib/python3.6/site-packages/pyproj/crs/crs.py:294: FutureWarning: '+init=<authority>:<code>' syntax is deprecated. '<authority>:<code>' is the preferred initialization method. When making the change, be mindful of axis order changes: https://pyproj4.github.io/pyproj/stable/gotchas.html#axis-order-changes-in-proj-6\n",
      "  projstring = _prepare_from_string(\" \".join((projstring, projkwargs)))\n"
     ]
    },
    {
     "name": "stdout",
     "output_type": "stream",
     "text": [
      "jupem_uav_0 0.0461300000000113\n",
      "500\n"
     ]
    },
    {
     "name": "stderr",
     "output_type": "stream",
     "text": [
      "100%|██████████| 500/500 [06:10<00:00,  1.35it/s]\n",
      "/home/skymap/anaconda3/envs/farm/lib/python3.6/site-packages/pyproj/crs/crs.py:53: FutureWarning: '+init=<authority>:<code>' syntax is deprecated. '<authority>:<code>' is the preferred initialization method. When making the change, be mindful of axis order changes: https://pyproj4.github.io/pyproj/stable/gotchas.html#axis-order-changes-in-proj-6\n",
      "  return _prepare_from_string(\" \".join(pjargs))\n",
      "/home/skymap/anaconda3/envs/farm/lib/python3.6/site-packages/pyproj/crs/crs.py:294: FutureWarning: '+init=<authority>:<code>' syntax is deprecated. '<authority>:<code>' is the preferred initialization method. When making the change, be mindful of axis order changes: https://pyproj4.github.io/pyproj/stable/gotchas.html#axis-order-changes-in-proj-6\n",
      "  projstring = _prepare_from_string(\" \".join((projstring, projkwargs)))\n",
      "/home/skymap/anaconda3/envs/farm/lib/python3.6/site-packages/pyproj/crs/crs.py:53: FutureWarning: '+init=<authority>:<code>' syntax is deprecated. '<authority>:<code>' is the preferred initialization method. When making the change, be mindful of axis order changes: https://pyproj4.github.io/pyproj/stable/gotchas.html#axis-order-changes-in-proj-6\n",
      "  return _prepare_from_string(\" \".join(pjargs))\n",
      "/home/skymap/anaconda3/envs/farm/lib/python3.6/site-packages/pyproj/crs/crs.py:294: FutureWarning: '+init=<authority>:<code>' syntax is deprecated. '<authority>:<code>' is the preferred initialization method. When making the change, be mindful of axis order changes: https://pyproj4.github.io/pyproj/stable/gotchas.html#axis-order-changes-in-proj-6\n",
      "  projstring = _prepare_from_string(\" \".join((projstring, projkwargs)))\n"
     ]
    },
    {
     "name": "stdout",
     "output_type": "stream",
     "text": [
      "4379 2391\n",
      "khalifacity-2020_1 0.47738602177107897\n",
      "500\n"
     ]
    },
    {
     "name": "stderr",
     "output_type": "stream",
     "text": [
      "100%|██████████| 500/500 [00:11<00:00, 42.24it/s]\n",
      "/home/skymap/anaconda3/envs/farm/lib/python3.6/site-packages/pyproj/crs/crs.py:53: FutureWarning: '+init=<authority>:<code>' syntax is deprecated. '<authority>:<code>' is the preferred initialization method. When making the change, be mindful of axis order changes: https://pyproj4.github.io/pyproj/stable/gotchas.html#axis-order-changes-in-proj-6\n",
      "  return _prepare_from_string(\" \".join(pjargs))\n",
      "/home/skymap/anaconda3/envs/farm/lib/python3.6/site-packages/pyproj/crs/crs.py:294: FutureWarning: '+init=<authority>:<code>' syntax is deprecated. '<authority>:<code>' is the preferred initialization method. When making the change, be mindful of axis order changes: https://pyproj4.github.io/pyproj/stable/gotchas.html#axis-order-changes-in-proj-6\n",
      "  projstring = _prepare_from_string(\" \".join((projstring, projkwargs)))\n",
      "/home/skymap/anaconda3/envs/farm/lib/python3.6/site-packages/pyproj/crs/crs.py:53: FutureWarning: '+init=<authority>:<code>' syntax is deprecated. '<authority>:<code>' is the preferred initialization method. When making the change, be mindful of axis order changes: https://pyproj4.github.io/pyproj/stable/gotchas.html#axis-order-changes-in-proj-6\n",
      "  return _prepare_from_string(\" \".join(pjargs))\n",
      "/home/skymap/anaconda3/envs/farm/lib/python3.6/site-packages/pyproj/crs/crs.py:294: FutureWarning: '+init=<authority>:<code>' syntax is deprecated. '<authority>:<code>' is the preferred initialization method. When making the change, be mindful of axis order changes: https://pyproj4.github.io/pyproj/stable/gotchas.html#axis-order-changes-in-proj-6\n",
      "  projstring = _prepare_from_string(\" \".join((projstring, projkwargs)))\n"
     ]
    },
    {
     "name": "stdout",
     "output_type": "stream",
     "text": [
      "1540 1243\n"
     ]
    },
    {
     "name": "stderr",
     "output_type": "stream",
     "text": [
      "/home/skymap/anaconda3/envs/farm/lib/python3.6/site-packages/pyproj/crs/crs.py:53: FutureWarning: '+init=<authority>:<code>' syntax is deprecated. '<authority>:<code>' is the preferred initialization method. When making the change, be mindful of axis order changes: https://pyproj4.github.io/pyproj/stable/gotchas.html#axis-order-changes-in-proj-6\n",
      "  return _prepare_from_string(\" \".join(pjargs))\n",
      "/home/skymap/anaconda3/envs/farm/lib/python3.6/site-packages/pyproj/crs/crs.py:294: FutureWarning: '+init=<authority>:<code>' syntax is deprecated. '<authority>:<code>' is the preferred initialization method. When making the change, be mindful of axis order changes: https://pyproj4.github.io/pyproj/stable/gotchas.html#axis-order-changes-in-proj-6\n",
      "  projstring = _prepare_from_string(\" \".join((projstring, projkwargs)))\n",
      "/home/skymap/anaconda3/envs/farm/lib/python3.6/site-packages/pyproj/crs/crs.py:53: FutureWarning: '+init=<authority>:<code>' syntax is deprecated. '<authority>:<code>' is the preferred initialization method. When making the change, be mindful of axis order changes: https://pyproj4.github.io/pyproj/stable/gotchas.html#axis-order-changes-in-proj-6\n",
      "  return _prepare_from_string(\" \".join(pjargs))\n",
      "/home/skymap/anaconda3/envs/farm/lib/python3.6/site-packages/pyproj/crs/crs.py:294: FutureWarning: '+init=<authority>:<code>' syntax is deprecated. '<authority>:<code>' is the preferred initialization method. When making the change, be mindful of axis order changes: https://pyproj4.github.io/pyproj/stable/gotchas.html#axis-order-changes-in-proj-6\n",
      "  projstring = _prepare_from_string(\" \".join((projstring, projkwargs)))\n"
     ]
    },
    {
     "name": "stdout",
     "output_type": "stream",
     "text": [
      "madrid_0 0.2999999999997563\n",
      "232\n"
     ]
    },
    {
     "name": "stderr",
     "output_type": "stream",
     "text": [
      "100%|██████████| 232/232 [00:05<00:00, 42.77it/s]\n",
      "/home/skymap/anaconda3/envs/farm/lib/python3.6/site-packages/pyproj/crs/crs.py:53: FutureWarning: '+init=<authority>:<code>' syntax is deprecated. '<authority>:<code>' is the preferred initialization method. When making the change, be mindful of axis order changes: https://pyproj4.github.io/pyproj/stable/gotchas.html#axis-order-changes-in-proj-6\n",
      "  return _prepare_from_string(\" \".join(pjargs))\n",
      "/home/skymap/anaconda3/envs/farm/lib/python3.6/site-packages/pyproj/crs/crs.py:294: FutureWarning: '+init=<authority>:<code>' syntax is deprecated. '<authority>:<code>' is the preferred initialization method. When making the change, be mindful of axis order changes: https://pyproj4.github.io/pyproj/stable/gotchas.html#axis-order-changes-in-proj-6\n",
      "  projstring = _prepare_from_string(\" \".join((projstring, projkwargs)))\n",
      "/home/skymap/anaconda3/envs/farm/lib/python3.6/site-packages/pyproj/crs/crs.py:53: FutureWarning: '+init=<authority>:<code>' syntax is deprecated. '<authority>:<code>' is the preferred initialization method. When making the change, be mindful of axis order changes: https://pyproj4.github.io/pyproj/stable/gotchas.html#axis-order-changes-in-proj-6\n",
      "  return _prepare_from_string(\" \".join(pjargs))\n",
      "/home/skymap/anaconda3/envs/farm/lib/python3.6/site-packages/pyproj/crs/crs.py:294: FutureWarning: '+init=<authority>:<code>' syntax is deprecated. '<authority>:<code>' is the preferred initialization method. When making the change, be mindful of axis order changes: https://pyproj4.github.io/pyproj/stable/gotchas.html#axis-order-changes-in-proj-6\n",
      "  projstring = _prepare_from_string(\" \".join((projstring, projkwargs)))\n"
     ]
    },
    {
     "name": "stdout",
     "output_type": "stream",
     "text": [
      "1540 1243\n"
     ]
    },
    {
     "name": "stderr",
     "output_type": "stream",
     "text": [
      "/home/skymap/anaconda3/envs/farm/lib/python3.6/site-packages/pyproj/crs/crs.py:53: FutureWarning: '+init=<authority>:<code>' syntax is deprecated. '<authority>:<code>' is the preferred initialization method. When making the change, be mindful of axis order changes: https://pyproj4.github.io/pyproj/stable/gotchas.html#axis-order-changes-in-proj-6\n",
      "  return _prepare_from_string(\" \".join(pjargs))\n",
      "/home/skymap/anaconda3/envs/farm/lib/python3.6/site-packages/pyproj/crs/crs.py:294: FutureWarning: '+init=<authority>:<code>' syntax is deprecated. '<authority>:<code>' is the preferred initialization method. When making the change, be mindful of axis order changes: https://pyproj4.github.io/pyproj/stable/gotchas.html#axis-order-changes-in-proj-6\n",
      "  projstring = _prepare_from_string(\" \".join((projstring, projkwargs)))\n",
      "/home/skymap/anaconda3/envs/farm/lib/python3.6/site-packages/pyproj/crs/crs.py:53: FutureWarning: '+init=<authority>:<code>' syntax is deprecated. '<authority>:<code>' is the preferred initialization method. When making the change, be mindful of axis order changes: https://pyproj4.github.io/pyproj/stable/gotchas.html#axis-order-changes-in-proj-6\n",
      "  return _prepare_from_string(\" \".join(pjargs))\n",
      "/home/skymap/anaconda3/envs/farm/lib/python3.6/site-packages/pyproj/crs/crs.py:294: FutureWarning: '+init=<authority>:<code>' syntax is deprecated. '<authority>:<code>' is the preferred initialization method. When making the change, be mindful of axis order changes: https://pyproj4.github.io/pyproj/stable/gotchas.html#axis-order-changes-in-proj-6\n",
      "  projstring = _prepare_from_string(\" \".join((projstring, projkwargs)))\n"
     ]
    },
    {
     "name": "stdout",
     "output_type": "stream",
     "text": [
      "madrid_1 0.2999999999997563\n",
      "232\n"
     ]
    },
    {
     "name": "stderr",
     "output_type": "stream",
     "text": [
      "100%|██████████| 232/232 [00:05<00:00, 43.86it/s]\n",
      "/home/skymap/anaconda3/envs/farm/lib/python3.6/site-packages/pyproj/crs/crs.py:53: FutureWarning: '+init=<authority>:<code>' syntax is deprecated. '<authority>:<code>' is the preferred initialization method. When making the change, be mindful of axis order changes: https://pyproj4.github.io/pyproj/stable/gotchas.html#axis-order-changes-in-proj-6\n",
      "  return _prepare_from_string(\" \".join(pjargs))\n",
      "/home/skymap/anaconda3/envs/farm/lib/python3.6/site-packages/pyproj/crs/crs.py:294: FutureWarning: '+init=<authority>:<code>' syntax is deprecated. '<authority>:<code>' is the preferred initialization method. When making the change, be mindful of axis order changes: https://pyproj4.github.io/pyproj/stable/gotchas.html#axis-order-changes-in-proj-6\n",
      "  projstring = _prepare_from_string(\" \".join((projstring, projkwargs)))\n",
      "/home/skymap/anaconda3/envs/farm/lib/python3.6/site-packages/pyproj/crs/crs.py:53: FutureWarning: '+init=<authority>:<code>' syntax is deprecated. '<authority>:<code>' is the preferred initialization method. When making the change, be mindful of axis order changes: https://pyproj4.github.io/pyproj/stable/gotchas.html#axis-order-changes-in-proj-6\n",
      "  return _prepare_from_string(\" \".join(pjargs))\n",
      "/home/skymap/anaconda3/envs/farm/lib/python3.6/site-packages/pyproj/crs/crs.py:294: FutureWarning: '+init=<authority>:<code>' syntax is deprecated. '<authority>:<code>' is the preferred initialization method. When making the change, be mindful of axis order changes: https://pyproj4.github.io/pyproj/stable/gotchas.html#axis-order-changes-in-proj-6\n",
      "  projstring = _prepare_from_string(\" \".join((projstring, projkwargs)))\n"
     ]
    },
    {
     "name": "stdout",
     "output_type": "stream",
     "text": [
      "906 881\n"
     ]
    },
    {
     "name": "stderr",
     "output_type": "stream",
     "text": [
      "/home/skymap/anaconda3/envs/farm/lib/python3.6/site-packages/pyproj/crs/crs.py:53: FutureWarning: '+init=<authority>:<code>' syntax is deprecated. '<authority>:<code>' is the preferred initialization method. When making the change, be mindful of axis order changes: https://pyproj4.github.io/pyproj/stable/gotchas.html#axis-order-changes-in-proj-6\n",
      "  return _prepare_from_string(\" \".join(pjargs))\n",
      "/home/skymap/anaconda3/envs/farm/lib/python3.6/site-packages/pyproj/crs/crs.py:294: FutureWarning: '+init=<authority>:<code>' syntax is deprecated. '<authority>:<code>' is the preferred initialization method. When making the change, be mindful of axis order changes: https://pyproj4.github.io/pyproj/stable/gotchas.html#axis-order-changes-in-proj-6\n",
      "  projstring = _prepare_from_string(\" \".join((projstring, projkwargs)))\n",
      "/home/skymap/anaconda3/envs/farm/lib/python3.6/site-packages/pyproj/crs/crs.py:53: FutureWarning: '+init=<authority>:<code>' syntax is deprecated. '<authority>:<code>' is the preferred initialization method. When making the change, be mindful of axis order changes: https://pyproj4.github.io/pyproj/stable/gotchas.html#axis-order-changes-in-proj-6\n",
      "  return _prepare_from_string(\" \".join(pjargs))\n",
      "/home/skymap/anaconda3/envs/farm/lib/python3.6/site-packages/pyproj/crs/crs.py:294: FutureWarning: '+init=<authority>:<code>' syntax is deprecated. '<authority>:<code>' is the preferred initialization method. When making the change, be mindful of axis order changes: https://pyproj4.github.io/pyproj/stable/gotchas.html#axis-order-changes-in-proj-6\n",
      "  projstring = _prepare_from_string(\" \".join((projstring, projkwargs)))\n"
     ]
    },
    {
     "name": "stdout",
     "output_type": "stream",
     "text": [
      "madrid_10 0.29999999999988786\n",
      "100\n"
     ]
    },
    {
     "name": "stderr",
     "output_type": "stream",
     "text": [
      "100%|██████████| 100/100 [00:03<00:00, 27.72it/s]\n",
      "/home/skymap/anaconda3/envs/farm/lib/python3.6/site-packages/pyproj/crs/crs.py:53: FutureWarning: '+init=<authority>:<code>' syntax is deprecated. '<authority>:<code>' is the preferred initialization method. When making the change, be mindful of axis order changes: https://pyproj4.github.io/pyproj/stable/gotchas.html#axis-order-changes-in-proj-6\n",
      "  return _prepare_from_string(\" \".join(pjargs))\n",
      "/home/skymap/anaconda3/envs/farm/lib/python3.6/site-packages/pyproj/crs/crs.py:294: FutureWarning: '+init=<authority>:<code>' syntax is deprecated. '<authority>:<code>' is the preferred initialization method. When making the change, be mindful of axis order changes: https://pyproj4.github.io/pyproj/stable/gotchas.html#axis-order-changes-in-proj-6\n",
      "  projstring = _prepare_from_string(\" \".join((projstring, projkwargs)))\n",
      "/home/skymap/anaconda3/envs/farm/lib/python3.6/site-packages/pyproj/crs/crs.py:53: FutureWarning: '+init=<authority>:<code>' syntax is deprecated. '<authority>:<code>' is the preferred initialization method. When making the change, be mindful of axis order changes: https://pyproj4.github.io/pyproj/stable/gotchas.html#axis-order-changes-in-proj-6\n",
      "  return _prepare_from_string(\" \".join(pjargs))\n",
      "/home/skymap/anaconda3/envs/farm/lib/python3.6/site-packages/pyproj/crs/crs.py:294: FutureWarning: '+init=<authority>:<code>' syntax is deprecated. '<authority>:<code>' is the preferred initialization method. When making the change, be mindful of axis order changes: https://pyproj4.github.io/pyproj/stable/gotchas.html#axis-order-changes-in-proj-6\n",
      "  projstring = _prepare_from_string(\" \".join((projstring, projkwargs)))\n"
     ]
    },
    {
     "name": "stdout",
     "output_type": "stream",
     "text": [
      "906 881\n"
     ]
    },
    {
     "name": "stderr",
     "output_type": "stream",
     "text": [
      "/home/skymap/anaconda3/envs/farm/lib/python3.6/site-packages/pyproj/crs/crs.py:53: FutureWarning: '+init=<authority>:<code>' syntax is deprecated. '<authority>:<code>' is the preferred initialization method. When making the change, be mindful of axis order changes: https://pyproj4.github.io/pyproj/stable/gotchas.html#axis-order-changes-in-proj-6\n",
      "  return _prepare_from_string(\" \".join(pjargs))\n",
      "/home/skymap/anaconda3/envs/farm/lib/python3.6/site-packages/pyproj/crs/crs.py:294: FutureWarning: '+init=<authority>:<code>' syntax is deprecated. '<authority>:<code>' is the preferred initialization method. When making the change, be mindful of axis order changes: https://pyproj4.github.io/pyproj/stable/gotchas.html#axis-order-changes-in-proj-6\n",
      "  projstring = _prepare_from_string(\" \".join((projstring, projkwargs)))\n",
      "/home/skymap/anaconda3/envs/farm/lib/python3.6/site-packages/pyproj/crs/crs.py:53: FutureWarning: '+init=<authority>:<code>' syntax is deprecated. '<authority>:<code>' is the preferred initialization method. When making the change, be mindful of axis order changes: https://pyproj4.github.io/pyproj/stable/gotchas.html#axis-order-changes-in-proj-6\n",
      "  return _prepare_from_string(\" \".join(pjargs))\n",
      "/home/skymap/anaconda3/envs/farm/lib/python3.6/site-packages/pyproj/crs/crs.py:294: FutureWarning: '+init=<authority>:<code>' syntax is deprecated. '<authority>:<code>' is the preferred initialization method. When making the change, be mindful of axis order changes: https://pyproj4.github.io/pyproj/stable/gotchas.html#axis-order-changes-in-proj-6\n",
      "  projstring = _prepare_from_string(\" \".join((projstring, projkwargs)))\n"
     ]
    },
    {
     "name": "stdout",
     "output_type": "stream",
     "text": [
      "madrid_11 0.29999999999988786\n",
      "100\n"
     ]
    },
    {
     "name": "stderr",
     "output_type": "stream",
     "text": [
      "100%|██████████| 100/100 [00:03<00:00, 31.90it/s]\n"
     ]
    },
    {
     "name": "stdout",
     "output_type": "stream",
     "text": [
      "1072 1088\n"
     ]
    },
    {
     "name": "stderr",
     "output_type": "stream",
     "text": [
      "/home/skymap/anaconda3/envs/farm/lib/python3.6/site-packages/pyproj/crs/crs.py:53: FutureWarning: '+init=<authority>:<code>' syntax is deprecated. '<authority>:<code>' is the preferred initialization method. When making the change, be mindful of axis order changes: https://pyproj4.github.io/pyproj/stable/gotchas.html#axis-order-changes-in-proj-6\n",
      "  return _prepare_from_string(\" \".join(pjargs))\n",
      "/home/skymap/anaconda3/envs/farm/lib/python3.6/site-packages/pyproj/crs/crs.py:294: FutureWarning: '+init=<authority>:<code>' syntax is deprecated. '<authority>:<code>' is the preferred initialization method. When making the change, be mindful of axis order changes: https://pyproj4.github.io/pyproj/stable/gotchas.html#axis-order-changes-in-proj-6\n",
      "  projstring = _prepare_from_string(\" \".join((projstring, projkwargs)))\n",
      "/home/skymap/anaconda3/envs/farm/lib/python3.6/site-packages/pyproj/crs/crs.py:53: FutureWarning: '+init=<authority>:<code>' syntax is deprecated. '<authority>:<code>' is the preferred initialization method. When making the change, be mindful of axis order changes: https://pyproj4.github.io/pyproj/stable/gotchas.html#axis-order-changes-in-proj-6\n",
      "  return _prepare_from_string(\" \".join(pjargs))\n",
      "/home/skymap/anaconda3/envs/farm/lib/python3.6/site-packages/pyproj/crs/crs.py:294: FutureWarning: '+init=<authority>:<code>' syntax is deprecated. '<authority>:<code>' is the preferred initialization method. When making the change, be mindful of axis order changes: https://pyproj4.github.io/pyproj/stable/gotchas.html#axis-order-changes-in-proj-6\n",
      "  projstring = _prepare_from_string(\" \".join((projstring, projkwargs)))\n",
      "/home/skymap/anaconda3/envs/farm/lib/python3.6/site-packages/pyproj/crs/crs.py:53: FutureWarning: '+init=<authority>:<code>' syntax is deprecated. '<authority>:<code>' is the preferred initialization method. When making the change, be mindful of axis order changes: https://pyproj4.github.io/pyproj/stable/gotchas.html#axis-order-changes-in-proj-6\n",
      "  return _prepare_from_string(\" \".join(pjargs))\n",
      "/home/skymap/anaconda3/envs/farm/lib/python3.6/site-packages/pyproj/crs/crs.py:294: FutureWarning: '+init=<authority>:<code>' syntax is deprecated. '<authority>:<code>' is the preferred initialization method. When making the change, be mindful of axis order changes: https://pyproj4.github.io/pyproj/stable/gotchas.html#axis-order-changes-in-proj-6\n",
      "  projstring = _prepare_from_string(\" \".join((projstring, projkwargs)))\n",
      "/home/skymap/anaconda3/envs/farm/lib/python3.6/site-packages/pyproj/crs/crs.py:53: FutureWarning: '+init=<authority>:<code>' syntax is deprecated. '<authority>:<code>' is the preferred initialization method. When making the change, be mindful of axis order changes: https://pyproj4.github.io/pyproj/stable/gotchas.html#axis-order-changes-in-proj-6\n",
      "  return _prepare_from_string(\" \".join(pjargs))\n",
      "/home/skymap/anaconda3/envs/farm/lib/python3.6/site-packages/pyproj/crs/crs.py:294: FutureWarning: '+init=<authority>:<code>' syntax is deprecated. '<authority>:<code>' is the preferred initialization method. When making the change, be mindful of axis order changes: https://pyproj4.github.io/pyproj/stable/gotchas.html#axis-order-changes-in-proj-6\n",
      "  projstring = _prepare_from_string(\" \".join((projstring, projkwargs)))\n"
     ]
    },
    {
     "name": "stdout",
     "output_type": "stream",
     "text": [
      "madrid_12 0.3000000000005612\n",
      "142\n"
     ]
    },
    {
     "name": "stderr",
     "output_type": "stream",
     "text": [
      "100%|██████████| 142/142 [00:05<00:00, 25.37it/s]\n"
     ]
    },
    {
     "name": "stdout",
     "output_type": "stream",
     "text": [
      "1072 1088\n"
     ]
    },
    {
     "name": "stderr",
     "output_type": "stream",
     "text": [
      "/home/skymap/anaconda3/envs/farm/lib/python3.6/site-packages/pyproj/crs/crs.py:53: FutureWarning: '+init=<authority>:<code>' syntax is deprecated. '<authority>:<code>' is the preferred initialization method. When making the change, be mindful of axis order changes: https://pyproj4.github.io/pyproj/stable/gotchas.html#axis-order-changes-in-proj-6\n",
      "  return _prepare_from_string(\" \".join(pjargs))\n",
      "/home/skymap/anaconda3/envs/farm/lib/python3.6/site-packages/pyproj/crs/crs.py:294: FutureWarning: '+init=<authority>:<code>' syntax is deprecated. '<authority>:<code>' is the preferred initialization method. When making the change, be mindful of axis order changes: https://pyproj4.github.io/pyproj/stable/gotchas.html#axis-order-changes-in-proj-6\n",
      "  projstring = _prepare_from_string(\" \".join((projstring, projkwargs)))\n",
      "/home/skymap/anaconda3/envs/farm/lib/python3.6/site-packages/pyproj/crs/crs.py:53: FutureWarning: '+init=<authority>:<code>' syntax is deprecated. '<authority>:<code>' is the preferred initialization method. When making the change, be mindful of axis order changes: https://pyproj4.github.io/pyproj/stable/gotchas.html#axis-order-changes-in-proj-6\n",
      "  return _prepare_from_string(\" \".join(pjargs))\n",
      "/home/skymap/anaconda3/envs/farm/lib/python3.6/site-packages/pyproj/crs/crs.py:294: FutureWarning: '+init=<authority>:<code>' syntax is deprecated. '<authority>:<code>' is the preferred initialization method. When making the change, be mindful of axis order changes: https://pyproj4.github.io/pyproj/stable/gotchas.html#axis-order-changes-in-proj-6\n",
      "  projstring = _prepare_from_string(\" \".join((projstring, projkwargs)))\n",
      "/home/skymap/anaconda3/envs/farm/lib/python3.6/site-packages/pyproj/crs/crs.py:53: FutureWarning: '+init=<authority>:<code>' syntax is deprecated. '<authority>:<code>' is the preferred initialization method. When making the change, be mindful of axis order changes: https://pyproj4.github.io/pyproj/stable/gotchas.html#axis-order-changes-in-proj-6\n",
      "  return _prepare_from_string(\" \".join(pjargs))\n",
      "/home/skymap/anaconda3/envs/farm/lib/python3.6/site-packages/pyproj/crs/crs.py:294: FutureWarning: '+init=<authority>:<code>' syntax is deprecated. '<authority>:<code>' is the preferred initialization method. When making the change, be mindful of axis order changes: https://pyproj4.github.io/pyproj/stable/gotchas.html#axis-order-changes-in-proj-6\n",
      "  projstring = _prepare_from_string(\" \".join((projstring, projkwargs)))\n",
      "/home/skymap/anaconda3/envs/farm/lib/python3.6/site-packages/pyproj/crs/crs.py:53: FutureWarning: '+init=<authority>:<code>' syntax is deprecated. '<authority>:<code>' is the preferred initialization method. When making the change, be mindful of axis order changes: https://pyproj4.github.io/pyproj/stable/gotchas.html#axis-order-changes-in-proj-6\n",
      "  return _prepare_from_string(\" \".join(pjargs))\n",
      "/home/skymap/anaconda3/envs/farm/lib/python3.6/site-packages/pyproj/crs/crs.py:294: FutureWarning: '+init=<authority>:<code>' syntax is deprecated. '<authority>:<code>' is the preferred initialization method. When making the change, be mindful of axis order changes: https://pyproj4.github.io/pyproj/stable/gotchas.html#axis-order-changes-in-proj-6\n",
      "  projstring = _prepare_from_string(\" \".join((projstring, projkwargs)))\n"
     ]
    },
    {
     "name": "stdout",
     "output_type": "stream",
     "text": [
      "madrid_13 0.3000000000005612\n",
      "142\n"
     ]
    },
    {
     "name": "stderr",
     "output_type": "stream",
     "text": [
      "100%|██████████| 142/142 [00:07<00:00, 19.74it/s]\n"
     ]
    },
    {
     "name": "stdout",
     "output_type": "stream",
     "text": [
      "1848 1727\n"
     ]
    },
    {
     "name": "stderr",
     "output_type": "stream",
     "text": [
      "/home/skymap/anaconda3/envs/farm/lib/python3.6/site-packages/pyproj/crs/crs.py:53: FutureWarning: '+init=<authority>:<code>' syntax is deprecated. '<authority>:<code>' is the preferred initialization method. When making the change, be mindful of axis order changes: https://pyproj4.github.io/pyproj/stable/gotchas.html#axis-order-changes-in-proj-6\n",
      "  return _prepare_from_string(\" \".join(pjargs))\n",
      "/home/skymap/anaconda3/envs/farm/lib/python3.6/site-packages/pyproj/crs/crs.py:294: FutureWarning: '+init=<authority>:<code>' syntax is deprecated. '<authority>:<code>' is the preferred initialization method. When making the change, be mindful of axis order changes: https://pyproj4.github.io/pyproj/stable/gotchas.html#axis-order-changes-in-proj-6\n",
      "  projstring = _prepare_from_string(\" \".join((projstring, projkwargs)))\n",
      "/home/skymap/anaconda3/envs/farm/lib/python3.6/site-packages/pyproj/crs/crs.py:53: FutureWarning: '+init=<authority>:<code>' syntax is deprecated. '<authority>:<code>' is the preferred initialization method. When making the change, be mindful of axis order changes: https://pyproj4.github.io/pyproj/stable/gotchas.html#axis-order-changes-in-proj-6\n",
      "  return _prepare_from_string(\" \".join(pjargs))\n",
      "/home/skymap/anaconda3/envs/farm/lib/python3.6/site-packages/pyproj/crs/crs.py:294: FutureWarning: '+init=<authority>:<code>' syntax is deprecated. '<authority>:<code>' is the preferred initialization method. When making the change, be mindful of axis order changes: https://pyproj4.github.io/pyproj/stable/gotchas.html#axis-order-changes-in-proj-6\n",
      "  projstring = _prepare_from_string(\" \".join((projstring, projkwargs)))\n",
      "/home/skymap/anaconda3/envs/farm/lib/python3.6/site-packages/pyproj/crs/crs.py:53: FutureWarning: '+init=<authority>:<code>' syntax is deprecated. '<authority>:<code>' is the preferred initialization method. When making the change, be mindful of axis order changes: https://pyproj4.github.io/pyproj/stable/gotchas.html#axis-order-changes-in-proj-6\n",
      "  return _prepare_from_string(\" \".join(pjargs))\n",
      "/home/skymap/anaconda3/envs/farm/lib/python3.6/site-packages/pyproj/crs/crs.py:294: FutureWarning: '+init=<authority>:<code>' syntax is deprecated. '<authority>:<code>' is the preferred initialization method. When making the change, be mindful of axis order changes: https://pyproj4.github.io/pyproj/stable/gotchas.html#axis-order-changes-in-proj-6\n",
      "  projstring = _prepare_from_string(\" \".join((projstring, projkwargs)))\n",
      "/home/skymap/anaconda3/envs/farm/lib/python3.6/site-packages/pyproj/crs/crs.py:53: FutureWarning: '+init=<authority>:<code>' syntax is deprecated. '<authority>:<code>' is the preferred initialization method. When making the change, be mindful of axis order changes: https://pyproj4.github.io/pyproj/stable/gotchas.html#axis-order-changes-in-proj-6\n",
      "  return _prepare_from_string(\" \".join(pjargs))\n",
      "/home/skymap/anaconda3/envs/farm/lib/python3.6/site-packages/pyproj/crs/crs.py:294: FutureWarning: '+init=<authority>:<code>' syntax is deprecated. '<authority>:<code>' is the preferred initialization method. When making the change, be mindful of axis order changes: https://pyproj4.github.io/pyproj/stable/gotchas.html#axis-order-changes-in-proj-6\n",
      "  projstring = _prepare_from_string(\" \".join((projstring, projkwargs)))\n"
     ]
    },
    {
     "name": "stdout",
     "output_type": "stream",
     "text": [
      "madrid_14 0.30000000000013655\n",
      "388\n"
     ]
    },
    {
     "name": "stderr",
     "output_type": "stream",
     "text": [
      "100%|██████████| 388/388 [00:09<00:00, 42.17it/s]\n",
      "/home/skymap/anaconda3/envs/farm/lib/python3.6/site-packages/pyproj/crs/crs.py:53: FutureWarning: '+init=<authority>:<code>' syntax is deprecated. '<authority>:<code>' is the preferred initialization method. When making the change, be mindful of axis order changes: https://pyproj4.github.io/pyproj/stable/gotchas.html#axis-order-changes-in-proj-6\n",
      "  return _prepare_from_string(\" \".join(pjargs))\n",
      "/home/skymap/anaconda3/envs/farm/lib/python3.6/site-packages/pyproj/crs/crs.py:294: FutureWarning: '+init=<authority>:<code>' syntax is deprecated. '<authority>:<code>' is the preferred initialization method. When making the change, be mindful of axis order changes: https://pyproj4.github.io/pyproj/stable/gotchas.html#axis-order-changes-in-proj-6\n",
      "  projstring = _prepare_from_string(\" \".join((projstring, projkwargs)))\n",
      "/home/skymap/anaconda3/envs/farm/lib/python3.6/site-packages/pyproj/crs/crs.py:53: FutureWarning: '+init=<authority>:<code>' syntax is deprecated. '<authority>:<code>' is the preferred initialization method. When making the change, be mindful of axis order changes: https://pyproj4.github.io/pyproj/stable/gotchas.html#axis-order-changes-in-proj-6\n",
      "  return _prepare_from_string(\" \".join(pjargs))\n",
      "/home/skymap/anaconda3/envs/farm/lib/python3.6/site-packages/pyproj/crs/crs.py:294: FutureWarning: '+init=<authority>:<code>' syntax is deprecated. '<authority>:<code>' is the preferred initialization method. When making the change, be mindful of axis order changes: https://pyproj4.github.io/pyproj/stable/gotchas.html#axis-order-changes-in-proj-6\n",
      "  projstring = _prepare_from_string(\" \".join((projstring, projkwargs)))\n"
     ]
    },
    {
     "name": "stdout",
     "output_type": "stream",
     "text": [
      "944 1043\n"
     ]
    },
    {
     "name": "stderr",
     "output_type": "stream",
     "text": [
      "/home/skymap/anaconda3/envs/farm/lib/python3.6/site-packages/pyproj/crs/crs.py:53: FutureWarning: '+init=<authority>:<code>' syntax is deprecated. '<authority>:<code>' is the preferred initialization method. When making the change, be mindful of axis order changes: https://pyproj4.github.io/pyproj/stable/gotchas.html#axis-order-changes-in-proj-6\n",
      "  return _prepare_from_string(\" \".join(pjargs))\n",
      "/home/skymap/anaconda3/envs/farm/lib/python3.6/site-packages/pyproj/crs/crs.py:294: FutureWarning: '+init=<authority>:<code>' syntax is deprecated. '<authority>:<code>' is the preferred initialization method. When making the change, be mindful of axis order changes: https://pyproj4.github.io/pyproj/stable/gotchas.html#axis-order-changes-in-proj-6\n",
      "  projstring = _prepare_from_string(\" \".join((projstring, projkwargs)))\n",
      "/home/skymap/anaconda3/envs/farm/lib/python3.6/site-packages/pyproj/crs/crs.py:53: FutureWarning: '+init=<authority>:<code>' syntax is deprecated. '<authority>:<code>' is the preferred initialization method. When making the change, be mindful of axis order changes: https://pyproj4.github.io/pyproj/stable/gotchas.html#axis-order-changes-in-proj-6\n",
      "  return _prepare_from_string(\" \".join(pjargs))\n",
      "/home/skymap/anaconda3/envs/farm/lib/python3.6/site-packages/pyproj/crs/crs.py:294: FutureWarning: '+init=<authority>:<code>' syntax is deprecated. '<authority>:<code>' is the preferred initialization method. When making the change, be mindful of axis order changes: https://pyproj4.github.io/pyproj/stable/gotchas.html#axis-order-changes-in-proj-6\n",
      "  projstring = _prepare_from_string(\" \".join((projstring, projkwargs)))\n"
     ]
    },
    {
     "name": "stdout",
     "output_type": "stream",
     "text": [
      "madrid_15 0.3000000000006004\n",
      "120\n"
     ]
    },
    {
     "name": "stderr",
     "output_type": "stream",
     "text": [
      "100%|██████████| 120/120 [00:02<00:00, 45.35it/s]\n",
      "/home/skymap/anaconda3/envs/farm/lib/python3.6/site-packages/pyproj/crs/crs.py:53: FutureWarning: '+init=<authority>:<code>' syntax is deprecated. '<authority>:<code>' is the preferred initialization method. When making the change, be mindful of axis order changes: https://pyproj4.github.io/pyproj/stable/gotchas.html#axis-order-changes-in-proj-6\n",
      "  return _prepare_from_string(\" \".join(pjargs))\n",
      "/home/skymap/anaconda3/envs/farm/lib/python3.6/site-packages/pyproj/crs/crs.py:294: FutureWarning: '+init=<authority>:<code>' syntax is deprecated. '<authority>:<code>' is the preferred initialization method. When making the change, be mindful of axis order changes: https://pyproj4.github.io/pyproj/stable/gotchas.html#axis-order-changes-in-proj-6\n",
      "  projstring = _prepare_from_string(\" \".join((projstring, projkwargs)))\n",
      "/home/skymap/anaconda3/envs/farm/lib/python3.6/site-packages/pyproj/crs/crs.py:53: FutureWarning: '+init=<authority>:<code>' syntax is deprecated. '<authority>:<code>' is the preferred initialization method. When making the change, be mindful of axis order changes: https://pyproj4.github.io/pyproj/stable/gotchas.html#axis-order-changes-in-proj-6\n",
      "  return _prepare_from_string(\" \".join(pjargs))\n",
      "/home/skymap/anaconda3/envs/farm/lib/python3.6/site-packages/pyproj/crs/crs.py:294: FutureWarning: '+init=<authority>:<code>' syntax is deprecated. '<authority>:<code>' is the preferred initialization method. When making the change, be mindful of axis order changes: https://pyproj4.github.io/pyproj/stable/gotchas.html#axis-order-changes-in-proj-6\n",
      "  projstring = _prepare_from_string(\" \".join((projstring, projkwargs)))\n",
      "/home/skymap/anaconda3/envs/farm/lib/python3.6/site-packages/pyproj/crs/crs.py:53: FutureWarning: '+init=<authority>:<code>' syntax is deprecated. '<authority>:<code>' is the preferred initialization method. When making the change, be mindful of axis order changes: https://pyproj4.github.io/pyproj/stable/gotchas.html#axis-order-changes-in-proj-6\n",
      "  return _prepare_from_string(\" \".join(pjargs))\n",
      "/home/skymap/anaconda3/envs/farm/lib/python3.6/site-packages/pyproj/crs/crs.py:294: FutureWarning: '+init=<authority>:<code>' syntax is deprecated. '<authority>:<code>' is the preferred initialization method. When making the change, be mindful of axis order changes: https://pyproj4.github.io/pyproj/stable/gotchas.html#axis-order-changes-in-proj-6\n",
      "  projstring = _prepare_from_string(\" \".join((projstring, projkwargs)))\n"
     ]
    },
    {
     "name": "stdout",
     "output_type": "stream",
     "text": [
      "969 815\n"
     ]
    },
    {
     "name": "stderr",
     "output_type": "stream",
     "text": [
      "/home/skymap/anaconda3/envs/farm/lib/python3.6/site-packages/pyproj/crs/crs.py:53: FutureWarning: '+init=<authority>:<code>' syntax is deprecated. '<authority>:<code>' is the preferred initialization method. When making the change, be mindful of axis order changes: https://pyproj4.github.io/pyproj/stable/gotchas.html#axis-order-changes-in-proj-6\n",
      "  return _prepare_from_string(\" \".join(pjargs))\n",
      "/home/skymap/anaconda3/envs/farm/lib/python3.6/site-packages/pyproj/crs/crs.py:294: FutureWarning: '+init=<authority>:<code>' syntax is deprecated. '<authority>:<code>' is the preferred initialization method. When making the change, be mindful of axis order changes: https://pyproj4.github.io/pyproj/stable/gotchas.html#axis-order-changes-in-proj-6\n",
      "  projstring = _prepare_from_string(\" \".join((projstring, projkwargs)))\n"
     ]
    },
    {
     "name": "stdout",
     "output_type": "stream",
     "text": [
      "madrid_16 0.30000000000054733\n",
      "100\n"
     ]
    },
    {
     "name": "stderr",
     "output_type": "stream",
     "text": [
      "100%|██████████| 100/100 [00:02<00:00, 45.32it/s]\n",
      "/home/skymap/anaconda3/envs/farm/lib/python3.6/site-packages/pyproj/crs/crs.py:53: FutureWarning: '+init=<authority>:<code>' syntax is deprecated. '<authority>:<code>' is the preferred initialization method. When making the change, be mindful of axis order changes: https://pyproj4.github.io/pyproj/stable/gotchas.html#axis-order-changes-in-proj-6\n",
      "  return _prepare_from_string(\" \".join(pjargs))\n",
      "/home/skymap/anaconda3/envs/farm/lib/python3.6/site-packages/pyproj/crs/crs.py:294: FutureWarning: '+init=<authority>:<code>' syntax is deprecated. '<authority>:<code>' is the preferred initialization method. When making the change, be mindful of axis order changes: https://pyproj4.github.io/pyproj/stable/gotchas.html#axis-order-changes-in-proj-6\n",
      "  projstring = _prepare_from_string(\" \".join((projstring, projkwargs)))\n",
      "/home/skymap/anaconda3/envs/farm/lib/python3.6/site-packages/pyproj/crs/crs.py:53: FutureWarning: '+init=<authority>:<code>' syntax is deprecated. '<authority>:<code>' is the preferred initialization method. When making the change, be mindful of axis order changes: https://pyproj4.github.io/pyproj/stable/gotchas.html#axis-order-changes-in-proj-6\n",
      "  return _prepare_from_string(\" \".join(pjargs))\n",
      "/home/skymap/anaconda3/envs/farm/lib/python3.6/site-packages/pyproj/crs/crs.py:294: FutureWarning: '+init=<authority>:<code>' syntax is deprecated. '<authority>:<code>' is the preferred initialization method. When making the change, be mindful of axis order changes: https://pyproj4.github.io/pyproj/stable/gotchas.html#axis-order-changes-in-proj-6\n",
      "  projstring = _prepare_from_string(\" \".join((projstring, projkwargs)))\n",
      "/home/skymap/anaconda3/envs/farm/lib/python3.6/site-packages/pyproj/crs/crs.py:53: FutureWarning: '+init=<authority>:<code>' syntax is deprecated. '<authority>:<code>' is the preferred initialization method. When making the change, be mindful of axis order changes: https://pyproj4.github.io/pyproj/stable/gotchas.html#axis-order-changes-in-proj-6\n",
      "  return _prepare_from_string(\" \".join(pjargs))\n",
      "/home/skymap/anaconda3/envs/farm/lib/python3.6/site-packages/pyproj/crs/crs.py:294: FutureWarning: '+init=<authority>:<code>' syntax is deprecated. '<authority>:<code>' is the preferred initialization method. When making the change, be mindful of axis order changes: https://pyproj4.github.io/pyproj/stable/gotchas.html#axis-order-changes-in-proj-6\n",
      "  projstring = _prepare_from_string(\" \".join((projstring, projkwargs)))\n"
     ]
    },
    {
     "name": "stdout",
     "output_type": "stream",
     "text": [
      "2254 2047\n"
     ]
    },
    {
     "name": "stderr",
     "output_type": "stream",
     "text": [
      "/home/skymap/anaconda3/envs/farm/lib/python3.6/site-packages/pyproj/crs/crs.py:53: FutureWarning: '+init=<authority>:<code>' syntax is deprecated. '<authority>:<code>' is the preferred initialization method. When making the change, be mindful of axis order changes: https://pyproj4.github.io/pyproj/stable/gotchas.html#axis-order-changes-in-proj-6\n",
      "  return _prepare_from_string(\" \".join(pjargs))\n",
      "/home/skymap/anaconda3/envs/farm/lib/python3.6/site-packages/pyproj/crs/crs.py:294: FutureWarning: '+init=<authority>:<code>' syntax is deprecated. '<authority>:<code>' is the preferred initialization method. When making the change, be mindful of axis order changes: https://pyproj4.github.io/pyproj/stable/gotchas.html#axis-order-changes-in-proj-6\n",
      "  projstring = _prepare_from_string(\" \".join((projstring, projkwargs)))\n"
     ]
    },
    {
     "name": "stdout",
     "output_type": "stream",
     "text": [
      "madrid_3 0.29999999999988575\n",
      "500\n"
     ]
    },
    {
     "name": "stderr",
     "output_type": "stream",
     "text": [
      "100%|██████████| 500/500 [00:12<00:00, 39.95it/s]\n",
      "/home/skymap/anaconda3/envs/farm/lib/python3.6/site-packages/pyproj/crs/crs.py:53: FutureWarning: '+init=<authority>:<code>' syntax is deprecated. '<authority>:<code>' is the preferred initialization method. When making the change, be mindful of axis order changes: https://pyproj4.github.io/pyproj/stable/gotchas.html#axis-order-changes-in-proj-6\n",
      "  return _prepare_from_string(\" \".join(pjargs))\n",
      "/home/skymap/anaconda3/envs/farm/lib/python3.6/site-packages/pyproj/crs/crs.py:294: FutureWarning: '+init=<authority>:<code>' syntax is deprecated. '<authority>:<code>' is the preferred initialization method. When making the change, be mindful of axis order changes: https://pyproj4.github.io/pyproj/stable/gotchas.html#axis-order-changes-in-proj-6\n",
      "  projstring = _prepare_from_string(\" \".join((projstring, projkwargs)))\n",
      "/home/skymap/anaconda3/envs/farm/lib/python3.6/site-packages/pyproj/crs/crs.py:53: FutureWarning: '+init=<authority>:<code>' syntax is deprecated. '<authority>:<code>' is the preferred initialization method. When making the change, be mindful of axis order changes: https://pyproj4.github.io/pyproj/stable/gotchas.html#axis-order-changes-in-proj-6\n",
      "  return _prepare_from_string(\" \".join(pjargs))\n",
      "/home/skymap/anaconda3/envs/farm/lib/python3.6/site-packages/pyproj/crs/crs.py:294: FutureWarning: '+init=<authority>:<code>' syntax is deprecated. '<authority>:<code>' is the preferred initialization method. When making the change, be mindful of axis order changes: https://pyproj4.github.io/pyproj/stable/gotchas.html#axis-order-changes-in-proj-6\n",
      "  projstring = _prepare_from_string(\" \".join((projstring, projkwargs)))\n"
     ]
    },
    {
     "name": "stdout",
     "output_type": "stream",
     "text": [
      "1524 1572\n"
     ]
    },
    {
     "name": "stderr",
     "output_type": "stream",
     "text": [
      "/home/skymap/anaconda3/envs/farm/lib/python3.6/site-packages/pyproj/crs/crs.py:53: FutureWarning: '+init=<authority>:<code>' syntax is deprecated. '<authority>:<code>' is the preferred initialization method. When making the change, be mindful of axis order changes: https://pyproj4.github.io/pyproj/stable/gotchas.html#axis-order-changes-in-proj-6\n",
      "  return _prepare_from_string(\" \".join(pjargs))\n",
      "/home/skymap/anaconda3/envs/farm/lib/python3.6/site-packages/pyproj/crs/crs.py:294: FutureWarning: '+init=<authority>:<code>' syntax is deprecated. '<authority>:<code>' is the preferred initialization method. When making the change, be mindful of axis order changes: https://pyproj4.github.io/pyproj/stable/gotchas.html#axis-order-changes-in-proj-6\n",
      "  projstring = _prepare_from_string(\" \".join((projstring, projkwargs)))\n",
      "/home/skymap/anaconda3/envs/farm/lib/python3.6/site-packages/pyproj/crs/crs.py:53: FutureWarning: '+init=<authority>:<code>' syntax is deprecated. '<authority>:<code>' is the preferred initialization method. When making the change, be mindful of axis order changes: https://pyproj4.github.io/pyproj/stable/gotchas.html#axis-order-changes-in-proj-6\n",
      "  return _prepare_from_string(\" \".join(pjargs))\n",
      "/home/skymap/anaconda3/envs/farm/lib/python3.6/site-packages/pyproj/crs/crs.py:294: FutureWarning: '+init=<authority>:<code>' syntax is deprecated. '<authority>:<code>' is the preferred initialization method. When making the change, be mindful of axis order changes: https://pyproj4.github.io/pyproj/stable/gotchas.html#axis-order-changes-in-proj-6\n",
      "  projstring = _prepare_from_string(\" \".join((projstring, projkwargs)))\n"
     ]
    },
    {
     "name": "stdout",
     "output_type": "stream",
     "text": [
      "madrid_4 0.29999999999957\n",
      "292\n"
     ]
    },
    {
     "name": "stderr",
     "output_type": "stream",
     "text": [
      "100%|██████████| 292/292 [00:07<00:00, 40.96it/s]\n",
      "/home/skymap/anaconda3/envs/farm/lib/python3.6/site-packages/pyproj/crs/crs.py:53: FutureWarning: '+init=<authority>:<code>' syntax is deprecated. '<authority>:<code>' is the preferred initialization method. When making the change, be mindful of axis order changes: https://pyproj4.github.io/pyproj/stable/gotchas.html#axis-order-changes-in-proj-6\n",
      "  return _prepare_from_string(\" \".join(pjargs))\n",
      "/home/skymap/anaconda3/envs/farm/lib/python3.6/site-packages/pyproj/crs/crs.py:294: FutureWarning: '+init=<authority>:<code>' syntax is deprecated. '<authority>:<code>' is the preferred initialization method. When making the change, be mindful of axis order changes: https://pyproj4.github.io/pyproj/stable/gotchas.html#axis-order-changes-in-proj-6\n",
      "  projstring = _prepare_from_string(\" \".join((projstring, projkwargs)))\n",
      "/home/skymap/anaconda3/envs/farm/lib/python3.6/site-packages/pyproj/crs/crs.py:53: FutureWarning: '+init=<authority>:<code>' syntax is deprecated. '<authority>:<code>' is the preferred initialization method. When making the change, be mindful of axis order changes: https://pyproj4.github.io/pyproj/stable/gotchas.html#axis-order-changes-in-proj-6\n",
      "  return _prepare_from_string(\" \".join(pjargs))\n",
      "/home/skymap/anaconda3/envs/farm/lib/python3.6/site-packages/pyproj/crs/crs.py:294: FutureWarning: '+init=<authority>:<code>' syntax is deprecated. '<authority>:<code>' is the preferred initialization method. When making the change, be mindful of axis order changes: https://pyproj4.github.io/pyproj/stable/gotchas.html#axis-order-changes-in-proj-6\n",
      "  projstring = _prepare_from_string(\" \".join((projstring, projkwargs)))\n"
     ]
    },
    {
     "name": "stdout",
     "output_type": "stream",
     "text": [
      "1524 1572\n"
     ]
    },
    {
     "name": "stderr",
     "output_type": "stream",
     "text": [
      "/home/skymap/anaconda3/envs/farm/lib/python3.6/site-packages/pyproj/crs/crs.py:53: FutureWarning: '+init=<authority>:<code>' syntax is deprecated. '<authority>:<code>' is the preferred initialization method. When making the change, be mindful of axis order changes: https://pyproj4.github.io/pyproj/stable/gotchas.html#axis-order-changes-in-proj-6\n",
      "  return _prepare_from_string(\" \".join(pjargs))\n",
      "/home/skymap/anaconda3/envs/farm/lib/python3.6/site-packages/pyproj/crs/crs.py:294: FutureWarning: '+init=<authority>:<code>' syntax is deprecated. '<authority>:<code>' is the preferred initialization method. When making the change, be mindful of axis order changes: https://pyproj4.github.io/pyproj/stable/gotchas.html#axis-order-changes-in-proj-6\n",
      "  projstring = _prepare_from_string(\" \".join((projstring, projkwargs)))\n",
      "/home/skymap/anaconda3/envs/farm/lib/python3.6/site-packages/pyproj/crs/crs.py:53: FutureWarning: '+init=<authority>:<code>' syntax is deprecated. '<authority>:<code>' is the preferred initialization method. When making the change, be mindful of axis order changes: https://pyproj4.github.io/pyproj/stable/gotchas.html#axis-order-changes-in-proj-6\n",
      "  return _prepare_from_string(\" \".join(pjargs))\n",
      "/home/skymap/anaconda3/envs/farm/lib/python3.6/site-packages/pyproj/crs/crs.py:294: FutureWarning: '+init=<authority>:<code>' syntax is deprecated. '<authority>:<code>' is the preferred initialization method. When making the change, be mindful of axis order changes: https://pyproj4.github.io/pyproj/stable/gotchas.html#axis-order-changes-in-proj-6\n",
      "  projstring = _prepare_from_string(\" \".join((projstring, projkwargs)))\n"
     ]
    },
    {
     "name": "stdout",
     "output_type": "stream",
     "text": [
      "madrid_5 0.29999999999957\n",
      "292\n"
     ]
    },
    {
     "name": "stderr",
     "output_type": "stream",
     "text": [
      "100%|██████████| 292/292 [00:10<00:00, 28.01it/s]\n"
     ]
    },
    {
     "name": "stdout",
     "output_type": "stream",
     "text": [
      "1238 1159\n"
     ]
    },
    {
     "name": "stderr",
     "output_type": "stream",
     "text": [
      "/home/skymap/anaconda3/envs/farm/lib/python3.6/site-packages/pyproj/crs/crs.py:53: FutureWarning: '+init=<authority>:<code>' syntax is deprecated. '<authority>:<code>' is the preferred initialization method. When making the change, be mindful of axis order changes: https://pyproj4.github.io/pyproj/stable/gotchas.html#axis-order-changes-in-proj-6\n",
      "  return _prepare_from_string(\" \".join(pjargs))\n",
      "/home/skymap/anaconda3/envs/farm/lib/python3.6/site-packages/pyproj/crs/crs.py:294: FutureWarning: '+init=<authority>:<code>' syntax is deprecated. '<authority>:<code>' is the preferred initialization method. When making the change, be mindful of axis order changes: https://pyproj4.github.io/pyproj/stable/gotchas.html#axis-order-changes-in-proj-6\n",
      "  projstring = _prepare_from_string(\" \".join((projstring, projkwargs)))\n",
      "/home/skymap/anaconda3/envs/farm/lib/python3.6/site-packages/pyproj/crs/crs.py:53: FutureWarning: '+init=<authority>:<code>' syntax is deprecated. '<authority>:<code>' is the preferred initialization method. When making the change, be mindful of axis order changes: https://pyproj4.github.io/pyproj/stable/gotchas.html#axis-order-changes-in-proj-6\n",
      "  return _prepare_from_string(\" \".join(pjargs))\n",
      "/home/skymap/anaconda3/envs/farm/lib/python3.6/site-packages/pyproj/crs/crs.py:294: FutureWarning: '+init=<authority>:<code>' syntax is deprecated. '<authority>:<code>' is the preferred initialization method. When making the change, be mindful of axis order changes: https://pyproj4.github.io/pyproj/stable/gotchas.html#axis-order-changes-in-proj-6\n",
      "  projstring = _prepare_from_string(\" \".join((projstring, projkwargs)))\n",
      "/home/skymap/anaconda3/envs/farm/lib/python3.6/site-packages/pyproj/crs/crs.py:53: FutureWarning: '+init=<authority>:<code>' syntax is deprecated. '<authority>:<code>' is the preferred initialization method. When making the change, be mindful of axis order changes: https://pyproj4.github.io/pyproj/stable/gotchas.html#axis-order-changes-in-proj-6\n",
      "  return _prepare_from_string(\" \".join(pjargs))\n",
      "/home/skymap/anaconda3/envs/farm/lib/python3.6/site-packages/pyproj/crs/crs.py:294: FutureWarning: '+init=<authority>:<code>' syntax is deprecated. '<authority>:<code>' is the preferred initialization method. When making the change, be mindful of axis order changes: https://pyproj4.github.io/pyproj/stable/gotchas.html#axis-order-changes-in-proj-6\n",
      "  projstring = _prepare_from_string(\" \".join((projstring, projkwargs)))\n",
      "/home/skymap/anaconda3/envs/farm/lib/python3.6/site-packages/pyproj/crs/crs.py:53: FutureWarning: '+init=<authority>:<code>' syntax is deprecated. '<authority>:<code>' is the preferred initialization method. When making the change, be mindful of axis order changes: https://pyproj4.github.io/pyproj/stable/gotchas.html#axis-order-changes-in-proj-6\n",
      "  return _prepare_from_string(\" \".join(pjargs))\n",
      "/home/skymap/anaconda3/envs/farm/lib/python3.6/site-packages/pyproj/crs/crs.py:294: FutureWarning: '+init=<authority>:<code>' syntax is deprecated. '<authority>:<code>' is the preferred initialization method. When making the change, be mindful of axis order changes: https://pyproj4.github.io/pyproj/stable/gotchas.html#axis-order-changes-in-proj-6\n",
      "  projstring = _prepare_from_string(\" \".join((projstring, projkwargs)))\n"
     ]
    },
    {
     "name": "stdout",
     "output_type": "stream",
     "text": [
      "madrid_6 0.2999999999996644\n",
      "174\n"
     ]
    },
    {
     "name": "stderr",
     "output_type": "stream",
     "text": [
      "100%|██████████| 174/174 [00:05<00:00, 30.23it/s]\n",
      "/home/skymap/anaconda3/envs/farm/lib/python3.6/site-packages/pyproj/crs/crs.py:53: FutureWarning: '+init=<authority>:<code>' syntax is deprecated. '<authority>:<code>' is the preferred initialization method. When making the change, be mindful of axis order changes: https://pyproj4.github.io/pyproj/stable/gotchas.html#axis-order-changes-in-proj-6\n",
      "  return _prepare_from_string(\" \".join(pjargs))\n",
      "/home/skymap/anaconda3/envs/farm/lib/python3.6/site-packages/pyproj/crs/crs.py:294: FutureWarning: '+init=<authority>:<code>' syntax is deprecated. '<authority>:<code>' is the preferred initialization method. When making the change, be mindful of axis order changes: https://pyproj4.github.io/pyproj/stable/gotchas.html#axis-order-changes-in-proj-6\n",
      "  projstring = _prepare_from_string(\" \".join((projstring, projkwargs)))\n",
      "/home/skymap/anaconda3/envs/farm/lib/python3.6/site-packages/pyproj/crs/crs.py:53: FutureWarning: '+init=<authority>:<code>' syntax is deprecated. '<authority>:<code>' is the preferred initialization method. When making the change, be mindful of axis order changes: https://pyproj4.github.io/pyproj/stable/gotchas.html#axis-order-changes-in-proj-6\n",
      "  return _prepare_from_string(\" \".join(pjargs))\n",
      "/home/skymap/anaconda3/envs/farm/lib/python3.6/site-packages/pyproj/crs/crs.py:294: FutureWarning: '+init=<authority>:<code>' syntax is deprecated. '<authority>:<code>' is the preferred initialization method. When making the change, be mindful of axis order changes: https://pyproj4.github.io/pyproj/stable/gotchas.html#axis-order-changes-in-proj-6\n",
      "  projstring = _prepare_from_string(\" \".join((projstring, projkwargs)))\n"
     ]
    },
    {
     "name": "stdout",
     "output_type": "stream",
     "text": [
      "1238 1159\n"
     ]
    },
    {
     "name": "stderr",
     "output_type": "stream",
     "text": [
      "/home/skymap/anaconda3/envs/farm/lib/python3.6/site-packages/pyproj/crs/crs.py:53: FutureWarning: '+init=<authority>:<code>' syntax is deprecated. '<authority>:<code>' is the preferred initialization method. When making the change, be mindful of axis order changes: https://pyproj4.github.io/pyproj/stable/gotchas.html#axis-order-changes-in-proj-6\n",
      "  return _prepare_from_string(\" \".join(pjargs))\n",
      "/home/skymap/anaconda3/envs/farm/lib/python3.6/site-packages/pyproj/crs/crs.py:294: FutureWarning: '+init=<authority>:<code>' syntax is deprecated. '<authority>:<code>' is the preferred initialization method. When making the change, be mindful of axis order changes: https://pyproj4.github.io/pyproj/stable/gotchas.html#axis-order-changes-in-proj-6\n",
      "  projstring = _prepare_from_string(\" \".join((projstring, projkwargs)))\n",
      "/home/skymap/anaconda3/envs/farm/lib/python3.6/site-packages/pyproj/crs/crs.py:53: FutureWarning: '+init=<authority>:<code>' syntax is deprecated. '<authority>:<code>' is the preferred initialization method. When making the change, be mindful of axis order changes: https://pyproj4.github.io/pyproj/stable/gotchas.html#axis-order-changes-in-proj-6\n",
      "  return _prepare_from_string(\" \".join(pjargs))\n",
      "/home/skymap/anaconda3/envs/farm/lib/python3.6/site-packages/pyproj/crs/crs.py:294: FutureWarning: '+init=<authority>:<code>' syntax is deprecated. '<authority>:<code>' is the preferred initialization method. When making the change, be mindful of axis order changes: https://pyproj4.github.io/pyproj/stable/gotchas.html#axis-order-changes-in-proj-6\n",
      "  projstring = _prepare_from_string(\" \".join((projstring, projkwargs)))\n"
     ]
    },
    {
     "name": "stdout",
     "output_type": "stream",
     "text": [
      "madrid_7 0.2999999999996644\n",
      "174\n"
     ]
    },
    {
     "name": "stderr",
     "output_type": "stream",
     "text": [
      "100%|██████████| 174/174 [00:03<00:00, 44.32it/s]\n",
      "/home/skymap/anaconda3/envs/farm/lib/python3.6/site-packages/pyproj/crs/crs.py:53: FutureWarning: '+init=<authority>:<code>' syntax is deprecated. '<authority>:<code>' is the preferred initialization method. When making the change, be mindful of axis order changes: https://pyproj4.github.io/pyproj/stable/gotchas.html#axis-order-changes-in-proj-6\n",
      "  return _prepare_from_string(\" \".join(pjargs))\n",
      "/home/skymap/anaconda3/envs/farm/lib/python3.6/site-packages/pyproj/crs/crs.py:294: FutureWarning: '+init=<authority>:<code>' syntax is deprecated. '<authority>:<code>' is the preferred initialization method. When making the change, be mindful of axis order changes: https://pyproj4.github.io/pyproj/stable/gotchas.html#axis-order-changes-in-proj-6\n",
      "  projstring = _prepare_from_string(\" \".join((projstring, projkwargs)))\n",
      "/home/skymap/anaconda3/envs/farm/lib/python3.6/site-packages/pyproj/crs/crs.py:53: FutureWarning: '+init=<authority>:<code>' syntax is deprecated. '<authority>:<code>' is the preferred initialization method. When making the change, be mindful of axis order changes: https://pyproj4.github.io/pyproj/stable/gotchas.html#axis-order-changes-in-proj-6\n",
      "  return _prepare_from_string(\" \".join(pjargs))\n",
      "/home/skymap/anaconda3/envs/farm/lib/python3.6/site-packages/pyproj/crs/crs.py:294: FutureWarning: '+init=<authority>:<code>' syntax is deprecated. '<authority>:<code>' is the preferred initialization method. When making the change, be mindful of axis order changes: https://pyproj4.github.io/pyproj/stable/gotchas.html#axis-order-changes-in-proj-6\n",
      "  projstring = _prepare_from_string(\" \".join((projstring, projkwargs)))\n"
     ]
    },
    {
     "name": "stdout",
     "output_type": "stream",
     "text": [
      "791 759\n"
     ]
    },
    {
     "name": "stderr",
     "output_type": "stream",
     "text": [
      "/home/skymap/anaconda3/envs/farm/lib/python3.6/site-packages/pyproj/crs/crs.py:53: FutureWarning: '+init=<authority>:<code>' syntax is deprecated. '<authority>:<code>' is the preferred initialization method. When making the change, be mindful of axis order changes: https://pyproj4.github.io/pyproj/stable/gotchas.html#axis-order-changes-in-proj-6\n",
      "  return _prepare_from_string(\" \".join(pjargs))\n",
      "/home/skymap/anaconda3/envs/farm/lib/python3.6/site-packages/pyproj/crs/crs.py:294: FutureWarning: '+init=<authority>:<code>' syntax is deprecated. '<authority>:<code>' is the preferred initialization method. When making the change, be mindful of axis order changes: https://pyproj4.github.io/pyproj/stable/gotchas.html#axis-order-changes-in-proj-6\n",
      "  projstring = _prepare_from_string(\" \".join((projstring, projkwargs)))\n",
      "/home/skymap/anaconda3/envs/farm/lib/python3.6/site-packages/pyproj/crs/crs.py:53: FutureWarning: '+init=<authority>:<code>' syntax is deprecated. '<authority>:<code>' is the preferred initialization method. When making the change, be mindful of axis order changes: https://pyproj4.github.io/pyproj/stable/gotchas.html#axis-order-changes-in-proj-6\n",
      "  return _prepare_from_string(\" \".join(pjargs))\n",
      "/home/skymap/anaconda3/envs/farm/lib/python3.6/site-packages/pyproj/crs/crs.py:294: FutureWarning: '+init=<authority>:<code>' syntax is deprecated. '<authority>:<code>' is the preferred initialization method. When making the change, be mindful of axis order changes: https://pyproj4.github.io/pyproj/stable/gotchas.html#axis-order-changes-in-proj-6\n",
      "  projstring = _prepare_from_string(\" \".join((projstring, projkwargs)))\n"
     ]
    },
    {
     "name": "stdout",
     "output_type": "stream",
     "text": [
      "madrid_8 0.30000000000195587\n",
      "100\n"
     ]
    },
    {
     "name": "stderr",
     "output_type": "stream",
     "text": [
      "100%|██████████| 100/100 [00:02<00:00, 48.59it/s]\n",
      "/home/skymap/anaconda3/envs/farm/lib/python3.6/site-packages/pyproj/crs/crs.py:53: FutureWarning: '+init=<authority>:<code>' syntax is deprecated. '<authority>:<code>' is the preferred initialization method. When making the change, be mindful of axis order changes: https://pyproj4.github.io/pyproj/stable/gotchas.html#axis-order-changes-in-proj-6\n",
      "  return _prepare_from_string(\" \".join(pjargs))\n",
      "/home/skymap/anaconda3/envs/farm/lib/python3.6/site-packages/pyproj/crs/crs.py:294: FutureWarning: '+init=<authority>:<code>' syntax is deprecated. '<authority>:<code>' is the preferred initialization method. When making the change, be mindful of axis order changes: https://pyproj4.github.io/pyproj/stable/gotchas.html#axis-order-changes-in-proj-6\n",
      "  projstring = _prepare_from_string(\" \".join((projstring, projkwargs)))\n",
      "/home/skymap/anaconda3/envs/farm/lib/python3.6/site-packages/pyproj/crs/crs.py:53: FutureWarning: '+init=<authority>:<code>' syntax is deprecated. '<authority>:<code>' is the preferred initialization method. When making the change, be mindful of axis order changes: https://pyproj4.github.io/pyproj/stable/gotchas.html#axis-order-changes-in-proj-6\n",
      "  return _prepare_from_string(\" \".join(pjargs))\n",
      "/home/skymap/anaconda3/envs/farm/lib/python3.6/site-packages/pyproj/crs/crs.py:294: FutureWarning: '+init=<authority>:<code>' syntax is deprecated. '<authority>:<code>' is the preferred initialization method. When making the change, be mindful of axis order changes: https://pyproj4.github.io/pyproj/stable/gotchas.html#axis-order-changes-in-proj-6\n",
      "  projstring = _prepare_from_string(\" \".join((projstring, projkwargs)))\n"
     ]
    },
    {
     "name": "stdout",
     "output_type": "stream",
     "text": [
      "791 759\n"
     ]
    },
    {
     "name": "stderr",
     "output_type": "stream",
     "text": [
      "/home/skymap/anaconda3/envs/farm/lib/python3.6/site-packages/pyproj/crs/crs.py:53: FutureWarning: '+init=<authority>:<code>' syntax is deprecated. '<authority>:<code>' is the preferred initialization method. When making the change, be mindful of axis order changes: https://pyproj4.github.io/pyproj/stable/gotchas.html#axis-order-changes-in-proj-6\n",
      "  return _prepare_from_string(\" \".join(pjargs))\n",
      "/home/skymap/anaconda3/envs/farm/lib/python3.6/site-packages/pyproj/crs/crs.py:294: FutureWarning: '+init=<authority>:<code>' syntax is deprecated. '<authority>:<code>' is the preferred initialization method. When making the change, be mindful of axis order changes: https://pyproj4.github.io/pyproj/stable/gotchas.html#axis-order-changes-in-proj-6\n",
      "  projstring = _prepare_from_string(\" \".join((projstring, projkwargs)))\n",
      "/home/skymap/anaconda3/envs/farm/lib/python3.6/site-packages/pyproj/crs/crs.py:53: FutureWarning: '+init=<authority>:<code>' syntax is deprecated. '<authority>:<code>' is the preferred initialization method. When making the change, be mindful of axis order changes: https://pyproj4.github.io/pyproj/stable/gotchas.html#axis-order-changes-in-proj-6\n",
      "  return _prepare_from_string(\" \".join(pjargs))\n",
      "/home/skymap/anaconda3/envs/farm/lib/python3.6/site-packages/pyproj/crs/crs.py:294: FutureWarning: '+init=<authority>:<code>' syntax is deprecated. '<authority>:<code>' is the preferred initialization method. When making the change, be mindful of axis order changes: https://pyproj4.github.io/pyproj/stable/gotchas.html#axis-order-changes-in-proj-6\n",
      "  projstring = _prepare_from_string(\" \".join((projstring, projkwargs)))\n"
     ]
    },
    {
     "name": "stdout",
     "output_type": "stream",
     "text": [
      "madrid_9 0.30000000000195587\n",
      "100\n"
     ]
    },
    {
     "name": "stderr",
     "output_type": "stream",
     "text": [
      "100%|██████████| 100/100 [00:02<00:00, 43.30it/s]\n",
      "/home/skymap/anaconda3/envs/farm/lib/python3.6/site-packages/pyproj/crs/crs.py:53: FutureWarning: '+init=<authority>:<code>' syntax is deprecated. '<authority>:<code>' is the preferred initialization method. When making the change, be mindful of axis order changes: https://pyproj4.github.io/pyproj/stable/gotchas.html#axis-order-changes-in-proj-6\n",
      "  return _prepare_from_string(\" \".join(pjargs))\n",
      "/home/skymap/anaconda3/envs/farm/lib/python3.6/site-packages/pyproj/crs/crs.py:294: FutureWarning: '+init=<authority>:<code>' syntax is deprecated. '<authority>:<code>' is the preferred initialization method. When making the change, be mindful of axis order changes: https://pyproj4.github.io/pyproj/stable/gotchas.html#axis-order-changes-in-proj-6\n",
      "  projstring = _prepare_from_string(\" \".join((projstring, projkwargs)))\n"
     ]
    },
    {
     "name": "stdout",
     "output_type": "stream",
     "text": [
      "16729 12954\n"
     ]
    },
    {
     "name": "stderr",
     "output_type": "stream",
     "text": [
      "/home/skymap/anaconda3/envs/farm/lib/python3.6/site-packages/pyproj/crs/crs.py:53: FutureWarning: '+init=<authority>:<code>' syntax is deprecated. '<authority>:<code>' is the preferred initialization method. When making the change, be mindful of axis order changes: https://pyproj4.github.io/pyproj/stable/gotchas.html#axis-order-changes-in-proj-6\n",
      "  return _prepare_from_string(\" \".join(pjargs))\n",
      "/home/skymap/anaconda3/envs/farm/lib/python3.6/site-packages/pyproj/crs/crs.py:294: FutureWarning: '+init=<authority>:<code>' syntax is deprecated. '<authority>:<code>' is the preferred initialization method. When making the change, be mindful of axis order changes: https://pyproj4.github.io/pyproj/stable/gotchas.html#axis-order-changes-in-proj-6\n",
      "  projstring = _prepare_from_string(\" \".join((projstring, projkwargs)))\n",
      "/home/skymap/anaconda3/envs/farm/lib/python3.6/site-packages/pyproj/crs/crs.py:53: FutureWarning: '+init=<authority>:<code>' syntax is deprecated. '<authority>:<code>' is the preferred initialization method. When making the change, be mindful of axis order changes: https://pyproj4.github.io/pyproj/stable/gotchas.html#axis-order-changes-in-proj-6\n",
      "  return _prepare_from_string(\" \".join(pjargs))\n",
      "/home/skymap/anaconda3/envs/farm/lib/python3.6/site-packages/pyproj/crs/crs.py:294: FutureWarning: '+init=<authority>:<code>' syntax is deprecated. '<authority>:<code>' is the preferred initialization method. When making the change, be mindful of axis order changes: https://pyproj4.github.io/pyproj/stable/gotchas.html#axis-order-changes-in-proj-6\n",
      "  projstring = _prepare_from_string(\" \".join((projstring, projkwargs)))\n"
     ]
    },
    {
     "name": "stdout",
     "output_type": "stream",
     "text": [
      "Mt_Isa_2017_10cm_Mosaic_0 0.10000000000137932\n",
      "500\n"
     ]
    },
    {
     "name": "stderr",
     "output_type": "stream",
     "text": [
      "100%|██████████| 500/500 [01:29<00:00,  5.60it/s]\n"
     ]
    },
    {
     "name": "stdout",
     "output_type": "stream",
     "text": [
      "7270 5521\n"
     ]
    },
    {
     "name": "stderr",
     "output_type": "stream",
     "text": [
      "/home/skymap/anaconda3/envs/farm/lib/python3.6/site-packages/pyproj/crs/crs.py:53: FutureWarning: '+init=<authority>:<code>' syntax is deprecated. '<authority>:<code>' is the preferred initialization method. When making the change, be mindful of axis order changes: https://pyproj4.github.io/pyproj/stable/gotchas.html#axis-order-changes-in-proj-6\n",
      "  return _prepare_from_string(\" \".join(pjargs))\n",
      "/home/skymap/anaconda3/envs/farm/lib/python3.6/site-packages/pyproj/crs/crs.py:294: FutureWarning: '+init=<authority>:<code>' syntax is deprecated. '<authority>:<code>' is the preferred initialization method. When making the change, be mindful of axis order changes: https://pyproj4.github.io/pyproj/stable/gotchas.html#axis-order-changes-in-proj-6\n",
      "  projstring = _prepare_from_string(\" \".join((projstring, projkwargs)))\n",
      "/home/skymap/anaconda3/envs/farm/lib/python3.6/site-packages/pyproj/crs/crs.py:53: FutureWarning: '+init=<authority>:<code>' syntax is deprecated. '<authority>:<code>' is the preferred initialization method. When making the change, be mindful of axis order changes: https://pyproj4.github.io/pyproj/stable/gotchas.html#axis-order-changes-in-proj-6\n",
      "  return _prepare_from_string(\" \".join(pjargs))\n",
      "/home/skymap/anaconda3/envs/farm/lib/python3.6/site-packages/pyproj/crs/crs.py:294: FutureWarning: '+init=<authority>:<code>' syntax is deprecated. '<authority>:<code>' is the preferred initialization method. When making the change, be mindful of axis order changes: https://pyproj4.github.io/pyproj/stable/gotchas.html#axis-order-changes-in-proj-6\n",
      "  projstring = _prepare_from_string(\" \".join((projstring, projkwargs)))\n",
      "/home/skymap/anaconda3/envs/farm/lib/python3.6/site-packages/pyproj/crs/crs.py:53: FutureWarning: '+init=<authority>:<code>' syntax is deprecated. '<authority>:<code>' is the preferred initialization method. When making the change, be mindful of axis order changes: https://pyproj4.github.io/pyproj/stable/gotchas.html#axis-order-changes-in-proj-6\n",
      "  return _prepare_from_string(\" \".join(pjargs))\n",
      "/home/skymap/anaconda3/envs/farm/lib/python3.6/site-packages/pyproj/crs/crs.py:294: FutureWarning: '+init=<authority>:<code>' syntax is deprecated. '<authority>:<code>' is the preferred initialization method. When making the change, be mindful of axis order changes: https://pyproj4.github.io/pyproj/stable/gotchas.html#axis-order-changes-in-proj-6\n",
      "  projstring = _prepare_from_string(\" \".join((projstring, projkwargs)))\n",
      "/home/skymap/anaconda3/envs/farm/lib/python3.6/site-packages/pyproj/crs/crs.py:53: FutureWarning: '+init=<authority>:<code>' syntax is deprecated. '<authority>:<code>' is the preferred initialization method. When making the change, be mindful of axis order changes: https://pyproj4.github.io/pyproj/stable/gotchas.html#axis-order-changes-in-proj-6\n",
      "  return _prepare_from_string(\" \".join(pjargs))\n",
      "/home/skymap/anaconda3/envs/farm/lib/python3.6/site-packages/pyproj/crs/crs.py:294: FutureWarning: '+init=<authority>:<code>' syntax is deprecated. '<authority>:<code>' is the preferred initialization method. When making the change, be mindful of axis order changes: https://pyproj4.github.io/pyproj/stable/gotchas.html#axis-order-changes-in-proj-6\n",
      "  projstring = _prepare_from_string(\" \".join((projstring, projkwargs)))\n"
     ]
    },
    {
     "name": "stdout",
     "output_type": "stream",
     "text": [
      "NUNUKAN_0 0.14999999999988473\n",
      "500\n"
     ]
    },
    {
     "name": "stderr",
     "output_type": "stream",
     "text": [
      "100%|██████████| 500/500 [00:39<00:00, 12.56it/s]\n"
     ]
    },
    {
     "name": "stdout",
     "output_type": "stream",
     "text": [
      "13483 9717\n"
     ]
    },
    {
     "name": "stderr",
     "output_type": "stream",
     "text": [
      "/home/skymap/anaconda3/envs/farm/lib/python3.6/site-packages/pyproj/crs/crs.py:53: FutureWarning: '+init=<authority>:<code>' syntax is deprecated. '<authority>:<code>' is the preferred initialization method. When making the change, be mindful of axis order changes: https://pyproj4.github.io/pyproj/stable/gotchas.html#axis-order-changes-in-proj-6\n",
      "  return _prepare_from_string(\" \".join(pjargs))\n",
      "/home/skymap/anaconda3/envs/farm/lib/python3.6/site-packages/pyproj/crs/crs.py:294: FutureWarning: '+init=<authority>:<code>' syntax is deprecated. '<authority>:<code>' is the preferred initialization method. When making the change, be mindful of axis order changes: https://pyproj4.github.io/pyproj/stable/gotchas.html#axis-order-changes-in-proj-6\n",
      "  projstring = _prepare_from_string(\" \".join((projstring, projkwargs)))\n",
      "/home/skymap/anaconda3/envs/farm/lib/python3.6/site-packages/pyproj/crs/crs.py:53: FutureWarning: '+init=<authority>:<code>' syntax is deprecated. '<authority>:<code>' is the preferred initialization method. When making the change, be mindful of axis order changes: https://pyproj4.github.io/pyproj/stable/gotchas.html#axis-order-changes-in-proj-6\n",
      "  return _prepare_from_string(\" \".join(pjargs))\n",
      "/home/skymap/anaconda3/envs/farm/lib/python3.6/site-packages/pyproj/crs/crs.py:294: FutureWarning: '+init=<authority>:<code>' syntax is deprecated. '<authority>:<code>' is the preferred initialization method. When making the change, be mindful of axis order changes: https://pyproj4.github.io/pyproj/stable/gotchas.html#axis-order-changes-in-proj-6\n",
      "  projstring = _prepare_from_string(\" \".join((projstring, projkwargs)))\n",
      "/home/skymap/anaconda3/envs/farm/lib/python3.6/site-packages/pyproj/crs/crs.py:53: FutureWarning: '+init=<authority>:<code>' syntax is deprecated. '<authority>:<code>' is the preferred initialization method. When making the change, be mindful of axis order changes: https://pyproj4.github.io/pyproj/stable/gotchas.html#axis-order-changes-in-proj-6\n",
      "  return _prepare_from_string(\" \".join(pjargs))\n",
      "/home/skymap/anaconda3/envs/farm/lib/python3.6/site-packages/pyproj/crs/crs.py:294: FutureWarning: '+init=<authority>:<code>' syntax is deprecated. '<authority>:<code>' is the preferred initialization method. When making the change, be mindful of axis order changes: https://pyproj4.github.io/pyproj/stable/gotchas.html#axis-order-changes-in-proj-6\n",
      "  projstring = _prepare_from_string(\" \".join((projstring, projkwargs)))\n",
      "/home/skymap/anaconda3/envs/farm/lib/python3.6/site-packages/pyproj/crs/crs.py:53: FutureWarning: '+init=<authority>:<code>' syntax is deprecated. '<authority>:<code>' is the preferred initialization method. When making the change, be mindful of axis order changes: https://pyproj4.github.io/pyproj/stable/gotchas.html#axis-order-changes-in-proj-6\n",
      "  return _prepare_from_string(\" \".join(pjargs))\n",
      "/home/skymap/anaconda3/envs/farm/lib/python3.6/site-packages/pyproj/crs/crs.py:294: FutureWarning: '+init=<authority>:<code>' syntax is deprecated. '<authority>:<code>' is the preferred initialization method. When making the change, be mindful of axis order changes: https://pyproj4.github.io/pyproj/stable/gotchas.html#axis-order-changes-in-proj-6\n",
      "  projstring = _prepare_from_string(\" \".join((projstring, projkwargs)))\n"
     ]
    },
    {
     "name": "stdout",
     "output_type": "stream",
     "text": [
      "POC_AOI_Here_VN_Final_Image_10CM_0 0.10388630283891721\n",
      "500\n"
     ]
    },
    {
     "name": "stderr",
     "output_type": "stream",
     "text": [
      "100%|██████████| 500/500 [01:23<00:00,  5.99it/s]\n",
      "/home/skymap/anaconda3/envs/farm/lib/python3.6/site-packages/pyproj/crs/crs.py:53: FutureWarning: '+init=<authority>:<code>' syntax is deprecated. '<authority>:<code>' is the preferred initialization method. When making the change, be mindful of axis order changes: https://pyproj4.github.io/pyproj/stable/gotchas.html#axis-order-changes-in-proj-6\n",
      "  return _prepare_from_string(\" \".join(pjargs))\n",
      "/home/skymap/anaconda3/envs/farm/lib/python3.6/site-packages/pyproj/crs/crs.py:294: FutureWarning: '+init=<authority>:<code>' syntax is deprecated. '<authority>:<code>' is the preferred initialization method. When making the change, be mindful of axis order changes: https://pyproj4.github.io/pyproj/stable/gotchas.html#axis-order-changes-in-proj-6\n",
      "  projstring = _prepare_from_string(\" \".join((projstring, projkwargs)))\n",
      "/home/skymap/anaconda3/envs/farm/lib/python3.6/site-packages/pyproj/crs/crs.py:53: FutureWarning: '+init=<authority>:<code>' syntax is deprecated. '<authority>:<code>' is the preferred initialization method. When making the change, be mindful of axis order changes: https://pyproj4.github.io/pyproj/stable/gotchas.html#axis-order-changes-in-proj-6\n",
      "  return _prepare_from_string(\" \".join(pjargs))\n",
      "/home/skymap/anaconda3/envs/farm/lib/python3.6/site-packages/pyproj/crs/crs.py:294: FutureWarning: '+init=<authority>:<code>' syntax is deprecated. '<authority>:<code>' is the preferred initialization method. When making the change, be mindful of axis order changes: https://pyproj4.github.io/pyproj/stable/gotchas.html#axis-order-changes-in-proj-6\n",
      "  projstring = _prepare_from_string(\" \".join((projstring, projkwargs)))\n",
      "/home/skymap/anaconda3/envs/farm/lib/python3.6/site-packages/pyproj/crs/crs.py:53: FutureWarning: '+init=<authority>:<code>' syntax is deprecated. '<authority>:<code>' is the preferred initialization method. When making the change, be mindful of axis order changes: https://pyproj4.github.io/pyproj/stable/gotchas.html#axis-order-changes-in-proj-6\n",
      "  return _prepare_from_string(\" \".join(pjargs))\n",
      "/home/skymap/anaconda3/envs/farm/lib/python3.6/site-packages/pyproj/crs/crs.py:294: FutureWarning: '+init=<authority>:<code>' syntax is deprecated. '<authority>:<code>' is the preferred initialization method. When making the change, be mindful of axis order changes: https://pyproj4.github.io/pyproj/stable/gotchas.html#axis-order-changes-in-proj-6\n",
      "  projstring = _prepare_from_string(\" \".join((projstring, projkwargs)))\n"
     ]
    },
    {
     "name": "stdout",
     "output_type": "stream",
     "text": [
      "4525 2377\n"
     ]
    },
    {
     "name": "stderr",
     "output_type": "stream",
     "text": [
      "/home/skymap/anaconda3/envs/farm/lib/python3.6/site-packages/pyproj/crs/crs.py:53: FutureWarning: '+init=<authority>:<code>' syntax is deprecated. '<authority>:<code>' is the preferred initialization method. When making the change, be mindful of axis order changes: https://pyproj4.github.io/pyproj/stable/gotchas.html#axis-order-changes-in-proj-6\n",
      "  return _prepare_from_string(\" \".join(pjargs))\n",
      "/home/skymap/anaconda3/envs/farm/lib/python3.6/site-packages/pyproj/crs/crs.py:294: FutureWarning: '+init=<authority>:<code>' syntax is deprecated. '<authority>:<code>' is the preferred initialization method. When making the change, be mindful of axis order changes: https://pyproj4.github.io/pyproj/stable/gotchas.html#axis-order-changes-in-proj-6\n",
      "  projstring = _prepare_from_string(\" \".join((projstring, projkwargs)))\n"
     ]
    },
    {
     "name": "stdout",
     "output_type": "stream",
     "text": [
      "vaisa1_0 0.283525021727347\n",
      "500\n"
     ]
    },
    {
     "name": "stderr",
     "output_type": "stream",
     "text": [
      "100%|██████████| 500/500 [00:16<00:00, 30.88it/s]\n",
      "/home/skymap/anaconda3/envs/farm/lib/python3.6/site-packages/pyproj/crs/crs.py:53: FutureWarning: '+init=<authority>:<code>' syntax is deprecated. '<authority>:<code>' is the preferred initialization method. When making the change, be mindful of axis order changes: https://pyproj4.github.io/pyproj/stable/gotchas.html#axis-order-changes-in-proj-6\n",
      "  return _prepare_from_string(\" \".join(pjargs))\n",
      "/home/skymap/anaconda3/envs/farm/lib/python3.6/site-packages/pyproj/crs/crs.py:294: FutureWarning: '+init=<authority>:<code>' syntax is deprecated. '<authority>:<code>' is the preferred initialization method. When making the change, be mindful of axis order changes: https://pyproj4.github.io/pyproj/stable/gotchas.html#axis-order-changes-in-proj-6\n",
      "  projstring = _prepare_from_string(\" \".join((projstring, projkwargs)))\n",
      "/home/skymap/anaconda3/envs/farm/lib/python3.6/site-packages/pyproj/crs/crs.py:53: FutureWarning: '+init=<authority>:<code>' syntax is deprecated. '<authority>:<code>' is the preferred initialization method. When making the change, be mindful of axis order changes: https://pyproj4.github.io/pyproj/stable/gotchas.html#axis-order-changes-in-proj-6\n",
      "  return _prepare_from_string(\" \".join(pjargs))\n",
      "/home/skymap/anaconda3/envs/farm/lib/python3.6/site-packages/pyproj/crs/crs.py:294: FutureWarning: '+init=<authority>:<code>' syntax is deprecated. '<authority>:<code>' is the preferred initialization method. When making the change, be mindful of axis order changes: https://pyproj4.github.io/pyproj/stable/gotchas.html#axis-order-changes-in-proj-6\n",
      "  projstring = _prepare_from_string(\" \".join((projstring, projkwargs)))\n"
     ]
    },
    {
     "name": "stdout",
     "output_type": "stream",
     "text": [
      "5057 5033\n"
     ]
    },
    {
     "name": "stderr",
     "output_type": "stream",
     "text": [
      "/home/skymap/anaconda3/envs/farm/lib/python3.6/site-packages/pyproj/crs/crs.py:53: FutureWarning: '+init=<authority>:<code>' syntax is deprecated. '<authority>:<code>' is the preferred initialization method. When making the change, be mindful of axis order changes: https://pyproj4.github.io/pyproj/stable/gotchas.html#axis-order-changes-in-proj-6\n",
      "  return _prepare_from_string(\" \".join(pjargs))\n",
      "/home/skymap/anaconda3/envs/farm/lib/python3.6/site-packages/pyproj/crs/crs.py:294: FutureWarning: '+init=<authority>:<code>' syntax is deprecated. '<authority>:<code>' is the preferred initialization method. When making the change, be mindful of axis order changes: https://pyproj4.github.io/pyproj/stable/gotchas.html#axis-order-changes-in-proj-6\n",
      "  projstring = _prepare_from_string(\" \".join((projstring, projkwargs)))\n",
      "/home/skymap/anaconda3/envs/farm/lib/python3.6/site-packages/pyproj/crs/crs.py:53: FutureWarning: '+init=<authority>:<code>' syntax is deprecated. '<authority>:<code>' is the preferred initialization method. When making the change, be mindful of axis order changes: https://pyproj4.github.io/pyproj/stable/gotchas.html#axis-order-changes-in-proj-6\n",
      "  return _prepare_from_string(\" \".join(pjargs))\n",
      "/home/skymap/anaconda3/envs/farm/lib/python3.6/site-packages/pyproj/crs/crs.py:294: FutureWarning: '+init=<authority>:<code>' syntax is deprecated. '<authority>:<code>' is the preferred initialization method. When making the change, be mindful of axis order changes: https://pyproj4.github.io/pyproj/stable/gotchas.html#axis-order-changes-in-proj-6\n",
      "  projstring = _prepare_from_string(\" \".join((projstring, projkwargs)))\n"
     ]
    },
    {
     "name": "stdout",
     "output_type": "stream",
     "text": [
      "varsaivira3_0 0.2810281561953511\n",
      "500\n"
     ]
    },
    {
     "name": "stderr",
     "output_type": "stream",
     "text": [
      "100%|██████████| 500/500 [00:18<00:00, 27.65it/s]\n",
      "/home/skymap/anaconda3/envs/farm/lib/python3.6/site-packages/pyproj/crs/crs.py:53: FutureWarning: '+init=<authority>:<code>' syntax is deprecated. '<authority>:<code>' is the preferred initialization method. When making the change, be mindful of axis order changes: https://pyproj4.github.io/pyproj/stable/gotchas.html#axis-order-changes-in-proj-6\n",
      "  return _prepare_from_string(\" \".join(pjargs))\n",
      "/home/skymap/anaconda3/envs/farm/lib/python3.6/site-packages/pyproj/crs/crs.py:294: FutureWarning: '+init=<authority>:<code>' syntax is deprecated. '<authority>:<code>' is the preferred initialization method. When making the change, be mindful of axis order changes: https://pyproj4.github.io/pyproj/stable/gotchas.html#axis-order-changes-in-proj-6\n",
      "  projstring = _prepare_from_string(\" \".join((projstring, projkwargs)))\n",
      "/home/skymap/anaconda3/envs/farm/lib/python3.6/site-packages/pyproj/crs/crs.py:53: FutureWarning: '+init=<authority>:<code>' syntax is deprecated. '<authority>:<code>' is the preferred initialization method. When making the change, be mindful of axis order changes: https://pyproj4.github.io/pyproj/stable/gotchas.html#axis-order-changes-in-proj-6\n",
      "  return _prepare_from_string(\" \".join(pjargs))\n",
      "/home/skymap/anaconda3/envs/farm/lib/python3.6/site-packages/pyproj/crs/crs.py:294: FutureWarning: '+init=<authority>:<code>' syntax is deprecated. '<authority>:<code>' is the preferred initialization method. When making the change, be mindful of axis order changes: https://pyproj4.github.io/pyproj/stable/gotchas.html#axis-order-changes-in-proj-6\n",
      "  projstring = _prepare_from_string(\" \".join((projstring, projkwargs)))\n"
     ]
    },
    {
     "name": "stdout",
     "output_type": "stream",
     "text": [
      "5977 4665\n"
     ]
    },
    {
     "name": "stderr",
     "output_type": "stream",
     "text": [
      "/home/skymap/anaconda3/envs/farm/lib/python3.6/site-packages/pyproj/crs/crs.py:53: FutureWarning: '+init=<authority>:<code>' syntax is deprecated. '<authority>:<code>' is the preferred initialization method. When making the change, be mindful of axis order changes: https://pyproj4.github.io/pyproj/stable/gotchas.html#axis-order-changes-in-proj-6\n",
      "  return _prepare_from_string(\" \".join(pjargs))\n",
      "/home/skymap/anaconda3/envs/farm/lib/python3.6/site-packages/pyproj/crs/crs.py:294: FutureWarning: '+init=<authority>:<code>' syntax is deprecated. '<authority>:<code>' is the preferred initialization method. When making the change, be mindful of axis order changes: https://pyproj4.github.io/pyproj/stable/gotchas.html#axis-order-changes-in-proj-6\n",
      "  projstring = _prepare_from_string(\" \".join((projstring, projkwargs)))\n",
      "/home/skymap/anaconda3/envs/farm/lib/python3.6/site-packages/pyproj/crs/crs.py:53: FutureWarning: '+init=<authority>:<code>' syntax is deprecated. '<authority>:<code>' is the preferred initialization method. When making the change, be mindful of axis order changes: https://pyproj4.github.io/pyproj/stable/gotchas.html#axis-order-changes-in-proj-6\n",
      "  return _prepare_from_string(\" \".join(pjargs))\n",
      "/home/skymap/anaconda3/envs/farm/lib/python3.6/site-packages/pyproj/crs/crs.py:294: FutureWarning: '+init=<authority>:<code>' syntax is deprecated. '<authority>:<code>' is the preferred initialization method. When making the change, be mindful of axis order changes: https://pyproj4.github.io/pyproj/stable/gotchas.html#axis-order-changes-in-proj-6\n",
      "  projstring = _prepare_from_string(\" \".join((projstring, projkwargs)))\n"
     ]
    },
    {
     "name": "stdout",
     "output_type": "stream",
     "text": [
      "varsaivira4_0 0.28187549077644564\n",
      "500\n"
     ]
    },
    {
     "name": "stderr",
     "output_type": "stream",
     "text": [
      "100%|██████████| 500/500 [00:20<00:00, 24.63it/s]\n",
      "/home/skymap/anaconda3/envs/farm/lib/python3.6/site-packages/pyproj/crs/crs.py:53: FutureWarning: '+init=<authority>:<code>' syntax is deprecated. '<authority>:<code>' is the preferred initialization method. When making the change, be mindful of axis order changes: https://pyproj4.github.io/pyproj/stable/gotchas.html#axis-order-changes-in-proj-6\n",
      "  return _prepare_from_string(\" \".join(pjargs))\n",
      "/home/skymap/anaconda3/envs/farm/lib/python3.6/site-packages/pyproj/crs/crs.py:294: FutureWarning: '+init=<authority>:<code>' syntax is deprecated. '<authority>:<code>' is the preferred initialization method. When making the change, be mindful of axis order changes: https://pyproj4.github.io/pyproj/stable/gotchas.html#axis-order-changes-in-proj-6\n",
      "  projstring = _prepare_from_string(\" \".join((projstring, projkwargs)))\n",
      "/home/skymap/anaconda3/envs/farm/lib/python3.6/site-packages/pyproj/crs/crs.py:53: FutureWarning: '+init=<authority>:<code>' syntax is deprecated. '<authority>:<code>' is the preferred initialization method. When making the change, be mindful of axis order changes: https://pyproj4.github.io/pyproj/stable/gotchas.html#axis-order-changes-in-proj-6\n",
      "  return _prepare_from_string(\" \".join(pjargs))\n",
      "/home/skymap/anaconda3/envs/farm/lib/python3.6/site-packages/pyproj/crs/crs.py:294: FutureWarning: '+init=<authority>:<code>' syntax is deprecated. '<authority>:<code>' is the preferred initialization method. When making the change, be mindful of axis order changes: https://pyproj4.github.io/pyproj/stable/gotchas.html#axis-order-changes-in-proj-6\n",
      "  projstring = _prepare_from_string(\" \".join((projstring, projkwargs)))\n"
     ]
    },
    {
     "name": "stdout",
     "output_type": "stream",
     "text": [
      "3521 2497\n"
     ]
    },
    {
     "name": "stderr",
     "output_type": "stream",
     "text": [
      "/home/skymap/anaconda3/envs/farm/lib/python3.6/site-packages/pyproj/crs/crs.py:53: FutureWarning: '+init=<authority>:<code>' syntax is deprecated. '<authority>:<code>' is the preferred initialization method. When making the change, be mindful of axis order changes: https://pyproj4.github.io/pyproj/stable/gotchas.html#axis-order-changes-in-proj-6\n",
      "  return _prepare_from_string(\" \".join(pjargs))\n",
      "/home/skymap/anaconda3/envs/farm/lib/python3.6/site-packages/pyproj/crs/crs.py:294: FutureWarning: '+init=<authority>:<code>' syntax is deprecated. '<authority>:<code>' is the preferred initialization method. When making the change, be mindful of axis order changes: https://pyproj4.github.io/pyproj/stable/gotchas.html#axis-order-changes-in-proj-6\n",
      "  projstring = _prepare_from_string(\" \".join((projstring, projkwargs)))\n",
      "/home/skymap/anaconda3/envs/farm/lib/python3.6/site-packages/pyproj/crs/crs.py:53: FutureWarning: '+init=<authority>:<code>' syntax is deprecated. '<authority>:<code>' is the preferred initialization method. When making the change, be mindful of axis order changes: https://pyproj4.github.io/pyproj/stable/gotchas.html#axis-order-changes-in-proj-6\n",
      "  return _prepare_from_string(\" \".join(pjargs))\n",
      "/home/skymap/anaconda3/envs/farm/lib/python3.6/site-packages/pyproj/crs/crs.py:294: FutureWarning: '+init=<authority>:<code>' syntax is deprecated. '<authority>:<code>' is the preferred initialization method. When making the change, be mindful of axis order changes: https://pyproj4.github.io/pyproj/stable/gotchas.html#axis-order-changes-in-proj-6\n",
      "  projstring = _prepare_from_string(\" \".join((projstring, projkwargs)))\n"
     ]
    },
    {
     "name": "stdout",
     "output_type": "stream",
     "text": [
      "varsaivira5_0 0.2823222095127909\n",
      "500\n"
     ]
    },
    {
     "name": "stderr",
     "output_type": "stream",
     "text": [
      "100%|██████████| 500/500 [00:14<00:00, 33.72it/s]\n",
      "/home/skymap/anaconda3/envs/farm/lib/python3.6/site-packages/pyproj/crs/crs.py:53: FutureWarning: '+init=<authority>:<code>' syntax is deprecated. '<authority>:<code>' is the preferred initialization method. When making the change, be mindful of axis order changes: https://pyproj4.github.io/pyproj/stable/gotchas.html#axis-order-changes-in-proj-6\n",
      "  return _prepare_from_string(\" \".join(pjargs))\n",
      "/home/skymap/anaconda3/envs/farm/lib/python3.6/site-packages/pyproj/crs/crs.py:294: FutureWarning: '+init=<authority>:<code>' syntax is deprecated. '<authority>:<code>' is the preferred initialization method. When making the change, be mindful of axis order changes: https://pyproj4.github.io/pyproj/stable/gotchas.html#axis-order-changes-in-proj-6\n",
      "  projstring = _prepare_from_string(\" \".join((projstring, projkwargs)))\n",
      "/home/skymap/anaconda3/envs/farm/lib/python3.6/site-packages/pyproj/crs/crs.py:53: FutureWarning: '+init=<authority>:<code>' syntax is deprecated. '<authority>:<code>' is the preferred initialization method. When making the change, be mindful of axis order changes: https://pyproj4.github.io/pyproj/stable/gotchas.html#axis-order-changes-in-proj-6\n",
      "  return _prepare_from_string(\" \".join(pjargs))\n",
      "/home/skymap/anaconda3/envs/farm/lib/python3.6/site-packages/pyproj/crs/crs.py:294: FutureWarning: '+init=<authority>:<code>' syntax is deprecated. '<authority>:<code>' is the preferred initialization method. When making the change, be mindful of axis order changes: https://pyproj4.github.io/pyproj/stable/gotchas.html#axis-order-changes-in-proj-6\n",
      "  projstring = _prepare_from_string(\" \".join((projstring, projkwargs)))\n"
     ]
    },
    {
     "name": "stdout",
     "output_type": "stream",
     "text": [
      "5257 3769\n"
     ]
    },
    {
     "name": "stderr",
     "output_type": "stream",
     "text": [
      "/home/skymap/anaconda3/envs/farm/lib/python3.6/site-packages/pyproj/crs/crs.py:53: FutureWarning: '+init=<authority>:<code>' syntax is deprecated. '<authority>:<code>' is the preferred initialization method. When making the change, be mindful of axis order changes: https://pyproj4.github.io/pyproj/stable/gotchas.html#axis-order-changes-in-proj-6\n",
      "  return _prepare_from_string(\" \".join(pjargs))\n",
      "/home/skymap/anaconda3/envs/farm/lib/python3.6/site-packages/pyproj/crs/crs.py:294: FutureWarning: '+init=<authority>:<code>' syntax is deprecated. '<authority>:<code>' is the preferred initialization method. When making the change, be mindful of axis order changes: https://pyproj4.github.io/pyproj/stable/gotchas.html#axis-order-changes-in-proj-6\n",
      "  projstring = _prepare_from_string(\" \".join((projstring, projkwargs)))\n",
      "/home/skymap/anaconda3/envs/farm/lib/python3.6/site-packages/pyproj/crs/crs.py:53: FutureWarning: '+init=<authority>:<code>' syntax is deprecated. '<authority>:<code>' is the preferred initialization method. When making the change, be mindful of axis order changes: https://pyproj4.github.io/pyproj/stable/gotchas.html#axis-order-changes-in-proj-6\n",
      "  return _prepare_from_string(\" \".join(pjargs))\n",
      "/home/skymap/anaconda3/envs/farm/lib/python3.6/site-packages/pyproj/crs/crs.py:294: FutureWarning: '+init=<authority>:<code>' syntax is deprecated. '<authority>:<code>' is the preferred initialization method. When making the change, be mindful of axis order changes: https://pyproj4.github.io/pyproj/stable/gotchas.html#axis-order-changes-in-proj-6\n",
      "  projstring = _prepare_from_string(\" \".join((projstring, projkwargs)))\n"
     ]
    },
    {
     "name": "stdout",
     "output_type": "stream",
     "text": [
      "varsaivira6_0 0.28225251509263505\n",
      "500\n"
     ]
    },
    {
     "name": "stderr",
     "output_type": "stream",
     "text": [
      "100%|██████████| 500/500 [00:21<00:00, 22.90it/s]\n"
     ]
    },
    {
     "name": "stdout",
     "output_type": "stream",
     "text": [
      "20673 19105\n"
     ]
    },
    {
     "name": "stderr",
     "output_type": "stream",
     "text": [
      "/home/skymap/anaconda3/envs/farm/lib/python3.6/site-packages/pyproj/crs/crs.py:53: FutureWarning: '+init=<authority>:<code>' syntax is deprecated. '<authority>:<code>' is the preferred initialization method. When making the change, be mindful of axis order changes: https://pyproj4.github.io/pyproj/stable/gotchas.html#axis-order-changes-in-proj-6\n",
      "  return _prepare_from_string(\" \".join(pjargs))\n",
      "/home/skymap/anaconda3/envs/farm/lib/python3.6/site-packages/pyproj/crs/crs.py:294: FutureWarning: '+init=<authority>:<code>' syntax is deprecated. '<authority>:<code>' is the preferred initialization method. When making the change, be mindful of axis order changes: https://pyproj4.github.io/pyproj/stable/gotchas.html#axis-order-changes-in-proj-6\n",
      "  projstring = _prepare_from_string(\" \".join((projstring, projkwargs)))\n",
      "/home/skymap/anaconda3/envs/farm/lib/python3.6/site-packages/pyproj/crs/crs.py:53: FutureWarning: '+init=<authority>:<code>' syntax is deprecated. '<authority>:<code>' is the preferred initialization method. When making the change, be mindful of axis order changes: https://pyproj4.github.io/pyproj/stable/gotchas.html#axis-order-changes-in-proj-6\n",
      "  return _prepare_from_string(\" \".join(pjargs))\n",
      "/home/skymap/anaconda3/envs/farm/lib/python3.6/site-packages/pyproj/crs/crs.py:294: FutureWarning: '+init=<authority>:<code>' syntax is deprecated. '<authority>:<code>' is the preferred initialization method. When making the change, be mindful of axis order changes: https://pyproj4.github.io/pyproj/stable/gotchas.html#axis-order-changes-in-proj-6\n",
      "  projstring = _prepare_from_string(\" \".join((projstring, projkwargs)))\n",
      "/home/skymap/anaconda3/envs/farm/lib/python3.6/site-packages/pyproj/crs/crs.py:53: FutureWarning: '+init=<authority>:<code>' syntax is deprecated. '<authority>:<code>' is the preferred initialization method. When making the change, be mindful of axis order changes: https://pyproj4.github.io/pyproj/stable/gotchas.html#axis-order-changes-in-proj-6\n",
      "  return _prepare_from_string(\" \".join(pjargs))\n",
      "/home/skymap/anaconda3/envs/farm/lib/python3.6/site-packages/pyproj/crs/crs.py:294: FutureWarning: '+init=<authority>:<code>' syntax is deprecated. '<authority>:<code>' is the preferred initialization method. When making the change, be mindful of axis order changes: https://pyproj4.github.io/pyproj/stable/gotchas.html#axis-order-changes-in-proj-6\n",
      "  projstring = _prepare_from_string(\" \".join((projstring, projkwargs)))\n",
      "/home/skymap/anaconda3/envs/farm/lib/python3.6/site-packages/pyproj/crs/crs.py:53: FutureWarning: '+init=<authority>:<code>' syntax is deprecated. '<authority>:<code>' is the preferred initialization method. When making the change, be mindful of axis order changes: https://pyproj4.github.io/pyproj/stable/gotchas.html#axis-order-changes-in-proj-6\n",
      "  return _prepare_from_string(\" \".join(pjargs))\n",
      "/home/skymap/anaconda3/envs/farm/lib/python3.6/site-packages/pyproj/crs/crs.py:294: FutureWarning: '+init=<authority>:<code>' syntax is deprecated. '<authority>:<code>' is the preferred initialization method. When making the change, be mindful of axis order changes: https://pyproj4.github.io/pyproj/stable/gotchas.html#axis-order-changes-in-proj-6\n",
      "  projstring = _prepare_from_string(\" \".join((projstring, projkwargs)))\n"
     ]
    },
    {
     "name": "stdout",
     "output_type": "stream",
     "text": [
      "varsaivira_0 0.28116484133277125\n",
      "500\n"
     ]
    },
    {
     "name": "stderr",
     "output_type": "stream",
     "text": [
      "100%|██████████| 500/500 [00:48<00:00, 10.34it/s]\n",
      "/home/skymap/anaconda3/envs/farm/lib/python3.6/site-packages/pyproj/crs/crs.py:53: FutureWarning: '+init=<authority>:<code>' syntax is deprecated. '<authority>:<code>' is the preferred initialization method. When making the change, be mindful of axis order changes: https://pyproj4.github.io/pyproj/stable/gotchas.html#axis-order-changes-in-proj-6\n",
      "  return _prepare_from_string(\" \".join(pjargs))\n",
      "/home/skymap/anaconda3/envs/farm/lib/python3.6/site-packages/pyproj/crs/crs.py:294: FutureWarning: '+init=<authority>:<code>' syntax is deprecated. '<authority>:<code>' is the preferred initialization method. When making the change, be mindful of axis order changes: https://pyproj4.github.io/pyproj/stable/gotchas.html#axis-order-changes-in-proj-6\n",
      "  projstring = _prepare_from_string(\" \".join((projstring, projkwargs)))\n",
      "/home/skymap/anaconda3/envs/farm/lib/python3.6/site-packages/pyproj/crs/crs.py:53: FutureWarning: '+init=<authority>:<code>' syntax is deprecated. '<authority>:<code>' is the preferred initialization method. When making the change, be mindful of axis order changes: https://pyproj4.github.io/pyproj/stable/gotchas.html#axis-order-changes-in-proj-6\n",
      "  return _prepare_from_string(\" \".join(pjargs))\n",
      "/home/skymap/anaconda3/envs/farm/lib/python3.6/site-packages/pyproj/crs/crs.py:294: FutureWarning: '+init=<authority>:<code>' syntax is deprecated. '<authority>:<code>' is the preferred initialization method. When making the change, be mindful of axis order changes: https://pyproj4.github.io/pyproj/stable/gotchas.html#axis-order-changes-in-proj-6\n",
      "  projstring = _prepare_from_string(\" \".join((projstring, projkwargs)))\n"
     ]
    },
    {
     "name": "stdout",
     "output_type": "stream",
     "text": [
      "17147 17044\n",
      "Visalia_15t1_2018_NAD83_2_4_4326_1 0.15244006351362138\n",
      "500\n"
     ]
    },
    {
     "name": "stderr",
     "output_type": "stream",
     "text": [
      "100%|██████████| 500/500 [01:26<00:00,  5.81it/s]\n"
     ]
    },
    {
     "name": "stdout",
     "output_type": "stream",
     "text": [
      "17141 17043\n"
     ]
    },
    {
     "name": "stderr",
     "output_type": "stream",
     "text": [
      "/home/skymap/anaconda3/envs/farm/lib/python3.6/site-packages/pyproj/crs/crs.py:53: FutureWarning: '+init=<authority>:<code>' syntax is deprecated. '<authority>:<code>' is the preferred initialization method. When making the change, be mindful of axis order changes: https://pyproj4.github.io/pyproj/stable/gotchas.html#axis-order-changes-in-proj-6\n",
      "  return _prepare_from_string(\" \".join(pjargs))\n",
      "/home/skymap/anaconda3/envs/farm/lib/python3.6/site-packages/pyproj/crs/crs.py:294: FutureWarning: '+init=<authority>:<code>' syntax is deprecated. '<authority>:<code>' is the preferred initialization method. When making the change, be mindful of axis order changes: https://pyproj4.github.io/pyproj/stable/gotchas.html#axis-order-changes-in-proj-6\n",
      "  projstring = _prepare_from_string(\" \".join((projstring, projkwargs)))\n",
      "/home/skymap/anaconda3/envs/farm/lib/python3.6/site-packages/pyproj/crs/crs.py:53: FutureWarning: '+init=<authority>:<code>' syntax is deprecated. '<authority>:<code>' is the preferred initialization method. When making the change, be mindful of axis order changes: https://pyproj4.github.io/pyproj/stable/gotchas.html#axis-order-changes-in-proj-6\n",
      "  return _prepare_from_string(\" \".join(pjargs))\n",
      "/home/skymap/anaconda3/envs/farm/lib/python3.6/site-packages/pyproj/crs/crs.py:294: FutureWarning: '+init=<authority>:<code>' syntax is deprecated. '<authority>:<code>' is the preferred initialization method. When making the change, be mindful of axis order changes: https://pyproj4.github.io/pyproj/stable/gotchas.html#axis-order-changes-in-proj-6\n",
      "  projstring = _prepare_from_string(\" \".join((projstring, projkwargs)))\n"
     ]
    },
    {
     "name": "stdout",
     "output_type": "stream",
     "text": [
      "Visalia_15t1_2018_NAD83_3_4_4326_0 0.15243831720083942\n",
      "500\n"
     ]
    },
    {
     "name": "stderr",
     "output_type": "stream",
     "text": [
      "100%|██████████| 500/500 [01:22<00:00,  6.03it/s]\n",
      "/home/skymap/anaconda3/envs/farm/lib/python3.6/site-packages/pyproj/crs/crs.py:53: FutureWarning: '+init=<authority>:<code>' syntax is deprecated. '<authority>:<code>' is the preferred initialization method. When making the change, be mindful of axis order changes: https://pyproj4.github.io/pyproj/stable/gotchas.html#axis-order-changes-in-proj-6\n",
      "  return _prepare_from_string(\" \".join(pjargs))\n",
      "/home/skymap/anaconda3/envs/farm/lib/python3.6/site-packages/pyproj/crs/crs.py:294: FutureWarning: '+init=<authority>:<code>' syntax is deprecated. '<authority>:<code>' is the preferred initialization method. When making the change, be mindful of axis order changes: https://pyproj4.github.io/pyproj/stable/gotchas.html#axis-order-changes-in-proj-6\n",
      "  projstring = _prepare_from_string(\" \".join((projstring, projkwargs)))\n",
      "/home/skymap/anaconda3/envs/farm/lib/python3.6/site-packages/pyproj/crs/crs.py:53: FutureWarning: '+init=<authority>:<code>' syntax is deprecated. '<authority>:<code>' is the preferred initialization method. When making the change, be mindful of axis order changes: https://pyproj4.github.io/pyproj/stable/gotchas.html#axis-order-changes-in-proj-6\n",
      "  return _prepare_from_string(\" \".join(pjargs))\n",
      "/home/skymap/anaconda3/envs/farm/lib/python3.6/site-packages/pyproj/crs/crs.py:294: FutureWarning: '+init=<authority>:<code>' syntax is deprecated. '<authority>:<code>' is the preferred initialization method. When making the change, be mindful of axis order changes: https://pyproj4.github.io/pyproj/stable/gotchas.html#axis-order-changes-in-proj-6\n",
      "  projstring = _prepare_from_string(\" \".join((projstring, projkwargs)))\n",
      "/home/skymap/anaconda3/envs/farm/lib/python3.6/site-packages/pyproj/crs/crs.py:53: FutureWarning: '+init=<authority>:<code>' syntax is deprecated. '<authority>:<code>' is the preferred initialization method. When making the change, be mindful of axis order changes: https://pyproj4.github.io/pyproj/stable/gotchas.html#axis-order-changes-in-proj-6\n",
      "  return _prepare_from_string(\" \".join(pjargs))\n",
      "/home/skymap/anaconda3/envs/farm/lib/python3.6/site-packages/pyproj/crs/crs.py:294: FutureWarning: '+init=<authority>:<code>' syntax is deprecated. '<authority>:<code>' is the preferred initialization method. When making the change, be mindful of axis order changes: https://pyproj4.github.io/pyproj/stable/gotchas.html#axis-order-changes-in-proj-6\n",
      "  projstring = _prepare_from_string(\" \".join((projstring, projkwargs)))\n"
     ]
    },
    {
     "name": "stdout",
     "output_type": "stream",
     "text": [
      "3654 3468\n"
     ]
    },
    {
     "name": "stderr",
     "output_type": "stream",
     "text": [
      "/home/skymap/anaconda3/envs/farm/lib/python3.6/site-packages/pyproj/crs/crs.py:53: FutureWarning: '+init=<authority>:<code>' syntax is deprecated. '<authority>:<code>' is the preferred initialization method. When making the change, be mindful of axis order changes: https://pyproj4.github.io/pyproj/stable/gotchas.html#axis-order-changes-in-proj-6\n",
      "  return _prepare_from_string(\" \".join(pjargs))\n",
      "/home/skymap/anaconda3/envs/farm/lib/python3.6/site-packages/pyproj/crs/crs.py:294: FutureWarning: '+init=<authority>:<code>' syntax is deprecated. '<authority>:<code>' is the preferred initialization method. When making the change, be mindful of axis order changes: https://pyproj4.github.io/pyproj/stable/gotchas.html#axis-order-changes-in-proj-6\n",
      "  projstring = _prepare_from_string(\" \".join((projstring, projkwargs)))\n"
     ]
    },
    {
     "name": "stdout",
     "output_type": "stream",
     "text": [
      "YAS_Nort_exportedImage_0 0.30000000000021343\n",
      "500\n"
     ]
    },
    {
     "name": "stderr",
     "output_type": "stream",
     "text": [
      "100%|██████████| 500/500 [00:20<00:00, 24.54it/s]\n",
      "/home/skymap/anaconda3/envs/farm/lib/python3.6/site-packages/pyproj/crs/crs.py:53: FutureWarning: '+init=<authority>:<code>' syntax is deprecated. '<authority>:<code>' is the preferred initialization method. When making the change, be mindful of axis order changes: https://pyproj4.github.io/pyproj/stable/gotchas.html#axis-order-changes-in-proj-6\n",
      "  return _prepare_from_string(\" \".join(pjargs))\n",
      "/home/skymap/anaconda3/envs/farm/lib/python3.6/site-packages/pyproj/crs/crs.py:294: FutureWarning: '+init=<authority>:<code>' syntax is deprecated. '<authority>:<code>' is the preferred initialization method. When making the change, be mindful of axis order changes: https://pyproj4.github.io/pyproj/stable/gotchas.html#axis-order-changes-in-proj-6\n",
      "  projstring = _prepare_from_string(\" \".join((projstring, projkwargs)))\n",
      "/home/skymap/anaconda3/envs/farm/lib/python3.6/site-packages/pyproj/crs/crs.py:53: FutureWarning: '+init=<authority>:<code>' syntax is deprecated. '<authority>:<code>' is the preferred initialization method. When making the change, be mindful of axis order changes: https://pyproj4.github.io/pyproj/stable/gotchas.html#axis-order-changes-in-proj-6\n",
      "  return _prepare_from_string(\" \".join(pjargs))\n",
      "/home/skymap/anaconda3/envs/farm/lib/python3.6/site-packages/pyproj/crs/crs.py:294: FutureWarning: '+init=<authority>:<code>' syntax is deprecated. '<authority>:<code>' is the preferred initialization method. When making the change, be mindful of axis order changes: https://pyproj4.github.io/pyproj/stable/gotchas.html#axis-order-changes-in-proj-6\n",
      "  projstring = _prepare_from_string(\" \".join((projstring, projkwargs)))\n"
     ]
    },
    {
     "name": "stdout",
     "output_type": "stream",
     "text": [
      "20013 19814\n",
      "AerialPhoto_provo_1_1_s_0 0.10157958080304408\n",
      "500\n"
     ]
    },
    {
     "name": "stderr",
     "output_type": "stream",
     "text": [
      "100%|██████████| 500/500 [01:37<00:00,  5.10it/s]\n"
     ]
    },
    {
     "name": "stdout",
     "output_type": "stream",
     "text": [
      "4623 2165\n"
     ]
    },
    {
     "name": "stderr",
     "output_type": "stream",
     "text": [
      "/home/skymap/anaconda3/envs/farm/lib/python3.6/site-packages/pyproj/crs/crs.py:53: FutureWarning: '+init=<authority>:<code>' syntax is deprecated. '<authority>:<code>' is the preferred initialization method. When making the change, be mindful of axis order changes: https://pyproj4.github.io/pyproj/stable/gotchas.html#axis-order-changes-in-proj-6\n",
      "  return _prepare_from_string(\" \".join(pjargs))\n",
      "/home/skymap/anaconda3/envs/farm/lib/python3.6/site-packages/pyproj/crs/crs.py:294: FutureWarning: '+init=<authority>:<code>' syntax is deprecated. '<authority>:<code>' is the preferred initialization method. When making the change, be mindful of axis order changes: https://pyproj4.github.io/pyproj/stable/gotchas.html#axis-order-changes-in-proj-6\n",
      "  projstring = _prepare_from_string(\" \".join((projstring, projkwargs)))\n",
      "/home/skymap/anaconda3/envs/farm/lib/python3.6/site-packages/pyproj/crs/crs.py:53: FutureWarning: '+init=<authority>:<code>' syntax is deprecated. '<authority>:<code>' is the preferred initialization method. When making the change, be mindful of axis order changes: https://pyproj4.github.io/pyproj/stable/gotchas.html#axis-order-changes-in-proj-6\n",
      "  return _prepare_from_string(\" \".join(pjargs))\n",
      "/home/skymap/anaconda3/envs/farm/lib/python3.6/site-packages/pyproj/crs/crs.py:294: FutureWarning: '+init=<authority>:<code>' syntax is deprecated. '<authority>:<code>' is the preferred initialization method. When making the change, be mindful of axis order changes: https://pyproj4.github.io/pyproj/stable/gotchas.html#axis-order-changes-in-proj-6\n",
      "  projstring = _prepare_from_string(\" \".join((projstring, projkwargs)))\n"
     ]
    },
    {
     "name": "stdout",
     "output_type": "stream",
     "text": [
      "khalifacity-2020_0 0.4790705750008278\n",
      "500\n"
     ]
    },
    {
     "name": "stderr",
     "output_type": "stream",
     "text": [
      "100%|██████████| 500/500 [00:14<00:00, 34.25it/s]\n",
      "/home/skymap/anaconda3/envs/farm/lib/python3.6/site-packages/pyproj/crs/crs.py:53: FutureWarning: '+init=<authority>:<code>' syntax is deprecated. '<authority>:<code>' is the preferred initialization method. When making the change, be mindful of axis order changes: https://pyproj4.github.io/pyproj/stable/gotchas.html#axis-order-changes-in-proj-6\n",
      "  return _prepare_from_string(\" \".join(pjargs))\n",
      "/home/skymap/anaconda3/envs/farm/lib/python3.6/site-packages/pyproj/crs/crs.py:294: FutureWarning: '+init=<authority>:<code>' syntax is deprecated. '<authority>:<code>' is the preferred initialization method. When making the change, be mindful of axis order changes: https://pyproj4.github.io/pyproj/stable/gotchas.html#axis-order-changes-in-proj-6\n",
      "  projstring = _prepare_from_string(\" \".join((projstring, projkwargs)))\n",
      "/home/skymap/anaconda3/envs/farm/lib/python3.6/site-packages/pyproj/crs/crs.py:53: FutureWarning: '+init=<authority>:<code>' syntax is deprecated. '<authority>:<code>' is the preferred initialization method. When making the change, be mindful of axis order changes: https://pyproj4.github.io/pyproj/stable/gotchas.html#axis-order-changes-in-proj-6\n",
      "  return _prepare_from_string(\" \".join(pjargs))\n",
      "/home/skymap/anaconda3/envs/farm/lib/python3.6/site-packages/pyproj/crs/crs.py:294: FutureWarning: '+init=<authority>:<code>' syntax is deprecated. '<authority>:<code>' is the preferred initialization method. When making the change, be mindful of axis order changes: https://pyproj4.github.io/pyproj/stable/gotchas.html#axis-order-changes-in-proj-6\n",
      "  projstring = _prepare_from_string(\" \".join((projstring, projkwargs)))\n",
      "/home/skymap/anaconda3/envs/farm/lib/python3.6/site-packages/pyproj/crs/crs.py:53: FutureWarning: '+init=<authority>:<code>' syntax is deprecated. '<authority>:<code>' is the preferred initialization method. When making the change, be mindful of axis order changes: https://pyproj4.github.io/pyproj/stable/gotchas.html#axis-order-changes-in-proj-6\n",
      "  return _prepare_from_string(\" \".join(pjargs))\n"
     ]
    },
    {
     "name": "stdout",
     "output_type": "stream",
     "text": [
      "2254 2047\n"
     ]
    },
    {
     "name": "stderr",
     "output_type": "stream",
     "text": [
      "/home/skymap/anaconda3/envs/farm/lib/python3.6/site-packages/pyproj/crs/crs.py:294: FutureWarning: '+init=<authority>:<code>' syntax is deprecated. '<authority>:<code>' is the preferred initialization method. When making the change, be mindful of axis order changes: https://pyproj4.github.io/pyproj/stable/gotchas.html#axis-order-changes-in-proj-6\n",
      "  projstring = _prepare_from_string(\" \".join((projstring, projkwargs)))\n",
      "/home/skymap/anaconda3/envs/farm/lib/python3.6/site-packages/pyproj/crs/crs.py:53: FutureWarning: '+init=<authority>:<code>' syntax is deprecated. '<authority>:<code>' is the preferred initialization method. When making the change, be mindful of axis order changes: https://pyproj4.github.io/pyproj/stable/gotchas.html#axis-order-changes-in-proj-6\n",
      "  return _prepare_from_string(\" \".join(pjargs))\n",
      "/home/skymap/anaconda3/envs/farm/lib/python3.6/site-packages/pyproj/crs/crs.py:294: FutureWarning: '+init=<authority>:<code>' syntax is deprecated. '<authority>:<code>' is the preferred initialization method. When making the change, be mindful of axis order changes: https://pyproj4.github.io/pyproj/stable/gotchas.html#axis-order-changes-in-proj-6\n",
      "  projstring = _prepare_from_string(\" \".join((projstring, projkwargs)))\n"
     ]
    },
    {
     "name": "stdout",
     "output_type": "stream",
     "text": [
      "madrid_2 0.29999999999988575\n",
      "500\n"
     ]
    },
    {
     "name": "stderr",
     "output_type": "stream",
     "text": [
      "100%|██████████| 500/500 [00:12<00:00, 39.34it/s]\n"
     ]
    }
   ],
   "source": [
    "# img_cut_dir = \"/home/skm/SKM_OLD/building_master_data/tmp/image_cut_img\"\n",
    "# img_cut_mask_dir = \"/home/skm/SKM_OLD/building_master_data/tmp/image_cut_img_mask\"\n",
    "out_data_image_crop = os.path.join(output_dir,\"image_result_crop\")\n",
    "out_data_image_crop_base,out_data_image_crop_mask = main_gen_data_with_size(img_cut_dir,img_cut_mask_dir,out_data_image_crop)\n",
    "out_dir_data_final = os.path.join(output_dir,\"data_result\")"
   ]
  },
  {
   "cell_type": "code",
   "execution_count": 1,
   "metadata": {},
   "outputs": [
    {
     "name": "stdout",
     "output_type": "stream",
     "text": [
      "11966 9669\n"
     ]
    },
    {
     "name": "stderr",
     "output_type": "stream",
     "text": [
      "/home/skymap/anaconda3/envs/farm/lib/python3.6/site-packages/pyproj/crs/crs.py:53: FutureWarning: '+init=<authority>:<code>' syntax is deprecated. '<authority>:<code>' is the preferred initialization method. When making the change, be mindful of axis order changes: https://pyproj4.github.io/pyproj/stable/gotchas.html#axis-order-changes-in-proj-6\n",
      "  return _prepare_from_string(\" \".join(pjargs))\n",
      "/home/skymap/anaconda3/envs/farm/lib/python3.6/site-packages/pyproj/crs/crs.py:294: FutureWarning: '+init=<authority>:<code>' syntax is deprecated. '<authority>:<code>' is the preferred initialization method. When making the change, be mindful of axis order changes: https://pyproj4.github.io/pyproj/stable/gotchas.html#axis-order-changes-in-proj-6\n",
      "  projstring = _prepare_from_string(\" \".join((projstring, projkwargs)))\n",
      "/home/skymap/anaconda3/envs/farm/lib/python3.6/site-packages/pyproj/crs/crs.py:53: FutureWarning: '+init=<authority>:<code>' syntax is deprecated. '<authority>:<code>' is the preferred initialization method. When making the change, be mindful of axis order changes: https://pyproj4.github.io/pyproj/stable/gotchas.html#axis-order-changes-in-proj-6\n",
      "  return _prepare_from_string(\" \".join(pjargs))\n",
      "/home/skymap/anaconda3/envs/farm/lib/python3.6/site-packages/pyproj/crs/crs.py:294: FutureWarning: '+init=<authority>:<code>' syntax is deprecated. '<authority>:<code>' is the preferred initialization method. When making the change, be mindful of axis order changes: https://pyproj4.github.io/pyproj/stable/gotchas.html#axis-order-changes-in-proj-6\n",
      "  projstring = _prepare_from_string(\" \".join((projstring, projkwargs)))\n"
     ]
    }
   ],
   "source": [
    "from get_image_resolution_meter import get_resolution_meter\n",
    "resolution = get_resolution_meter(\"/media/skymap/Data/Building_master_data/tmp/image_cut_img/3IN_sample_0.tif\")"
   ]
  },
  {
   "cell_type": "code",
   "execution_count": 2,
   "metadata": {},
   "outputs": [
    {
     "data": {
      "text/plain": [
       "0.07631798693527607"
      ]
     },
     "execution_count": 2,
     "metadata": {},
     "output_type": "execute_result"
    }
   ],
   "source": [
    "resolution"
   ]
  },
  {
   "cell_type": "code",
   "execution_count": 3,
   "metadata": {},
   "outputs": [
    {
     "ename": "NameError",
     "evalue": "name 'sys' is not defined",
     "output_type": "error",
     "traceback": [
      "\u001b[0;31m---------------------------------------------------------------------------\u001b[0m",
      "\u001b[0;31mNameError\u001b[0m                                 Traceback (most recent call last)",
      "\u001b[0;32m<ipython-input-3-7948a710dc0e>\u001b[0m in \u001b[0;36m<module>\u001b[0;34m\u001b[0m\n\u001b[0;32m----> 1\u001b[0;31m \u001b[0mprint\u001b[0m\u001b[0;34m(\u001b[0m\u001b[0msys\u001b[0m\u001b[0;34m.\u001b[0m\u001b[0mexecutable\u001b[0m\u001b[0;34m)\u001b[0m\u001b[0;34m\u001b[0m\u001b[0;34m\u001b[0m\u001b[0m\n\u001b[0m",
      "\u001b[0;31mNameError\u001b[0m: name 'sys' is not defined"
     ]
    }
   ],
   "source": [
    "print(sys.executable)"
   ]
  },
  {
   "cell_type": "code",
   "execution_count": 19,
   "metadata": {},
   "outputs": [
    {
     "name": "stdout",
     "output_type": "stream",
     "text": [
      "28150\n"
     ]
    }
   ],
   "source": [
    "split=0.8\n",
    "out_dir_data_final = os.path.join(output_dir,\"data_result\")\n",
    "path_train,path_val,path_test = main_split(out_data_image_crop_base,out_data_image_crop_mask,split,out_dir_data_final)"
   ]
  },
  {
   "cell_type": "code",
   "execution_count": 9,
   "metadata": {},
   "outputs": [],
   "source": [
    "path_train = \"/media/skymap/Data/Building_master_data/data_result/train/images\"\n",
    "path_val = \"/media/skymap/Data/Building_master_data/data_result/val/images\"\n",
    "label_out_dir=\"/media/skymap/Data/Building_master_data/label_std\""
   ]
  },
  {
   "cell_type": "code",
   "execution_count": 10,
   "metadata": {
    "scrolled": true
   },
   "outputs": [
    {
     "name": "stderr",
     "output_type": "stream",
     "text": [
      "23it [00:01, 13.86it/s]/media/skymap/Learnning/ml_data/Anhht/mask_rcnn_preprocessing_master/step_6_crop_shape_file_by_image.py:26: FutureWarning: Assigning CRS to a GeoDataFrame without a geometry column is now deprecated and will not be supported in the future.\n",
      "  df = pd.concat([gp.GeoDataFrame(row, crs=gpdf_multipoly.crs).T]*len(Series_geometries), ignore_index=True)\n",
      "50it [00:03, 18.11it/s]/media/skymap/Learnning/ml_data/Anhht/mask_rcnn_preprocessing_master/step_6_crop_shape_file_by_image.py:26: FutureWarning: Assigning CRS to a GeoDataFrame without a geometry column is now deprecated and will not be supported in the future.\n",
      "  df = pd.concat([gp.GeoDataFrame(row, crs=gpdf_multipoly.crs).T]*len(Series_geometries), ignore_index=True)\n",
      "74it [00:04, 20.87it/s]/media/skymap/Learnning/ml_data/Anhht/mask_rcnn_preprocessing_master/step_6_crop_shape_file_by_image.py:26: FutureWarning: Assigning CRS to a GeoDataFrame without a geometry column is now deprecated and will not be supported in the future.\n",
      "  df = pd.concat([gp.GeoDataFrame(row, crs=gpdf_multipoly.crs).T]*len(Series_geometries), ignore_index=True)\n",
      "77it [00:04, 17.79it/s]/media/skymap/Learnning/ml_data/Anhht/mask_rcnn_preprocessing_master/step_6_crop_shape_file_by_image.py:26: FutureWarning: Assigning CRS to a GeoDataFrame without a geometry column is now deprecated and will not be supported in the future.\n",
      "  df = pd.concat([gp.GeoDataFrame(row, crs=gpdf_multipoly.crs).T]*len(Series_geometries), ignore_index=True)\n",
      "91it [00:05, 20.37it/s]/media/skymap/Learnning/ml_data/Anhht/mask_rcnn_preprocessing_master/step_6_crop_shape_file_by_image.py:26: FutureWarning: Assigning CRS to a GeoDataFrame without a geometry column is now deprecated and will not be supported in the future.\n",
      "  df = pd.concat([gp.GeoDataFrame(row, crs=gpdf_multipoly.crs).T]*len(Series_geometries), ignore_index=True)\n",
      "100it [00:05, 20.39it/s]/media/skymap/Learnning/ml_data/Anhht/mask_rcnn_preprocessing_master/step_6_crop_shape_file_by_image.py:26: FutureWarning: Assigning CRS to a GeoDataFrame without a geometry column is now deprecated and will not be supported in the future.\n",
      "  df = pd.concat([gp.GeoDataFrame(row, crs=gpdf_multipoly.crs).T]*len(Series_geometries), ignore_index=True)\n",
      "107it [00:06, 17.91it/s]/media/skymap/Learnning/ml_data/Anhht/mask_rcnn_preprocessing_master/step_6_crop_shape_file_by_image.py:26: FutureWarning: Assigning CRS to a GeoDataFrame without a geometry column is now deprecated and will not be supported in the future.\n",
      "  df = pd.concat([gp.GeoDataFrame(row, crs=gpdf_multipoly.crs).T]*len(Series_geometries), ignore_index=True)\n",
      "115it [00:06, 16.61it/s]/media/skymap/Learnning/ml_data/Anhht/mask_rcnn_preprocessing_master/step_6_crop_shape_file_by_image.py:26: FutureWarning: Assigning CRS to a GeoDataFrame without a geometry column is now deprecated and will not be supported in the future.\n",
      "  df = pd.concat([gp.GeoDataFrame(row, crs=gpdf_multipoly.crs).T]*len(Series_geometries), ignore_index=True)\n",
      "122it [00:06, 26.46it/s]/media/skymap/Learnning/ml_data/Anhht/mask_rcnn_preprocessing_master/step_6_crop_shape_file_by_image.py:26: FutureWarning: Assigning CRS to a GeoDataFrame without a geometry column is now deprecated and will not be supported in the future.\n",
      "  df = pd.concat([gp.GeoDataFrame(row, crs=gpdf_multipoly.crs).T]*len(Series_geometries), ignore_index=True)\n",
      "155it [00:08, 16.90it/s]/media/skymap/Learnning/ml_data/Anhht/mask_rcnn_preprocessing_master/step_6_crop_shape_file_by_image.py:26: FutureWarning: Assigning CRS to a GeoDataFrame without a geometry column is now deprecated and will not be supported in the future.\n",
      "  df = pd.concat([gp.GeoDataFrame(row, crs=gpdf_multipoly.crs).T]*len(Series_geometries), ignore_index=True)\n",
      "232it [00:12, 19.29it/s]/media/skymap/Learnning/ml_data/Anhht/mask_rcnn_preprocessing_master/step_6_crop_shape_file_by_image.py:26: FutureWarning: Assigning CRS to a GeoDataFrame without a geometry column is now deprecated and will not be supported in the future.\n",
      "  df = pd.concat([gp.GeoDataFrame(row, crs=gpdf_multipoly.crs).T]*len(Series_geometries), ignore_index=True)\n",
      "238it [00:12, 26.85it/s]/media/skymap/Learnning/ml_data/Anhht/mask_rcnn_preprocessing_master/step_6_crop_shape_file_by_image.py:26: FutureWarning: Assigning CRS to a GeoDataFrame without a geometry column is now deprecated and will not be supported in the future.\n",
      "  df = pd.concat([gp.GeoDataFrame(row, crs=gpdf_multipoly.crs).T]*len(Series_geometries), ignore_index=True)\n",
      "242it [00:12, 26.04it/s]/media/skymap/Learnning/ml_data/Anhht/mask_rcnn_preprocessing_master/step_6_crop_shape_file_by_image.py:26: FutureWarning: Assigning CRS to a GeoDataFrame without a geometry column is now deprecated and will not be supported in the future.\n",
      "  df = pd.concat([gp.GeoDataFrame(row, crs=gpdf_multipoly.crs).T]*len(Series_geometries), ignore_index=True)\n",
      "257it [00:13, 24.29it/s]/media/skymap/Learnning/ml_data/Anhht/mask_rcnn_preprocessing_master/step_6_crop_shape_file_by_image.py:26: FutureWarning: Assigning CRS to a GeoDataFrame without a geometry column is now deprecated and will not be supported in the future.\n",
      "  df = pd.concat([gp.GeoDataFrame(row, crs=gpdf_multipoly.crs).T]*len(Series_geometries), ignore_index=True)\n",
      "272it [00:14, 20.85it/s]/media/skymap/Learnning/ml_data/Anhht/mask_rcnn_preprocessing_master/step_6_crop_shape_file_by_image.py:26: FutureWarning: Assigning CRS to a GeoDataFrame without a geometry column is now deprecated and will not be supported in the future.\n",
      "  df = pd.concat([gp.GeoDataFrame(row, crs=gpdf_multipoly.crs).T]*len(Series_geometries), ignore_index=True)\n",
      "275it [00:14, 20.82it/s]/media/skymap/Learnning/ml_data/Anhht/mask_rcnn_preprocessing_master/step_6_crop_shape_file_by_image.py:26: FutureWarning: Assigning CRS to a GeoDataFrame without a geometry column is now deprecated and will not be supported in the future.\n",
      "  df = pd.concat([gp.GeoDataFrame(row, crs=gpdf_multipoly.crs).T]*len(Series_geometries), ignore_index=True)\n",
      "297it [00:15, 23.33it/s]/media/skymap/Learnning/ml_data/Anhht/mask_rcnn_preprocessing_master/step_6_crop_shape_file_by_image.py:26: FutureWarning: Assigning CRS to a GeoDataFrame without a geometry column is now deprecated and will not be supported in the future.\n",
      "  df = pd.concat([gp.GeoDataFrame(row, crs=gpdf_multipoly.crs).T]*len(Series_geometries), ignore_index=True)\n",
      "300it [00:16, 17.78it/s]/media/skymap/Learnning/ml_data/Anhht/mask_rcnn_preprocessing_master/step_6_crop_shape_file_by_image.py:26: FutureWarning: Assigning CRS to a GeoDataFrame without a geometry column is now deprecated and will not be supported in the future.\n",
      "  df = pd.concat([gp.GeoDataFrame(row, crs=gpdf_multipoly.crs).T]*len(Series_geometries), ignore_index=True)\n",
      "303it [00:16, 19.56it/s]/media/skymap/Learnning/ml_data/Anhht/mask_rcnn_preprocessing_master/step_6_crop_shape_file_by_image.py:26: FutureWarning: Assigning CRS to a GeoDataFrame without a geometry column is now deprecated and will not be supported in the future.\n",
      "  df = pd.concat([gp.GeoDataFrame(row, crs=gpdf_multipoly.crs).T]*len(Series_geometries), ignore_index=True)\n",
      "344it [00:18, 18.75it/s]/media/skymap/Learnning/ml_data/Anhht/mask_rcnn_preprocessing_master/step_6_crop_shape_file_by_image.py:26: FutureWarning: Assigning CRS to a GeoDataFrame without a geometry column is now deprecated and will not be supported in the future.\n",
      "  df = pd.concat([gp.GeoDataFrame(row, crs=gpdf_multipoly.crs).T]*len(Series_geometries), ignore_index=True)\n",
      "351it [00:18, 18.51it/s]Process ForkPoolWorker-1:\n",
      "Process ForkPoolWorker-13:\n",
      "Process ForkPoolWorker-4:\n",
      "Process ForkPoolWorker-16:\n",
      "354it [00:18, 18.82it/s]Process ForkPoolWorker-2:\n",
      "Process ForkPoolWorker-14:\n",
      "Process ForkPoolWorker-15:\n",
      "Process ForkPoolWorker-17:\n",
      "Process ForkPoolWorker-7:\n",
      "Process ForkPoolWorker-8:\n",
      "Process ForkPoolWorker-5:\n",
      "Process ForkPoolWorker-9:\n",
      "Process ForkPoolWorker-11:\n",
      "Process ForkPoolWorker-3:\n",
      "Process ForkPoolWorker-10:\n",
      "Process ForkPoolWorker-18:\n",
      "Process ForkPoolWorker-12:\n",
      "Process ForkPoolWorker-6:\n",
      "Traceback (most recent call last):\n",
      "Traceback (most recent call last):\n",
      "  File \"/home/skymap/anaconda3/envs/farm/lib/python3.6/multiprocessing/process.py\", line 258, in _bootstrap\n",
      "    self.run()\n",
      "  File \"/home/skymap/anaconda3/envs/farm/lib/python3.6/multiprocessing/process.py\", line 258, in _bootstrap\n",
      "    self.run()\n"
     ]
    },
    {
     "name": "stderr",
     "output_type": "stream",
     "text": [
      "  File \"/home/skymap/anaconda3/envs/farm/lib/python3.6/multiprocessing/process.py\", line 93, in run\n",
      "    self._target(*self._args, **self._kwargs)\n",
      "  File \"/home/skymap/anaconda3/envs/farm/lib/python3.6/multiprocessing/process.py\", line 93, in run\n",
      "    self._target(*self._args, **self._kwargs)\n",
      "  File \"/home/skymap/anaconda3/envs/farm/lib/python3.6/multiprocessing/pool.py\", line 119, in worker\n",
      "    result = (True, func(*args, **kwds))\n",
      "  File \"/home/skymap/anaconda3/envs/farm/lib/python3.6/multiprocessing/pool.py\", line 119, in worker\n",
      "    result = (True, func(*args, **kwds))\n",
      "  File \"/media/skymap/Learnning/ml_data/Anhht/mask_rcnn_preprocessing_master/step_6_crop_shape_file_by_image.py\", line 90, in crop_shape_pool\n",
      "    gdf_building_cliped = gp.overlay(gdf_building, gdf_box, how='intersection')\n",
      "  File \"/media/skymap/Learnning/ml_data/Anhht/mask_rcnn_preprocessing_master/step_6_crop_shape_file_by_image.py\", line 89, in crop_shape_pool\n",
      "    gdf_box = gp.GeoDataFrame(data_fame, geometry='geometry',crs=crs)\n",
      "  File \"/home/skymap/anaconda3/envs/farm/lib/python3.6/site-packages/geopandas/tools/overlay.py\", line 292, in overlay\n",
      "    result = _overlay_intersection(df1, df2)\n",
      "  File \"/home/skymap/anaconda3/envs/farm/lib/python3.6/site-packages/geopandas/geodataframe.py\", line 167, in __init__\n",
      "    self.set_geometry(geometry, inplace=True)\n",
      "Traceback (most recent call last):\n",
      "  File \"/home/skymap/anaconda3/envs/farm/lib/python3.6/site-packages/geopandas/tools/overlay.py\", line 60, in _overlay_intersection\n",
      "    return GeoDataFrame(dfinter, geometry=geom_intersect, crs=df1.crs)\n",
      "  File \"/home/skymap/anaconda3/envs/farm/lib/python3.6/site-packages/geopandas/geodataframe.py\", line 297, in set_geometry\n",
      "    frame[geo_column_name] = level\n",
      "Traceback (most recent call last):\n",
      "  File \"/home/skymap/anaconda3/envs/farm/lib/python3.6/multiprocessing/process.py\", line 258, in _bootstrap\n",
      "    self.run()\n",
      "  File \"/home/skymap/anaconda3/envs/farm/lib/python3.6/site-packages/geopandas/geodataframe.py\", line 167, in __init__\n",
      "    self.set_geometry(geometry, inplace=True)\n",
      "  File \"/home/skymap/anaconda3/envs/farm/lib/python3.6/site-packages/geopandas/geodataframe.py\", line 1322, in __setitem__\n",
      "    super(GeoDataFrame, self).__setitem__(key, value)\n",
      "  File \"/home/skymap/anaconda3/envs/farm/lib/python3.6/multiprocessing/process.py\", line 258, in _bootstrap\n",
      "    self.run()\n",
      "Traceback (most recent call last):\n",
      "  File \"/home/skymap/anaconda3/envs/farm/lib/python3.6/multiprocessing/process.py\", line 93, in run\n",
      "    self._target(*self._args, **self._kwargs)\n",
      "  File \"/home/skymap/anaconda3/envs/farm/lib/python3.6/site-packages/pandas/core/frame.py\", line 3044, in __setitem__\n",
      "    self._set_item(key, value)\n",
      "  File \"/home/skymap/anaconda3/envs/farm/lib/python3.6/multiprocessing/pool.py\", line 119, in worker\n",
      "    result = (True, func(*args, **kwds))\n",
      "  File \"/home/skymap/anaconda3/envs/farm/lib/python3.6/site-packages/pandas/core/frame.py\", line 3121, in _set_item\n",
      "    NDFrame._set_item(self, key, value)\n",
      "  File \"/home/skymap/anaconda3/envs/farm/lib/python3.6/multiprocessing/process.py\", line 258, in _bootstrap\n",
      "    self.run()\n",
      "  File \"/home/skymap/anaconda3/envs/farm/lib/python3.6/site-packages/geopandas/geodataframe.py\", line 289, in set_geometry\n",
      "    if isinstance(level, (GeoSeries, GeometryArray)) and level.crs != crs:\n",
      "  File \"/media/skymap/Learnning/ml_data/Anhht/mask_rcnn_preprocessing_master/step_6_crop_shape_file_by_image.py\", line 90, in crop_shape_pool\n",
      "    gdf_building_cliped = gp.overlay(gdf_building, gdf_box, how='intersection')\n",
      "  File \"/home/skymap/anaconda3/envs/farm/lib/python3.6/site-packages/pandas/core/generic.py\", line 3582, in _set_item\n",
      "    NDFrame._iset_item(self, loc, value)\n",
      "Traceback (most recent call last):\n",
      "  File \"/home/skymap/anaconda3/envs/farm/lib/python3.6/multiprocessing/process.py\", line 93, in run\n",
      "    self._target(*self._args, **self._kwargs)\n",
      "  File \"/home/skymap/anaconda3/envs/farm/lib/python3.6/site-packages/pyproj/crs/crs.py\", line 996, in __ne__\n",
      "    return not self == other\n",
      "  File \"/home/skymap/anaconda3/envs/farm/lib/python3.6/multiprocessing/process.py\", line 93, in run\n",
      "    self._target(*self._args, **self._kwargs)\n",
      "  File \"/home/skymap/anaconda3/envs/farm/lib/python3.6/site-packages/geopandas/tools/overlay.py\", line 303, in overlay\n",
      "    exploded = result.reset_index(drop=True).explode()\n",
      "  File \"/home/skymap/anaconda3/envs/farm/lib/python3.6/site-packages/pandas/core/generic.py\", line 3571, in _iset_item\n",
      "    self._mgr.iset(loc, value)\n",
      "  File \"/home/skymap/anaconda3/envs/farm/lib/python3.6/multiprocessing/process.py\", line 258, in _bootstrap\n",
      "    self.run()\n",
      "  File \"/home/skymap/anaconda3/envs/farm/lib/python3.6/multiprocessing/pool.py\", line 119, in worker\n",
      "    result = (True, func(*args, **kwds))\n",
      "  File \"/home/skymap/anaconda3/envs/farm/lib/python3.6/multiprocessing/pool.py\", line 119, in worker\n",
      "    result = (True, func(*args, **kwds))\n",
      "  File \"/home/skymap/anaconda3/envs/farm/lib/python3.6/site-packages/pyproj/crs/crs.py\", line 993, in __eq__\n",
      "    return self.equals(other)\n",
      "  File \"/home/skymap/anaconda3/envs/farm/lib/python3.6/site-packages/geopandas/geodataframe.py\", line 1579, in explode\n",
      "    exploded_geom = df_copy.geometry.explode().reset_index(level=-1)\n",
      "\n",
      "  File \"/home/skymap/anaconda3/envs/farm/lib/python3.6/site-packages/pandas/core/internals/managers.py\", line 1124, in iset\n",
      "    new_blknos[~is_deleted] = np.arange(self.nblocks - len(removed_blknos))\n",
      "  File \"/media/skymap/Learnning/ml_data/Anhht/mask_rcnn_preprocessing_master/step_6_crop_shape_file_by_image.py\", line 91, in crop_shape_pool\n",
      "    gdf_building_cliped = multi2single(gdf_building_cliped)\n",
      "  File \"/home/skymap/anaconda3/envs/farm/lib/python3.6/multiprocessing/process.py\", line 93, in run\n",
      "    self._target(*self._args, **self._kwargs)\n",
      "Traceback (most recent call last):\n",
      "  File \"/home/skymap/anaconda3/envs/farm/lib/python3.6/site-packages/pyproj/crs/crs.py\", line 907, in equals\n",
      "    return super().equals(other, ignore_axis_order=ignore_axis_order)\n",
      "  File \"/media/skymap/Learnning/ml_data/Anhht/mask_rcnn_preprocessing_master/step_6_crop_shape_file_by_image.py\", line 90, in crop_shape_pool\n",
      "    gdf_building_cliped = gp.overlay(gdf_building, gdf_box, how='intersection')\n",
      "  File \"/home/skymap/anaconda3/envs/farm/lib/python3.6/site-packages/pandas/core/series.py\", line 1305, in reset_index\n",
      "    return df.reset_index(level=level, drop=drop)\n",
      "KeyboardInterrupt\n",
      "  File \"/home/skymap/anaconda3/envs/farm/lib/python3.6/multiprocessing/pool.py\", line 119, in worker\n",
      "    result = (True, func(*args, **kwds))\n",
      "  File \"/media/skymap/Learnning/ml_data/Anhht/mask_rcnn_preprocessing_master/step_6_crop_shape_file_by_image.py\", line 22, in multi2single\n",
      "    gpdf_multipoly = gpdf[gpdf.geometry.type == 'MultiPolygon']\n",
      "Traceback (most recent call last):\n",
      "KeyboardInterrupt\n",
      "  File \"/home/skymap/anaconda3/envs/farm/lib/python3.6/site-packages/geopandas/tools/overlay.py\", line 319, in overlay\n",
      "    result = exploded.dissolve(by=\"level_0\")[key_order]\n",
      "  File \"/home/skymap/anaconda3/envs/farm/lib/python3.6/multiprocessing/process.py\", line 258, in _bootstrap\n",
      "    self.run()\n",
      "  File \"/home/skymap/anaconda3/envs/farm/lib/python3.6/site-packages/pandas/core/frame.py\", line 4774, in reset_index\n",
      "    new_obj = self.copy()\n",
      "  File \"/media/skymap/Learnning/ml_data/Anhht/mask_rcnn_preprocessing_master/step_6_crop_shape_file_by_image.py\", line 90, in crop_shape_pool\n",
      "    gdf_building_cliped = gp.overlay(gdf_building, gdf_box, how='intersection')\n",
      "  File \"/home/skymap/anaconda3/envs/farm/lib/python3.6/site-packages/geopandas/geodataframe.py\", line 1299, in __getitem__\n",
      "    result = super(GeoDataFrame, self).__getitem__(key)\n",
      "  File \"/home/skymap/anaconda3/envs/farm/lib/python3.6/multiprocessing/process.py\", line 258, in _bootstrap\n",
      "    self.run()\n",
      "  File \"/home/skymap/anaconda3/envs/farm/lib/python3.6/multiprocessing/process.py\", line 93, in run\n",
      "    self._target(*self._args, **self._kwargs)\n",
      "  File \"/home/skymap/anaconda3/envs/farm/lib/python3.6/site-packages/geopandas/geodataframe.py\", line 1507, in dissolve\n",
      "    aggregated = aggregated_geometry.join(aggregated_data)\n",
      "  File \"/home/skymap/anaconda3/envs/farm/lib/python3.6/site-packages/pandas/core/generic.py\", line 5667, in copy\n",
      "    return self._constructor(data).__finalize__(self, method=\"copy\")\n"
     ]
    },
    {
     "name": "stderr",
     "output_type": "stream",
     "text": [
      "  File \"/home/skymap/anaconda3/envs/farm/lib/python3.6/site-packages/pandas/core/frame.py\", line 2897, in __getitem__\n",
      "    return self._getitem_bool_array(key)\n",
      "  File \"/home/skymap/anaconda3/envs/farm/lib/python3.6/site-packages/geopandas/tools/overlay.py\", line 292, in overlay\n",
      "    result = _overlay_intersection(df1, df2)\n",
      "  File \"/home/skymap/anaconda3/envs/farm/lib/python3.6/multiprocessing/pool.py\", line 119, in worker\n",
      "    result = (True, func(*args, **kwds))\n",
      "  File \"/home/skymap/anaconda3/envs/farm/lib/python3.6/site-packages/pandas/core/frame.py\", line 7875, in join\n",
      "    other, on=on, how=how, lsuffix=lsuffix, rsuffix=rsuffix, sort=sort\n",
      "  File \"/home/skymap/anaconda3/envs/farm/lib/python3.6/multiprocessing/process.py\", line 93, in run\n",
      "    self._target(*self._args, **self._kwargs)\n",
      "  File \"/home/skymap/anaconda3/envs/farm/lib/python3.6/site-packages/geopandas/geodataframe.py\", line 167, in __init__\n",
      "    self.set_geometry(geometry, inplace=True)\n",
      "  File \"/home/skymap/anaconda3/envs/farm/lib/python3.6/site-packages/pandas/core/frame.py\", line 2951, in _getitem_bool_array\n",
      "    return self._take_with_is_copy(indexer, axis=0)\n",
      "  File \"/home/skymap/anaconda3/envs/farm/lib/python3.6/site-packages/geopandas/tools/overlay.py\", line 30, in _overlay_intersection\n",
      "    idx1, idx2 = df2.sindex.query_bulk(df1.geometry, predicate=\"intersects\", sort=True)\n",
      "  File \"/media/skymap/Learnning/ml_data/Anhht/mask_rcnn_preprocessing_master/step_6_crop_shape_file_by_image.py\", line 90, in crop_shape_pool\n",
      "    gdf_building_cliped = gp.overlay(gdf_building, gdf_box, how='intersection')\n",
      "  File \"/home/skymap/anaconda3/envs/farm/lib/python3.6/site-packages/pandas/core/frame.py\", line 7898, in _join_compat\n",
      "    sort=sort,\n",
      "  File \"/home/skymap/anaconda3/envs/farm/lib/python3.6/multiprocessing/pool.py\", line 119, in worker\n",
      "    result = (True, func(*args, **kwds))\n",
      "  File \"/home/skymap/anaconda3/envs/farm/lib/python3.6/site-packages/geopandas/geodataframe.py\", line 289, in set_geometry\n",
      "    if isinstance(level, (GeoSeries, GeometryArray)) and level.crs != crs:\n",
      "  File \"/home/skymap/anaconda3/envs/farm/lib/python3.6/site-packages/pandas/core/generic.py\", line 3363, in _take_with_is_copy\n",
      "    result = self.take(indices=indices, axis=axis)\n",
      "  File \"/home/skymap/anaconda3/envs/farm/lib/python3.6/site-packages/geopandas/geodataframe.py\", line 190, in _get_geometry\n",
      "    return self[self._geometry_column_name]\n",
      "  File \"/home/skymap/anaconda3/envs/farm/lib/python3.6/site-packages/pandas/core/reshape/merge.py\", line 89, in merge\n",
      "    return op.get_result()\n",
      "  File \"/home/skymap/anaconda3/envs/farm/lib/python3.6/site-packages/geopandas/tools/overlay.py\", line 246, in overlay\n",
      "    if not _check_crs(df1, df2):\n",
      "  File \"/media/skymap/Learnning/ml_data/Anhht/mask_rcnn_preprocessing_master/step_6_crop_shape_file_by_image.py\", line 90, in crop_shape_pool\n",
      "    gdf_building_cliped = gp.overlay(gdf_building, gdf_box, how='intersection')\n",
      "  File \"/home/skymap/anaconda3/envs/farm/lib/python3.6/site-packages/pyproj/crs/crs.py\", line 996, in __ne__\n",
      "    return not self == other\n",
      "  File \"/home/skymap/anaconda3/envs/farm/lib/python3.6/site-packages/pandas/core/generic.py\", line 3353, in take\n",
      "    return self._constructor(new_data).__finalize__(self, method=\"take\")\n",
      "  File \"/home/skymap/anaconda3/envs/farm/lib/python3.6/site-packages/geopandas/geodataframe.py\", line 1299, in __getitem__\n",
      "    result = super(GeoDataFrame, self).__getitem__(key)\n",
      "  File \"/home/skymap/anaconda3/envs/farm/lib/python3.6/site-packages/geopandas/tools/overlay.py\", line 292, in overlay\n",
      "    result = _overlay_intersection(df1, df2)\n",
      "  File \"/home/skymap/anaconda3/envs/farm/lib/python3.6/site-packages/geopandas/array.py\", line 85, in _check_crs\n",
      "    if not left.crs == right.crs:\n",
      "  File \"/home/skymap/anaconda3/envs/farm/lib/python3.6/site-packages/pyproj/crs/crs.py\", line 993, in __eq__\n",
      "    return self.equals(other)\n",
      "  File \"/home/skymap/anaconda3/envs/farm/lib/python3.6/site-packages/pandas/core/frame.py\", line 2878, in __getitem__\n",
      "    return self._get_item_cache(key)\n",
      "  File \"/home/skymap/anaconda3/envs/farm/lib/python3.6/site-packages/geopandas/geodataframe.py\", line 167, in __init__\n",
      "    self.set_geometry(geometry, inplace=True)\n",
      "Traceback (most recent call last):\n",
      "  File \"/home/skymap/anaconda3/envs/farm/lib/python3.6/site-packages/pandas/core/reshape/merge.py\", line 685, in get_result\n",
      "    result = typ(result_data).__finalize__(self, method=self._merge_type)\n",
      "Traceback (most recent call last):\n",
      "  File \"/home/skymap/anaconda3/envs/farm/lib/python3.6/site-packages/geopandas/tools/overlay.py\", line 37, in _overlay_intersection\n",
      "    intersections = left.intersection(right)\n",
      "  File \"/home/skymap/anaconda3/envs/farm/lib/python3.6/site-packages/pyproj/crs/crs.py\", line 907, in equals\n",
      "    return super().equals(other, ignore_axis_order=ignore_axis_order)\n",
      "  File \"/home/skymap/anaconda3/envs/farm/lib/python3.6/multiprocessing/process.py\", line 258, in _bootstrap\n",
      "    self.run()\n",
      "  File \"/home/skymap/anaconda3/envs/farm/lib/python3.6/site-packages/geopandas/geodataframe.py\", line 167, in __init__\n",
      "    self.set_geometry(geometry, inplace=True)\n",
      "  File \"/home/skymap/anaconda3/envs/farm/lib/python3.6/multiprocessing/process.py\", line 258, in _bootstrap\n",
      "    self.run()\n",
      "  File \"/home/skymap/anaconda3/envs/farm/lib/python3.6/site-packages/geopandas/base.py\", line 2530, in intersection\n",
      "    return _binary_geo(\"intersection\", self, other, align)\n",
      "  File \"/home/skymap/anaconda3/envs/farm/lib/python3.6/site-packages/pyproj/crs/crs.py\", line 993, in __eq__\n",
      "    return self.equals(other)\n",
      "KeyboardInterrupt\n",
      "  File \"/home/skymap/anaconda3/envs/farm/lib/python3.6/site-packages/geopandas/geodataframe.py\", line 289, in set_geometry\n",
      "    if isinstance(level, (GeoSeries, GeometryArray)) and level.crs != crs:\n",
      "  File \"/home/skymap/anaconda3/envs/farm/lib/python3.6/site-packages/pandas/core/generic.py\", line 3544, in _get_item_cache\n",
      "    res = self._box_col_values(values, loc)\n",
      "  File \"/home/skymap/anaconda3/envs/farm/lib/python3.6/site-packages/geopandas/geodataframe.py\", line 289, in set_geometry\n",
      "    if isinstance(level, (GeoSeries, GeometryArray)) and level.crs != crs:\n",
      "  File \"/home/skymap/anaconda3/envs/farm/lib/python3.6/multiprocessing/process.py\", line 93, in run\n",
      "    self._target(*self._args, **self._kwargs)\n",
      "  File \"/home/skymap/anaconda3/envs/farm/lib/python3.6/multiprocessing/process.py\", line 93, in run\n",
      "    self._target(*self._args, **self._kwargs)\n",
      "  File \"/home/skymap/anaconda3/envs/farm/lib/python3.6/site-packages/pyproj/crs/crs.py\", line 907, in equals\n",
      "    return super().equals(other, ignore_axis_order=ignore_axis_order)\n",
      "  File \"/home/skymap/anaconda3/envs/farm/lib/python3.6/site-packages/geopandas/base.py\", line 53, in _binary_geo\n",
      "    geoms, index = _delegate_binary_method(op, this, other, align)\n",
      "  File \"/home/skymap/anaconda3/envs/farm/lib/python3.6/site-packages/pyproj/crs/crs.py\", line 996, in __ne__\n",
      "    return not self == other\n",
      "Traceback (most recent call last):\n",
      "  File \"/home/skymap/anaconda3/envs/farm/lib/python3.6/site-packages/pyproj/crs/crs.py\", line 996, in __ne__\n",
      "    return not self == other\n",
      "Traceback (most recent call last):\n",
      "Traceback (most recent call last):\n",
      "Traceback (most recent call last):\n",
      "  File \"/home/skymap/anaconda3/envs/farm/lib/python3.6/multiprocessing/pool.py\", line 119, in worker\n",
      "    result = (True, func(*args, **kwds))\n",
      "  File \"/home/skymap/anaconda3/envs/farm/lib/python3.6/site-packages/pandas/core/frame.py\", line 3192, in _box_col_values\n",
      "    return klass(values, index=self.index, name=name, fastpath=True)\n",
      "  File \"/home/skymap/anaconda3/envs/farm/lib/python3.6/site-packages/geopandas/base.py\", line 44, in _delegate_binary_method\n",
      "    data = getattr(a_this, op)(other, *args, **kwargs)\n",
      "KeyboardInterrupt\n",
      "  File \"/home/skymap/anaconda3/envs/farm/lib/python3.6/site-packages/pyproj/crs/crs.py\", line 993, in __eq__\n",
      "    return self.equals(other)\n",
      "  File \"/home/skymap/anaconda3/envs/farm/lib/python3.6/multiprocessing/process.py\", line 258, in _bootstrap\n",
      "    self.run()\n",
      "  File \"/home/skymap/anaconda3/envs/farm/lib/python3.6/multiprocessing/pool.py\", line 119, in worker\n",
      "    result = (True, func(*args, **kwds))\n",
      "  File \"/home/skymap/anaconda3/envs/farm/lib/python3.6/site-packages/pyproj/crs/crs.py\", line 993, in __eq__\n",
      "    return self.equals(other)\n"
     ]
    },
    {
     "name": "stderr",
     "output_type": "stream",
     "text": [
      "Traceback (most recent call last):\n",
      "  File \"/home/skymap/anaconda3/envs/farm/lib/python3.6/multiprocessing/process.py\", line 258, in _bootstrap\n",
      "    self.run()\n",
      "Traceback (most recent call last):\n",
      "  File \"/home/skymap/anaconda3/envs/farm/lib/python3.6/site-packages/pandas/core/generic.py\", line 5153, in __setattr__\n",
      "    object.__getattribute__(self, name)\n",
      "  File \"/home/skymap/anaconda3/envs/farm/lib/python3.6/multiprocessing/process.py\", line 258, in _bootstrap\n",
      "    self.run()\n",
      "  File \"/media/skymap/Learnning/ml_data/Anhht/mask_rcnn_preprocessing_master/step_6_crop_shape_file_by_image.py\", line 83, in crop_shape_pool\n",
      "    result2 = load_image_geom(os.path.join(foder_image,id_image+'.tif'))\n",
      "  File \"/home/skymap/anaconda3/envs/farm/lib/python3.6/site-packages/pandas/core/series.py\", line 332, in __init__\n",
      "    self.name = name\n",
      "  File \"/home/skymap/anaconda3/envs/farm/lib/python3.6/site-packages/geopandas/array.py\", line 610, in intersection\n",
      "    self._binary_method(\"intersection\", self, other), crs=self.crs\n",
      "  File \"/home/skymap/anaconda3/envs/farm/lib/python3.6/multiprocessing/process.py\", line 93, in run\n",
      "    self._target(*self._args, **self._kwargs)\n",
      "  File \"/home/skymap/anaconda3/envs/farm/lib/python3.6/site-packages/pyproj/crs/crs.py\", line 907, in equals\n",
      "    return super().equals(other, ignore_axis_order=ignore_axis_order)\n",
      "Traceback (most recent call last):\n",
      "  File \"/home/skymap/anaconda3/envs/farm/lib/python3.6/multiprocessing/process.py\", line 258, in _bootstrap\n",
      "    self.run()\n",
      "  File \"/media/skymap/Learnning/ml_data/Anhht/mask_rcnn_preprocessing_master/step_6_crop_shape_file_by_image.py\", line 90, in crop_shape_pool\n",
      "    gdf_building_cliped = gp.overlay(gdf_building, gdf_box, how='intersection')\n",
      "  File \"/home/skymap/anaconda3/envs/farm/lib/python3.6/multiprocessing/process.py\", line 93, in run\n",
      "    self._target(*self._args, **self._kwargs)\n",
      "  File \"/home/skymap/anaconda3/envs/farm/lib/python3.6/multiprocessing/process.py\", line 258, in _bootstrap\n",
      "    self.run()\n",
      "  File \"/home/skymap/anaconda3/envs/farm/lib/python3.6/multiprocessing/process.py\", line 93, in run\n",
      "    self._target(*self._args, **self._kwargs)\n",
      "  File \"/media/skymap/Learnning/ml_data/Anhht/mask_rcnn_preprocessing_master/step_6_crop_shape_file_by_image.py\", line 47, in load_image_geom\n",
      "    with rasterio.open(image_path) as src:\n",
      "  File \"/home/skymap/anaconda3/envs/farm/lib/python3.6/site-packages/pandas/core/series.py\", line 490, in name\n",
      "    return self._name\n",
      "  File \"/home/skymap/anaconda3/envs/farm/lib/python3.6/site-packages/pyproj/crs/crs.py\", line 907, in equals\n",
      "    return super().equals(other, ignore_axis_order=ignore_axis_order)\n",
      "  File \"/home/skymap/anaconda3/envs/farm/lib/python3.6/site-packages/pandas/core/generic.py\", line 5153, in __setattr__\n",
      "    object.__getattribute__(self, name)\n",
      "  File \"/home/skymap/anaconda3/envs/farm/lib/python3.6/site-packages/geopandas/array.py\", line 538, in _binary_method\n",
      "    if not _check_crs(left, right):\n",
      "  File \"/home/skymap/anaconda3/envs/farm/lib/python3.6/multiprocessing/process.py\", line 258, in _bootstrap\n",
      "    self.run()\n",
      "  File \"/home/skymap/anaconda3/envs/farm/lib/python3.6/multiprocessing/pool.py\", line 119, in worker\n",
      "    result = (True, func(*args, **kwds))\n",
      "KeyboardInterrupt\n",
      "  File \"/home/skymap/anaconda3/envs/farm/lib/python3.6/multiprocessing/process.py\", line 93, in run\n",
      "    self._target(*self._args, **self._kwargs)\n",
      "  File \"/home/skymap/anaconda3/envs/farm/lib/python3.6/multiprocessing/pool.py\", line 119, in worker\n",
      "    result = (True, func(*args, **kwds))\n",
      "  File \"/home/skymap/anaconda3/envs/farm/lib/python3.6/site-packages/geopandas/tools/overlay.py\", line 303, in overlay\n",
      "    exploded = result.reset_index(drop=True).explode()\n",
      "  File \"/home/skymap/anaconda3/envs/farm/lib/python3.6/multiprocessing/pool.py\", line 119, in worker\n",
      "    result = (True, func(*args, **kwds))\n",
      "  File \"/home/skymap/anaconda3/envs/farm/lib/python3.6/multiprocessing/process.py\", line 93, in run\n",
      "    self._target(*self._args, **self._kwargs)\n",
      "KeyboardInterrupt\n",
      "  File \"/home/skymap/anaconda3/envs/farm/lib/python3.6/site-packages/rasterio/env.py\", line 433, in wrapper\n",
      "    return f(*args, **kwds)\n",
      "  File \"/home/skymap/anaconda3/envs/farm/lib/python3.6/site-packages/pandas/core/series.py\", line 490, in name\n",
      "    return self._name\n",
      "  File \"/home/skymap/anaconda3/envs/farm/lib/python3.6/site-packages/pandas/core/generic.py\", line 5137, in __getattr__\n",
      "    return object.__getattribute__(self, name)\n",
      "  File \"/home/skymap/anaconda3/envs/farm/lib/python3.6/site-packages/geopandas/array.py\", line 85, in _check_crs\n",
      "    if not left.crs == right.crs:\n",
      "  File \"/home/skymap/anaconda3/envs/farm/lib/python3.6/multiprocessing/process.py\", line 93, in run\n",
      "    self._target(*self._args, **self._kwargs)\n",
      "  File \"/media/skymap/Learnning/ml_data/Anhht/mask_rcnn_preprocessing_master/step_6_crop_shape_file_by_image.py\", line 90, in crop_shape_pool\n",
      "    gdf_building_cliped = gp.overlay(gdf_building, gdf_box, how='intersection')\n",
      "  File \"/home/skymap/anaconda3/envs/farm/lib/python3.6/multiprocessing/pool.py\", line 119, in worker\n",
      "    result = (True, func(*args, **kwds))\n",
      "  File \"/home/skymap/anaconda3/envs/farm/lib/python3.6/site-packages/geopandas/geodataframe.py\", line 1593, in explode\n",
      "    geo_df = df.set_geometry(self._geometry_column_name)\n",
      "  File \"/media/skymap/Learnning/ml_data/Anhht/mask_rcnn_preprocessing_master/step_6_crop_shape_file_by_image.py\", line 90, in crop_shape_pool\n",
      "    gdf_building_cliped = gp.overlay(gdf_building, gdf_box, how='intersection')\n",
      "  File \"/media/skymap/Learnning/ml_data/Anhht/mask_rcnn_preprocessing_master/step_6_crop_shape_file_by_image.py\", line 90, in crop_shape_pool\n",
      "    gdf_building_cliped = gp.overlay(gdf_building, gdf_box, how='intersection')\n",
      "  File \"/home/skymap/anaconda3/envs/farm/lib/python3.6/multiprocessing/pool.py\", line 119, in worker\n",
      "    result = (True, func(*args, **kwds))\n",
      "Traceback (most recent call last):\n",
      "  File \"/home/skymap/anaconda3/envs/farm/lib/python3.6/site-packages/pandas/core/generic.py\", line 5133, in __getattr__\n",
      "    name in self._internal_names_set\n",
      "AttributeError: 'Series' object has no attribute '_name'\n",
      "  File \"/home/skymap/anaconda3/envs/farm/lib/python3.6/site-packages/rasterio/__init__.py\", line 221, in open\n",
      "    s = DatasetReader(path, driver=driver, sharing=sharing, **kwargs)\n",
      "  File \"/home/skymap/anaconda3/envs/farm/lib/python3.6/site-packages/pyproj/crs/crs.py\", line 993, in __eq__\n",
      "    return self.equals(other)\n",
      "  File \"/home/skymap/anaconda3/envs/farm/lib/python3.6/multiprocessing/pool.py\", line 119, in worker\n",
      "    result = (True, func(*args, **kwds))\n",
      "  File \"/media/skymap/Learnning/ml_data/Anhht/mask_rcnn_preprocessing_master/step_6_crop_shape_file_by_image.py\", line 90, in crop_shape_pool\n",
      "    gdf_building_cliped = gp.overlay(gdf_building, gdf_box, how='intersection')\n",
      "  File \"/home/skymap/anaconda3/envs/farm/lib/python3.6/site-packages/geopandas/tools/overlay.py\", line 333, in overlay\n",
      "    result.drop([\"__idx1\", \"__idx2\"], axis=1, inplace=True)\n",
      "  File \"/home/skymap/anaconda3/envs/farm/lib/python3.6/site-packages/geopandas/tools/overlay.py\", line 319, in overlay\n",
      "    result = exploded.dissolve(by=\"level_0\")[key_order]\n",
      "  File \"/home/skymap/anaconda3/envs/farm/lib/python3.6/site-packages/geopandas/geodataframe.py\", line 289, in set_geometry\n",
      "    if isinstance(level, (GeoSeries, GeometryArray)) and level.crs != crs:\n",
      "  File \"/home/skymap/anaconda3/envs/farm/lib/python3.6/site-packages/geopandas/tools/overlay.py\", line 304, in overlay\n",
      "    exploded = exploded.reset_index(level=0)\n",
      "  File \"/home/skymap/anaconda3/envs/farm/lib/python3.6/multiprocessing/process.py\", line 258, in _bootstrap\n",
      "    self.run()\n",
      "  File \"/media/skymap/Learnning/ml_data/Anhht/mask_rcnn_preprocessing_master/step_6_crop_shape_file_by_image.py\", line 90, in crop_shape_pool\n",
      "    gdf_building_cliped = gp.overlay(gdf_building, gdf_box, how='intersection')\n",
      "  File \"/home/skymap/anaconda3/envs/farm/lib/python3.6/site-packages/pyproj/crs/crs.py\", line 907, in equals\n",
      "    return super().equals(other, ignore_axis_order=ignore_axis_order)\n",
      "\n",
      "During handling of the above exception, another exception occurred:\n",
      "\n",
      "  File \"/media/skymap/Learnning/ml_data/Anhht/mask_rcnn_preprocessing_master/step_6_crop_shape_file_by_image.py\", line 88, in crop_shape_pool\n",
      "    data_fame = pd.DataFrame(data_box, columns=['geometry','FID'])\n"
     ]
    },
    {
     "name": "stderr",
     "output_type": "stream",
     "text": [
      "KeyboardInterrupt\n",
      "  File \"rasterio/_base.pyx\", line 233, in rasterio._base.DatasetBase.__init__\n",
      "  File \"/home/skymap/anaconda3/envs/farm/lib/python3.6/site-packages/geopandas/tools/overlay.py\", line 292, in overlay\n",
      "    result = _overlay_intersection(df1, df2)\n",
      "  File \"/home/skymap/anaconda3/envs/farm/lib/python3.6/site-packages/pandas/core/frame.py\", line 4174, in drop\n",
      "    errors=errors,\n",
      "  File \"/home/skymap/anaconda3/envs/farm/lib/python3.6/site-packages/pyproj/crs/crs.py\", line 996, in __ne__\n",
      "    return not self == other\n",
      "  File \"/home/skymap/anaconda3/envs/farm/lib/python3.6/site-packages/geopandas/geodataframe.py\", line 1507, in dissolve\n",
      "    aggregated = aggregated_geometry.join(aggregated_data)\n",
      "  File \"/home/skymap/anaconda3/envs/farm/lib/python3.6/multiprocessing/process.py\", line 93, in run\n",
      "    self._target(*self._args, **self._kwargs)\n",
      "  File \"/home/skymap/anaconda3/envs/farm/lib/python3.6/site-packages/pandas/core/frame.py\", line 4774, in reset_index\n",
      "    new_obj = self.copy()\n",
      "  File \"/home/skymap/anaconda3/envs/farm/lib/python3.6/site-packages/geopandas/tools/overlay.py\", line 319, in overlay\n",
      "    result = exploded.dissolve(by=\"level_0\")[key_order]\n",
      "KeyboardInterrupt\n",
      "Traceback (most recent call last):\n",
      "  File \"/home/skymap/anaconda3/envs/farm/lib/python3.6/site-packages/pandas/core/frame.py\", line 521, in __init__\n",
      "    mgr = arrays_to_mgr(arrays, columns, index, columns, dtype=dtype)\n",
      "  File \"rasterio/_base.pyx\", line 250, in rasterio._base.DatasetBase._set_attrs_from_dataset_handle\n",
      "  File \"/home/skymap/anaconda3/envs/farm/lib/python3.6/site-packages/pandas/core/generic.py\", line 3889, in drop\n",
      "    obj = obj._drop_axis(labels, axis, level=level, errors=errors)\n",
      "  File \"/home/skymap/anaconda3/envs/farm/lib/python3.6/site-packages/geopandas/tools/overlay.py\", line 37, in _overlay_intersection\n",
      "    intersections = left.intersection(right)\n",
      "  File \"/home/skymap/anaconda3/envs/farm/lib/python3.6/site-packages/pandas/core/frame.py\", line 7875, in join\n",
      "    other, on=on, how=how, lsuffix=lsuffix, rsuffix=rsuffix, sort=sort\n",
      "  File \"/home/skymap/anaconda3/envs/farm/lib/python3.6/site-packages/pyproj/crs/crs.py\", line 993, in __eq__\n",
      "    return self.equals(other)\n",
      "  File \"/home/skymap/anaconda3/envs/farm/lib/python3.6/site-packages/pandas/core/generic.py\", line 5667, in copy\n",
      "    return self._constructor(data).__finalize__(self, method=\"copy\")\n",
      "  File \"/home/skymap/anaconda3/envs/farm/lib/python3.6/multiprocessing/pool.py\", line 119, in worker\n",
      "    result = (True, func(*args, **kwds))\n",
      "  File \"/home/skymap/anaconda3/envs/farm/lib/python3.6/site-packages/geopandas/geodataframe.py\", line 1299, in __getitem__\n",
      "    result = super(GeoDataFrame, self).__getitem__(key)\n",
      "  File \"rasterio/_base.pyx\", line 296, in rasterio._base.DatasetBase.read_crs\n",
      "  File \"/home/skymap/anaconda3/envs/farm/lib/python3.6/multiprocessing/process.py\", line 258, in _bootstrap\n",
      "    self.run()\n",
      "  File \"/home/skymap/anaconda3/envs/farm/lib/python3.6/site-packages/pandas/core/internals/construction.py\", line 83, in arrays_to_mgr\n",
      "    arrays = _homogenize(arrays, index, dtype)\n",
      "  File \"/home/skymap/anaconda3/envs/farm/lib/python3.6/site-packages/pandas/core/generic.py\", line 3924, in _drop_axis\n",
      "    result = self.reindex(**{axis_name: new_axis})\n",
      "  File \"/home/skymap/anaconda3/envs/farm/lib/python3.6/site-packages/geopandas/base.py\", line 2530, in intersection\n",
      "    return _binary_geo(\"intersection\", self, other, align)\n",
      "  File \"/home/skymap/anaconda3/envs/farm/lib/python3.6/site-packages/pandas/core/frame.py\", line 7898, in _join_compat\n",
      "    sort=sort,\n",
      "  File \"/home/skymap/anaconda3/envs/farm/lib/python3.6/site-packages/geopandas/geodataframe.py\", line 167, in __init__\n",
      "    self.set_geometry(geometry, inplace=True)\n",
      "  File \"/home/skymap/anaconda3/envs/farm/lib/python3.6/site-packages/pandas/core/frame.py\", line 2918, in __getitem__\n",
      "    data = self._take_with_is_copy(indexer, axis=1)\n",
      "  File \"/home/skymap/anaconda3/envs/farm/lib/python3.6/site-packages/pyproj/crs/crs.py\", line 907, in equals\n",
      "    return super().equals(other, ignore_axis_order=ignore_axis_order)\n",
      "  File \"/media/skymap/Learnning/ml_data/Anhht/mask_rcnn_preprocessing_master/step_6_crop_shape_file_by_image.py\", line 90, in crop_shape_pool\n",
      "    gdf_building_cliped = gp.overlay(gdf_building, gdf_box, how='intersection')\n",
      "  File \"rasterio/_base.pyx\", line 286, in rasterio._base.DatasetBase._handle_crswkt\n",
      "  File \"/home/skymap/anaconda3/envs/farm/lib/python3.6/multiprocessing/process.py\", line 93, in run\n",
      "    self._target(*self._args, **self._kwargs)\n",
      "  File \"/home/skymap/anaconda3/envs/farm/lib/python3.6/site-packages/pandas/util/_decorators.py\", line 309, in wrapper\n",
      "    return func(*args, **kwargs)\n",
      "  File \"/home/skymap/anaconda3/envs/farm/lib/python3.6/site-packages/pandas/core/internals/construction.py\", line 352, in _homogenize\n",
      "    val, index, dtype=dtype, copy=False, raise_cast_failure=False\n",
      "  File \"/home/skymap/anaconda3/envs/farm/lib/python3.6/site-packages/pandas/core/reshape/merge.py\", line 89, in merge\n",
      "    return op.get_result()\n",
      "  File \"/home/skymap/anaconda3/envs/farm/lib/python3.6/site-packages/geopandas/base.py\", line 53, in _binary_geo\n",
      "    geoms, index = _delegate_binary_method(op, this, other, align)\n",
      "  File \"/home/skymap/anaconda3/envs/farm/lib/python3.6/site-packages/geopandas/geodataframe.py\", line 289, in set_geometry\n",
      "    if isinstance(level, (GeoSeries, GeometryArray)) and level.crs != crs:\n",
      "  File \"/home/skymap/anaconda3/envs/farm/lib/python3.6/site-packages/pandas/core/generic.py\", line 3363, in _take_with_is_copy\n",
      "    result = self.take(indices=indices, axis=axis)\n",
      "KeyboardInterrupt\n",
      "  File \"/home/skymap/anaconda3/envs/farm/lib/python3.6/site-packages/geopandas/tools/overlay.py\", line 292, in overlay\n",
      "    result = _overlay_intersection(df1, df2)\n",
      "  File \"/home/skymap/anaconda3/envs/farm/lib/python3.6/multiprocessing/pool.py\", line 119, in worker\n",
      "    result = (True, func(*args, **kwds))\n",
      "  File \"/home/skymap/anaconda3/envs/farm/lib/python3.6/site-packages/rasterio/crs.py\", line 444, in from_wkt\n",
      "    @classmethod\n",
      "  File \"/home/skymap/anaconda3/envs/farm/lib/python3.6/site-packages/pyproj/crs/crs.py\", line 996, in __ne__\n",
      "    return not self == other\n",
      "  File \"/home/skymap/anaconda3/envs/farm/lib/python3.6/site-packages/pandas/core/reshape/merge.py\", line 685, in get_result\n",
      "    result = typ(result_data).__finalize__(self, method=self._merge_type)\n",
      "  File \"/home/skymap/anaconda3/envs/farm/lib/python3.6/site-packages/geopandas/base.py\", line 44, in _delegate_binary_method\n",
      "    data = getattr(a_this, op)(other, *args, **kwargs)\n",
      "  File \"/media/skymap/Learnning/ml_data/Anhht/mask_rcnn_preprocessing_master/step_6_crop_shape_file_by_image.py\", line 90, in crop_shape_pool\n",
      "    gdf_building_cliped = gp.overlay(gdf_building, gdf_box, how='intersection')\n",
      "  File \"/home/skymap/anaconda3/envs/farm/lib/python3.6/site-packages/geopandas/tools/overlay.py\", line 37, in _overlay_intersection\n",
      "    intersections = left.intersection(right)\n",
      "  File \"/home/skymap/anaconda3/envs/farm/lib/python3.6/site-packages/geopandas/geodataframe.py\", line 167, in __init__\n",
      "    self.set_geometry(geometry, inplace=True)\n",
      "KeyboardInterrupt\n",
      "  File \"/home/skymap/anaconda3/envs/farm/lib/python3.6/site-packages/geopandas/tools/overlay.py\", line 285, in overlay\n",
      "    df2 = _make_valid(df2)\n",
      "  File \"/home/skymap/anaconda3/envs/farm/lib/python3.6/site-packages/geopandas/geodataframe.py\", line 289, in set_geometry\n",
      "    if isinstance(level, (GeoSeries, GeometryArray)) and level.crs != crs:\n",
      "  File \"/home/skymap/anaconda3/envs/farm/lib/python3.6/site-packages/geopandas/tools/overlay.py\", line 270, in _make_valid\n",
      "    if df.geom_type.isin(polys).all():\n",
      "  File \"/home/skymap/anaconda3/envs/farm/lib/python3.6/site-packages/pandas/core/frame.py\", line 4036, in reindex\n",
      "    return super().reindex(**kwargs)\n",
      "  File \"/home/skymap/anaconda3/envs/farm/lib/python3.6/site-packages/pyproj/crs/crs.py\", line 996, in __ne__\n",
      "    return not self == other\n",
      "  File \"/home/skymap/anaconda3/envs/farm/lib/python3.6/site-packages/pandas/core/series.py\", line 4699, in isin\n",
      "    return self._constructor(result, index=self.index).__finalize__(\n",
      "  File \"/home/skymap/anaconda3/envs/farm/lib/python3.6/site-packages/pandas/core/generic.py\", line 4464, in reindex\n",
      "    axes, level, limit, tolerance, method, fill_value, copy\n"
     ]
    },
    {
     "name": "stderr",
     "output_type": "stream",
     "text": [
      "  File \"/home/skymap/anaconda3/envs/farm/lib/python3.6/site-packages/pyproj/crs/crs.py\", line 993, in __eq__\n",
      "    return self.equals(other)\n",
      "  File \"/home/skymap/anaconda3/envs/farm/lib/python3.6/site-packages/pyproj/crs/crs.py\", line 993, in __eq__\n",
      "    return self.equals(other)\n",
      "  File \"/home/skymap/anaconda3/envs/farm/lib/python3.6/site-packages/pandas/core/construction.py\", line 428, in sanitize_array\n",
      "    subarr = _try_cast(data, dtype, copy, raise_cast_failure)\n",
      "  File \"/home/skymap/anaconda3/envs/farm/lib/python3.6/site-packages/pandas/core/series.py\", line 332, in __init__\n",
      "    self.name = name\n",
      "  File \"/home/skymap/anaconda3/envs/farm/lib/python3.6/site-packages/pyproj/crs/crs.py\", line 907, in equals\n",
      "    return super().equals(other, ignore_axis_order=ignore_axis_order)\n",
      "  File \"/home/skymap/anaconda3/envs/farm/lib/python3.6/site-packages/pandas/core/construction.py\", line 539, in _try_cast\n",
      "    if maybe_castable(arr) and not copy and dtype is None:\n",
      "  File \"/home/skymap/anaconda3/envs/farm/lib/python3.6/site-packages/pandas/core/generic.py\", line 5153, in __setattr__\n",
      "    object.__getattribute__(self, name)\n",
      "KeyboardInterrupt\n",
      "KeyboardInterrupt\n",
      "  File \"/home/skymap/anaconda3/envs/farm/lib/python3.6/site-packages/pandas/core/dtypes/cast.py\", line 1193, in maybe_castable\n",
      "    if kind == \"M\":\n",
      "  File \"/home/skymap/anaconda3/envs/farm/lib/python3.6/site-packages/pandas/core/generic.py\", line 3353, in take\n",
      "    return self._constructor(new_data).__finalize__(self, method=\"take\")\n",
      "  File \"/home/skymap/anaconda3/envs/farm/lib/python3.6/site-packages/geopandas/array.py\", line 610, in intersection\n",
      "    self._binary_method(\"intersection\", self, other), crs=self.crs\n",
      "  File \"/home/skymap/anaconda3/envs/farm/lib/python3.6/site-packages/pandas/core/frame.py\", line 3877, in _reindex_axes\n",
      "    columns, method, copy, level, fill_value, limit, tolerance\n",
      "KeyboardInterrupt\n",
      "  File \"/home/skymap/anaconda3/envs/farm/lib/python3.6/site-packages/geopandas/array.py\", line 538, in _binary_method\n",
      "    if not _check_crs(left, right):\n",
      "  File \"/home/skymap/anaconda3/envs/farm/lib/python3.6/site-packages/geopandas/base.py\", line 2530, in intersection\n",
      "    return _binary_geo(\"intersection\", self, other, align)\n",
      "  File \"/home/skymap/anaconda3/envs/farm/lib/python3.6/site-packages/pyproj/crs/crs.py\", line 907, in equals\n",
      "    return super().equals(other, ignore_axis_order=ignore_axis_order)\n",
      "  File \"/home/skymap/anaconda3/envs/farm/lib/python3.6/site-packages/pandas/core/frame.py\", line 3925, in _reindex_columns\n",
      "    allow_dups=False,\n",
      "  File \"/home/skymap/anaconda3/envs/farm/lib/python3.6/site-packages/geopandas/geodataframe.py\", line 167, in __init__\n",
      "    self.set_geometry(geometry, inplace=True)\n",
      "  File \"/home/skymap/anaconda3/envs/farm/lib/python3.6/site-packages/geopandas/base.py\", line 53, in _binary_geo\n",
      "    geoms, index = _delegate_binary_method(op, this, other, align)\n",
      "  File \"/home/skymap/anaconda3/envs/farm/lib/python3.6/site-packages/geopandas/array.py\", line 85, in _check_crs\n",
      "    if not left.crs == right.crs:\n",
      "  File \"/home/skymap/anaconda3/envs/farm/lib/python3.6/site-packages/pandas/core/generic.py\", line 4540, in _reindex_with_indexers\n",
      "    return self._constructor(new_data).__finalize__(self)\n",
      "KeyboardInterrupt\n",
      "  File \"/home/skymap/anaconda3/envs/farm/lib/python3.6/site-packages/geopandas/geodataframe.py\", line 289, in set_geometry\n",
      "    if isinstance(level, (GeoSeries, GeometryArray)) and level.crs != crs:\n",
      "  File \"/home/skymap/anaconda3/envs/farm/lib/python3.6/site-packages/pyproj/crs/crs.py\", line 993, in __eq__\n",
      "    return self.equals(other)\n",
      "  File \"/home/skymap/anaconda3/envs/farm/lib/python3.6/site-packages/geopandas/base.py\", line 44, in _delegate_binary_method\n",
      "    data = getattr(a_this, op)(other, *args, **kwargs)\n",
      "  File \"/home/skymap/anaconda3/envs/farm/lib/python3.6/site-packages/geopandas/geodataframe.py\", line 167, in __init__\n",
      "    self.set_geometry(geometry, inplace=True)\n",
      "  File \"/home/skymap/anaconda3/envs/farm/lib/python3.6/site-packages/pyproj/crs/crs.py\", line 996, in __ne__\n",
      "    return not self == other\n",
      "  File \"/home/skymap/anaconda3/envs/farm/lib/python3.6/site-packages/pyproj/crs/crs.py\", line 907, in equals\n",
      "    return super().equals(other, ignore_axis_order=ignore_axis_order)\n",
      "  File \"/home/skymap/anaconda3/envs/farm/lib/python3.6/site-packages/geopandas/geodataframe.py\", line 289, in set_geometry\n",
      "    if isinstance(level, (GeoSeries, GeometryArray)) and level.crs != crs:\n",
      "  File \"/home/skymap/anaconda3/envs/farm/lib/python3.6/site-packages/geopandas/array.py\", line 610, in intersection\n",
      "    self._binary_method(\"intersection\", self, other), crs=self.crs\n",
      "  File \"/home/skymap/anaconda3/envs/farm/lib/python3.6/site-packages/pyproj/crs/crs.py\", line 993, in __eq__\n",
      "    return self.equals(other)\n",
      "  File \"/home/skymap/anaconda3/envs/farm/lib/python3.6/site-packages/pyproj/crs/crs.py\", line 996, in __ne__\n",
      "    return not self == other\n",
      "  File \"/home/skymap/anaconda3/envs/farm/lib/python3.6/site-packages/pyproj/crs/crs.py\", line 907, in equals\n",
      "    return super().equals(other, ignore_axis_order=ignore_axis_order)\n",
      "KeyboardInterrupt\n",
      "  File \"/home/skymap/anaconda3/envs/farm/lib/python3.6/site-packages/geopandas/array.py\", line 538, in _binary_method\n",
      "    if not _check_crs(left, right):\n",
      "  File \"/home/skymap/anaconda3/envs/farm/lib/python3.6/site-packages/pyproj/crs/crs.py\", line 993, in __eq__\n",
      "    return self.equals(other)\n",
      "KeyboardInterrupt\n",
      "  File \"/home/skymap/anaconda3/envs/farm/lib/python3.6/site-packages/geopandas/array.py\", line 85, in _check_crs\n",
      "    if not left.crs == right.crs:\n",
      "  File \"/home/skymap/anaconda3/envs/farm/lib/python3.6/site-packages/pyproj/crs/crs.py\", line 907, in equals\n",
      "    return super().equals(other, ignore_axis_order=ignore_axis_order)\n",
      "  File \"/home/skymap/anaconda3/envs/farm/lib/python3.6/site-packages/pyproj/crs/crs.py\", line 993, in __eq__\n",
      "    return self.equals(other)\n",
      "KeyboardInterrupt\n",
      "  File \"/home/skymap/anaconda3/envs/farm/lib/python3.6/site-packages/pyproj/crs/crs.py\", line 907, in equals\n",
      "    return super().equals(other, ignore_axis_order=ignore_axis_order)\n",
      "KeyboardInterrupt\n"
     ]
    },
    {
     "ename": "KeyboardInterrupt",
     "evalue": "",
     "output_type": "error",
     "traceback": [
      "\u001b[0;31m---------------------------------------------------------------------------\u001b[0m",
      "\u001b[0;31mIndexError\u001b[0m                                Traceback (most recent call last)",
      "\u001b[0;32m~/anaconda3/envs/farm/lib/python3.6/multiprocessing/pool.py\u001b[0m in \u001b[0;36mnext\u001b[0;34m(self, timeout)\u001b[0m\n\u001b[1;32m    719\u001b[0m             \u001b[0;32mtry\u001b[0m\u001b[0;34m:\u001b[0m\u001b[0;34m\u001b[0m\u001b[0;34m\u001b[0m\u001b[0m\n\u001b[0;32m--> 720\u001b[0;31m                 \u001b[0mitem\u001b[0m \u001b[0;34m=\u001b[0m \u001b[0mself\u001b[0m\u001b[0;34m.\u001b[0m\u001b[0m_items\u001b[0m\u001b[0;34m.\u001b[0m\u001b[0mpopleft\u001b[0m\u001b[0;34m(\u001b[0m\u001b[0;34m)\u001b[0m\u001b[0;34m\u001b[0m\u001b[0;34m\u001b[0m\u001b[0m\n\u001b[0m\u001b[1;32m    721\u001b[0m             \u001b[0;32mexcept\u001b[0m \u001b[0mIndexError\u001b[0m\u001b[0;34m:\u001b[0m\u001b[0;34m\u001b[0m\u001b[0;34m\u001b[0m\u001b[0m\n",
      "\u001b[0;31mIndexError\u001b[0m: pop from an empty deque",
      "\nDuring handling of the above exception, another exception occurred:\n",
      "\u001b[0;31mKeyboardInterrupt\u001b[0m                         Traceback (most recent call last)",
      "\u001b[0;32m<ipython-input-10-5333214cd150>\u001b[0m in \u001b[0;36m<module>\u001b[0;34m\u001b[0m\n\u001b[0;32m----> 1\u001b[0;31m \u001b[0mcrop_shape_train\u001b[0m \u001b[0;34m=\u001b[0m \u001b[0mmain_crop_shape\u001b[0m\u001b[0;34m(\u001b[0m\u001b[0mpath_train\u001b[0m\u001b[0;34m,\u001b[0m\u001b[0mlabel_out_dir\u001b[0m\u001b[0;34m)\u001b[0m\u001b[0;34m\u001b[0m\u001b[0;34m\u001b[0m\u001b[0m\n\u001b[0m",
      "\u001b[0;32m/media/skymap/Learnning/ml_data/Anhht/mask_rcnn_preprocessing_master/step_6_crop_shape_file_by_image.py\u001b[0m in \u001b[0;36mmain_crop_shape\u001b[0;34m(foder_image, shape_dir)\u001b[0m\n\u001b[1;32m    125\u001b[0m     \u001b[0mlist_shape\u001b[0m \u001b[0;34m=\u001b[0m \u001b[0mcreate_list_id_shape\u001b[0m\u001b[0;34m(\u001b[0m\u001b[0mshape_dir\u001b[0m\u001b[0;34m)\u001b[0m\u001b[0;34m\u001b[0m\u001b[0;34m\u001b[0m\u001b[0m\n\u001b[1;32m    126\u001b[0m     \u001b[0;32mfor\u001b[0m \u001b[0mshape_name\u001b[0m \u001b[0;32min\u001b[0m \u001b[0mlist_shape\u001b[0m\u001b[0;34m:\u001b[0m\u001b[0;34m\u001b[0m\u001b[0;34m\u001b[0m\u001b[0m\n\u001b[0;32m--> 127\u001b[0;31m         \u001b[0mcrop_shape2\u001b[0m\u001b[0;34m(\u001b[0m\u001b[0mfoder_image\u001b[0m\u001b[0;34m,\u001b[0m\u001b[0mshape_name\u001b[0m\u001b[0;34m,\u001b[0m\u001b[0mshape_dir\u001b[0m\u001b[0;34m)\u001b[0m\u001b[0;34m\u001b[0m\u001b[0;34m\u001b[0m\u001b[0m\n\u001b[0m\u001b[1;32m    128\u001b[0m     \u001b[0mprint\u001b[0m\u001b[0;34m(\u001b[0m\u001b[0mtime\u001b[0m\u001b[0;34m.\u001b[0m\u001b[0mtime\u001b[0m\u001b[0;34m(\u001b[0m\u001b[0;34m)\u001b[0m \u001b[0;34m-\u001b[0m \u001b[0mx1\u001b[0m\u001b[0;34m,\u001b[0m \u001b[0;34m\"second\"\u001b[0m\u001b[0;34m)\u001b[0m\u001b[0;34m\u001b[0m\u001b[0;34m\u001b[0m\u001b[0m\n\u001b[1;32m    129\u001b[0m     \u001b[0mfoder_name\u001b[0m \u001b[0;34m=\u001b[0m \u001b[0mos\u001b[0m\u001b[0;34m.\u001b[0m\u001b[0mpath\u001b[0m\u001b[0;34m.\u001b[0m\u001b[0mbasename\u001b[0m\u001b[0;34m(\u001b[0m\u001b[0mfoder_image\u001b[0m\u001b[0;34m)\u001b[0m\u001b[0;34m\u001b[0m\u001b[0;34m\u001b[0m\u001b[0m\n",
      "\u001b[0;32m/media/skymap/Learnning/ml_data/Anhht/mask_rcnn_preprocessing_master/step_6_crop_shape_file_by_image.py\u001b[0m in \u001b[0;36mcrop_shape2\u001b[0;34m(foder_image, shape_name, shape_dir)\u001b[0m\n\u001b[1;32m    116\u001b[0m     \u001b[0mpool_result\u001b[0m \u001b[0;34m=\u001b[0m \u001b[0mp_cropshape\u001b[0m\u001b[0;34m.\u001b[0m\u001b[0mimap_unordered\u001b[0m\u001b[0;34m(\u001b[0m\u001b[0mpartial\u001b[0m\u001b[0;34m(\u001b[0m\u001b[0mcrop_shape_pool\u001b[0m\u001b[0;34m,\u001b[0m\u001b[0mgdf_building\u001b[0m\u001b[0;34m=\u001b[0m\u001b[0mgdf_building\u001b[0m\u001b[0;34m,\u001b[0m\u001b[0mpath_shape_crop\u001b[0m\u001b[0;34m=\u001b[0m\u001b[0mpath_shape_crop\u001b[0m\u001b[0;34m,\u001b[0m\u001b[0mfoder_image\u001b[0m\u001b[0;34m=\u001b[0m\u001b[0mfoder_image\u001b[0m\u001b[0;34m)\u001b[0m\u001b[0;34m,\u001b[0m \u001b[0mlist_id\u001b[0m\u001b[0;34m)\u001b[0m\u001b[0;34m\u001b[0m\u001b[0;34m\u001b[0m\u001b[0m\n\u001b[1;32m    117\u001b[0m \u001b[0;31m#     with tqdm(total=len(list_id)) as pbar:\u001b[0m\u001b[0;34m\u001b[0m\u001b[0;34m\u001b[0m\u001b[0;34m\u001b[0m\u001b[0m\n\u001b[0;32m--> 118\u001b[0;31m     \u001b[0;32mfor\u001b[0m \u001b[0mi\u001b[0m\u001b[0;34m,\u001b[0m\u001b[0m_\u001b[0m \u001b[0;32min\u001b[0m \u001b[0mtqdm\u001b[0m\u001b[0;34m(\u001b[0m\u001b[0menumerate\u001b[0m\u001b[0;34m(\u001b[0m\u001b[0mpool_result\u001b[0m\u001b[0;34m)\u001b[0m\u001b[0;34m)\u001b[0m\u001b[0;34m:\u001b[0m\u001b[0;34m\u001b[0m\u001b[0;34m\u001b[0m\u001b[0m\n\u001b[0m\u001b[1;32m    119\u001b[0m         \u001b[0;32mpass\u001b[0m\u001b[0;34m\u001b[0m\u001b[0;34m\u001b[0m\u001b[0m\n\u001b[1;32m    120\u001b[0m \u001b[0;31m#             pbar.update()\u001b[0m\u001b[0;34m\u001b[0m\u001b[0;34m\u001b[0m\u001b[0;34m\u001b[0m\u001b[0m\n",
      "\u001b[0;32m~/anaconda3/envs/farm/lib/python3.6/site-packages/tqdm/std.py\u001b[0m in \u001b[0;36m__iter__\u001b[0;34m(self)\u001b[0m\n\u001b[1;32m   1183\u001b[0m \u001b[0;34m\u001b[0m\u001b[0m\n\u001b[1;32m   1184\u001b[0m         \u001b[0;32mtry\u001b[0m\u001b[0;34m:\u001b[0m\u001b[0;34m\u001b[0m\u001b[0;34m\u001b[0m\u001b[0m\n\u001b[0;32m-> 1185\u001b[0;31m             \u001b[0;32mfor\u001b[0m \u001b[0mobj\u001b[0m \u001b[0;32min\u001b[0m \u001b[0miterable\u001b[0m\u001b[0;34m:\u001b[0m\u001b[0;34m\u001b[0m\u001b[0;34m\u001b[0m\u001b[0m\n\u001b[0m\u001b[1;32m   1186\u001b[0m                 \u001b[0;32myield\u001b[0m \u001b[0mobj\u001b[0m\u001b[0;34m\u001b[0m\u001b[0;34m\u001b[0m\u001b[0m\n\u001b[1;32m   1187\u001b[0m                 \u001b[0;31m# Update and possibly print the progressbar.\u001b[0m\u001b[0;34m\u001b[0m\u001b[0;34m\u001b[0m\u001b[0;34m\u001b[0m\u001b[0m\n",
      "\u001b[0;32m~/anaconda3/envs/farm/lib/python3.6/multiprocessing/pool.py\u001b[0m in \u001b[0;36mnext\u001b[0;34m(self, timeout)\u001b[0m\n\u001b[1;32m    722\u001b[0m                 \u001b[0;32mif\u001b[0m \u001b[0mself\u001b[0m\u001b[0;34m.\u001b[0m\u001b[0m_index\u001b[0m \u001b[0;34m==\u001b[0m \u001b[0mself\u001b[0m\u001b[0;34m.\u001b[0m\u001b[0m_length\u001b[0m\u001b[0;34m:\u001b[0m\u001b[0;34m\u001b[0m\u001b[0;34m\u001b[0m\u001b[0m\n\u001b[1;32m    723\u001b[0m                     \u001b[0;32mraise\u001b[0m \u001b[0mStopIteration\u001b[0m\u001b[0;34m\u001b[0m\u001b[0;34m\u001b[0m\u001b[0m\n\u001b[0;32m--> 724\u001b[0;31m                 \u001b[0mself\u001b[0m\u001b[0;34m.\u001b[0m\u001b[0m_cond\u001b[0m\u001b[0;34m.\u001b[0m\u001b[0mwait\u001b[0m\u001b[0;34m(\u001b[0m\u001b[0mtimeout\u001b[0m\u001b[0;34m)\u001b[0m\u001b[0;34m\u001b[0m\u001b[0;34m\u001b[0m\u001b[0m\n\u001b[0m\u001b[1;32m    725\u001b[0m                 \u001b[0;32mtry\u001b[0m\u001b[0;34m:\u001b[0m\u001b[0;34m\u001b[0m\u001b[0;34m\u001b[0m\u001b[0m\n\u001b[1;32m    726\u001b[0m                     \u001b[0mitem\u001b[0m \u001b[0;34m=\u001b[0m \u001b[0mself\u001b[0m\u001b[0;34m.\u001b[0m\u001b[0m_items\u001b[0m\u001b[0;34m.\u001b[0m\u001b[0mpopleft\u001b[0m\u001b[0;34m(\u001b[0m\u001b[0;34m)\u001b[0m\u001b[0;34m\u001b[0m\u001b[0;34m\u001b[0m\u001b[0m\n",
      "\u001b[0;32m~/anaconda3/envs/farm/lib/python3.6/threading.py\u001b[0m in \u001b[0;36mwait\u001b[0;34m(self, timeout)\u001b[0m\n\u001b[1;32m    293\u001b[0m         \u001b[0;32mtry\u001b[0m\u001b[0;34m:\u001b[0m    \u001b[0;31m# restore state no matter what (e.g., KeyboardInterrupt)\u001b[0m\u001b[0;34m\u001b[0m\u001b[0;34m\u001b[0m\u001b[0m\n\u001b[1;32m    294\u001b[0m             \u001b[0;32mif\u001b[0m \u001b[0mtimeout\u001b[0m \u001b[0;32mis\u001b[0m \u001b[0;32mNone\u001b[0m\u001b[0;34m:\u001b[0m\u001b[0;34m\u001b[0m\u001b[0;34m\u001b[0m\u001b[0m\n\u001b[0;32m--> 295\u001b[0;31m                 \u001b[0mwaiter\u001b[0m\u001b[0;34m.\u001b[0m\u001b[0macquire\u001b[0m\u001b[0;34m(\u001b[0m\u001b[0;34m)\u001b[0m\u001b[0;34m\u001b[0m\u001b[0;34m\u001b[0m\u001b[0m\n\u001b[0m\u001b[1;32m    296\u001b[0m                 \u001b[0mgotit\u001b[0m \u001b[0;34m=\u001b[0m \u001b[0;32mTrue\u001b[0m\u001b[0;34m\u001b[0m\u001b[0;34m\u001b[0m\u001b[0m\n\u001b[1;32m    297\u001b[0m             \u001b[0;32melse\u001b[0m\u001b[0;34m:\u001b[0m\u001b[0;34m\u001b[0m\u001b[0;34m\u001b[0m\u001b[0m\n",
      "\u001b[0;31mKeyboardInterrupt\u001b[0m: "
     ]
    },
    {
     "name": "stderr",
     "output_type": "stream",
     "text": [
      "/media/skymap/Learnning/ml_data/Anhht/mask_rcnn_preprocessing_master/step_6_crop_shape_file_by_image.py:26: FutureWarning: Assigning CRS to a GeoDataFrame without a geometry column is now deprecated and will not be supported in the future.\n",
      "  df = pd.concat([gp.GeoDataFrame(row, crs=gpdf_multipoly.crs).T]*len(Series_geometries), ignore_index=True)\n"
     ]
    }
   ],
   "source": [
    "crop_shape_train = main_crop_shape(path_train,label_out_dir)"
   ]
  },
  {
   "cell_type": "code",
   "execution_count": null,
   "metadata": {
    "scrolled": true
   },
   "outputs": [
    {
     "name": "stdout",
     "output_type": "stream",
     "text": [
      "/media/skymap/Data/Building_master_data/label_std/1030010084311900-visual.shp\n"
     ]
    },
    {
     "name": "stderr",
     "output_type": "stream",
     "text": [
      "  0%|          | 0/98 [00:00<?, ?it/s]\n",
      "  1%|          | 1/98 [00:01<02:21,  1.46s/it]\n",
      "  2%|▏         | 2/98 [00:01<01:10,  1.37it/s]\n",
      "  9%|▉         | 9/98 [00:01<00:10,  8.43it/s]\n",
      " 14%|█▍        | 14/98 [00:01<00:06, 13.60it/s]\n",
      " 23%|██▎       | 23/98 [00:02<00:03, 24.60it/s]\n",
      " 30%|██▉       | 29/98 [00:03<00:06, 11.18it/s]\n",
      " 34%|███▎      | 33/98 [00:03<00:04, 13.16it/s]\n",
      " 38%|███▊      | 37/98 [00:03<00:03, 15.55it/s]\n",
      " 43%|████▎     | 42/98 [00:03<00:02, 19.14it/s]\n",
      " 48%|████▊     | 47/98 [00:03<00:02, 22.43it/s]\n",
      " 52%|█████▏    | 51/98 [00:04<00:04, 11.11it/s]\n",
      " 55%|█████▌    | 54/98 [00:04<00:03, 12.01it/s]\n",
      " 60%|██████    | 59/98 [00:04<00:02, 15.95it/s]\n",
      " 65%|██████▌   | 64/98 [00:04<00:01, 20.49it/s]\n",
      " 69%|██████▉   | 68/98 [00:05<00:02, 12.54it/s]\n",
      " 72%|███████▏  | 71/98 [00:05<00:02, 12.47it/s]\n",
      " 76%|███████▌  | 74/98 [00:06<00:03,  7.95it/s]\n",
      " 79%|███████▊  | 77/98 [00:06<00:02,  9.71it/s]\n",
      " 84%|████████▎ | 82/98 [00:06<00:01, 13.84it/s]\n",
      " 94%|█████████▍| 92/98 [00:06<00:00, 24.98it/s]\n",
      " 99%|█████████▉| 97/98 [00:07<00:00, 26.27it/s]\n",
      "98it [00:07, 13.75it/s]\u001b[A\n",
      "100%|██████████| 98/98 [00:07<00:00, 13.74it/s]\n"
     ]
    },
    {
     "name": "stdout",
     "output_type": "stream",
     "text": [
      "/media/skymap/Data/Building_master_data/label_std/10300100A86F9700-visual.shp\n",
      "1\n"
     ]
    },
    {
     "name": "stderr",
     "output_type": "stream",
     "text": [
      "  0%|          | 0/281 [00:00<?, ?it/s]\n",
      "  0%|          | 1/281 [00:04<19:33,  4.19s/it]\n",
      "  1%|▏         | 4/281 [00:04<03:48,  1.21it/s]\n",
      "  2%|▏         | 7/281 [00:04<01:51,  2.46it/s]\n",
      "  3%|▎         | 9/281 [00:04<01:24,  3.23it/s]\n",
      "  5%|▍         | 13/281 [00:04<00:45,  5.85it/s]\n",
      "  6%|▌         | 16/281 [00:04<00:33,  7.98it/s]\n",
      "  7%|▋         | 21/281 [00:05<00:21, 12.14it/s]\n",
      "  9%|▉         | 25/281 [00:08<01:28,  2.89it/s]\n",
      " 10%|▉         | 28/281 [00:08<01:08,  3.70it/s]\n",
      " 11%|█         | 31/281 [00:08<00:51,  4.83it/s]\n",
      " 12%|█▏        | 33/281 [00:08<00:44,  5.63it/s]\n",
      " 12%|█▏        | 35/281 [00:09<00:37,  6.65it/s]\n",
      " 14%|█▎        | 38/281 [00:09<00:28,  8.47it/s]\n",
      " 14%|█▍        | 40/281 [00:09<00:29,  8.20it/s]\n",
      " 15%|█▌        | 43/281 [00:09<00:23, 10.02it/s]\n",
      " 17%|█▋        | 49/281 [00:12<01:12,  3.20it/s]\n",
      " 18%|█▊        | 51/281 [00:12<01:00,  3.78it/s]\n",
      " 19%|█▉        | 54/281 [00:13<00:44,  5.06it/s]\n",
      " 20%|█▉        | 56/281 [00:13<00:38,  5.77it/s]\n",
      " 21%|██        | 59/281 [00:13<00:30,  7.35it/s]\n",
      " 22%|██▏       | 61/281 [00:13<00:27,  7.95it/s]\n",
      " 22%|██▏       | 63/281 [00:13<00:25,  8.53it/s]\n",
      " 23%|██▎       | 66/281 [00:13<00:19, 10.85it/s]\n",
      " 24%|██▍       | 68/281 [00:14<00:17, 11.92it/s]\n",
      " 25%|██▌       | 71/281 [00:14<00:17, 12.01it/s]\n",
      " 26%|██▌       | 73/281 [00:17<01:27,  2.37it/s]\n",
      " 27%|██▋       | 75/281 [00:17<01:10,  2.92it/s]\n",
      " 28%|██▊       | 78/281 [00:17<00:48,  4.16it/s]\n",
      " 29%|██▉       | 81/281 [00:17<00:34,  5.74it/s]\n",
      " 30%|██▉       | 83/281 [00:17<00:30,  6.57it/s]\n",
      " 30%|███       | 85/281 [00:18<00:28,  7.00it/s]\n",
      " 31%|███       | 87/281 [00:18<00:23,  8.10it/s]\n",
      " 33%|███▎      | 92/281 [00:18<00:15, 11.94it/s]\n",
      " 34%|███▍      | 95/281 [00:18<00:15, 12.15it/s]\n",
      " 35%|███▍      | 97/281 [00:21<01:15,  2.45it/s]\n",
      " 35%|███▌      | 99/281 [00:22<01:00,  2.99it/s]\n",
      " 36%|███▌      | 101/281 [00:22<00:51,  3.47it/s]\n",
      " 36%|███▋      | 102/281 [00:23<01:16,  2.33it/s]\n",
      " 37%|███▋      | 104/281 [00:23<00:58,  3.03it/s]\n",
      " 37%|███▋      | 105/281 [00:23<00:51,  3.42it/s]\n",
      " 38%|███▊      | 106/281 [00:24<00:45,  3.81it/s]\n",
      " 38%|███▊      | 107/281 [00:24<00:39,  4.39it/s]\n",
      " 39%|███▉      | 109/281 [00:24<00:29,  5.92it/s]\n",
      " 40%|███▉      | 111/281 [00:24<00:22,  7.51it/s]\n",
      " 41%|████      | 114/281 [00:24<00:15, 10.81it/s]\n",
      " 41%|████▏     | 116/281 [00:24<00:15, 10.52it/s]\n",
      " 42%|████▏     | 119/281 [00:24<00:12, 12.49it/s]\n",
      " 43%|████▎     | 121/281 [00:27<01:06,  2.41it/s]\n",
      " 44%|████▍     | 123/281 [00:27<00:49,  3.16it/s]\n",
      " 44%|████▍     | 125/281 [00:27<00:37,  4.11it/s]\n",
      " 45%|████▌     | 127/281 [00:27<00:29,  5.20it/s]\n",
      " 46%|████▌     | 129/281 [00:28<00:24,  6.10it/s]\n",
      " 47%|████▋     | 131/281 [00:28<00:22,  6.67it/s]\n",
      " 47%|████▋     | 133/281 [00:28<00:19,  7.50it/s]\n",
      " 48%|████▊     | 136/281 [00:28<00:15,  9.65it/s]\n",
      " 49%|████▉     | 138/281 [00:28<00:13, 10.29it/s]\n",
      " 50%|████▉     | 140/281 [00:29<00:12, 10.96it/s]\n",
      " 51%|█████     | 143/281 [00:29<00:11, 12.27it/s]\n",
      " 52%|█████▏    | 145/281 [00:31<00:51,  2.64it/s]\n",
      " 52%|█████▏    | 146/281 [00:31<00:47,  2.83it/s]\n",
      " 53%|█████▎    | 148/281 [00:32<00:35,  3.73it/s]\n",
      " 54%|█████▎    | 151/281 [00:32<00:23,  5.62it/s]\n",
      " 54%|█████▍    | 153/281 [00:32<00:21,  5.96it/s]\n",
      " 55%|█████▌    | 155/281 [00:32<00:18,  6.90it/s]\n",
      " 56%|█████▌    | 157/281 [00:32<00:17,  7.26it/s]\n",
      " 57%|█████▋    | 159/281 [00:32<00:13,  8.72it/s]\n",
      " 58%|█████▊    | 162/281 [00:33<00:11, 10.66it/s]\n",
      " 58%|█████▊    | 164/281 [00:33<00:11, 10.56it/s]\n",
      " 59%|█████▉    | 167/281 [00:33<00:09, 11.64it/s]\n",
      " 60%|██████    | 169/281 [00:35<00:41,  2.70it/s]\n",
      " 60%|██████    | 170/281 [00:36<00:36,  3.02it/s]\n",
      " 61%|██████    | 171/281 [00:36<00:32,  3.40it/s]\n",
      " 61%|██████    | 172/281 [00:36<00:29,  3.66it/s]\n",
      " 63%|██████▎   | 176/281 [00:36<00:16,  6.19it/s]\n",
      " 63%|██████▎   | 178/281 [00:36<00:14,  7.32it/s]\n",
      " 64%|██████▍   | 180/281 [00:36<00:12,  8.06it/s]\n",
      " 65%|██████▍   | 182/281 [00:37<00:10,  9.30it/s]\n",
      " 65%|██████▌   | 184/281 [00:37<00:09, 10.46it/s]\n",
      " 67%|██████▋   | 187/281 [00:37<00:06, 13.68it/s]\n",
      "187it [00:37, 13.67it/s]\u001b[A"
     ]
    }
   ],
   "source": [
    "crop_shape_val = main_crop_shape(path_val,label_out_dir)"
   ]
  },
  {
   "cell_type": "code",
   "execution_count": null,
   "metadata": {},
   "outputs": [],
   "source": [
    "main_gen_anotation(path_train,crop_shape_train)"
   ]
  },
  {
   "cell_type": "code",
   "execution_count": null,
   "metadata": {},
   "outputs": [],
   "source": [
    "main_gen_anotation(path_val,crop_shape_val)"
   ]
  }
 ],
 "metadata": {
  "kernelspec": {
   "display_name": "geoai",
   "language": "python",
   "name": "python3"
  },
  "language_info": {
   "codemirror_mode": {
    "name": "ipython",
    "version": 3
   },
   "file_extension": ".py",
   "mimetype": "text/x-python",
   "name": "python",
   "nbconvert_exporter": "python",
   "pygments_lexer": "ipython3",
   "version": "3.6.13"
  },
  "vscode": {
   "interpreter": {
    "hash": "a0706b2652319f4299557dc730e30df65bf3afb5ea519b1729b640d2078f2f98"
   }
  }
 },
 "nbformat": 4,
 "nbformat_minor": 4
}
