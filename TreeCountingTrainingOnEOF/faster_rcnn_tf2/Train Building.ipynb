{
 "cells": [
  {
   "cell_type": "code",
   "execution_count": 1,
   "metadata": {},
   "outputs": [
    {
     "name": "stderr",
     "output_type": "stream",
     "text": [
      "2022-05-19 10:12:42.319601: I tensorflow/stream_executor/platform/default/dso_loader.cc:49] Successfully opened dynamic library libcudart.so.10.1\n"
     ]
    }
   ],
   "source": [
    "import os\n",
    "import sys\n",
    "import time\n",
    "import numpy as np\n",
    "\n",
    "# Download and install the Python COCO tools from https://github.com/waleedka/coco\n",
    "# That's a fork from the original https://github.com/pdollar/coco with a bug\n",
    "# fix for Python 3.\n",
    "# I submitted a pull request https://github.com/cocodataset/cocoapi/pull/50\n",
    "# If the PR is merged then use the original repo.\n",
    "\n",
    "# Note: Edit PythonAPI/Makefile and replace \"python\" with \"python3\".\n",
    "#  \n",
    "# A quick one liner to install the library \n",
    "# !pip install git+https://github.com/waleedka/coco.git#subdirectory=PythonAPI\n",
    "# import keras.backend as K\n",
    "# K.clear_session()\n",
    "# from pycocotools.fakecocoformydata import COCO\n",
    "import urllib.request\n",
    "import shutil\n",
    "from mrcnn.dataset import TreeCountingDataset"
   ]
  },
  {
   "cell_type": "code",
   "execution_count": 2,
   "metadata": {},
   "outputs": [],
   "source": [
    "ROOT_DIR = os.getcwd()\n",
    "\n",
    "# Import Mask RCNN\n",
    "sys.path.append(ROOT_DIR)  # To find local version of the library\n",
    "from mrcnn.config import Config"
   ]
  },
  {
   "cell_type": "code",
   "execution_count": 3,
   "metadata": {},
   "outputs": [],
   "source": [
    "import imgaug as ia\n",
    "from imgaug import augmenters as iaa\n",
    "import argparse"
   ]
  },
  {
   "cell_type": "code",
   "execution_count": 4,
   "metadata": {},
   "outputs": [],
   "source": [
    "ia.seed(1)\n",
    "\n",
    "# Example batch of images.\n",
    "# The array has shape (32, 64, 64, 3) and dtype uint8.\n",
    "seq = iaa.Sometimes(0.5,iaa.Sequential([\n",
    "    iaa.Fliplr(0.5),\n",
    "    #Flip/mirror input images horizontally# horizontal flips\n",
    "    iaa.Flipud(0.5),\n",
    "    #Flip/mirror input images vertically.\n",
    "    iaa.Multiply((0.8, 1.2), per_channel=0.5),\n",
    "    # Multiply all pixels in an image with a specific value, thereby making the image darker or brighter.\n",
    "    # Multiply 50% of all images with a random value between 0.5 and 1.5 \n",
    "    # and multiply the remaining 50% channel-wise, i.e. sample one multiplier independently per channel\n",
    "    iaa.Affine(\n",
    "       scale={\"x\": (0.8, 1.2), \"y\": (0.8, 1.2)},\n",
    "        #Scale images to a value of 80 to 120% \n",
    "        # of their original size, but do this independently per axis (i.e. sample two values per image)\n",
    "            translate_percent={\"x\": (-0.1, 0.1), \"y\": (-0.1, 0.1)},\n",
    "        # Translate images by -10 to +10% on x- and y-axis independently\n",
    "            rotate=(-90, 90),\n",
    "        # Rotate images by -90 to 90 degrees\n",
    "#             shear=(-15, 15),\n",
    "#             cval=(0, 255),\n",
    "#             mode=ia.ALL\n",
    "    )\n",
    "]))\n"
   ]
  },
  {
   "cell_type": "code",
   "execution_count": 5,
   "metadata": {},
   "outputs": [],
   "source": [
    "model_size=256\n",
    "stage_1=180\n",
    "stage_2=250\n",
    "stage_3=600\n",
    "max_gt_instances=20\n",
    "roi_positive_ratio=0.33\n",
    "from mrcnn import model as modellib, utils"
   ]
  },
  {
   "cell_type": "code",
   "execution_count": 6,
   "metadata": {},
   "outputs": [],
   "source": [
    "model_name = \"master_model\"\n",
    "train_step = 500\n",
    "val_step = 100\n",
    "roi_positive_ratio=0.66\n",
    "rpn_nms_th=0.7\n",
    "max_gt_instances = 30"
   ]
  },
  {
   "cell_type": "code",
   "execution_count": 7,
   "metadata": {},
   "outputs": [],
   "source": [
    "class MappingChallengeConfig(Config):\n",
    "    \"\"\"Configuration for training on data in MS COCO format.\n",
    "    Derives from the base Config class and overrides values specific\n",
    "    to the COCO dataset.\n",
    "    \"\"\"\n",
    "    # Give the configuration a recognizable name\n",
    "    NAME = model_name\n",
    "\n",
    "    # We use a GPU with 12GB memory, which can fit two images.\n",
    "    # Adjust down if you use a smaller GPU.\n",
    "    IMAGES_PER_GPU = 2\n",
    "\n",
    "    # Uncomment to train on 8 GPUs (default is 1)\n",
    "    GPU_COUNT = 1\n",
    "\n",
    "    # Number of classes (including background)\n",
    "    NUM_CLASSES = 1 + 1  # 1 Backgroun + 1 Building\n",
    "    IMAGE_CHANNEL_COUNT = 3\n",
    "    STEPS_PER_EPOCH = train_step\n",
    "    VALIDATION_STEPS = val_step\n",
    "    # RPN_ANCHOR_SCALES = (8, 16, 32, 64, 128)\n",
    "    MASK_SHAPE = [28, 28]\n",
    "    BACKBONE = \"resnet101\"\n",
    "    USE_MINI_MASK = True\n",
    "    MINI_MASK_SHAPE = (56, 56)\n",
    "    IMAGE_RESIZE_MODE = \"square\"\n",
    "    DETECTION_MAX_INSTANCES = 100\n",
    "    MAX_GT_INSTANCES = max_gt_instances\n",
    "    RPN_ANCHOR_SCALES = (16, 32, 64, 128, 256)\n",
    "    ROI_POSITIVE_RATIO = roi_positive_ratio\n",
    "    RPN_NMS_THRESHOLD = rpn_nms_th\n",
    "    # RPN_NMS_THRESHOLD = 0.9\n",
    "    # ROI_POSITIVE_RATIO = 0.5\n",
    "    IMAGE_MAX_DIM=model_size+64\n",
    "    IMAGE_MIN_DIM=model_size+64\n",
    "    # MEAN_PIXEL = np.array([127.5])\n",
    "    MEAN_PIXEL = np.array([123.7, 116.8, 103.9])\n",
    "    IMAGE_CHANNEL_COUNT = 3"
   ]
  },
  {
   "cell_type": "code",
   "execution_count": 8,
   "metadata": {},
   "outputs": [
    {
     "name": "stdout",
     "output_type": "stream",
     "text": [
      "\n",
      "Configurations:\n",
      "BACKBONE                       resnet101\n",
      "BACKBONE_STRIDES               [4, 8, 16, 32, 64]\n",
      "BATCH_SIZE                     2\n",
      "BBOX_STD_DEV                   [0.1 0.1 0.2 0.2]\n",
      "COMPUTE_BACKBONE_SHAPE         None\n",
      "DETECTION_MAX_INSTANCES        100\n",
      "DETECTION_MIN_CONFIDENCE       0.7\n",
      "DETECTION_NMS_THRESHOLD        0.3\n",
      "FPN_CLASSIF_FC_LAYERS_SIZE     1024\n",
      "GPU_COUNT                      1\n",
      "GRADIENT_CLIP_NORM             5.0\n",
      "IMAGES_PER_GPU                 2\n",
      "IMAGE_CHANNEL_COUNT            3\n",
      "IMAGE_MAX_DIM                  320\n",
      "IMAGE_META_SIZE                14\n",
      "IMAGE_MIN_DIM                  320\n",
      "IMAGE_MIN_SCALE                0\n",
      "IMAGE_RESIZE_MODE              square\n",
      "IMAGE_SHAPE                    [320 320   3]\n",
      "LEARNING_MOMENTUM              0.9\n",
      "LEARNING_RATE                  0.001\n",
      "LOSS_WEIGHTS                   {'rpn_class_loss': 1.0, 'rpn_bbox_loss': 1.0, 'mrcnn_class_loss': 1.0, 'mrcnn_bbox_loss': 1.0, 'mrcnn_mask_loss': 1.0}\n",
      "MASK_POOL_SIZE                 14\n",
      "MASK_SHAPE                     [28, 28]\n",
      "MAX_GT_INSTANCES               30\n",
      "MEAN_PIXEL                     [123.7 116.8 103.9]\n",
      "MINI_MASK_SHAPE                (56, 56)\n",
      "NAME                           master_model\n",
      "NUM_CLASSES                    2\n",
      "POOL_SIZE                      7\n",
      "POST_NMS_ROIS_INFERENCE        1000\n",
      "POST_NMS_ROIS_TRAINING         2000\n",
      "PRE_NMS_LIMIT                  6000\n",
      "ROI_POSITIVE_RATIO             0.66\n",
      "RPN_ANCHOR_RATIOS              [0.5, 1, 2]\n",
      "RPN_ANCHOR_SCALES              (16, 32, 64, 128, 256)\n",
      "RPN_ANCHOR_STRIDE              1\n",
      "RPN_BBOX_STD_DEV               [0.1 0.1 0.2 0.2]\n",
      "RPN_NMS_THRESHOLD              0.7\n",
      "RPN_TRAIN_ANCHORS_PER_IMAGE    256\n",
      "STEPS_PER_EPOCH                500\n",
      "TOP_DOWN_PYRAMID_SIZE          256\n",
      "TRAIN_BN                       False\n",
      "TRAIN_ROIS_PER_IMAGE           200\n",
      "USE_MINI_MASK                  True\n",
      "USE_RPN_ROIS                   True\n",
      "VALIDATION_STEPS               100\n",
      "WEIGHT_DECAY                   0.0001\n",
      "\n",
      "\n"
     ]
    }
   ],
   "source": [
    "config = MappingChallengeConfig()\n",
    "config.display()\n"
   ]
  },
  {
   "cell_type": "code",
   "execution_count": 9,
   "metadata": {},
   "outputs": [],
   "source": [
    "data_dir = r\"/media/skymap/Data/Building_master_data/data_result\"\n",
    "log_dir = r\"/media/skymap/Data/Building_master_data/data_result/logs2_new\""
   ]
  },
  {
   "cell_type": "code",
   "execution_count": 10,
   "metadata": {},
   "outputs": [
    {
     "name": "stdout",
     "output_type": "stream",
     "text": [
      "WARNING:tensorflow:AutoGraph could not transform <bound method ProposalLayer.call of <mrcnn.model.ProposalLayer object at 0x7f389cbc50d0>> and will run it as-is.\n",
      "Please report this to the TensorFlow team. When filing the bug, set the verbosity to 10 (on Linux, `export AUTOGRAPH_VERBOSITY=10`) and attach the full output.\n",
      "Cause: module 'gast' has no attribute 'Index'\n",
      "To silence this warning, decorate the function with @tf.autograph.experimental.do_not_convert\n",
      "WARNING: AutoGraph could not transform <bound method ProposalLayer.call of <mrcnn.model.ProposalLayer object at 0x7f389cbc50d0>> and will run it as-is.\n",
      "Please report this to the TensorFlow team. When filing the bug, set the verbosity to 10 (on Linux, `export AUTOGRAPH_VERBOSITY=10`) and attach the full output.\n",
      "Cause: module 'gast' has no attribute 'Index'\n",
      "To silence this warning, decorate the function with @tf.autograph.experimental.do_not_convert\n",
      "WARNING:tensorflow:AutoGraph could not transform <bound method DetectionTargetLayer.call of <mrcnn.model.DetectionTargetLayer object at 0x7f389cb9c8b0>> and will run it as-is.\n",
      "Please report this to the TensorFlow team. When filing the bug, set the verbosity to 10 (on Linux, `export AUTOGRAPH_VERBOSITY=10`) and attach the full output.\n",
      "Cause: module 'gast' has no attribute 'Index'\n",
      "To silence this warning, decorate the function with @tf.autograph.experimental.do_not_convert\n",
      "WARNING: AutoGraph could not transform <bound method DetectionTargetLayer.call of <mrcnn.model.DetectionTargetLayer object at 0x7f389cb9c8b0>> and will run it as-is.\n",
      "Please report this to the TensorFlow team. When filing the bug, set the verbosity to 10 (on Linux, `export AUTOGRAPH_VERBOSITY=10`) and attach the full output.\n",
      "Cause: module 'gast' has no attribute 'Index'\n",
      "To silence this warning, decorate the function with @tf.autograph.experimental.do_not_convert\n"
     ]
    },
    {
     "name": "stderr",
     "output_type": "stream",
     "text": [
      "2022-05-19 10:13:07.379373: I tensorflow/compiler/jit/xla_cpu_device.cc:41] Not creating XLA devices, tf_xla_enable_xla_devices not set\n",
      "2022-05-19 10:13:07.380873: I tensorflow/stream_executor/platform/default/dso_loader.cc:49] Successfully opened dynamic library libcuda.so.1\n",
      "2022-05-19 10:13:07.526055: I tensorflow/stream_executor/cuda/cuda_gpu_executor.cc:941] successful NUMA node read from SysFS had negative value (-1), but there must be at least one NUMA node, so returning NUMA node zero\n",
      "2022-05-19 10:13:07.528914: I tensorflow/core/common_runtime/gpu/gpu_device.cc:1720] Found device 0 with properties: \n",
      "pciBusID: 0000:0f:00.0 name: NVIDIA GeForce GTX 1080 Ti computeCapability: 6.1\n",
      "coreClock: 1.6575GHz coreCount: 28 deviceMemorySize: 10.92GiB deviceMemoryBandwidth: 451.17GiB/s\n",
      "2022-05-19 10:13:07.528966: I tensorflow/stream_executor/platform/default/dso_loader.cc:49] Successfully opened dynamic library libcudart.so.10.1\n",
      "2022-05-19 10:13:07.601731: I tensorflow/stream_executor/platform/default/dso_loader.cc:49] Successfully opened dynamic library libcublas.so.10\n",
      "2022-05-19 10:13:07.601859: I tensorflow/stream_executor/platform/default/dso_loader.cc:49] Successfully opened dynamic library libcublasLt.so.10\n",
      "2022-05-19 10:13:07.640929: I tensorflow/stream_executor/platform/default/dso_loader.cc:49] Successfully opened dynamic library libcufft.so.10\n",
      "2022-05-19 10:13:07.651603: I tensorflow/stream_executor/platform/default/dso_loader.cc:49] Successfully opened dynamic library libcurand.so.10\n",
      "2022-05-19 10:13:07.726837: I tensorflow/stream_executor/platform/default/dso_loader.cc:49] Successfully opened dynamic library libcusolver.so.10\n",
      "2022-05-19 10:13:07.737973: I tensorflow/stream_executor/platform/default/dso_loader.cc:49] Successfully opened dynamic library libcusparse.so.10\n",
      "2022-05-19 10:13:07.872860: I tensorflow/stream_executor/platform/default/dso_loader.cc:49] Successfully opened dynamic library libcudnn.so.7\n",
      "2022-05-19 10:13:07.873132: I tensorflow/stream_executor/cuda/cuda_gpu_executor.cc:941] successful NUMA node read from SysFS had negative value (-1), but there must be at least one NUMA node, so returning NUMA node zero\n",
      "2022-05-19 10:13:07.874527: I tensorflow/stream_executor/cuda/cuda_gpu_executor.cc:941] successful NUMA node read from SysFS had negative value (-1), but there must be at least one NUMA node, so returning NUMA node zero\n",
      "2022-05-19 10:13:07.875692: I tensorflow/core/common_runtime/gpu/gpu_device.cc:1862] Adding visible gpu devices: 0\n"
     ]
    },
    {
     "name": "stdout",
     "output_type": "stream",
     "text": [
      "WARNING:tensorflow:AutoGraph could not transform <bound method PyramidROIAlign.call of <mrcnn.model.PyramidROIAlign object at 0x7f389cb9cd00>> and will run it as-is.\n",
      "Please report this to the TensorFlow team. When filing the bug, set the verbosity to 10 (on Linux, `export AUTOGRAPH_VERBOSITY=10`) and attach the full output.\n",
      "Cause: module 'gast' has no attribute 'Index'\n",
      "To silence this warning, decorate the function with @tf.autograph.experimental.do_not_convert\n",
      "WARNING: AutoGraph could not transform <bound method PyramidROIAlign.call of <mrcnn.model.PyramidROIAlign object at 0x7f389cb9cd00>> and will run it as-is.\n",
      "Please report this to the TensorFlow team. When filing the bug, set the verbosity to 10 (on Linux, `export AUTOGRAPH_VERBOSITY=10`) and attach the full output.\n",
      "Cause: module 'gast' has no attribute 'Index'\n",
      "To silence this warning, decorate the function with @tf.autograph.experimental.do_not_convert\n"
     ]
    }
   ],
   "source": [
    "model = modellib.MaskRCNN(mode=\"training\", config=config, model_dir=log_dir)\n",
    "# model_path=model.get_imagenet_weights()\n",
    "model_path=\"/media/skymap/Data/Building_master_data/data_result/logs2/master_model20220518T2015/mask_rcnn_master_model_0154.h5\""
   ]
  },
  {
   "cell_type": "code",
   "execution_count": 11,
   "metadata": {},
   "outputs": [
    {
     "name": "stderr",
     "output_type": "stream",
     "text": [
      "2022-05-19 10:13:13.241686: I tensorflow/core/platform/cpu_feature_guard.cc:142] This TensorFlow binary is optimized with oneAPI Deep Neural Network Library (oneDNN) to use the following CPU instructions in performance-critical operations:  SSE4.1 SSE4.2\n",
      "To enable them in other operations, rebuild TensorFlow with the appropriate compiler flags.\n",
      "2022-05-19 10:13:13.243961: I tensorflow/stream_executor/cuda/cuda_gpu_executor.cc:941] successful NUMA node read from SysFS had negative value (-1), but there must be at least one NUMA node, so returning NUMA node zero\n",
      "2022-05-19 10:13:13.244904: I tensorflow/core/common_runtime/gpu/gpu_device.cc:1720] Found device 0 with properties: \n",
      "pciBusID: 0000:0f:00.0 name: NVIDIA GeForce GTX 1080 Ti computeCapability: 6.1\n",
      "coreClock: 1.6575GHz coreCount: 28 deviceMemorySize: 10.92GiB deviceMemoryBandwidth: 451.17GiB/s\n",
      "2022-05-19 10:13:13.244953: I tensorflow/stream_executor/platform/default/dso_loader.cc:49] Successfully opened dynamic library libcudart.so.10.1\n",
      "2022-05-19 10:13:13.245031: I tensorflow/stream_executor/platform/default/dso_loader.cc:49] Successfully opened dynamic library libcublas.so.10\n",
      "2022-05-19 10:13:13.245080: I tensorflow/stream_executor/platform/default/dso_loader.cc:49] Successfully opened dynamic library libcublasLt.so.10\n",
      "2022-05-19 10:13:13.245125: I tensorflow/stream_executor/platform/default/dso_loader.cc:49] Successfully opened dynamic library libcufft.so.10\n",
      "2022-05-19 10:13:13.245170: I tensorflow/stream_executor/platform/default/dso_loader.cc:49] Successfully opened dynamic library libcurand.so.10\n",
      "2022-05-19 10:13:13.245216: I tensorflow/stream_executor/platform/default/dso_loader.cc:49] Successfully opened dynamic library libcusolver.so.10\n",
      "2022-05-19 10:13:13.245261: I tensorflow/stream_executor/platform/default/dso_loader.cc:49] Successfully opened dynamic library libcusparse.so.10\n",
      "2022-05-19 10:13:13.245307: I tensorflow/stream_executor/platform/default/dso_loader.cc:49] Successfully opened dynamic library libcudnn.so.7\n",
      "2022-05-19 10:13:13.245416: I tensorflow/stream_executor/cuda/cuda_gpu_executor.cc:941] successful NUMA node read from SysFS had negative value (-1), but there must be at least one NUMA node, so returning NUMA node zero\n",
      "2022-05-19 10:13:13.246367: I tensorflow/stream_executor/cuda/cuda_gpu_executor.cc:941] successful NUMA node read from SysFS had negative value (-1), but there must be at least one NUMA node, so returning NUMA node zero\n",
      "2022-05-19 10:13:13.247127: I tensorflow/core/common_runtime/gpu/gpu_device.cc:1862] Adding visible gpu devices: 0\n",
      "2022-05-19 10:13:13.248253: I tensorflow/stream_executor/platform/default/dso_loader.cc:49] Successfully opened dynamic library libcudart.so.10.1\n",
      "2022-05-19 10:13:15.336716: I tensorflow/core/common_runtime/gpu/gpu_device.cc:1261] Device interconnect StreamExecutor with strength 1 edge matrix:\n",
      "2022-05-19 10:13:15.336788: I tensorflow/core/common_runtime/gpu/gpu_device.cc:1267]      0 \n",
      "2022-05-19 10:13:15.336801: I tensorflow/core/common_runtime/gpu/gpu_device.cc:1280] 0:   N \n",
      "2022-05-19 10:13:15.337211: I tensorflow/stream_executor/cuda/cuda_gpu_executor.cc:941] successful NUMA node read from SysFS had negative value (-1), but there must be at least one NUMA node, so returning NUMA node zero\n",
      "2022-05-19 10:13:15.338007: I tensorflow/stream_executor/cuda/cuda_gpu_executor.cc:941] successful NUMA node read from SysFS had negative value (-1), but there must be at least one NUMA node, so returning NUMA node zero\n",
      "2022-05-19 10:13:15.338726: I tensorflow/stream_executor/cuda/cuda_gpu_executor.cc:941] successful NUMA node read from SysFS had negative value (-1), but there must be at least one NUMA node, so returning NUMA node zero\n",
      "2022-05-19 10:13:15.339384: I tensorflow/core/common_runtime/gpu/gpu_device.cc:1406] Created TensorFlow device (/job:localhost/replica:0/task:0/device:GPU:0 with 10256 MB memory) -> physical GPU (device: 0, name: NVIDIA GeForce GTX 1080 Ti, pci bus id: 0000:0f:00.0, compute capability: 6.1)\n",
      "2022-05-19 10:13:15.343123: I tensorflow/compiler/jit/xla_gpu_device.cc:99] Not creating XLA devices, tf_xla_enable_xla_devices not set\n",
      "2022-05-19 10:13:16.044258: I tensorflow/compiler/mlir/mlir_graph_optimization_pass.cc:196] None of the MLIR optimization passes are enabled (registered 0 passes)\n",
      "2022-05-19 10:13:16.242058: I tensorflow/core/platform/profile_utils/cpu_utils.cc:112] CPU Frequency: 2664110000 Hz\n"
     ]
    },
    {
     "name": "stdout",
     "output_type": "stream",
     "text": [
      "Re-starting from epoch 154\n"
     ]
    }
   ],
   "source": [
    "model.load_weights(model_path, by_name=True)#, exclude='conv1'"
   ]
  },
  {
   "cell_type": "code",
   "execution_count": 12,
   "metadata": {},
   "outputs": [
    {
     "name": "stdout",
     "output_type": "stream",
     "text": [
      "loading annotations into memory...\n",
      "Done (t=3.80s)\n",
      "creating index...\n",
      "index created!\n"
     ]
    }
   ],
   "source": [
    "dataset_train = TreeCountingDataset()\n",
    "dataset_train.load_dataset(dataset_dir=os.path.join(data_dir, \"train\"), load_small=False)\n",
    "dataset_train.prepare()"
   ]
  },
  {
   "cell_type": "code",
   "execution_count": 13,
   "metadata": {},
   "outputs": [
    {
     "name": "stdout",
     "output_type": "stream",
     "text": [
      "loading annotations into memory...\n",
      "Done (t=1.20s)\n",
      "creating index...\n",
      "index created!\n"
     ]
    }
   ],
   "source": [
    "dataset_val = TreeCountingDataset()\n",
    "val_coco = dataset_val.load_dataset(dataset_dir=os.path.join(data_dir, \"val\"), load_small=False, return_coco=True)\n",
    "dataset_val.prepare()"
   ]
  },
  {
   "cell_type": "code",
   "execution_count": 14,
   "metadata": {},
   "outputs": [
    {
     "name": "stdout",
     "output_type": "stream",
     "text": [
      "Training network heads\n",
      "\n",
      "Starting at epoch 154. LR=0.001\n",
      "\n",
      "Checkpoint Path: /media/skymap/Data/Building_master_data/data_result/logs2_new/master_model20220518T2015/mask_rcnn_master_model_{epoch:04d}.h5\n",
      "Selecting layers to train\n",
      "fpn_c5p5               (Conv2D)\n",
      "fpn_c4p4               (Conv2D)\n",
      "fpn_c3p3               (Conv2D)\n",
      "fpn_c2p2               (Conv2D)\n",
      "fpn_p5                 (Conv2D)\n",
      "fpn_p2                 (Conv2D)\n",
      "fpn_p3                 (Conv2D)\n",
      "fpn_p4                 (Conv2D)\n",
      "rpn_model              (Functional)\n",
      "mrcnn_class_conv1      (TimeDistributed)\n",
      "mrcnn_class_bn1        (TimeDistributed)\n",
      "mrcnn_class_conv2      (TimeDistributed)\n",
      "mrcnn_class_bn2        (TimeDistributed)\n",
      "mrcnn_bbox_fc          (TimeDistributed)\n",
      "mrcnn_class_logits     (TimeDistributed)\n",
      "Epoch 155/180\n"
     ]
    },
    {
     "name": "stderr",
     "output_type": "stream",
     "text": [
      "2022-05-19 10:14:16.550439: I tensorflow/stream_executor/platform/default/dso_loader.cc:49] Successfully opened dynamic library libcublas.so.10\n",
      "2022-05-19 10:14:17.152118: I tensorflow/stream_executor/platform/default/dso_loader.cc:49] Successfully opened dynamic library libcudnn.so.7\n"
     ]
    },
    {
     "name": "stdout",
     "output_type": "stream",
     "text": [
      "\r",
      "  1/500 [..............................] - ETA: 2:24:23 - batch: 0.0000e+00 - size: 2.0000 - loss: 0.7155 - rpn_class_loss: 0.0201 - rpn_bbox_loss: 0.2229 - mrcnn_class_loss: 0.1435 - mrcnn_bbox_loss: 0.3291"
     ]
    },
    {
     "name": "stderr",
     "output_type": "stream",
     "text": [
      "2022-05-19 10:14:21.163822: I tensorflow/core/profiler/lib/profiler_session.cc:136] Profiler session initializing.\n",
      "2022-05-19 10:14:21.163872: I tensorflow/core/profiler/lib/profiler_session.cc:155] Profiler session started.\n",
      "2022-05-19 10:14:21.163905: I tensorflow/core/profiler/internal/gpu/cupti_tracer.cc:1365] Profiler found 1 GPUs\n",
      "2022-05-19 10:14:21.185155: I tensorflow/stream_executor/platform/default/dso_loader.cc:49] Successfully opened dynamic library libcupti.so.10.1\n",
      "2022-05-19 10:14:21.287338: E tensorflow/core/profiler/internal/gpu/cupti_tracer.cc:1415] function cupti_interface_->Subscribe( &subscriber_, (CUpti_CallbackFunc)ApiCallback, this)failed with error CUPTI_ERROR_INSUFFICIENT_PRIVILEGES\n"
     ]
    },
    {
     "name": "stdout",
     "output_type": "stream",
     "text": [
      "  3/500 [..............................] - ETA: 2:22 - batch: 1.0000 - size: 2.0000 - loss: 0.7023 - rpn_class_loss: 0.0269 - rpn_bbox_loss: 0.1962 - mrcnn_class_loss: 0.1872 - mrcnn_bbox_loss: 0.2919     "
     ]
    },
    {
     "name": "stderr",
     "output_type": "stream",
     "text": [
      "2022-05-19 10:14:21.405736: I tensorflow/core/profiler/lib/profiler_session.cc:71] Profiler session collecting data.\n",
      "2022-05-19 10:14:21.439781: I tensorflow/core/profiler/internal/gpu/cupti_collector.cc:228]  GpuTracer has collected 0 callback api events and 0 activity events. \n",
      "2022-05-19 10:14:21.448996: I tensorflow/core/profiler/lib/profiler_session.cc:172] Profiler session tear down.\n",
      "2022-05-19 10:14:21.482691: I tensorflow/core/profiler/rpc/client/save_profile.cc:137] Creating directory: /media/skymap/Data/Building_master_data/data_result/logs2_new/master_model20220518T2015/plugins/profile/2022_05_19_10_14_21\n",
      "2022-05-19 10:14:21.484610: I tensorflow/core/profiler/rpc/client/save_profile.cc:143] Dumped gzipped tool data for trace.json.gz to /media/skymap/Data/Building_master_data/data_result/logs2_new/master_model20220518T2015/plugins/profile/2022_05_19_10_14_21/skymap-HP-Z800-Workstation.trace.json.gz\n",
      "2022-05-19 10:14:21.555522: I tensorflow/core/profiler/rpc/client/save_profile.cc:137] Creating directory: /media/skymap/Data/Building_master_data/data_result/logs2_new/master_model20220518T2015/plugins/profile/2022_05_19_10_14_21\n",
      "2022-05-19 10:14:21.584604: I tensorflow/core/profiler/rpc/client/save_profile.cc:143] Dumped gzipped tool data for memory_profile.json.gz to /media/skymap/Data/Building_master_data/data_result/logs2_new/master_model20220518T2015/plugins/profile/2022_05_19_10_14_21/skymap-HP-Z800-Workstation.memory_profile.json.gz\n",
      "2022-05-19 10:14:21.600444: I tensorflow/core/profiler/rpc/client/capture_profile.cc:251] Creating directory: /media/skymap/Data/Building_master_data/data_result/logs2_new/master_model20220518T2015/plugins/profile/2022_05_19_10_14_21Dumped tool data for xplane.pb to /media/skymap/Data/Building_master_data/data_result/logs2_new/master_model20220518T2015/plugins/profile/2022_05_19_10_14_21/skymap-HP-Z800-Workstation.xplane.pb\n",
      "Dumped tool data for overview_page.pb to /media/skymap/Data/Building_master_data/data_result/logs2_new/master_model20220518T2015/plugins/profile/2022_05_19_10_14_21/skymap-HP-Z800-Workstation.overview_page.pb\n",
      "Dumped tool data for input_pipeline.pb to /media/skymap/Data/Building_master_data/data_result/logs2_new/master_model20220518T2015/plugins/profile/2022_05_19_10_14_21/skymap-HP-Z800-Workstation.input_pipeline.pb\n",
      "Dumped tool data for tensorflow_stats.pb to /media/skymap/Data/Building_master_data/data_result/logs2_new/master_model20220518T2015/plugins/profile/2022_05_19_10_14_21/skymap-HP-Z800-Workstation.tensorflow_stats.pb\n",
      "Dumped tool data for kernel_stats.pb to /media/skymap/Data/Building_master_data/data_result/logs2_new/master_model20220518T2015/plugins/profile/2022_05_19_10_14_21/skymap-HP-Z800-Workstation.kernel_stats.pb\n",
      "\n"
     ]
    },
    {
     "name": "stdout",
     "output_type": "stream",
     "text": [
      "500/500 [==============================] - 121s 207ms/step - batch: 249.5000 - size: 2.0000 - loss: 0.6139 - rpn_class_loss: 0.0276 - rpn_bbox_loss: 0.2407 - mrcnn_class_loss: 0.1067 - mrcnn_bbox_loss: 0.2388 - val_loss: 0.7904 - val_rpn_class_loss: 0.0293 - val_rpn_bbox_loss: 0.3668 - val_mrcnn_class_loss: 0.1141 - val_mrcnn_bbox_loss: 0.2801\n",
      "Epoch 156/180\n",
      "500/500 [==============================] - 94s 187ms/step - batch: 249.5000 - size: 2.0000 - loss: 0.6418 - rpn_class_loss: 0.0295 - rpn_bbox_loss: 0.2529 - mrcnn_class_loss: 0.1151 - mrcnn_bbox_loss: 0.2442 - val_loss: 0.6682 - val_rpn_class_loss: 0.0294 - val_rpn_bbox_loss: 0.2731 - val_mrcnn_class_loss: 0.1173 - val_mrcnn_bbox_loss: 0.2485\n",
      "Epoch 157/180\n",
      "500/500 [==============================] - 81s 163ms/step - batch: 249.5000 - size: 2.0000 - loss: 0.6389 - rpn_class_loss: 0.0270 - rpn_bbox_loss: 0.2543 - mrcnn_class_loss: 0.1100 - mrcnn_bbox_loss: 0.2476 - val_loss: 0.8235 - val_rpn_class_loss: 0.0376 - val_rpn_bbox_loss: 0.3701 - val_mrcnn_class_loss: 0.1422 - val_mrcnn_bbox_loss: 0.2736\n",
      "Epoch 158/180\n",
      "500/500 [==============================] - 81s 163ms/step - batch: 249.5000 - size: 2.0000 - loss: 0.6499 - rpn_class_loss: 0.0323 - rpn_bbox_loss: 0.2664 - mrcnn_class_loss: 0.1111 - mrcnn_bbox_loss: 0.2401 - val_loss: 0.7626 - val_rpn_class_loss: 0.0295 - val_rpn_bbox_loss: 0.3404 - val_mrcnn_class_loss: 0.1155 - val_mrcnn_bbox_loss: 0.2774\n",
      "Epoch 159/180\n",
      "500/500 [==============================] - 80s 161ms/step - batch: 249.5000 - size: 2.0000 - loss: 0.6542 - rpn_class_loss: 0.0343 - rpn_bbox_loss: 0.2589 - mrcnn_class_loss: 0.1191 - mrcnn_bbox_loss: 0.2418 - val_loss: 0.6654 - val_rpn_class_loss: 0.0269 - val_rpn_bbox_loss: 0.2643 - val_mrcnn_class_loss: 0.1066 - val_mrcnn_bbox_loss: 0.2677\n",
      "Epoch 160/180\n",
      "500/500 [==============================] - 84s 167ms/step - batch: 249.5000 - size: 2.0000 - loss: 0.6283 - rpn_class_loss: 0.0263 - rpn_bbox_loss: 0.2524 - mrcnn_class_loss: 0.1091 - mrcnn_bbox_loss: 0.2405 - val_loss: 0.7581 - val_rpn_class_loss: 0.0300 - val_rpn_bbox_loss: 0.3383 - val_mrcnn_class_loss: 0.1285 - val_mrcnn_bbox_loss: 0.2612\n",
      "Epoch 161/180\n",
      "500/500 [==============================] - 88s 176ms/step - batch: 249.5000 - size: 2.0000 - loss: 0.6502 - rpn_class_loss: 0.0295 - rpn_bbox_loss: 0.2514 - mrcnn_class_loss: 0.1242 - mrcnn_bbox_loss: 0.2452 - val_loss: 0.7117 - val_rpn_class_loss: 0.0305 - val_rpn_bbox_loss: 0.2784 - val_mrcnn_class_loss: 0.1254 - val_mrcnn_bbox_loss: 0.2774\n",
      "Epoch 162/180\n",
      "500/500 [==============================] - 82s 164ms/step - batch: 249.5000 - size: 2.0000 - loss: 0.6598 - rpn_class_loss: 0.0366 - rpn_bbox_loss: 0.2537 - mrcnn_class_loss: 0.1204 - mrcnn_bbox_loss: 0.2491 - val_loss: 0.6678 - val_rpn_class_loss: 0.0263 - val_rpn_bbox_loss: 0.2735 - val_mrcnn_class_loss: 0.1095 - val_mrcnn_bbox_loss: 0.2585\n",
      "Epoch 163/180\n",
      "500/500 [==============================] - 103s 207ms/step - batch: 249.5000 - size: 2.0000 - loss: 0.6371 - rpn_class_loss: 0.0303 - rpn_bbox_loss: 0.2493 - mrcnn_class_loss: 0.1157 - mrcnn_bbox_loss: 0.2418 - val_loss: 0.6834 - val_rpn_class_loss: 0.0291 - val_rpn_bbox_loss: 0.2707 - val_mrcnn_class_loss: 0.1278 - val_mrcnn_bbox_loss: 0.2557\n",
      "Epoch 164/180\n",
      "500/500 [==============================] - 90s 180ms/step - batch: 249.5000 - size: 2.0000 - loss: 0.6393 - rpn_class_loss: 0.0295 - rpn_bbox_loss: 0.2512 - mrcnn_class_loss: 0.1172 - mrcnn_bbox_loss: 0.2414 - val_loss: 0.7474 - val_rpn_class_loss: 0.0329 - val_rpn_bbox_loss: 0.2830 - val_mrcnn_class_loss: 0.1505 - val_mrcnn_bbox_loss: 0.2810\n",
      "Epoch 165/180\n",
      "500/500 [==============================] - 87s 173ms/step - batch: 249.5000 - size: 2.0000 - loss: 0.6433 - rpn_class_loss: 0.0284 - rpn_bbox_loss: 0.2469 - mrcnn_class_loss: 0.1206 - mrcnn_bbox_loss: 0.2474 - val_loss: 0.7034 - val_rpn_class_loss: 0.0316 - val_rpn_bbox_loss: 0.3048 - val_mrcnn_class_loss: 0.1283 - val_mrcnn_bbox_loss: 0.2387\n",
      "Epoch 166/180\n",
      "500/500 [==============================] - 76s 152ms/step - batch: 249.5000 - size: 2.0000 - loss: 0.6575 - rpn_class_loss: 0.0293 - rpn_bbox_loss: 0.2591 - mrcnn_class_loss: 0.1214 - mrcnn_bbox_loss: 0.2478 - val_loss: 0.7181 - val_rpn_class_loss: 0.0288 - val_rpn_bbox_loss: 0.3033 - val_mrcnn_class_loss: 0.1174 - val_mrcnn_bbox_loss: 0.2686\n",
      "Epoch 167/180\n",
      "500/500 [==============================] - 83s 166ms/step - batch: 249.5000 - size: 2.0000 - loss: 0.9266 - rpn_class_loss: 0.0516 - rpn_bbox_loss: 0.5152 - mrcnn_class_loss: 0.1205 - mrcnn_bbox_loss: 0.2394 - val_loss: 0.7620 - val_rpn_class_loss: 0.0285 - val_rpn_bbox_loss: 0.3507 - val_mrcnn_class_loss: 0.1147 - val_mrcnn_bbox_loss: 0.2681\n",
      "Epoch 168/180\n",
      "500/500 [==============================] - 87s 175ms/step - batch: 249.5000 - size: 2.0000 - loss: 0.6443 - rpn_class_loss: 0.0289 - rpn_bbox_loss: 0.2563 - mrcnn_class_loss: 0.1166 - mrcnn_bbox_loss: 0.2425 - val_loss: 0.7665 - val_rpn_class_loss: 0.0334 - val_rpn_bbox_loss: 0.3550 - val_mrcnn_class_loss: 0.1195 - val_mrcnn_bbox_loss: 0.2586\n",
      "Epoch 169/180\n",
      "500/500 [==============================] - 79s 158ms/step - batch: 249.5000 - size: 2.0000 - loss: 0.6398 - rpn_class_loss: 0.0266 - rpn_bbox_loss: 0.2550 - mrcnn_class_loss: 0.1166 - mrcnn_bbox_loss: 0.2416 - val_loss: 0.6975 - val_rpn_class_loss: 0.0277 - val_rpn_bbox_loss: 0.3059 - val_mrcnn_class_loss: 0.1073 - val_mrcnn_bbox_loss: 0.2566\n",
      "Epoch 170/180\n",
      "500/500 [==============================] - 108s 216ms/step - batch: 249.5000 - size: 2.0000 - loss: 0.6381 - rpn_class_loss: 0.0320 - rpn_bbox_loss: 0.2477 - mrcnn_class_loss: 0.1162 - mrcnn_bbox_loss: 0.2423 - val_loss: 0.7598 - val_rpn_class_loss: 0.0395 - val_rpn_bbox_loss: 0.2986 - val_mrcnn_class_loss: 0.1408 - val_mrcnn_bbox_loss: 0.2809\n",
      "Epoch 171/180\n",
      "500/500 [==============================] - 80s 159ms/step - batch: 249.5000 - size: 2.0000 - loss: 0.6246 - rpn_class_loss: 0.0283 - rpn_bbox_loss: 0.2396 - mrcnn_class_loss: 0.1112 - mrcnn_bbox_loss: 0.2456 - val_loss: 0.7619 - val_rpn_class_loss: 0.0339 - val_rpn_bbox_loss: 0.3478 - val_mrcnn_class_loss: 0.1141 - val_mrcnn_bbox_loss: 0.2661\n",
      "Epoch 172/180\n",
      "500/500 [==============================] - 82s 165ms/step - batch: 249.5000 - size: 2.0000 - loss: 0.6495 - rpn_class_loss: 0.0281 - rpn_bbox_loss: 0.2629 - mrcnn_class_loss: 0.1175 - mrcnn_bbox_loss: 0.2410 - val_loss: 0.6819 - val_rpn_class_loss: 0.0279 - val_rpn_bbox_loss: 0.2703 - val_mrcnn_class_loss: 0.1231 - val_mrcnn_bbox_loss: 0.2605\n",
      "Epoch 173/180\n",
      "500/500 [==============================] - 82s 163ms/step - batch: 249.5000 - size: 2.0000 - loss: 0.6286 - rpn_class_loss: 0.0312 - rpn_bbox_loss: 0.2450 - mrcnn_class_loss: 0.1121 - mrcnn_bbox_loss: 0.2402 - val_loss: 0.6934 - val_rpn_class_loss: 0.0323 - val_rpn_bbox_loss: 0.2647 - val_mrcnn_class_loss: 0.1387 - val_mrcnn_bbox_loss: 0.2577\n",
      "Epoch 174/180\n",
      "500/500 [==============================] - 78s 157ms/step - batch: 249.5000 - size: 2.0000 - loss: 0.6316 - rpn_class_loss: 0.0301 - rpn_bbox_loss: 0.2469 - mrcnn_class_loss: 0.1168 - mrcnn_bbox_loss: 0.2378 - val_loss: 0.6868 - val_rpn_class_loss: 0.0258 - val_rpn_bbox_loss: 0.3050 - val_mrcnn_class_loss: 0.1037 - val_mrcnn_bbox_loss: 0.2523\n",
      "Epoch 175/180\n",
      "500/500 [==============================] - 79s 158ms/step - batch: 249.5000 - size: 2.0000 - loss: 0.6251 - rpn_class_loss: 0.0293 - rpn_bbox_loss: 0.2368 - mrcnn_class_loss: 0.1214 - mrcnn_bbox_loss: 0.2377 - val_loss: 0.6717 - val_rpn_class_loss: 0.0251 - val_rpn_bbox_loss: 0.2923 - val_mrcnn_class_loss: 0.1144 - val_mrcnn_bbox_loss: 0.2399\n",
      "Epoch 176/180\n",
      "500/500 [==============================] - 86s 172ms/step - batch: 249.5000 - size: 2.0000 - loss: 0.6257 - rpn_class_loss: 0.0272 - rpn_bbox_loss: 0.2453 - mrcnn_class_loss: 0.1150 - mrcnn_bbox_loss: 0.2382 - val_loss: 0.6896 - val_rpn_class_loss: 0.0319 - val_rpn_bbox_loss: 0.2816 - val_mrcnn_class_loss: 0.1183 - val_mrcnn_bbox_loss: 0.2578\n",
      "Epoch 177/180\n",
      "500/500 [==============================] - 84s 168ms/step - batch: 249.5000 - size: 2.0000 - loss: 0.6204 - rpn_class_loss: 0.0280 - rpn_bbox_loss: 0.2427 - mrcnn_class_loss: 0.1081 - mrcnn_bbox_loss: 0.2415 - val_loss: 0.7529 - val_rpn_class_loss: 0.0360 - val_rpn_bbox_loss: 0.3223 - val_mrcnn_class_loss: 0.1309 - val_mrcnn_bbox_loss: 0.2637\n"
     ]
    },
    {
     "name": "stdout",
     "output_type": "stream",
     "text": [
      "Epoch 178/180\n",
      "500/500 [==============================] - 84s 169ms/step - batch: 249.5000 - size: 2.0000 - loss: 0.6151 - rpn_class_loss: 0.0270 - rpn_bbox_loss: 0.2419 - mrcnn_class_loss: 0.1120 - mrcnn_bbox_loss: 0.2342 - val_loss: 0.6561 - val_rpn_class_loss: 0.0277 - val_rpn_bbox_loss: 0.2517 - val_mrcnn_class_loss: 0.1210 - val_mrcnn_bbox_loss: 0.2556\n",
      "Epoch 179/180\n",
      "500/500 [==============================] - 84s 168ms/step - batch: 249.5000 - size: 2.0000 - loss: 0.6024 - rpn_class_loss: 0.0248 - rpn_bbox_loss: 0.2371 - mrcnn_class_loss: 0.1045 - mrcnn_bbox_loss: 0.2359 - val_loss: 0.8274 - val_rpn_class_loss: 0.0353 - val_rpn_bbox_loss: 0.3892 - val_mrcnn_class_loss: 0.1301 - val_mrcnn_bbox_loss: 0.2728\n",
      "Epoch 180/180\n",
      "500/500 [==============================] - 81s 162ms/step - batch: 249.5000 - size: 2.0000 - loss: 0.6241 - rpn_class_loss: 0.0283 - rpn_bbox_loss: 0.2501 - mrcnn_class_loss: 0.1097 - mrcnn_bbox_loss: 0.2361 - val_loss: 0.7162 - val_rpn_class_loss: 0.0300 - val_rpn_bbox_loss: 0.2952 - val_mrcnn_class_loss: 0.1324 - val_mrcnn_bbox_loss: 0.2587\n"
     ]
    }
   ],
   "source": [
    "print(\"Training network heads\")\n",
    "model.train(dataset_train, dataset_val,\n",
    "            learning_rate=config.LEARNING_RATE,\n",
    "            epochs=stage_1,\n",
    "            layers='heads',\n",
    "            augment = True ,\n",
    "            augmentation=None)"
   ]
  },
  {
   "cell_type": "code",
   "execution_count": null,
   "metadata": {},
   "outputs": [
    {
     "name": "stdout",
     "output_type": "stream",
     "text": [
      "Fine tune Resnet stage 4 and up\n",
      "\n",
      "Starting at epoch 180. LR=0.001\n",
      "\n",
      "Checkpoint Path: /media/skymap/Data/Building_master_data/data_result/logs2_new/master_model20220518T2015/mask_rcnn_master_model_{epoch:04d}.h5\n",
      "Selecting layers to train\n",
      "res4a_branch2a         (Conv2D)\n",
      "bn4a_branch2a          (BatchNorm)\n",
      "res4a_branch2b         (Conv2D)\n",
      "bn4a_branch2b          (BatchNorm)\n",
      "res4a_branch2c         (Conv2D)\n",
      "res4a_branch1          (Conv2D)\n",
      "bn4a_branch2c          (BatchNorm)\n",
      "bn4a_branch1           (BatchNorm)\n",
      "res4b_branch2a         (Conv2D)\n",
      "bn4b_branch2a          (BatchNorm)\n",
      "res4b_branch2b         (Conv2D)\n",
      "bn4b_branch2b          (BatchNorm)\n",
      "res4b_branch2c         (Conv2D)\n",
      "bn4b_branch2c          (BatchNorm)\n",
      "res4c_branch2a         (Conv2D)\n",
      "bn4c_branch2a          (BatchNorm)\n",
      "res4c_branch2b         (Conv2D)\n",
      "bn4c_branch2b          (BatchNorm)\n",
      "res4c_branch2c         (Conv2D)\n",
      "bn4c_branch2c          (BatchNorm)\n",
      "res4d_branch2a         (Conv2D)\n",
      "bn4d_branch2a          (BatchNorm)\n",
      "res4d_branch2b         (Conv2D)\n",
      "bn4d_branch2b          (BatchNorm)\n",
      "res4d_branch2c         (Conv2D)\n",
      "bn4d_branch2c          (BatchNorm)\n",
      "res4e_branch2a         (Conv2D)\n",
      "bn4e_branch2a          (BatchNorm)\n",
      "res4e_branch2b         (Conv2D)\n",
      "bn4e_branch2b          (BatchNorm)\n",
      "res4e_branch2c         (Conv2D)\n",
      "bn4e_branch2c          (BatchNorm)\n",
      "res4f_branch2a         (Conv2D)\n",
      "bn4f_branch2a          (BatchNorm)\n",
      "res4f_branch2b         (Conv2D)\n",
      "bn4f_branch2b          (BatchNorm)\n",
      "res4f_branch2c         (Conv2D)\n",
      "bn4f_branch2c          (BatchNorm)\n",
      "res4g_branch2a         (Conv2D)\n",
      "bn4g_branch2a          (BatchNorm)\n",
      "res4g_branch2b         (Conv2D)\n",
      "bn4g_branch2b          (BatchNorm)\n",
      "res4g_branch2c         (Conv2D)\n",
      "bn4g_branch2c          (BatchNorm)\n",
      "res4h_branch2a         (Conv2D)\n",
      "bn4h_branch2a          (BatchNorm)\n",
      "res4h_branch2b         (Conv2D)\n",
      "bn4h_branch2b          (BatchNorm)\n",
      "res4h_branch2c         (Conv2D)\n",
      "bn4h_branch2c          (BatchNorm)\n",
      "res4i_branch2a         (Conv2D)\n",
      "bn4i_branch2a          (BatchNorm)\n",
      "res4i_branch2b         (Conv2D)\n",
      "bn4i_branch2b          (BatchNorm)\n",
      "res4i_branch2c         (Conv2D)\n",
      "bn4i_branch2c          (BatchNorm)\n",
      "res4j_branch2a         (Conv2D)\n",
      "bn4j_branch2a          (BatchNorm)\n",
      "res4j_branch2b         (Conv2D)\n",
      "bn4j_branch2b          (BatchNorm)\n",
      "res4j_branch2c         (Conv2D)\n",
      "bn4j_branch2c          (BatchNorm)\n",
      "res4k_branch2a         (Conv2D)\n",
      "bn4k_branch2a          (BatchNorm)\n",
      "res4k_branch2b         (Conv2D)\n",
      "bn4k_branch2b          (BatchNorm)\n",
      "res4k_branch2c         (Conv2D)\n",
      "bn4k_branch2c          (BatchNorm)\n",
      "res4l_branch2a         (Conv2D)\n",
      "bn4l_branch2a          (BatchNorm)\n",
      "res4l_branch2b         (Conv2D)\n",
      "bn4l_branch2b          (BatchNorm)\n",
      "res4l_branch2c         (Conv2D)\n",
      "bn4l_branch2c          (BatchNorm)\n",
      "res4m_branch2a         (Conv2D)\n",
      "bn4m_branch2a          (BatchNorm)\n",
      "res4m_branch2b         (Conv2D)\n",
      "bn4m_branch2b          (BatchNorm)\n",
      "res4m_branch2c         (Conv2D)\n",
      "bn4m_branch2c          (BatchNorm)\n",
      "res4n_branch2a         (Conv2D)\n",
      "bn4n_branch2a          (BatchNorm)\n",
      "res4n_branch2b         (Conv2D)\n",
      "bn4n_branch2b          (BatchNorm)\n",
      "res4n_branch2c         (Conv2D)\n",
      "bn4n_branch2c          (BatchNorm)\n",
      "res4o_branch2a         (Conv2D)\n",
      "bn4o_branch2a          (BatchNorm)\n",
      "res4o_branch2b         (Conv2D)\n",
      "bn4o_branch2b          (BatchNorm)\n",
      "res4o_branch2c         (Conv2D)\n",
      "bn4o_branch2c          (BatchNorm)\n",
      "res4p_branch2a         (Conv2D)\n",
      "bn4p_branch2a          (BatchNorm)\n",
      "res4p_branch2b         (Conv2D)\n",
      "bn4p_branch2b          (BatchNorm)\n",
      "res4p_branch2c         (Conv2D)\n",
      "bn4p_branch2c          (BatchNorm)\n",
      "res4q_branch2a         (Conv2D)\n",
      "bn4q_branch2a          (BatchNorm)\n",
      "res4q_branch2b         (Conv2D)\n",
      "bn4q_branch2b          (BatchNorm)\n",
      "res4q_branch2c         (Conv2D)\n",
      "bn4q_branch2c          (BatchNorm)\n",
      "res4r_branch2a         (Conv2D)\n",
      "bn4r_branch2a          (BatchNorm)\n",
      "res4r_branch2b         (Conv2D)\n",
      "bn4r_branch2b          (BatchNorm)\n",
      "res4r_branch2c         (Conv2D)\n",
      "bn4r_branch2c          (BatchNorm)\n",
      "res4s_branch2a         (Conv2D)\n",
      "bn4s_branch2a          (BatchNorm)\n",
      "res4s_branch2b         (Conv2D)\n",
      "bn4s_branch2b          (BatchNorm)\n",
      "res4s_branch2c         (Conv2D)\n",
      "bn4s_branch2c          (BatchNorm)\n",
      "res4t_branch2a         (Conv2D)\n",
      "bn4t_branch2a          (BatchNorm)\n",
      "res4t_branch2b         (Conv2D)\n",
      "bn4t_branch2b          (BatchNorm)\n",
      "res4t_branch2c         (Conv2D)\n",
      "bn4t_branch2c          (BatchNorm)\n",
      "res4u_branch2a         (Conv2D)\n",
      "bn4u_branch2a          (BatchNorm)\n",
      "res4u_branch2b         (Conv2D)\n",
      "bn4u_branch2b          (BatchNorm)\n",
      "res4u_branch2c         (Conv2D)\n",
      "bn4u_branch2c          (BatchNorm)\n",
      "res4v_branch2a         (Conv2D)\n",
      "bn4v_branch2a          (BatchNorm)\n",
      "res4v_branch2b         (Conv2D)\n",
      "bn4v_branch2b          (BatchNorm)\n",
      "res4v_branch2c         (Conv2D)\n",
      "bn4v_branch2c          (BatchNorm)\n",
      "res4w_branch2a         (Conv2D)\n",
      "bn4w_branch2a          (BatchNorm)\n",
      "res4w_branch2b         (Conv2D)\n",
      "bn4w_branch2b          (BatchNorm)\n",
      "res4w_branch2c         (Conv2D)\n",
      "bn4w_branch2c          (BatchNorm)\n",
      "res5a_branch2a         (Conv2D)\n",
      "bn5a_branch2a          (BatchNorm)\n",
      "res5a_branch2b         (Conv2D)\n",
      "bn5a_branch2b          (BatchNorm)\n",
      "res5a_branch2c         (Conv2D)\n",
      "res5a_branch1          (Conv2D)\n",
      "bn5a_branch2c          (BatchNorm)\n",
      "bn5a_branch1           (BatchNorm)\n",
      "res5b_branch2a         (Conv2D)\n",
      "bn5b_branch2a          (BatchNorm)\n",
      "res5b_branch2b         (Conv2D)\n",
      "bn5b_branch2b          (BatchNorm)\n",
      "res5b_branch2c         (Conv2D)\n",
      "bn5b_branch2c          (BatchNorm)\n",
      "res5c_branch2a         (Conv2D)\n",
      "bn5c_branch2a          (BatchNorm)\n",
      "res5c_branch2b         (Conv2D)\n",
      "bn5c_branch2b          (BatchNorm)\n",
      "res5c_branch2c         (Conv2D)\n",
      "bn5c_branch2c          (BatchNorm)\n",
      "fpn_c5p5               (Conv2D)\n",
      "fpn_c4p4               (Conv2D)\n",
      "fpn_c3p3               (Conv2D)\n",
      "fpn_c2p2               (Conv2D)\n",
      "fpn_p5                 (Conv2D)\n",
      "fpn_p2                 (Conv2D)\n",
      "fpn_p3                 (Conv2D)\n",
      "fpn_p4                 (Conv2D)\n",
      "rpn_model              (Functional)\n",
      "mrcnn_class_conv1      (TimeDistributed)\n",
      "mrcnn_class_bn1        (TimeDistributed)\n",
      "mrcnn_class_conv2      (TimeDistributed)\n",
      "mrcnn_class_bn2        (TimeDistributed)\n",
      "mrcnn_bbox_fc          (TimeDistributed)\n",
      "mrcnn_class_logits     (TimeDistributed)\n",
      "Epoch 181/250\n",
      "  1/500 [..............................] - ETA: 3:58:57 - batch: 0.0000e+00 - size: 2.0000 - loss: 1.1940 - rpn_class_loss: 0.0209 - rpn_bbox_loss: 0.2498 - mrcnn_class_loss: 0.0985 - mrcnn_bbox_loss: 0.2279"
     ]
    },
    {
     "name": "stderr",
     "output_type": "stream",
     "text": [
      "2022-05-19 10:55:31.975397: I tensorflow/core/profiler/lib/profiler_session.cc:136] Profiler session initializing.\n",
      "2022-05-19 10:55:31.975446: I tensorflow/core/profiler/lib/profiler_session.cc:155] Profiler session started.\n",
      "2022-05-19 10:55:31.979481: E tensorflow/core/profiler/internal/gpu/cupti_tracer.cc:1415] function cupti_interface_->Subscribe( &subscriber_, (CUpti_CallbackFunc)ApiCallback, this)failed with error CUPTI_ERROR_INSUFFICIENT_PRIVILEGES\n"
     ]
    },
    {
     "name": "stdout",
     "output_type": "stream",
     "text": [
      "  3/500 [..............................] - ETA: 2:53 - batch: 1.0000 - size: 2.0000 - loss: 1.2754 - rpn_class_loss: 0.0297 - rpn_bbox_loss: 0.2578 - mrcnn_class_loss: 0.1364 - mrcnn_bbox_loss: 0.2138     "
     ]
    },
    {
     "name": "stderr",
     "output_type": "stream",
     "text": [
      "2022-05-19 10:55:32.188547: I tensorflow/core/profiler/lib/profiler_session.cc:71] Profiler session collecting data.\n",
      "2022-05-19 10:55:32.272863: I tensorflow/core/profiler/internal/gpu/cupti_collector.cc:228]  GpuTracer has collected 0 callback api events and 0 activity events. \n",
      "2022-05-19 10:55:32.302135: I tensorflow/core/profiler/lib/profiler_session.cc:172] Profiler session tear down.\n",
      "2022-05-19 10:55:32.321872: I tensorflow/core/profiler/rpc/client/save_profile.cc:137] Creating directory: /media/skymap/Data/Building_master_data/data_result/logs2_new/master_model20220518T2015/plugins/profile/2022_05_19_10_55_32\n",
      "2022-05-19 10:55:32.323391: I tensorflow/core/profiler/rpc/client/save_profile.cc:143] Dumped gzipped tool data for trace.json.gz to /media/skymap/Data/Building_master_data/data_result/logs2_new/master_model20220518T2015/plugins/profile/2022_05_19_10_55_32/skymap-HP-Z800-Workstation.trace.json.gz\n",
      "2022-05-19 10:55:32.421668: I tensorflow/core/profiler/rpc/client/save_profile.cc:137] Creating directory: /media/skymap/Data/Building_master_data/data_result/logs2_new/master_model20220518T2015/plugins/profile/2022_05_19_10_55_32\n",
      "2022-05-19 10:55:32.435352: I tensorflow/core/profiler/rpc/client/save_profile.cc:143] Dumped gzipped tool data for memory_profile.json.gz to /media/skymap/Data/Building_master_data/data_result/logs2_new/master_model20220518T2015/plugins/profile/2022_05_19_10_55_32/skymap-HP-Z800-Workstation.memory_profile.json.gz\n",
      "2022-05-19 10:55:32.457476: I tensorflow/core/profiler/rpc/client/capture_profile.cc:251] Creating directory: /media/skymap/Data/Building_master_data/data_result/logs2_new/master_model20220518T2015/plugins/profile/2022_05_19_10_55_32Dumped tool data for xplane.pb to /media/skymap/Data/Building_master_data/data_result/logs2_new/master_model20220518T2015/plugins/profile/2022_05_19_10_55_32/skymap-HP-Z800-Workstation.xplane.pb\n",
      "Dumped tool data for overview_page.pb to /media/skymap/Data/Building_master_data/data_result/logs2_new/master_model20220518T2015/plugins/profile/2022_05_19_10_55_32/skymap-HP-Z800-Workstation.overview_page.pb\n",
      "Dumped tool data for input_pipeline.pb to /media/skymap/Data/Building_master_data/data_result/logs2_new/master_model20220518T2015/plugins/profile/2022_05_19_10_55_32/skymap-HP-Z800-Workstation.input_pipeline.pb\n",
      "Dumped tool data for tensorflow_stats.pb to /media/skymap/Data/Building_master_data/data_result/logs2_new/master_model20220518T2015/plugins/profile/2022_05_19_10_55_32/skymap-HP-Z800-Workstation.tensorflow_stats.pb\n",
      "Dumped tool data for kernel_stats.pb to /media/skymap/Data/Building_master_data/data_result/logs2_new/master_model20220518T2015/plugins/profile/2022_05_19_10_55_32/skymap-HP-Z800-Workstation.kernel_stats.pb\n",
      "\n"
     ]
    },
    {
     "name": "stdout",
     "output_type": "stream",
     "text": [
      "500/500 [==============================] - 139s 221ms/step - batch: 249.5000 - size: 2.0000 - loss: 1.5310 - rpn_class_loss: 0.0396 - rpn_bbox_loss: 0.3249 - mrcnn_class_loss: 0.1323 - mrcnn_bbox_loss: 0.2688 - val_loss: 1.4261 - val_rpn_class_loss: 0.0299 - val_rpn_bbox_loss: 0.3132 - val_mrcnn_class_loss: 0.1095 - val_mrcnn_bbox_loss: 0.2605\n",
      "Epoch 182/250\n",
      "500/500 [==============================] - 112s 225ms/step - batch: 249.5000 - size: 2.0000 - loss: 1.4413 - rpn_class_loss: 0.0335 - rpn_bbox_loss: 0.2889 - mrcnn_class_loss: 0.1344 - mrcnn_bbox_loss: 0.2639 - val_loss: 1.4740 - val_rpn_class_loss: 0.0289 - val_rpn_bbox_loss: 0.3041 - val_mrcnn_class_loss: 0.1427 - val_mrcnn_bbox_loss: 0.2612\n",
      "Epoch 183/250\n",
      "500/500 [==============================] - 107s 214ms/step - batch: 249.5000 - size: 2.0000 - loss: 1.3964 - rpn_class_loss: 0.0328 - rpn_bbox_loss: 0.2864 - mrcnn_class_loss: 0.1228 - mrcnn_bbox_loss: 0.2561 - val_loss: 1.3113 - val_rpn_class_loss: 0.0295 - val_rpn_bbox_loss: 0.2364 - val_mrcnn_class_loss: 0.1222 - val_mrcnn_bbox_loss: 0.2677\n",
      "Epoch 184/250\n",
      "500/500 [==============================] - 111s 223ms/step - batch: 249.5000 - size: 2.0000 - loss: 1.3987 - rpn_class_loss: 0.0333 - rpn_bbox_loss: 0.2770 - mrcnn_class_loss: 0.1320 - mrcnn_bbox_loss: 0.2570 - val_loss: 1.4436 - val_rpn_class_loss: 0.0294 - val_rpn_bbox_loss: 0.2978 - val_mrcnn_class_loss: 0.1303 - val_mrcnn_bbox_loss: 0.2643\n",
      "Epoch 185/250\n",
      "500/500 [==============================] - 120s 241ms/step - batch: 249.5000 - size: 2.0000 - loss: 1.3227 - rpn_class_loss: 0.0286 - rpn_bbox_loss: 0.2656 - mrcnn_class_loss: 0.1190 - mrcnn_bbox_loss: 0.2481 - val_loss: 1.3573 - val_rpn_class_loss: 0.0269 - val_rpn_bbox_loss: 0.2682 - val_mrcnn_class_loss: 0.1282 - val_mrcnn_bbox_loss: 0.2554\n",
      "Epoch 186/250\n",
      "500/500 [==============================] - ETA: 0s - batch: 249.5000 - size: 2.0000 - loss: 1.3875 - rpn_class_loss: 0.0291 - rpn_bbox_loss: 0.2892 - mrcnn_class_loss: 0.1175 - mrcnn_bbox_loss: 0.2580"
     ]
    }
   ],
   "source": [
    "print(\"Fine tune Resnet stage 4 and up\")\n",
    "model.train(dataset_train, dataset_val,\n",
    "            learning_rate=config.LEARNING_RATE,\n",
    "            epochs=stage_2,\n",
    "            layers='4+',\n",
    "            augment = True,\n",
    "            augmentation=None)"
   ]
  },
  {
   "cell_type": "code",
   "execution_count": null,
   "metadata": {},
   "outputs": [],
   "source": [
    "print(\"Fine tune all layers\")\n",
    "model.train(dataset_train, dataset_val,\n",
    "            learning_rate=config.LEARNING_RATE/10,\n",
    "            epochs=stage_3,\n",
    "            layers='all',\n",
    "            augment = True,\n",
    "            augmentation=None)"
   ]
  },
  {
   "cell_type": "code",
   "execution_count": null,
   "metadata": {},
   "outputs": [],
   "source": []
  }
 ],
 "metadata": {
  "kernelspec": {
   "display_name": "Python 3 (ipykernel)",
   "language": "python",
   "name": "python3"
  },
  "language_info": {
   "codemirror_mode": {
    "name": "ipython",
    "version": 3
   },
   "file_extension": ".py",
   "mimetype": "text/x-python",
   "name": "python",
   "nbconvert_exporter": "python",
   "pygments_lexer": "ipython3",
   "version": "3.8.0"
  }
 },
 "nbformat": 4,
 "nbformat_minor": 4
}
